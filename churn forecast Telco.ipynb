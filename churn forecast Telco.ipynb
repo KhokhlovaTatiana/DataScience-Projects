{
 "cells": [
  {
   "cell_type": "markdown",
   "metadata": {},
   "source": [
    "# Прогнозирование оттока клиентов Телеком оператора\n",
    "\n",
    "## Задача проекта\n",
    "\n",
    "Оператор связи «Ниединогоразрыва.ком» хочет научиться прогнозировать отток клиентов. Если выяснится, что пользователь планирует уйти, ему будут предложены промокоды и специальные условия. Команда оператора собрала персональные данные о некоторых клиентах, информацию об их тарифах и договорах. \n",
    "\n",
    "### Описание услуг\n",
    "\n",
    "Оператор предоставляет два основных типа услуг: \n",
    "\n",
    "1. Стационарную телефонную связь. Возможно подключение телефонного аппарата к нескольким линиям одновременно.\n",
    "2. Интернет. Подключение может быть двух типов: через телефонную линию (DSL*,* от англ. *digital subscriber line*, «цифровая абонентская линия») или оптоволоконный кабель (*Fiber optic*).  \n",
    "\n",
    "Также доступны такие услуги:\n",
    "\n",
    "- Интернет-безопасность: антивирус (*DeviceProtection*) и блокировка небезопасных сайтов (*OnlineSecurity*);\n",
    "- Выделенная линия технической поддержки (*TechSupport*);\n",
    "- Облачное хранилище файлов для резервного копирования данных (*OnlineBackup*);\n",
    "- Стриминговое телевидение (*StreamingTV*) и каталог фильмов (*StreamingMovies*).\n",
    "\n",
    "За услуги клиенты могут платить каждый месяц или заключить договор на 1–2 года. Доступны различные способы расчёта и возможность получения электронного чека.\n",
    "\n",
    "### Описание данных\n",
    "\n",
    "Данные состоят из файлов, полученных из разных источников:\n",
    "\n",
    "- `contract.csv` — информация о договоре;\n",
    "- `personal.csv` — персональные данные клиента;\n",
    "- `internet.csv` — информация об интернет-услугах;\n",
    "- `phone.csv` — информация об услугах телефонии. \n",
    "\n",
    "#### Contracts\n",
    "СustomerID - единый ID пользователя  \n",
    "BeginDate - дата начала действия контракта  \n",
    "EndDate - дата завершения контракта (по данному признаку можно выявить разорвавших контракт)  \n",
    "Type - способ оплаты  \n",
    "PaperlessBilling - признак получения электронного чека  \n",
    "PaymentMethod - способ оплаты  \n",
    "MonthlyCharges - сумма оплаты в месяц  \n",
    "TotalCharges - оплачено за весь период  \n",
    "\n",
    "#### Personal\n",
    "СustomerID - единый ID пользователя  \n",
    "gender - пол пользователя  \n",
    "SeniorCitizen - пенсионер (да или нет)  \n",
    "Partner - наличие супруга(и)  \n",
    "Dependents - наличие иждивенцев  \n",
    "\n",
    "#### Internet\n",
    "СustomerID - единый ID пользователя  \n",
    "InternetService - способ подключения к интернету  \n",
    "OnlineSecurity - блокировка сайтов  \n",
    "OnlineBackup - облачное хранилище  \n",
    "DeviceProtection - использование антивируса  \n",
    "TechSupport - выделенная линия поддержки  \n",
    "StreamingTV - подключение ТВ\n",
    "StreamingMovies - каталог фильмов  \n",
    "\n",
    "#### Phone\n",
    "СustomerID - единый ID пользователя  \n",
    "MultipleLines - услуга подключения к нескольким линиям \n",
    "\n",
    "## Цель\n",
    "Построить модель бинарной классификации, которая будет определять пользователей с высокой вероятностью отказа от услуг компании. \n",
    "\n",
    "## KPI \n",
    "Первычный целевой признак - ROC-AUC > 0,85\n",
    "Вторичный целевой признак - Accuracy "
   ]
  },
  {
   "cell_type": "code",
   "execution_count": 4,
   "metadata": {},
   "outputs": [
    {
     "name": "stdout",
     "output_type": "stream",
     "text": [
      "Collecting phik\n",
      "  Downloading phik-0.12.2-cp39-cp39-manylinux_2_17_x86_64.manylinux2014_x86_64.whl (709 kB)\n",
      "\u001b[K     |████████████████████████████████| 709 kB 2.2 MB/s eta 0:00:01\n",
      "\u001b[?25hRequirement already satisfied: joblib>=0.14.1 in /opt/conda/lib/python3.9/site-packages (from phik) (1.1.0)\n",
      "Requirement already satisfied: numpy>=1.18.0 in /opt/conda/lib/python3.9/site-packages (from phik) (1.21.1)\n",
      "Requirement already satisfied: matplotlib>=2.2.3 in /opt/conda/lib/python3.9/site-packages (from phik) (3.3.4)\n",
      "Requirement already satisfied: pandas>=0.25.1 in /opt/conda/lib/python3.9/site-packages (from phik) (1.2.4)\n",
      "Requirement already satisfied: scipy>=1.5.2 in /opt/conda/lib/python3.9/site-packages (from phik) (1.9.1)\n",
      "Requirement already satisfied: pillow>=6.2.0 in /opt/conda/lib/python3.9/site-packages (from matplotlib>=2.2.3->phik) (8.4.0)\n",
      "Requirement already satisfied: python-dateutil>=2.1 in /opt/conda/lib/python3.9/site-packages (from matplotlib>=2.2.3->phik) (2.8.1)\n",
      "Requirement already satisfied: pyparsing!=2.0.4,!=2.1.2,!=2.1.6,>=2.0.3 in /opt/conda/lib/python3.9/site-packages (from matplotlib>=2.2.3->phik) (2.4.7)\n",
      "Requirement already satisfied: kiwisolver>=1.0.1 in /opt/conda/lib/python3.9/site-packages (from matplotlib>=2.2.3->phik) (1.4.4)\n",
      "Requirement already satisfied: cycler>=0.10 in /opt/conda/lib/python3.9/site-packages (from matplotlib>=2.2.3->phik) (0.11.0)\n",
      "Requirement already satisfied: pytz>=2017.3 in /opt/conda/lib/python3.9/site-packages (from pandas>=0.25.1->phik) (2021.1)\n",
      "Requirement already satisfied: six>=1.5 in /opt/conda/lib/python3.9/site-packages (from python-dateutil>=2.1->matplotlib>=2.2.3->phik) (1.16.0)\n",
      "Installing collected packages: phik\n",
      "Successfully installed phik-0.12.2\n"
     ]
    }
   ],
   "source": [
    "!pip install phik"
   ]
  },
  {
   "cell_type": "code",
   "execution_count": 5,
   "metadata": {},
   "outputs": [],
   "source": [
    "import pandas as pd\n",
    "import numpy as np\n",
    "from matplotlib import pyplot as plt \n",
    "import warnings\n",
    "from sklearn.preprocessing import OrdinalEncoder\n",
    "import seaborn as sns\n",
    "\n",
    "import phik\n",
    "from phik.report import plot_correlation_matrix\n",
    "from phik import report\n",
    "\n",
    "from sklearn.metrics import roc_auc_score\n",
    "from sklearn.model_selection import train_test_split\n",
    "from sklearn.preprocessing import StandardScaler\n",
    "from sklearn.model_selection import cross_val_score\n",
    "from sklearn.metrics import accuracy_score\n",
    "from sklearn.inspection import permutation_importance\n",
    "\n",
    "from sklearn.linear_model import LogisticRegression\n",
    "from sklearn.tree import DecisionTreeClassifier\n",
    "from sklearn.ensemble import RandomForestClassifier\n",
    "from lightgbm import LGBMClassifier\n",
    "from catboost import CatBoostClassifier\n",
    "from sklearn.model_selection import GridSearchCV"
   ]
  },
  {
   "cell_type": "code",
   "execution_count": 3,
   "metadata": {},
   "outputs": [
    {
     "data": {
      "text/html": [
       "<div>\n",
       "<style scoped>\n",
       "    .dataframe tbody tr th:only-of-type {\n",
       "        vertical-align: middle;\n",
       "    }\n",
       "\n",
       "    .dataframe tbody tr th {\n",
       "        vertical-align: top;\n",
       "    }\n",
       "\n",
       "    .dataframe thead th {\n",
       "        text-align: right;\n",
       "    }\n",
       "</style>\n",
       "<table border=\"1\" class=\"dataframe\">\n",
       "  <thead>\n",
       "    <tr style=\"text-align: right;\">\n",
       "      <th></th>\n",
       "      <th>begin_date</th>\n",
       "      <th>end_date</th>\n",
       "      <th>type</th>\n",
       "      <th>paperless_billing</th>\n",
       "      <th>payment_method</th>\n",
       "      <th>monthly_charges</th>\n",
       "      <th>total_charges</th>\n",
       "    </tr>\n",
       "    <tr>\n",
       "      <th>customer_id</th>\n",
       "      <th></th>\n",
       "      <th></th>\n",
       "      <th></th>\n",
       "      <th></th>\n",
       "      <th></th>\n",
       "      <th></th>\n",
       "      <th></th>\n",
       "    </tr>\n",
       "  </thead>\n",
       "  <tbody>\n",
       "    <tr>\n",
       "      <th>7590-VHVEG</th>\n",
       "      <td>2020-01-01</td>\n",
       "      <td>No</td>\n",
       "      <td>Month-to-month</td>\n",
       "      <td>Yes</td>\n",
       "      <td>Electronic check</td>\n",
       "      <td>29.85</td>\n",
       "      <td>29.85</td>\n",
       "    </tr>\n",
       "    <tr>\n",
       "      <th>5575-GNVDE</th>\n",
       "      <td>2017-04-01</td>\n",
       "      <td>No</td>\n",
       "      <td>One year</td>\n",
       "      <td>No</td>\n",
       "      <td>Mailed check</td>\n",
       "      <td>56.95</td>\n",
       "      <td>1889.5</td>\n",
       "    </tr>\n",
       "    <tr>\n",
       "      <th>3668-QPYBK</th>\n",
       "      <td>2019-10-01</td>\n",
       "      <td>2019-12-01 00:00:00</td>\n",
       "      <td>Month-to-month</td>\n",
       "      <td>Yes</td>\n",
       "      <td>Mailed check</td>\n",
       "      <td>53.85</td>\n",
       "      <td>108.15</td>\n",
       "    </tr>\n",
       "    <tr>\n",
       "      <th>7795-CFOCW</th>\n",
       "      <td>2016-05-01</td>\n",
       "      <td>No</td>\n",
       "      <td>One year</td>\n",
       "      <td>No</td>\n",
       "      <td>Bank transfer (automatic)</td>\n",
       "      <td>42.30</td>\n",
       "      <td>1840.75</td>\n",
       "    </tr>\n",
       "    <tr>\n",
       "      <th>9237-HQITU</th>\n",
       "      <td>2019-09-01</td>\n",
       "      <td>2019-11-01 00:00:00</td>\n",
       "      <td>Month-to-month</td>\n",
       "      <td>Yes</td>\n",
       "      <td>Electronic check</td>\n",
       "      <td>70.70</td>\n",
       "      <td>151.65</td>\n",
       "    </tr>\n",
       "    <tr>\n",
       "      <th>...</th>\n",
       "      <td>...</td>\n",
       "      <td>...</td>\n",
       "      <td>...</td>\n",
       "      <td>...</td>\n",
       "      <td>...</td>\n",
       "      <td>...</td>\n",
       "      <td>...</td>\n",
       "    </tr>\n",
       "    <tr>\n",
       "      <th>6840-RESVB</th>\n",
       "      <td>2018-02-01</td>\n",
       "      <td>No</td>\n",
       "      <td>One year</td>\n",
       "      <td>Yes</td>\n",
       "      <td>Mailed check</td>\n",
       "      <td>84.80</td>\n",
       "      <td>1990.5</td>\n",
       "    </tr>\n",
       "    <tr>\n",
       "      <th>2234-XADUH</th>\n",
       "      <td>2014-02-01</td>\n",
       "      <td>No</td>\n",
       "      <td>One year</td>\n",
       "      <td>Yes</td>\n",
       "      <td>Credit card (automatic)</td>\n",
       "      <td>103.20</td>\n",
       "      <td>7362.9</td>\n",
       "    </tr>\n",
       "    <tr>\n",
       "      <th>4801-JZAZL</th>\n",
       "      <td>2019-03-01</td>\n",
       "      <td>No</td>\n",
       "      <td>Month-to-month</td>\n",
       "      <td>Yes</td>\n",
       "      <td>Electronic check</td>\n",
       "      <td>29.60</td>\n",
       "      <td>346.45</td>\n",
       "    </tr>\n",
       "    <tr>\n",
       "      <th>8361-LTMKD</th>\n",
       "      <td>2019-07-01</td>\n",
       "      <td>2019-11-01 00:00:00</td>\n",
       "      <td>Month-to-month</td>\n",
       "      <td>Yes</td>\n",
       "      <td>Mailed check</td>\n",
       "      <td>74.40</td>\n",
       "      <td>306.6</td>\n",
       "    </tr>\n",
       "    <tr>\n",
       "      <th>3186-AJIEK</th>\n",
       "      <td>2014-08-01</td>\n",
       "      <td>No</td>\n",
       "      <td>Two year</td>\n",
       "      <td>Yes</td>\n",
       "      <td>Bank transfer (automatic)</td>\n",
       "      <td>105.65</td>\n",
       "      <td>6844.5</td>\n",
       "    </tr>\n",
       "  </tbody>\n",
       "</table>\n",
       "<p>7043 rows × 7 columns</p>\n",
       "</div>"
      ],
      "text/plain": [
       "             begin_date             end_date            type  \\\n",
       "customer_id                                                    \n",
       "7590-VHVEG   2020-01-01                   No  Month-to-month   \n",
       "5575-GNVDE   2017-04-01                   No        One year   \n",
       "3668-QPYBK   2019-10-01  2019-12-01 00:00:00  Month-to-month   \n",
       "7795-CFOCW   2016-05-01                   No        One year   \n",
       "9237-HQITU   2019-09-01  2019-11-01 00:00:00  Month-to-month   \n",
       "...                 ...                  ...             ...   \n",
       "6840-RESVB   2018-02-01                   No        One year   \n",
       "2234-XADUH   2014-02-01                   No        One year   \n",
       "4801-JZAZL   2019-03-01                   No  Month-to-month   \n",
       "8361-LTMKD   2019-07-01  2019-11-01 00:00:00  Month-to-month   \n",
       "3186-AJIEK   2014-08-01                   No        Two year   \n",
       "\n",
       "            paperless_billing             payment_method  monthly_charges  \\\n",
       "customer_id                                                                 \n",
       "7590-VHVEG                Yes           Electronic check            29.85   \n",
       "5575-GNVDE                 No               Mailed check            56.95   \n",
       "3668-QPYBK                Yes               Mailed check            53.85   \n",
       "7795-CFOCW                 No  Bank transfer (automatic)            42.30   \n",
       "9237-HQITU                Yes           Electronic check            70.70   \n",
       "...                       ...                        ...              ...   \n",
       "6840-RESVB                Yes               Mailed check            84.80   \n",
       "2234-XADUH                Yes    Credit card (automatic)           103.20   \n",
       "4801-JZAZL                Yes           Electronic check            29.60   \n",
       "8361-LTMKD                Yes               Mailed check            74.40   \n",
       "3186-AJIEK                Yes  Bank transfer (automatic)           105.65   \n",
       "\n",
       "            total_charges  \n",
       "customer_id                \n",
       "7590-VHVEG          29.85  \n",
       "5575-GNVDE         1889.5  \n",
       "3668-QPYBK         108.15  \n",
       "7795-CFOCW        1840.75  \n",
       "9237-HQITU         151.65  \n",
       "...                   ...  \n",
       "6840-RESVB         1990.5  \n",
       "2234-XADUH         7362.9  \n",
       "4801-JZAZL         346.45  \n",
       "8361-LTMKD          306.6  \n",
       "3186-AJIEK         6844.5  \n",
       "\n",
       "[7043 rows x 7 columns]"
      ]
     },
     "execution_count": 3,
     "metadata": {},
     "output_type": "execute_result"
    }
   ],
   "source": [
    "contracts = pd.read_csv('/datasets/final_provider/contract.csv')\n",
    "contracts=contracts.rename(\n",
    "    columns={\n",
    "       'customerID': 'customer_id',\n",
    "        'BeginDate': 'begin_date',\n",
    "        'EndDate': 'end_date',\n",
    "        'Type': 'type',\n",
    "        'PaperlessBilling': 'paperless_billing',\n",
    "        'PaymentMethod': 'payment_method',\n",
    "        'MonthlyCharges': 'monthly_charges',\n",
    "        'TotalCharges': 'total_charges'\n",
    "    })\n",
    "contracts = contracts.set_index('customer_id')\n",
    "contracts"
   ]
  },
  {
   "cell_type": "code",
   "execution_count": 4,
   "metadata": {},
   "outputs": [
    {
     "data": {
      "text/plain": [
       "array(['No', '2019-12-01 00:00:00', '2019-11-01 00:00:00',\n",
       "       '2019-10-01 00:00:00', '2020-01-01 00:00:00'], dtype=object)"
      ]
     },
     "execution_count": 4,
     "metadata": {},
     "output_type": "execute_result"
    }
   ],
   "source": [
    "contracts['end_date'].unique()"
   ]
  },
  {
   "cell_type": "code",
   "execution_count": 5,
   "metadata": {},
   "outputs": [
    {
     "name": "stdout",
     "output_type": "stream",
     "text": [
      "2013-10-01\n",
      "2020-02-01\n"
     ]
    }
   ],
   "source": [
    "print(contracts['begin_date'].min())\n",
    "print(contracts['begin_date'].max())"
   ]
  },
  {
   "cell_type": "code",
   "execution_count": 6,
   "metadata": {},
   "outputs": [
    {
     "data": {
      "text/html": [
       "<div>\n",
       "<style scoped>\n",
       "    .dataframe tbody tr th:only-of-type {\n",
       "        vertical-align: middle;\n",
       "    }\n",
       "\n",
       "    .dataframe tbody tr th {\n",
       "        vertical-align: top;\n",
       "    }\n",
       "\n",
       "    .dataframe thead th {\n",
       "        text-align: right;\n",
       "    }\n",
       "</style>\n",
       "<table border=\"1\" class=\"dataframe\">\n",
       "  <thead>\n",
       "    <tr style=\"text-align: right;\">\n",
       "      <th></th>\n",
       "      <th>begin_date</th>\n",
       "      <th>end_date</th>\n",
       "      <th>type</th>\n",
       "      <th>paperless_billing</th>\n",
       "      <th>payment_method</th>\n",
       "      <th>monthly_charges</th>\n",
       "      <th>total_charges</th>\n",
       "    </tr>\n",
       "    <tr>\n",
       "      <th>customer_id</th>\n",
       "      <th></th>\n",
       "      <th></th>\n",
       "      <th></th>\n",
       "      <th></th>\n",
       "      <th></th>\n",
       "      <th></th>\n",
       "      <th></th>\n",
       "    </tr>\n",
       "  </thead>\n",
       "  <tbody>\n",
       "    <tr>\n",
       "      <th>7590-VHVEG</th>\n",
       "      <td>2020-01-01</td>\n",
       "      <td>2020-02-01</td>\n",
       "      <td>Month-to-month</td>\n",
       "      <td>Yes</td>\n",
       "      <td>Electronic check</td>\n",
       "      <td>29.85</td>\n",
       "      <td>29.85</td>\n",
       "    </tr>\n",
       "    <tr>\n",
       "      <th>5575-GNVDE</th>\n",
       "      <td>2017-04-01</td>\n",
       "      <td>2020-02-01</td>\n",
       "      <td>One year</td>\n",
       "      <td>No</td>\n",
       "      <td>Mailed check</td>\n",
       "      <td>56.95</td>\n",
       "      <td>1889.50</td>\n",
       "    </tr>\n",
       "    <tr>\n",
       "      <th>3668-QPYBK</th>\n",
       "      <td>2019-10-01</td>\n",
       "      <td>2019-12-01</td>\n",
       "      <td>Month-to-month</td>\n",
       "      <td>Yes</td>\n",
       "      <td>Mailed check</td>\n",
       "      <td>53.85</td>\n",
       "      <td>108.15</td>\n",
       "    </tr>\n",
       "    <tr>\n",
       "      <th>7795-CFOCW</th>\n",
       "      <td>2016-05-01</td>\n",
       "      <td>2020-02-01</td>\n",
       "      <td>One year</td>\n",
       "      <td>No</td>\n",
       "      <td>Bank transfer (automatic)</td>\n",
       "      <td>42.30</td>\n",
       "      <td>1840.75</td>\n",
       "    </tr>\n",
       "    <tr>\n",
       "      <th>9237-HQITU</th>\n",
       "      <td>2019-09-01</td>\n",
       "      <td>2019-11-01</td>\n",
       "      <td>Month-to-month</td>\n",
       "      <td>Yes</td>\n",
       "      <td>Electronic check</td>\n",
       "      <td>70.70</td>\n",
       "      <td>151.65</td>\n",
       "    </tr>\n",
       "    <tr>\n",
       "      <th>...</th>\n",
       "      <td>...</td>\n",
       "      <td>...</td>\n",
       "      <td>...</td>\n",
       "      <td>...</td>\n",
       "      <td>...</td>\n",
       "      <td>...</td>\n",
       "      <td>...</td>\n",
       "    </tr>\n",
       "    <tr>\n",
       "      <th>6840-RESVB</th>\n",
       "      <td>2018-02-01</td>\n",
       "      <td>2020-02-01</td>\n",
       "      <td>One year</td>\n",
       "      <td>Yes</td>\n",
       "      <td>Mailed check</td>\n",
       "      <td>84.80</td>\n",
       "      <td>1990.50</td>\n",
       "    </tr>\n",
       "    <tr>\n",
       "      <th>2234-XADUH</th>\n",
       "      <td>2014-02-01</td>\n",
       "      <td>2020-02-01</td>\n",
       "      <td>One year</td>\n",
       "      <td>Yes</td>\n",
       "      <td>Credit card (automatic)</td>\n",
       "      <td>103.20</td>\n",
       "      <td>7362.90</td>\n",
       "    </tr>\n",
       "    <tr>\n",
       "      <th>4801-JZAZL</th>\n",
       "      <td>2019-03-01</td>\n",
       "      <td>2020-02-01</td>\n",
       "      <td>Month-to-month</td>\n",
       "      <td>Yes</td>\n",
       "      <td>Electronic check</td>\n",
       "      <td>29.60</td>\n",
       "      <td>346.45</td>\n",
       "    </tr>\n",
       "    <tr>\n",
       "      <th>8361-LTMKD</th>\n",
       "      <td>2019-07-01</td>\n",
       "      <td>2019-11-01</td>\n",
       "      <td>Month-to-month</td>\n",
       "      <td>Yes</td>\n",
       "      <td>Mailed check</td>\n",
       "      <td>74.40</td>\n",
       "      <td>306.60</td>\n",
       "    </tr>\n",
       "    <tr>\n",
       "      <th>3186-AJIEK</th>\n",
       "      <td>2014-08-01</td>\n",
       "      <td>2020-02-01</td>\n",
       "      <td>Two year</td>\n",
       "      <td>Yes</td>\n",
       "      <td>Bank transfer (automatic)</td>\n",
       "      <td>105.65</td>\n",
       "      <td>6844.50</td>\n",
       "    </tr>\n",
       "  </tbody>\n",
       "</table>\n",
       "<p>7043 rows × 7 columns</p>\n",
       "</div>"
      ],
      "text/plain": [
       "            begin_date   end_date            type paperless_billing  \\\n",
       "customer_id                                                           \n",
       "7590-VHVEG  2020-01-01 2020-02-01  Month-to-month               Yes   \n",
       "5575-GNVDE  2017-04-01 2020-02-01        One year                No   \n",
       "3668-QPYBK  2019-10-01 2019-12-01  Month-to-month               Yes   \n",
       "7795-CFOCW  2016-05-01 2020-02-01        One year                No   \n",
       "9237-HQITU  2019-09-01 2019-11-01  Month-to-month               Yes   \n",
       "...                ...        ...             ...               ...   \n",
       "6840-RESVB  2018-02-01 2020-02-01        One year               Yes   \n",
       "2234-XADUH  2014-02-01 2020-02-01        One year               Yes   \n",
       "4801-JZAZL  2019-03-01 2020-02-01  Month-to-month               Yes   \n",
       "8361-LTMKD  2019-07-01 2019-11-01  Month-to-month               Yes   \n",
       "3186-AJIEK  2014-08-01 2020-02-01        Two year               Yes   \n",
       "\n",
       "                        payment_method  monthly_charges  total_charges  \n",
       "customer_id                                                             \n",
       "7590-VHVEG            Electronic check            29.85          29.85  \n",
       "5575-GNVDE                Mailed check            56.95        1889.50  \n",
       "3668-QPYBK                Mailed check            53.85         108.15  \n",
       "7795-CFOCW   Bank transfer (automatic)            42.30        1840.75  \n",
       "9237-HQITU            Electronic check            70.70         151.65  \n",
       "...                                ...              ...            ...  \n",
       "6840-RESVB                Mailed check            84.80        1990.50  \n",
       "2234-XADUH     Credit card (automatic)           103.20        7362.90  \n",
       "4801-JZAZL            Electronic check            29.60         346.45  \n",
       "8361-LTMKD                Mailed check            74.40         306.60  \n",
       "3186-AJIEK   Bank transfer (automatic)           105.65        6844.50  \n",
       "\n",
       "[7043 rows x 7 columns]"
      ]
     },
     "execution_count": 6,
     "metadata": {},
     "output_type": "execute_result"
    }
   ],
   "source": [
    "contracts['total_charges'] = pd.to_numeric(contracts['total_charges'], errors='coerce')\n",
    "contracts['begin_date'] = pd.to_datetime(contracts['begin_date'], format='%Y-%m-%d')\n",
    "contracts.loc[contracts['end_date'] == 'No', 'end_date'] = np.nan\n",
    "\n",
    "\n",
    "contracts['end_date'] = pd.to_datetime(contracts['end_date'], format='%Y-%m-%d %H:%M:%S')\n",
    "contracts['end_date']=contracts['end_date'].fillna('2020-02-01')\n",
    "contracts['end_date']=pd.to_datetime(contracts['end_date'])\n",
    "contracts"
   ]
  },
  {
   "cell_type": "code",
   "execution_count": 7,
   "metadata": {},
   "outputs": [
    {
     "name": "stdout",
     "output_type": "stream",
     "text": [
      "<class 'pandas.core.frame.DataFrame'>\n",
      "Index: 7043 entries, 7590-VHVEG to 3186-AJIEK\n",
      "Data columns (total 7 columns):\n",
      " #   Column             Non-Null Count  Dtype         \n",
      "---  ------             --------------  -----         \n",
      " 0   begin_date         7043 non-null   datetime64[ns]\n",
      " 1   end_date           7043 non-null   datetime64[ns]\n",
      " 2   type               7043 non-null   object        \n",
      " 3   paperless_billing  7043 non-null   object        \n",
      " 4   payment_method     7043 non-null   object        \n",
      " 5   monthly_charges    7043 non-null   float64       \n",
      " 6   total_charges      7032 non-null   float64       \n",
      "dtypes: datetime64[ns](2), float64(2), object(3)\n",
      "memory usage: 440.2+ KB\n"
     ]
    }
   ],
   "source": [
    "contracts.info()"
   ]
  },
  {
   "cell_type": "code",
   "execution_count": 8,
   "metadata": {},
   "outputs": [],
   "source": [
    "contracts['total_charges']=contracts['total_charges'].fillna(0)"
   ]
  },
  {
   "cell_type": "code",
   "execution_count": 9,
   "metadata": {},
   "outputs": [
    {
     "data": {
      "text/html": [
       "<div>\n",
       "<style scoped>\n",
       "    .dataframe tbody tr th:only-of-type {\n",
       "        vertical-align: middle;\n",
       "    }\n",
       "\n",
       "    .dataframe tbody tr th {\n",
       "        vertical-align: top;\n",
       "    }\n",
       "\n",
       "    .dataframe thead th {\n",
       "        text-align: right;\n",
       "    }\n",
       "</style>\n",
       "<table border=\"1\" class=\"dataframe\">\n",
       "  <thead>\n",
       "    <tr style=\"text-align: right;\">\n",
       "      <th></th>\n",
       "      <th>monthly_charges</th>\n",
       "      <th>total_charges</th>\n",
       "    </tr>\n",
       "  </thead>\n",
       "  <tbody>\n",
       "    <tr>\n",
       "      <th>count</th>\n",
       "      <td>7043.000000</td>\n",
       "      <td>7043.000000</td>\n",
       "    </tr>\n",
       "    <tr>\n",
       "      <th>mean</th>\n",
       "      <td>64.761692</td>\n",
       "      <td>2279.734304</td>\n",
       "    </tr>\n",
       "    <tr>\n",
       "      <th>std</th>\n",
       "      <td>30.090047</td>\n",
       "      <td>2266.794470</td>\n",
       "    </tr>\n",
       "    <tr>\n",
       "      <th>min</th>\n",
       "      <td>18.250000</td>\n",
       "      <td>0.000000</td>\n",
       "    </tr>\n",
       "    <tr>\n",
       "      <th>25%</th>\n",
       "      <td>35.500000</td>\n",
       "      <td>398.550000</td>\n",
       "    </tr>\n",
       "    <tr>\n",
       "      <th>50%</th>\n",
       "      <td>70.350000</td>\n",
       "      <td>1394.550000</td>\n",
       "    </tr>\n",
       "    <tr>\n",
       "      <th>75%</th>\n",
       "      <td>89.850000</td>\n",
       "      <td>3786.600000</td>\n",
       "    </tr>\n",
       "    <tr>\n",
       "      <th>max</th>\n",
       "      <td>118.750000</td>\n",
       "      <td>8684.800000</td>\n",
       "    </tr>\n",
       "  </tbody>\n",
       "</table>\n",
       "</div>"
      ],
      "text/plain": [
       "       monthly_charges  total_charges\n",
       "count      7043.000000    7043.000000\n",
       "mean         64.761692    2279.734304\n",
       "std          30.090047    2266.794470\n",
       "min          18.250000       0.000000\n",
       "25%          35.500000     398.550000\n",
       "50%          70.350000    1394.550000\n",
       "75%          89.850000    3786.600000\n",
       "max         118.750000    8684.800000"
      ]
     },
     "execution_count": 9,
     "metadata": {},
     "output_type": "execute_result"
    }
   ],
   "source": [
    "contracts.describe()"
   ]
  },
  {
   "cell_type": "markdown",
   "metadata": {},
   "source": [
    "В total_charges есть пропуски, но при этом они обусловлены тем, что срок оплаты еще не подошел, то есть это не пропуск, а осознанное значение, которое также важно учитывать. "
   ]
  },
  {
   "cell_type": "code",
   "execution_count": 10,
   "metadata": {},
   "outputs": [
    {
     "data": {
      "text/plain": [
       "array(['Month-to-month', 'One year', 'Two year'], dtype=object)"
      ]
     },
     "execution_count": 10,
     "metadata": {},
     "output_type": "execute_result"
    }
   ],
   "source": [
    "contracts['type'].unique()"
   ]
  },
  {
   "cell_type": "code",
   "execution_count": 11,
   "metadata": {},
   "outputs": [
    {
     "data": {
      "text/plain": [
       "array(['Electronic check', 'Mailed check', 'Bank transfer (automatic)',\n",
       "       'Credit card (automatic)'], dtype=object)"
      ]
     },
     "execution_count": 11,
     "metadata": {},
     "output_type": "execute_result"
    }
   ],
   "source": [
    "contracts['payment_method'].unique()"
   ]
  },
  {
   "cell_type": "markdown",
   "metadata": {},
   "source": [
    "В базе Contracts представлены данные о договоре пользователя - даты заключения и расторжения, способы оплаты и суммы ежемесячного платежа, а также всего оплачено за весь период.\n",
    "\n",
    "Всего представлено 7043 записей, пропуски отсутствуют. Все ID пользователей уникальны, значит на каждого пользователя только 1 запись. "
   ]
  },
  {
   "cell_type": "code",
   "execution_count": 12,
   "metadata": {},
   "outputs": [
    {
     "data": {
      "text/html": [
       "<div>\n",
       "<style scoped>\n",
       "    .dataframe tbody tr th:only-of-type {\n",
       "        vertical-align: middle;\n",
       "    }\n",
       "\n",
       "    .dataframe tbody tr th {\n",
       "        vertical-align: top;\n",
       "    }\n",
       "\n",
       "    .dataframe thead th {\n",
       "        text-align: right;\n",
       "    }\n",
       "</style>\n",
       "<table border=\"1\" class=\"dataframe\">\n",
       "  <thead>\n",
       "    <tr style=\"text-align: right;\">\n",
       "      <th></th>\n",
       "      <th>gender</th>\n",
       "      <th>senior_citizen</th>\n",
       "      <th>partner</th>\n",
       "      <th>dependents</th>\n",
       "    </tr>\n",
       "    <tr>\n",
       "      <th>customer_id</th>\n",
       "      <th></th>\n",
       "      <th></th>\n",
       "      <th></th>\n",
       "      <th></th>\n",
       "    </tr>\n",
       "  </thead>\n",
       "  <tbody>\n",
       "    <tr>\n",
       "      <th>7590-VHVEG</th>\n",
       "      <td>Female</td>\n",
       "      <td>0</td>\n",
       "      <td>Yes</td>\n",
       "      <td>No</td>\n",
       "    </tr>\n",
       "    <tr>\n",
       "      <th>5575-GNVDE</th>\n",
       "      <td>Male</td>\n",
       "      <td>0</td>\n",
       "      <td>No</td>\n",
       "      <td>No</td>\n",
       "    </tr>\n",
       "    <tr>\n",
       "      <th>3668-QPYBK</th>\n",
       "      <td>Male</td>\n",
       "      <td>0</td>\n",
       "      <td>No</td>\n",
       "      <td>No</td>\n",
       "    </tr>\n",
       "    <tr>\n",
       "      <th>7795-CFOCW</th>\n",
       "      <td>Male</td>\n",
       "      <td>0</td>\n",
       "      <td>No</td>\n",
       "      <td>No</td>\n",
       "    </tr>\n",
       "    <tr>\n",
       "      <th>9237-HQITU</th>\n",
       "      <td>Female</td>\n",
       "      <td>0</td>\n",
       "      <td>No</td>\n",
       "      <td>No</td>\n",
       "    </tr>\n",
       "    <tr>\n",
       "      <th>...</th>\n",
       "      <td>...</td>\n",
       "      <td>...</td>\n",
       "      <td>...</td>\n",
       "      <td>...</td>\n",
       "    </tr>\n",
       "    <tr>\n",
       "      <th>6840-RESVB</th>\n",
       "      <td>Male</td>\n",
       "      <td>0</td>\n",
       "      <td>Yes</td>\n",
       "      <td>Yes</td>\n",
       "    </tr>\n",
       "    <tr>\n",
       "      <th>2234-XADUH</th>\n",
       "      <td>Female</td>\n",
       "      <td>0</td>\n",
       "      <td>Yes</td>\n",
       "      <td>Yes</td>\n",
       "    </tr>\n",
       "    <tr>\n",
       "      <th>4801-JZAZL</th>\n",
       "      <td>Female</td>\n",
       "      <td>0</td>\n",
       "      <td>Yes</td>\n",
       "      <td>Yes</td>\n",
       "    </tr>\n",
       "    <tr>\n",
       "      <th>8361-LTMKD</th>\n",
       "      <td>Male</td>\n",
       "      <td>1</td>\n",
       "      <td>Yes</td>\n",
       "      <td>No</td>\n",
       "    </tr>\n",
       "    <tr>\n",
       "      <th>3186-AJIEK</th>\n",
       "      <td>Male</td>\n",
       "      <td>0</td>\n",
       "      <td>No</td>\n",
       "      <td>No</td>\n",
       "    </tr>\n",
       "  </tbody>\n",
       "</table>\n",
       "<p>7043 rows × 4 columns</p>\n",
       "</div>"
      ],
      "text/plain": [
       "             gender  senior_citizen partner dependents\n",
       "customer_id                                           \n",
       "7590-VHVEG   Female               0     Yes         No\n",
       "5575-GNVDE     Male               0      No         No\n",
       "3668-QPYBK     Male               0      No         No\n",
       "7795-CFOCW     Male               0      No         No\n",
       "9237-HQITU   Female               0      No         No\n",
       "...             ...             ...     ...        ...\n",
       "6840-RESVB     Male               0     Yes        Yes\n",
       "2234-XADUH   Female               0     Yes        Yes\n",
       "4801-JZAZL   Female               0     Yes        Yes\n",
       "8361-LTMKD     Male               1     Yes         No\n",
       "3186-AJIEK     Male               0      No         No\n",
       "\n",
       "[7043 rows x 4 columns]"
      ]
     },
     "execution_count": 12,
     "metadata": {},
     "output_type": "execute_result"
    }
   ],
   "source": [
    "pers = pd.read_csv('/datasets/final_provider/personal.csv')\n",
    "pers=pers.rename(\n",
    "    columns={\n",
    "       'customerID': 'customer_id',\n",
    "        'SeniorCitizen': 'senior_citizen',\n",
    "        'Partner': 'partner',\n",
    "        'Dependents': 'dependents'\n",
    "    })\n",
    "pers = pers.set_index('customer_id')\n",
    "pers"
   ]
  },
  {
   "cell_type": "code",
   "execution_count": 13,
   "metadata": {},
   "outputs": [
    {
     "name": "stdout",
     "output_type": "stream",
     "text": [
      "<class 'pandas.core.frame.DataFrame'>\n",
      "Index: 7043 entries, 7590-VHVEG to 3186-AJIEK\n",
      "Data columns (total 4 columns):\n",
      " #   Column          Non-Null Count  Dtype \n",
      "---  ------          --------------  ----- \n",
      " 0   gender          7043 non-null   object\n",
      " 1   senior_citizen  7043 non-null   int64 \n",
      " 2   partner         7043 non-null   object\n",
      " 3   dependents      7043 non-null   object\n",
      "dtypes: int64(1), object(3)\n",
      "memory usage: 275.1+ KB\n"
     ]
    }
   ],
   "source": [
    "pers.info()"
   ]
  },
  {
   "cell_type": "markdown",
   "metadata": {},
   "source": [
    "База данных Personal представляет информацию о пользователе, заключившем договор. Также представлены 7043 ненулевыми записями."
   ]
  },
  {
   "cell_type": "code",
   "execution_count": 14,
   "metadata": {},
   "outputs": [
    {
     "data": {
      "text/html": [
       "<div>\n",
       "<style scoped>\n",
       "    .dataframe tbody tr th:only-of-type {\n",
       "        vertical-align: middle;\n",
       "    }\n",
       "\n",
       "    .dataframe tbody tr th {\n",
       "        vertical-align: top;\n",
       "    }\n",
       "\n",
       "    .dataframe thead th {\n",
       "        text-align: right;\n",
       "    }\n",
       "</style>\n",
       "<table border=\"1\" class=\"dataframe\">\n",
       "  <thead>\n",
       "    <tr style=\"text-align: right;\">\n",
       "      <th></th>\n",
       "      <th>internet_service</th>\n",
       "      <th>online_security</th>\n",
       "      <th>online_backup</th>\n",
       "      <th>device_protection</th>\n",
       "      <th>tech_support</th>\n",
       "      <th>streaming_tv</th>\n",
       "      <th>streaming_movies</th>\n",
       "    </tr>\n",
       "    <tr>\n",
       "      <th>customer_id</th>\n",
       "      <th></th>\n",
       "      <th></th>\n",
       "      <th></th>\n",
       "      <th></th>\n",
       "      <th></th>\n",
       "      <th></th>\n",
       "      <th></th>\n",
       "    </tr>\n",
       "  </thead>\n",
       "  <tbody>\n",
       "    <tr>\n",
       "      <th>7590-VHVEG</th>\n",
       "      <td>DSL</td>\n",
       "      <td>No</td>\n",
       "      <td>Yes</td>\n",
       "      <td>No</td>\n",
       "      <td>No</td>\n",
       "      <td>No</td>\n",
       "      <td>No</td>\n",
       "    </tr>\n",
       "    <tr>\n",
       "      <th>5575-GNVDE</th>\n",
       "      <td>DSL</td>\n",
       "      <td>Yes</td>\n",
       "      <td>No</td>\n",
       "      <td>Yes</td>\n",
       "      <td>No</td>\n",
       "      <td>No</td>\n",
       "      <td>No</td>\n",
       "    </tr>\n",
       "    <tr>\n",
       "      <th>3668-QPYBK</th>\n",
       "      <td>DSL</td>\n",
       "      <td>Yes</td>\n",
       "      <td>Yes</td>\n",
       "      <td>No</td>\n",
       "      <td>No</td>\n",
       "      <td>No</td>\n",
       "      <td>No</td>\n",
       "    </tr>\n",
       "    <tr>\n",
       "      <th>7795-CFOCW</th>\n",
       "      <td>DSL</td>\n",
       "      <td>Yes</td>\n",
       "      <td>No</td>\n",
       "      <td>Yes</td>\n",
       "      <td>Yes</td>\n",
       "      <td>No</td>\n",
       "      <td>No</td>\n",
       "    </tr>\n",
       "    <tr>\n",
       "      <th>9237-HQITU</th>\n",
       "      <td>Fiber optic</td>\n",
       "      <td>No</td>\n",
       "      <td>No</td>\n",
       "      <td>No</td>\n",
       "      <td>No</td>\n",
       "      <td>No</td>\n",
       "      <td>No</td>\n",
       "    </tr>\n",
       "    <tr>\n",
       "      <th>...</th>\n",
       "      <td>...</td>\n",
       "      <td>...</td>\n",
       "      <td>...</td>\n",
       "      <td>...</td>\n",
       "      <td>...</td>\n",
       "      <td>...</td>\n",
       "      <td>...</td>\n",
       "    </tr>\n",
       "    <tr>\n",
       "      <th>6840-RESVB</th>\n",
       "      <td>DSL</td>\n",
       "      <td>Yes</td>\n",
       "      <td>No</td>\n",
       "      <td>Yes</td>\n",
       "      <td>Yes</td>\n",
       "      <td>Yes</td>\n",
       "      <td>Yes</td>\n",
       "    </tr>\n",
       "    <tr>\n",
       "      <th>2234-XADUH</th>\n",
       "      <td>Fiber optic</td>\n",
       "      <td>No</td>\n",
       "      <td>Yes</td>\n",
       "      <td>Yes</td>\n",
       "      <td>No</td>\n",
       "      <td>Yes</td>\n",
       "      <td>Yes</td>\n",
       "    </tr>\n",
       "    <tr>\n",
       "      <th>4801-JZAZL</th>\n",
       "      <td>DSL</td>\n",
       "      <td>Yes</td>\n",
       "      <td>No</td>\n",
       "      <td>No</td>\n",
       "      <td>No</td>\n",
       "      <td>No</td>\n",
       "      <td>No</td>\n",
       "    </tr>\n",
       "    <tr>\n",
       "      <th>8361-LTMKD</th>\n",
       "      <td>Fiber optic</td>\n",
       "      <td>No</td>\n",
       "      <td>No</td>\n",
       "      <td>No</td>\n",
       "      <td>No</td>\n",
       "      <td>No</td>\n",
       "      <td>No</td>\n",
       "    </tr>\n",
       "    <tr>\n",
       "      <th>3186-AJIEK</th>\n",
       "      <td>Fiber optic</td>\n",
       "      <td>Yes</td>\n",
       "      <td>No</td>\n",
       "      <td>Yes</td>\n",
       "      <td>Yes</td>\n",
       "      <td>Yes</td>\n",
       "      <td>Yes</td>\n",
       "    </tr>\n",
       "  </tbody>\n",
       "</table>\n",
       "<p>5517 rows × 7 columns</p>\n",
       "</div>"
      ],
      "text/plain": [
       "            internet_service online_security online_backup device_protection  \\\n",
       "customer_id                                                                    \n",
       "7590-VHVEG               DSL              No           Yes                No   \n",
       "5575-GNVDE               DSL             Yes            No               Yes   \n",
       "3668-QPYBK               DSL             Yes           Yes                No   \n",
       "7795-CFOCW               DSL             Yes            No               Yes   \n",
       "9237-HQITU       Fiber optic              No            No                No   \n",
       "...                      ...             ...           ...               ...   \n",
       "6840-RESVB               DSL             Yes            No               Yes   \n",
       "2234-XADUH       Fiber optic              No           Yes               Yes   \n",
       "4801-JZAZL               DSL             Yes            No                No   \n",
       "8361-LTMKD       Fiber optic              No            No                No   \n",
       "3186-AJIEK       Fiber optic             Yes            No               Yes   \n",
       "\n",
       "            tech_support streaming_tv streaming_movies  \n",
       "customer_id                                             \n",
       "7590-VHVEG            No           No               No  \n",
       "5575-GNVDE            No           No               No  \n",
       "3668-QPYBK            No           No               No  \n",
       "7795-CFOCW           Yes           No               No  \n",
       "9237-HQITU            No           No               No  \n",
       "...                  ...          ...              ...  \n",
       "6840-RESVB           Yes          Yes              Yes  \n",
       "2234-XADUH            No          Yes              Yes  \n",
       "4801-JZAZL            No           No               No  \n",
       "8361-LTMKD            No           No               No  \n",
       "3186-AJIEK           Yes          Yes              Yes  \n",
       "\n",
       "[5517 rows x 7 columns]"
      ]
     },
     "execution_count": 14,
     "metadata": {},
     "output_type": "execute_result"
    }
   ],
   "source": [
    "inet = pd.read_csv('/datasets/final_provider/internet.csv')\n",
    "inet=inet.rename(\n",
    "    columns={\n",
    "       'customerID': 'customer_id',\n",
    "        'InternetService': 'internet_service',\n",
    "        'OnlineSecurity': 'online_security',\n",
    "        'OnlineBackup': 'online_backup',\n",
    "        'DeviceProtection': 'device_protection',\n",
    "        'TechSupport': 'tech_support',\n",
    "        'StreamingTV': 'streaming_tv',\n",
    "        'StreamingMovies': 'streaming_movies'\n",
    "    })\n",
    "inet = inet.set_index('customer_id')\n",
    "inet"
   ]
  },
  {
   "cell_type": "code",
   "execution_count": 15,
   "metadata": {},
   "outputs": [
    {
     "name": "stdout",
     "output_type": "stream",
     "text": [
      "<class 'pandas.core.frame.DataFrame'>\n",
      "Index: 5517 entries, 7590-VHVEG to 3186-AJIEK\n",
      "Data columns (total 7 columns):\n",
      " #   Column             Non-Null Count  Dtype \n",
      "---  ------             --------------  ----- \n",
      " 0   internet_service   5517 non-null   object\n",
      " 1   online_security    5517 non-null   object\n",
      " 2   online_backup      5517 non-null   object\n",
      " 3   device_protection  5517 non-null   object\n",
      " 4   tech_support       5517 non-null   object\n",
      " 5   streaming_tv       5517 non-null   object\n",
      " 6   streaming_movies   5517 non-null   object\n",
      "dtypes: object(7)\n",
      "memory usage: 344.8+ KB\n"
     ]
    }
   ],
   "source": [
    "inet.info()"
   ]
  },
  {
   "cell_type": "code",
   "execution_count": 16,
   "metadata": {},
   "outputs": [
    {
     "data": {
      "text/plain": [
       "array(['DSL', 'Fiber optic'], dtype=object)"
      ]
     },
     "execution_count": 16,
     "metadata": {},
     "output_type": "execute_result"
    }
   ],
   "source": [
    "inet['internet_service'].unique()"
   ]
  },
  {
   "cell_type": "markdown",
   "metadata": {},
   "source": [
    "База данных Internet хранит информацию об услугах, которыми пользуются клиенты. В базе 5517 ненулевых записей, таким образом не по каждому клиенту есть информация об используемых услугах."
   ]
  },
  {
   "cell_type": "code",
   "execution_count": 17,
   "metadata": {},
   "outputs": [
    {
     "data": {
      "text/html": [
       "<div>\n",
       "<style scoped>\n",
       "    .dataframe tbody tr th:only-of-type {\n",
       "        vertical-align: middle;\n",
       "    }\n",
       "\n",
       "    .dataframe tbody tr th {\n",
       "        vertical-align: top;\n",
       "    }\n",
       "\n",
       "    .dataframe thead th {\n",
       "        text-align: right;\n",
       "    }\n",
       "</style>\n",
       "<table border=\"1\" class=\"dataframe\">\n",
       "  <thead>\n",
       "    <tr style=\"text-align: right;\">\n",
       "      <th></th>\n",
       "      <th>multiple_lines</th>\n",
       "    </tr>\n",
       "    <tr>\n",
       "      <th>customer_id</th>\n",
       "      <th></th>\n",
       "    </tr>\n",
       "  </thead>\n",
       "  <tbody>\n",
       "    <tr>\n",
       "      <th>5575-GNVDE</th>\n",
       "      <td>No</td>\n",
       "    </tr>\n",
       "    <tr>\n",
       "      <th>3668-QPYBK</th>\n",
       "      <td>No</td>\n",
       "    </tr>\n",
       "    <tr>\n",
       "      <th>9237-HQITU</th>\n",
       "      <td>No</td>\n",
       "    </tr>\n",
       "    <tr>\n",
       "      <th>9305-CDSKC</th>\n",
       "      <td>Yes</td>\n",
       "    </tr>\n",
       "    <tr>\n",
       "      <th>1452-KIOVK</th>\n",
       "      <td>Yes</td>\n",
       "    </tr>\n",
       "    <tr>\n",
       "      <th>...</th>\n",
       "      <td>...</td>\n",
       "    </tr>\n",
       "    <tr>\n",
       "      <th>2569-WGERO</th>\n",
       "      <td>No</td>\n",
       "    </tr>\n",
       "    <tr>\n",
       "      <th>6840-RESVB</th>\n",
       "      <td>Yes</td>\n",
       "    </tr>\n",
       "    <tr>\n",
       "      <th>2234-XADUH</th>\n",
       "      <td>Yes</td>\n",
       "    </tr>\n",
       "    <tr>\n",
       "      <th>8361-LTMKD</th>\n",
       "      <td>Yes</td>\n",
       "    </tr>\n",
       "    <tr>\n",
       "      <th>3186-AJIEK</th>\n",
       "      <td>No</td>\n",
       "    </tr>\n",
       "  </tbody>\n",
       "</table>\n",
       "<p>6361 rows × 1 columns</p>\n",
       "</div>"
      ],
      "text/plain": [
       "            multiple_lines\n",
       "customer_id               \n",
       "5575-GNVDE              No\n",
       "3668-QPYBK              No\n",
       "9237-HQITU              No\n",
       "9305-CDSKC             Yes\n",
       "1452-KIOVK             Yes\n",
       "...                    ...\n",
       "2569-WGERO              No\n",
       "6840-RESVB             Yes\n",
       "2234-XADUH             Yes\n",
       "8361-LTMKD             Yes\n",
       "3186-AJIEK              No\n",
       "\n",
       "[6361 rows x 1 columns]"
      ]
     },
     "execution_count": 17,
     "metadata": {},
     "output_type": "execute_result"
    }
   ],
   "source": [
    "phone = pd.read_csv('/datasets/final_provider/phone.csv')\n",
    "phone = phone.rename(\n",
    "    columns={\n",
    "       'customerID': 'customer_id',\n",
    "        'MultipleLines': 'multiple_lines'\n",
    "    })\n",
    "phone = phone.set_index('customer_id')\n",
    "phone"
   ]
  },
  {
   "cell_type": "code",
   "execution_count": 18,
   "metadata": {},
   "outputs": [
    {
     "name": "stdout",
     "output_type": "stream",
     "text": [
      "<class 'pandas.core.frame.DataFrame'>\n",
      "Index: 6361 entries, 5575-GNVDE to 3186-AJIEK\n",
      "Data columns (total 1 columns):\n",
      " #   Column          Non-Null Count  Dtype \n",
      "---  ------          --------------  ----- \n",
      " 0   multiple_lines  6361 non-null   object\n",
      "dtypes: object(1)\n",
      "memory usage: 99.4+ KB\n"
     ]
    }
   ],
   "source": [
    "phone.info()"
   ]
  },
  {
   "cell_type": "markdown",
   "metadata": {},
   "source": [
    "База данных Phone предтсавляет данные о 6361 пользователях, поключивших услугу стационарного телефона. Из двух баз - Internet и Phone можем сделать вывод, что 4835 пользователей подключили как стационарный телефон, так и интернет."
   ]
  },
  {
   "cell_type": "markdown",
   "metadata": {},
   "source": [
    "# План работы\n",
    "\n",
    "1. Предобработка данных. Анализ представленных данных их полнота и корректность. Поиск пропущенных или некорректно заполненных значений и их заполнение, поиск, описание и обработка выбросов в данных.  \n",
    "2. Объединение баз в единую таблицу признаков, расчет дополнительных признаков, первичный анализ признаков, их зависимости между собой, отбор лишних данных, если такие возникнут. \n",
    "3. Выделение обучающей и тестовой выборки в соотношении 75/25, а также целевого признака в отдельную таблицу. \n",
    "4. Построение нескольких моделей, подбор гиперпараметром моделей, сравнение их эффективности с помощью кросс-валидации. Выбор оптимальной модели.\n",
    "5. Проверка качества выбранной модели на тестовой выборке.\n",
    "6. Описание проделанной работы, результатов и выводов исследования для заказчика.\n"
   ]
  },
  {
   "cell_type": "markdown",
   "metadata": {},
   "source": [
    "# Часть 2. Создание модели \n",
    "  \n",
    "<h2> 1. Предобработка данных. <a class=\"tocSkip\"> </h2>"
   ]
  },
  {
   "cell_type": "code",
   "execution_count": 19,
   "metadata": {},
   "outputs": [
    {
     "data": {
      "text/html": [
       "<div>\n",
       "<style scoped>\n",
       "    .dataframe tbody tr th:only-of-type {\n",
       "        vertical-align: middle;\n",
       "    }\n",
       "\n",
       "    .dataframe tbody tr th {\n",
       "        vertical-align: top;\n",
       "    }\n",
       "\n",
       "    .dataframe thead th {\n",
       "        text-align: right;\n",
       "    }\n",
       "</style>\n",
       "<table border=\"1\" class=\"dataframe\">\n",
       "  <thead>\n",
       "    <tr style=\"text-align: right;\">\n",
       "      <th></th>\n",
       "      <th>type</th>\n",
       "      <th>paperless_billing</th>\n",
       "      <th>payment_method</th>\n",
       "      <th>monthly_charges</th>\n",
       "      <th>total_charges</th>\n",
       "      <th>target</th>\n",
       "      <th>duration</th>\n",
       "      <th>year</th>\n",
       "    </tr>\n",
       "    <tr>\n",
       "      <th>customer_id</th>\n",
       "      <th></th>\n",
       "      <th></th>\n",
       "      <th></th>\n",
       "      <th></th>\n",
       "      <th></th>\n",
       "      <th></th>\n",
       "      <th></th>\n",
       "      <th></th>\n",
       "    </tr>\n",
       "  </thead>\n",
       "  <tbody>\n",
       "    <tr>\n",
       "      <th>7590-VHVEG</th>\n",
       "      <td>Month-to-month</td>\n",
       "      <td>Yes</td>\n",
       "      <td>Electronic check</td>\n",
       "      <td>29.85</td>\n",
       "      <td>29.85</td>\n",
       "      <td>0</td>\n",
       "      <td>31</td>\n",
       "      <td>2020</td>\n",
       "    </tr>\n",
       "    <tr>\n",
       "      <th>5575-GNVDE</th>\n",
       "      <td>One year</td>\n",
       "      <td>No</td>\n",
       "      <td>Mailed check</td>\n",
       "      <td>56.95</td>\n",
       "      <td>1889.50</td>\n",
       "      <td>0</td>\n",
       "      <td>1036</td>\n",
       "      <td>2017</td>\n",
       "    </tr>\n",
       "    <tr>\n",
       "      <th>3668-QPYBK</th>\n",
       "      <td>Month-to-month</td>\n",
       "      <td>Yes</td>\n",
       "      <td>Mailed check</td>\n",
       "      <td>53.85</td>\n",
       "      <td>108.15</td>\n",
       "      <td>1</td>\n",
       "      <td>61</td>\n",
       "      <td>2019</td>\n",
       "    </tr>\n",
       "    <tr>\n",
       "      <th>7795-CFOCW</th>\n",
       "      <td>One year</td>\n",
       "      <td>No</td>\n",
       "      <td>Bank transfer (automatic)</td>\n",
       "      <td>42.30</td>\n",
       "      <td>1840.75</td>\n",
       "      <td>0</td>\n",
       "      <td>1371</td>\n",
       "      <td>2016</td>\n",
       "    </tr>\n",
       "    <tr>\n",
       "      <th>9237-HQITU</th>\n",
       "      <td>Month-to-month</td>\n",
       "      <td>Yes</td>\n",
       "      <td>Electronic check</td>\n",
       "      <td>70.70</td>\n",
       "      <td>151.65</td>\n",
       "      <td>1</td>\n",
       "      <td>61</td>\n",
       "      <td>2019</td>\n",
       "    </tr>\n",
       "  </tbody>\n",
       "</table>\n",
       "</div>"
      ],
      "text/plain": [
       "                       type paperless_billing             payment_method  \\\n",
       "customer_id                                                                \n",
       "7590-VHVEG   Month-to-month               Yes           Electronic check   \n",
       "5575-GNVDE         One year                No               Mailed check   \n",
       "3668-QPYBK   Month-to-month               Yes               Mailed check   \n",
       "7795-CFOCW         One year                No  Bank transfer (automatic)   \n",
       "9237-HQITU   Month-to-month               Yes           Electronic check   \n",
       "\n",
       "             monthly_charges  total_charges  target  duration  year  \n",
       "customer_id                                                          \n",
       "7590-VHVEG             29.85          29.85       0        31  2020  \n",
       "5575-GNVDE             56.95        1889.50       0      1036  2017  \n",
       "3668-QPYBK             53.85         108.15       1        61  2019  \n",
       "7795-CFOCW             42.30        1840.75       0      1371  2016  \n",
       "9237-HQITU             70.70         151.65       1        61  2019  "
      ]
     },
     "execution_count": 19,
     "metadata": {},
     "output_type": "execute_result"
    }
   ],
   "source": [
    "#Создадим колонку с целевым признаком в базе Contracts\n",
    "\n",
    "contracts['target']=np.where(contracts.end_date == '2020-02-01', 0, 1)\n",
    "\n",
    "\n",
    "#Создадим признак продолжительности контракта \n",
    "\n",
    "contracts['duration'] = (contracts['end_date'] - contracts['begin_date']).dt.days \n",
    "\n",
    "\n",
    "#Создадим столбец год заключения контракта\n",
    "\n",
    "contracts['year']=pd.DatetimeIndex(contracts['begin_date']).year\n",
    "\n",
    "#Теперь можем удалить столбцы начала и конец действия контракта, далее они нам не потребуются\n",
    "\n",
    "contracts = contracts.drop(columns=['begin_date', 'end_date'], axis=1)\n",
    "\n",
    "contracts.head()"
   ]
  },
  {
   "cell_type": "markdown",
   "metadata": {},
   "source": [
    "<h2> 2. Объединение баз в единую таблицу <a class=\"tocSkip\"> </h2> "
   ]
  },
  {
   "cell_type": "code",
   "execution_count": 20,
   "metadata": {},
   "outputs": [
    {
     "data": {
      "text/html": [
       "<div>\n",
       "<style scoped>\n",
       "    .dataframe tbody tr th:only-of-type {\n",
       "        vertical-align: middle;\n",
       "    }\n",
       "\n",
       "    .dataframe tbody tr th {\n",
       "        vertical-align: top;\n",
       "    }\n",
       "\n",
       "    .dataframe thead th {\n",
       "        text-align: right;\n",
       "    }\n",
       "</style>\n",
       "<table border=\"1\" class=\"dataframe\">\n",
       "  <thead>\n",
       "    <tr style=\"text-align: right;\">\n",
       "      <th></th>\n",
       "      <th>type</th>\n",
       "      <th>paperless_billing</th>\n",
       "      <th>payment_method</th>\n",
       "      <th>monthly_charges</th>\n",
       "      <th>total_charges</th>\n",
       "      <th>target</th>\n",
       "      <th>duration</th>\n",
       "      <th>year</th>\n",
       "      <th>gender</th>\n",
       "      <th>senior_citizen</th>\n",
       "      <th>partner</th>\n",
       "      <th>dependents</th>\n",
       "      <th>internet_service</th>\n",
       "      <th>online_security</th>\n",
       "      <th>online_backup</th>\n",
       "      <th>device_protection</th>\n",
       "      <th>tech_support</th>\n",
       "      <th>streaming_tv</th>\n",
       "      <th>streaming_movies</th>\n",
       "      <th>multiple_lines</th>\n",
       "    </tr>\n",
       "    <tr>\n",
       "      <th>customer_id</th>\n",
       "      <th></th>\n",
       "      <th></th>\n",
       "      <th></th>\n",
       "      <th></th>\n",
       "      <th></th>\n",
       "      <th></th>\n",
       "      <th></th>\n",
       "      <th></th>\n",
       "      <th></th>\n",
       "      <th></th>\n",
       "      <th></th>\n",
       "      <th></th>\n",
       "      <th></th>\n",
       "      <th></th>\n",
       "      <th></th>\n",
       "      <th></th>\n",
       "      <th></th>\n",
       "      <th></th>\n",
       "      <th></th>\n",
       "      <th></th>\n",
       "    </tr>\n",
       "  </thead>\n",
       "  <tbody>\n",
       "    <tr>\n",
       "      <th>7590-VHVEG</th>\n",
       "      <td>Month-to-month</td>\n",
       "      <td>Yes</td>\n",
       "      <td>Electronic check</td>\n",
       "      <td>29.85</td>\n",
       "      <td>29.85</td>\n",
       "      <td>0</td>\n",
       "      <td>31</td>\n",
       "      <td>2020</td>\n",
       "      <td>Female</td>\n",
       "      <td>0</td>\n",
       "      <td>Yes</td>\n",
       "      <td>No</td>\n",
       "      <td>DSL</td>\n",
       "      <td>No</td>\n",
       "      <td>Yes</td>\n",
       "      <td>No</td>\n",
       "      <td>No</td>\n",
       "      <td>No</td>\n",
       "      <td>No</td>\n",
       "      <td>NaN</td>\n",
       "    </tr>\n",
       "    <tr>\n",
       "      <th>5575-GNVDE</th>\n",
       "      <td>One year</td>\n",
       "      <td>No</td>\n",
       "      <td>Mailed check</td>\n",
       "      <td>56.95</td>\n",
       "      <td>1889.50</td>\n",
       "      <td>0</td>\n",
       "      <td>1036</td>\n",
       "      <td>2017</td>\n",
       "      <td>Male</td>\n",
       "      <td>0</td>\n",
       "      <td>No</td>\n",
       "      <td>No</td>\n",
       "      <td>DSL</td>\n",
       "      <td>Yes</td>\n",
       "      <td>No</td>\n",
       "      <td>Yes</td>\n",
       "      <td>No</td>\n",
       "      <td>No</td>\n",
       "      <td>No</td>\n",
       "      <td>No</td>\n",
       "    </tr>\n",
       "    <tr>\n",
       "      <th>3668-QPYBK</th>\n",
       "      <td>Month-to-month</td>\n",
       "      <td>Yes</td>\n",
       "      <td>Mailed check</td>\n",
       "      <td>53.85</td>\n",
       "      <td>108.15</td>\n",
       "      <td>1</td>\n",
       "      <td>61</td>\n",
       "      <td>2019</td>\n",
       "      <td>Male</td>\n",
       "      <td>0</td>\n",
       "      <td>No</td>\n",
       "      <td>No</td>\n",
       "      <td>DSL</td>\n",
       "      <td>Yes</td>\n",
       "      <td>Yes</td>\n",
       "      <td>No</td>\n",
       "      <td>No</td>\n",
       "      <td>No</td>\n",
       "      <td>No</td>\n",
       "      <td>No</td>\n",
       "    </tr>\n",
       "    <tr>\n",
       "      <th>7795-CFOCW</th>\n",
       "      <td>One year</td>\n",
       "      <td>No</td>\n",
       "      <td>Bank transfer (automatic)</td>\n",
       "      <td>42.30</td>\n",
       "      <td>1840.75</td>\n",
       "      <td>0</td>\n",
       "      <td>1371</td>\n",
       "      <td>2016</td>\n",
       "      <td>Male</td>\n",
       "      <td>0</td>\n",
       "      <td>No</td>\n",
       "      <td>No</td>\n",
       "      <td>DSL</td>\n",
       "      <td>Yes</td>\n",
       "      <td>No</td>\n",
       "      <td>Yes</td>\n",
       "      <td>Yes</td>\n",
       "      <td>No</td>\n",
       "      <td>No</td>\n",
       "      <td>NaN</td>\n",
       "    </tr>\n",
       "    <tr>\n",
       "      <th>9237-HQITU</th>\n",
       "      <td>Month-to-month</td>\n",
       "      <td>Yes</td>\n",
       "      <td>Electronic check</td>\n",
       "      <td>70.70</td>\n",
       "      <td>151.65</td>\n",
       "      <td>1</td>\n",
       "      <td>61</td>\n",
       "      <td>2019</td>\n",
       "      <td>Female</td>\n",
       "      <td>0</td>\n",
       "      <td>No</td>\n",
       "      <td>No</td>\n",
       "      <td>Fiber optic</td>\n",
       "      <td>No</td>\n",
       "      <td>No</td>\n",
       "      <td>No</td>\n",
       "      <td>No</td>\n",
       "      <td>No</td>\n",
       "      <td>No</td>\n",
       "      <td>No</td>\n",
       "    </tr>\n",
       "  </tbody>\n",
       "</table>\n",
       "</div>"
      ],
      "text/plain": [
       "                       type paperless_billing             payment_method  \\\n",
       "customer_id                                                                \n",
       "7590-VHVEG   Month-to-month               Yes           Electronic check   \n",
       "5575-GNVDE         One year                No               Mailed check   \n",
       "3668-QPYBK   Month-to-month               Yes               Mailed check   \n",
       "7795-CFOCW         One year                No  Bank transfer (automatic)   \n",
       "9237-HQITU   Month-to-month               Yes           Electronic check   \n",
       "\n",
       "             monthly_charges  total_charges  target  duration  year  gender  \\\n",
       "customer_id                                                                   \n",
       "7590-VHVEG             29.85          29.85       0        31  2020  Female   \n",
       "5575-GNVDE             56.95        1889.50       0      1036  2017    Male   \n",
       "3668-QPYBK             53.85         108.15       1        61  2019    Male   \n",
       "7795-CFOCW             42.30        1840.75       0      1371  2016    Male   \n",
       "9237-HQITU             70.70         151.65       1        61  2019  Female   \n",
       "\n",
       "             senior_citizen partner dependents internet_service  \\\n",
       "customer_id                                                       \n",
       "7590-VHVEG                0     Yes         No              DSL   \n",
       "5575-GNVDE                0      No         No              DSL   \n",
       "3668-QPYBK                0      No         No              DSL   \n",
       "7795-CFOCW                0      No         No              DSL   \n",
       "9237-HQITU                0      No         No      Fiber optic   \n",
       "\n",
       "            online_security online_backup device_protection tech_support  \\\n",
       "customer_id                                                                \n",
       "7590-VHVEG               No           Yes                No           No   \n",
       "5575-GNVDE              Yes            No               Yes           No   \n",
       "3668-QPYBK              Yes           Yes                No           No   \n",
       "7795-CFOCW              Yes            No               Yes          Yes   \n",
       "9237-HQITU               No            No                No           No   \n",
       "\n",
       "            streaming_tv streaming_movies multiple_lines  \n",
       "customer_id                                               \n",
       "7590-VHVEG            No               No            NaN  \n",
       "5575-GNVDE            No               No             No  \n",
       "3668-QPYBK            No               No             No  \n",
       "7795-CFOCW            No               No            NaN  \n",
       "9237-HQITU            No               No             No  "
      ]
     },
     "execution_count": 20,
     "metadata": {},
     "output_type": "execute_result"
    }
   ],
   "source": [
    "#Объединим таблицы \n",
    "\n",
    "data=contracts.merge(pers, left_index = True, right_index = True, how='left')\n",
    "\n",
    "data = data.merge(inet, left_index = True, right_index = True, how='left')\n",
    "\n",
    "data = data.merge(phone, left_index = True, right_index = True, how='left')\n",
    "\n",
    "data.head()"
   ]
  },
  {
   "cell_type": "code",
   "execution_count": 21,
   "metadata": {},
   "outputs": [
    {
     "data": {
      "text/html": [
       "<div>\n",
       "<style scoped>\n",
       "    .dataframe tbody tr th:only-of-type {\n",
       "        vertical-align: middle;\n",
       "    }\n",
       "\n",
       "    .dataframe tbody tr th {\n",
       "        vertical-align: top;\n",
       "    }\n",
       "\n",
       "    .dataframe thead th {\n",
       "        text-align: right;\n",
       "    }\n",
       "</style>\n",
       "<table border=\"1\" class=\"dataframe\">\n",
       "  <thead>\n",
       "    <tr style=\"text-align: right;\">\n",
       "      <th></th>\n",
       "      <th>type</th>\n",
       "      <th>paperless_billing</th>\n",
       "      <th>payment_method</th>\n",
       "      <th>monthly_charges</th>\n",
       "      <th>total_charges</th>\n",
       "      <th>target</th>\n",
       "      <th>duration</th>\n",
       "      <th>year</th>\n",
       "      <th>gender</th>\n",
       "      <th>senior_citizen</th>\n",
       "      <th>...</th>\n",
       "      <th>dependents</th>\n",
       "      <th>internet_service</th>\n",
       "      <th>online_security</th>\n",
       "      <th>online_backup</th>\n",
       "      <th>device_protection</th>\n",
       "      <th>tech_support</th>\n",
       "      <th>streaming_tv</th>\n",
       "      <th>streaming_movies</th>\n",
       "      <th>multiple_lines</th>\n",
       "      <th>internet</th>\n",
       "    </tr>\n",
       "    <tr>\n",
       "      <th>customer_id</th>\n",
       "      <th></th>\n",
       "      <th></th>\n",
       "      <th></th>\n",
       "      <th></th>\n",
       "      <th></th>\n",
       "      <th></th>\n",
       "      <th></th>\n",
       "      <th></th>\n",
       "      <th></th>\n",
       "      <th></th>\n",
       "      <th></th>\n",
       "      <th></th>\n",
       "      <th></th>\n",
       "      <th></th>\n",
       "      <th></th>\n",
       "      <th></th>\n",
       "      <th></th>\n",
       "      <th></th>\n",
       "      <th></th>\n",
       "      <th></th>\n",
       "      <th></th>\n",
       "    </tr>\n",
       "  </thead>\n",
       "  <tbody>\n",
       "    <tr>\n",
       "      <th>7590-VHVEG</th>\n",
       "      <td>Month-to-month</td>\n",
       "      <td>Yes</td>\n",
       "      <td>Electronic check</td>\n",
       "      <td>29.85</td>\n",
       "      <td>29.85</td>\n",
       "      <td>0</td>\n",
       "      <td>31</td>\n",
       "      <td>2020</td>\n",
       "      <td>Female</td>\n",
       "      <td>0</td>\n",
       "      <td>...</td>\n",
       "      <td>No</td>\n",
       "      <td>DSL</td>\n",
       "      <td>No</td>\n",
       "      <td>Yes</td>\n",
       "      <td>No</td>\n",
       "      <td>No</td>\n",
       "      <td>No</td>\n",
       "      <td>No</td>\n",
       "      <td>NaN</td>\n",
       "      <td>1</td>\n",
       "    </tr>\n",
       "    <tr>\n",
       "      <th>5575-GNVDE</th>\n",
       "      <td>One year</td>\n",
       "      <td>No</td>\n",
       "      <td>Mailed check</td>\n",
       "      <td>56.95</td>\n",
       "      <td>1889.50</td>\n",
       "      <td>0</td>\n",
       "      <td>1036</td>\n",
       "      <td>2017</td>\n",
       "      <td>Male</td>\n",
       "      <td>0</td>\n",
       "      <td>...</td>\n",
       "      <td>No</td>\n",
       "      <td>DSL</td>\n",
       "      <td>Yes</td>\n",
       "      <td>No</td>\n",
       "      <td>Yes</td>\n",
       "      <td>No</td>\n",
       "      <td>No</td>\n",
       "      <td>No</td>\n",
       "      <td>No</td>\n",
       "      <td>1</td>\n",
       "    </tr>\n",
       "    <tr>\n",
       "      <th>3668-QPYBK</th>\n",
       "      <td>Month-to-month</td>\n",
       "      <td>Yes</td>\n",
       "      <td>Mailed check</td>\n",
       "      <td>53.85</td>\n",
       "      <td>108.15</td>\n",
       "      <td>1</td>\n",
       "      <td>61</td>\n",
       "      <td>2019</td>\n",
       "      <td>Male</td>\n",
       "      <td>0</td>\n",
       "      <td>...</td>\n",
       "      <td>No</td>\n",
       "      <td>DSL</td>\n",
       "      <td>Yes</td>\n",
       "      <td>Yes</td>\n",
       "      <td>No</td>\n",
       "      <td>No</td>\n",
       "      <td>No</td>\n",
       "      <td>No</td>\n",
       "      <td>No</td>\n",
       "      <td>1</td>\n",
       "    </tr>\n",
       "    <tr>\n",
       "      <th>7795-CFOCW</th>\n",
       "      <td>One year</td>\n",
       "      <td>No</td>\n",
       "      <td>Bank transfer (automatic)</td>\n",
       "      <td>42.30</td>\n",
       "      <td>1840.75</td>\n",
       "      <td>0</td>\n",
       "      <td>1371</td>\n",
       "      <td>2016</td>\n",
       "      <td>Male</td>\n",
       "      <td>0</td>\n",
       "      <td>...</td>\n",
       "      <td>No</td>\n",
       "      <td>DSL</td>\n",
       "      <td>Yes</td>\n",
       "      <td>No</td>\n",
       "      <td>Yes</td>\n",
       "      <td>Yes</td>\n",
       "      <td>No</td>\n",
       "      <td>No</td>\n",
       "      <td>NaN</td>\n",
       "      <td>1</td>\n",
       "    </tr>\n",
       "    <tr>\n",
       "      <th>9237-HQITU</th>\n",
       "      <td>Month-to-month</td>\n",
       "      <td>Yes</td>\n",
       "      <td>Electronic check</td>\n",
       "      <td>70.70</td>\n",
       "      <td>151.65</td>\n",
       "      <td>1</td>\n",
       "      <td>61</td>\n",
       "      <td>2019</td>\n",
       "      <td>Female</td>\n",
       "      <td>0</td>\n",
       "      <td>...</td>\n",
       "      <td>No</td>\n",
       "      <td>Fiber optic</td>\n",
       "      <td>No</td>\n",
       "      <td>No</td>\n",
       "      <td>No</td>\n",
       "      <td>No</td>\n",
       "      <td>No</td>\n",
       "      <td>No</td>\n",
       "      <td>No</td>\n",
       "      <td>1</td>\n",
       "    </tr>\n",
       "  </tbody>\n",
       "</table>\n",
       "<p>5 rows × 21 columns</p>\n",
       "</div>"
      ],
      "text/plain": [
       "                       type paperless_billing             payment_method  \\\n",
       "customer_id                                                                \n",
       "7590-VHVEG   Month-to-month               Yes           Electronic check   \n",
       "5575-GNVDE         One year                No               Mailed check   \n",
       "3668-QPYBK   Month-to-month               Yes               Mailed check   \n",
       "7795-CFOCW         One year                No  Bank transfer (automatic)   \n",
       "9237-HQITU   Month-to-month               Yes           Electronic check   \n",
       "\n",
       "             monthly_charges  total_charges  target  duration  year  gender  \\\n",
       "customer_id                                                                   \n",
       "7590-VHVEG             29.85          29.85       0        31  2020  Female   \n",
       "5575-GNVDE             56.95        1889.50       0      1036  2017    Male   \n",
       "3668-QPYBK             53.85         108.15       1        61  2019    Male   \n",
       "7795-CFOCW             42.30        1840.75       0      1371  2016    Male   \n",
       "9237-HQITU             70.70         151.65       1        61  2019  Female   \n",
       "\n",
       "             senior_citizen  ... dependents internet_service online_security  \\\n",
       "customer_id                  ...                                               \n",
       "7590-VHVEG                0  ...         No              DSL              No   \n",
       "5575-GNVDE                0  ...         No              DSL             Yes   \n",
       "3668-QPYBK                0  ...         No              DSL             Yes   \n",
       "7795-CFOCW                0  ...         No              DSL             Yes   \n",
       "9237-HQITU                0  ...         No      Fiber optic              No   \n",
       "\n",
       "            online_backup device_protection tech_support streaming_tv  \\\n",
       "customer_id                                                             \n",
       "7590-VHVEG            Yes                No           No           No   \n",
       "5575-GNVDE             No               Yes           No           No   \n",
       "3668-QPYBK            Yes                No           No           No   \n",
       "7795-CFOCW             No               Yes          Yes           No   \n",
       "9237-HQITU             No                No           No           No   \n",
       "\n",
       "            streaming_movies multiple_lines internet  \n",
       "customer_id                                           \n",
       "7590-VHVEG                No            NaN        1  \n",
       "5575-GNVDE                No             No        1  \n",
       "3668-QPYBK                No             No        1  \n",
       "7795-CFOCW                No            NaN        1  \n",
       "9237-HQITU                No             No        1  \n",
       "\n",
       "[5 rows x 21 columns]"
      ]
     },
     "execution_count": 21,
     "metadata": {},
     "output_type": "execute_result"
    }
   ],
   "source": [
    "#Добавим признак использование интернета\n",
    "data['internet'] = np.where(((data.internet_service == 'DSL') | (data.internet_service == 'Fiber optic')), 1, 0)\n",
    "data.head()"
   ]
  },
  {
   "cell_type": "code",
   "execution_count": 22,
   "metadata": {},
   "outputs": [
    {
     "data": {
      "text/html": [
       "<div>\n",
       "<style scoped>\n",
       "    .dataframe tbody tr th:only-of-type {\n",
       "        vertical-align: middle;\n",
       "    }\n",
       "\n",
       "    .dataframe tbody tr th {\n",
       "        vertical-align: top;\n",
       "    }\n",
       "\n",
       "    .dataframe thead th {\n",
       "        text-align: right;\n",
       "    }\n",
       "</style>\n",
       "<table border=\"1\" class=\"dataframe\">\n",
       "  <thead>\n",
       "    <tr style=\"text-align: right;\">\n",
       "      <th></th>\n",
       "      <th>type</th>\n",
       "      <th>paperless_billing</th>\n",
       "      <th>payment_method</th>\n",
       "      <th>monthly_charges</th>\n",
       "      <th>total_charges</th>\n",
       "      <th>target</th>\n",
       "      <th>duration</th>\n",
       "      <th>year</th>\n",
       "      <th>gender</th>\n",
       "      <th>senior_citizen</th>\n",
       "      <th>...</th>\n",
       "      <th>dependents</th>\n",
       "      <th>internet_service</th>\n",
       "      <th>online_security</th>\n",
       "      <th>online_backup</th>\n",
       "      <th>device_protection</th>\n",
       "      <th>tech_support</th>\n",
       "      <th>streaming_tv</th>\n",
       "      <th>streaming_movies</th>\n",
       "      <th>multiple_lines</th>\n",
       "      <th>internet</th>\n",
       "    </tr>\n",
       "    <tr>\n",
       "      <th>customer_id</th>\n",
       "      <th></th>\n",
       "      <th></th>\n",
       "      <th></th>\n",
       "      <th></th>\n",
       "      <th></th>\n",
       "      <th></th>\n",
       "      <th></th>\n",
       "      <th></th>\n",
       "      <th></th>\n",
       "      <th></th>\n",
       "      <th></th>\n",
       "      <th></th>\n",
       "      <th></th>\n",
       "      <th></th>\n",
       "      <th></th>\n",
       "      <th></th>\n",
       "      <th></th>\n",
       "      <th></th>\n",
       "      <th></th>\n",
       "      <th></th>\n",
       "      <th></th>\n",
       "    </tr>\n",
       "  </thead>\n",
       "  <tbody>\n",
       "    <tr>\n",
       "      <th>7469-LKBCI</th>\n",
       "      <td>Two year</td>\n",
       "      <td>No</td>\n",
       "      <td>Credit card (automatic)</td>\n",
       "      <td>18.95</td>\n",
       "      <td>326.80</td>\n",
       "      <td>0</td>\n",
       "      <td>488</td>\n",
       "      <td>2018</td>\n",
       "      <td>Male</td>\n",
       "      <td>0</td>\n",
       "      <td>...</td>\n",
       "      <td>No</td>\n",
       "      <td>NaN</td>\n",
       "      <td>NaN</td>\n",
       "      <td>NaN</td>\n",
       "      <td>NaN</td>\n",
       "      <td>NaN</td>\n",
       "      <td>NaN</td>\n",
       "      <td>NaN</td>\n",
       "      <td>No</td>\n",
       "      <td>0</td>\n",
       "    </tr>\n",
       "    <tr>\n",
       "      <th>8191-XWSZG</th>\n",
       "      <td>One year</td>\n",
       "      <td>No</td>\n",
       "      <td>Mailed check</td>\n",
       "      <td>20.65</td>\n",
       "      <td>1022.95</td>\n",
       "      <td>0</td>\n",
       "      <td>1584</td>\n",
       "      <td>2015</td>\n",
       "      <td>Female</td>\n",
       "      <td>0</td>\n",
       "      <td>...</td>\n",
       "      <td>No</td>\n",
       "      <td>NaN</td>\n",
       "      <td>NaN</td>\n",
       "      <td>NaN</td>\n",
       "      <td>NaN</td>\n",
       "      <td>NaN</td>\n",
       "      <td>NaN</td>\n",
       "      <td>NaN</td>\n",
       "      <td>No</td>\n",
       "      <td>0</td>\n",
       "    </tr>\n",
       "    <tr>\n",
       "      <th>1680-VDCWW</th>\n",
       "      <td>One year</td>\n",
       "      <td>No</td>\n",
       "      <td>Bank transfer (automatic)</td>\n",
       "      <td>19.80</td>\n",
       "      <td>202.25</td>\n",
       "      <td>0</td>\n",
       "      <td>365</td>\n",
       "      <td>2019</td>\n",
       "      <td>Male</td>\n",
       "      <td>0</td>\n",
       "      <td>...</td>\n",
       "      <td>No</td>\n",
       "      <td>NaN</td>\n",
       "      <td>NaN</td>\n",
       "      <td>NaN</td>\n",
       "      <td>NaN</td>\n",
       "      <td>NaN</td>\n",
       "      <td>NaN</td>\n",
       "      <td>NaN</td>\n",
       "      <td>No</td>\n",
       "      <td>0</td>\n",
       "    </tr>\n",
       "    <tr>\n",
       "      <th>1066-JKSGK</th>\n",
       "      <td>Month-to-month</td>\n",
       "      <td>No</td>\n",
       "      <td>Mailed check</td>\n",
       "      <td>20.15</td>\n",
       "      <td>20.15</td>\n",
       "      <td>1</td>\n",
       "      <td>30</td>\n",
       "      <td>2019</td>\n",
       "      <td>Male</td>\n",
       "      <td>0</td>\n",
       "      <td>...</td>\n",
       "      <td>No</td>\n",
       "      <td>NaN</td>\n",
       "      <td>NaN</td>\n",
       "      <td>NaN</td>\n",
       "      <td>NaN</td>\n",
       "      <td>NaN</td>\n",
       "      <td>NaN</td>\n",
       "      <td>NaN</td>\n",
       "      <td>No</td>\n",
       "      <td>0</td>\n",
       "    </tr>\n",
       "    <tr>\n",
       "      <th>7310-EGVHZ</th>\n",
       "      <td>Month-to-month</td>\n",
       "      <td>No</td>\n",
       "      <td>Bank transfer (automatic)</td>\n",
       "      <td>20.20</td>\n",
       "      <td>20.20</td>\n",
       "      <td>0</td>\n",
       "      <td>31</td>\n",
       "      <td>2020</td>\n",
       "      <td>Male</td>\n",
       "      <td>0</td>\n",
       "      <td>...</td>\n",
       "      <td>No</td>\n",
       "      <td>NaN</td>\n",
       "      <td>NaN</td>\n",
       "      <td>NaN</td>\n",
       "      <td>NaN</td>\n",
       "      <td>NaN</td>\n",
       "      <td>NaN</td>\n",
       "      <td>NaN</td>\n",
       "      <td>No</td>\n",
       "      <td>0</td>\n",
       "    </tr>\n",
       "  </tbody>\n",
       "</table>\n",
       "<p>5 rows × 21 columns</p>\n",
       "</div>"
      ],
      "text/plain": [
       "                       type paperless_billing             payment_method  \\\n",
       "customer_id                                                                \n",
       "7469-LKBCI         Two year                No    Credit card (automatic)   \n",
       "8191-XWSZG         One year                No               Mailed check   \n",
       "1680-VDCWW         One year                No  Bank transfer (automatic)   \n",
       "1066-JKSGK   Month-to-month                No               Mailed check   \n",
       "7310-EGVHZ   Month-to-month                No  Bank transfer (automatic)   \n",
       "\n",
       "             monthly_charges  total_charges  target  duration  year  gender  \\\n",
       "customer_id                                                                   \n",
       "7469-LKBCI             18.95         326.80       0       488  2018    Male   \n",
       "8191-XWSZG             20.65        1022.95       0      1584  2015  Female   \n",
       "1680-VDCWW             19.80         202.25       0       365  2019    Male   \n",
       "1066-JKSGK             20.15          20.15       1        30  2019    Male   \n",
       "7310-EGVHZ             20.20          20.20       0        31  2020    Male   \n",
       "\n",
       "             senior_citizen  ... dependents internet_service online_security  \\\n",
       "customer_id                  ...                                               \n",
       "7469-LKBCI                0  ...         No              NaN             NaN   \n",
       "8191-XWSZG                0  ...         No              NaN             NaN   \n",
       "1680-VDCWW                0  ...         No              NaN             NaN   \n",
       "1066-JKSGK                0  ...         No              NaN             NaN   \n",
       "7310-EGVHZ                0  ...         No              NaN             NaN   \n",
       "\n",
       "            online_backup device_protection tech_support streaming_tv  \\\n",
       "customer_id                                                             \n",
       "7469-LKBCI            NaN               NaN          NaN          NaN   \n",
       "8191-XWSZG            NaN               NaN          NaN          NaN   \n",
       "1680-VDCWW            NaN               NaN          NaN          NaN   \n",
       "1066-JKSGK            NaN               NaN          NaN          NaN   \n",
       "7310-EGVHZ            NaN               NaN          NaN          NaN   \n",
       "\n",
       "            streaming_movies multiple_lines internet  \n",
       "customer_id                                           \n",
       "7469-LKBCI               NaN             No        0  \n",
       "8191-XWSZG               NaN             No        0  \n",
       "1680-VDCWW               NaN             No        0  \n",
       "1066-JKSGK               NaN             No        0  \n",
       "7310-EGVHZ               NaN             No        0  \n",
       "\n",
       "[5 rows x 21 columns]"
      ]
     },
     "execution_count": 22,
     "metadata": {},
     "output_type": "execute_result"
    }
   ],
   "source": [
    "data[data.internet_service.isnull()].head()"
   ]
  },
  {
   "cell_type": "code",
   "execution_count": 23,
   "metadata": {},
   "outputs": [
    {
     "data": {
      "text/html": [
       "<div>\n",
       "<style scoped>\n",
       "    .dataframe tbody tr th:only-of-type {\n",
       "        vertical-align: middle;\n",
       "    }\n",
       "\n",
       "    .dataframe tbody tr th {\n",
       "        vertical-align: top;\n",
       "    }\n",
       "\n",
       "    .dataframe thead th {\n",
       "        text-align: right;\n",
       "    }\n",
       "</style>\n",
       "<table border=\"1\" class=\"dataframe\">\n",
       "  <thead>\n",
       "    <tr style=\"text-align: right;\">\n",
       "      <th></th>\n",
       "      <th>type</th>\n",
       "      <th>paperless_billing</th>\n",
       "      <th>payment_method</th>\n",
       "      <th>monthly_charges</th>\n",
       "      <th>total_charges</th>\n",
       "      <th>target</th>\n",
       "      <th>duration</th>\n",
       "      <th>year</th>\n",
       "      <th>gender</th>\n",
       "      <th>senior_citizen</th>\n",
       "      <th>...</th>\n",
       "      <th>internet_service</th>\n",
       "      <th>online_security</th>\n",
       "      <th>online_backup</th>\n",
       "      <th>device_protection</th>\n",
       "      <th>tech_support</th>\n",
       "      <th>streaming_tv</th>\n",
       "      <th>streaming_movies</th>\n",
       "      <th>multiple_lines</th>\n",
       "      <th>internet</th>\n",
       "      <th>phone</th>\n",
       "    </tr>\n",
       "    <tr>\n",
       "      <th>customer_id</th>\n",
       "      <th></th>\n",
       "      <th></th>\n",
       "      <th></th>\n",
       "      <th></th>\n",
       "      <th></th>\n",
       "      <th></th>\n",
       "      <th></th>\n",
       "      <th></th>\n",
       "      <th></th>\n",
       "      <th></th>\n",
       "      <th></th>\n",
       "      <th></th>\n",
       "      <th></th>\n",
       "      <th></th>\n",
       "      <th></th>\n",
       "      <th></th>\n",
       "      <th></th>\n",
       "      <th></th>\n",
       "      <th></th>\n",
       "      <th></th>\n",
       "      <th></th>\n",
       "    </tr>\n",
       "  </thead>\n",
       "  <tbody>\n",
       "    <tr>\n",
       "      <th>7590-VHVEG</th>\n",
       "      <td>Month-to-month</td>\n",
       "      <td>Yes</td>\n",
       "      <td>Electronic check</td>\n",
       "      <td>29.85</td>\n",
       "      <td>29.85</td>\n",
       "      <td>0</td>\n",
       "      <td>31</td>\n",
       "      <td>2020</td>\n",
       "      <td>Female</td>\n",
       "      <td>0</td>\n",
       "      <td>...</td>\n",
       "      <td>DSL</td>\n",
       "      <td>No</td>\n",
       "      <td>Yes</td>\n",
       "      <td>No</td>\n",
       "      <td>No</td>\n",
       "      <td>No</td>\n",
       "      <td>No</td>\n",
       "      <td>NaN</td>\n",
       "      <td>1</td>\n",
       "      <td>0</td>\n",
       "    </tr>\n",
       "    <tr>\n",
       "      <th>5575-GNVDE</th>\n",
       "      <td>One year</td>\n",
       "      <td>No</td>\n",
       "      <td>Mailed check</td>\n",
       "      <td>56.95</td>\n",
       "      <td>1889.50</td>\n",
       "      <td>0</td>\n",
       "      <td>1036</td>\n",
       "      <td>2017</td>\n",
       "      <td>Male</td>\n",
       "      <td>0</td>\n",
       "      <td>...</td>\n",
       "      <td>DSL</td>\n",
       "      <td>Yes</td>\n",
       "      <td>No</td>\n",
       "      <td>Yes</td>\n",
       "      <td>No</td>\n",
       "      <td>No</td>\n",
       "      <td>No</td>\n",
       "      <td>No</td>\n",
       "      <td>1</td>\n",
       "      <td>1</td>\n",
       "    </tr>\n",
       "    <tr>\n",
       "      <th>3668-QPYBK</th>\n",
       "      <td>Month-to-month</td>\n",
       "      <td>Yes</td>\n",
       "      <td>Mailed check</td>\n",
       "      <td>53.85</td>\n",
       "      <td>108.15</td>\n",
       "      <td>1</td>\n",
       "      <td>61</td>\n",
       "      <td>2019</td>\n",
       "      <td>Male</td>\n",
       "      <td>0</td>\n",
       "      <td>...</td>\n",
       "      <td>DSL</td>\n",
       "      <td>Yes</td>\n",
       "      <td>Yes</td>\n",
       "      <td>No</td>\n",
       "      <td>No</td>\n",
       "      <td>No</td>\n",
       "      <td>No</td>\n",
       "      <td>No</td>\n",
       "      <td>1</td>\n",
       "      <td>1</td>\n",
       "    </tr>\n",
       "    <tr>\n",
       "      <th>7795-CFOCW</th>\n",
       "      <td>One year</td>\n",
       "      <td>No</td>\n",
       "      <td>Bank transfer (automatic)</td>\n",
       "      <td>42.30</td>\n",
       "      <td>1840.75</td>\n",
       "      <td>0</td>\n",
       "      <td>1371</td>\n",
       "      <td>2016</td>\n",
       "      <td>Male</td>\n",
       "      <td>0</td>\n",
       "      <td>...</td>\n",
       "      <td>DSL</td>\n",
       "      <td>Yes</td>\n",
       "      <td>No</td>\n",
       "      <td>Yes</td>\n",
       "      <td>Yes</td>\n",
       "      <td>No</td>\n",
       "      <td>No</td>\n",
       "      <td>NaN</td>\n",
       "      <td>1</td>\n",
       "      <td>0</td>\n",
       "    </tr>\n",
       "    <tr>\n",
       "      <th>9237-HQITU</th>\n",
       "      <td>Month-to-month</td>\n",
       "      <td>Yes</td>\n",
       "      <td>Electronic check</td>\n",
       "      <td>70.70</td>\n",
       "      <td>151.65</td>\n",
       "      <td>1</td>\n",
       "      <td>61</td>\n",
       "      <td>2019</td>\n",
       "      <td>Female</td>\n",
       "      <td>0</td>\n",
       "      <td>...</td>\n",
       "      <td>Fiber optic</td>\n",
       "      <td>No</td>\n",
       "      <td>No</td>\n",
       "      <td>No</td>\n",
       "      <td>No</td>\n",
       "      <td>No</td>\n",
       "      <td>No</td>\n",
       "      <td>No</td>\n",
       "      <td>1</td>\n",
       "      <td>1</td>\n",
       "    </tr>\n",
       "  </tbody>\n",
       "</table>\n",
       "<p>5 rows × 22 columns</p>\n",
       "</div>"
      ],
      "text/plain": [
       "                       type paperless_billing             payment_method  \\\n",
       "customer_id                                                                \n",
       "7590-VHVEG   Month-to-month               Yes           Electronic check   \n",
       "5575-GNVDE         One year                No               Mailed check   \n",
       "3668-QPYBK   Month-to-month               Yes               Mailed check   \n",
       "7795-CFOCW         One year                No  Bank transfer (automatic)   \n",
       "9237-HQITU   Month-to-month               Yes           Electronic check   \n",
       "\n",
       "             monthly_charges  total_charges  target  duration  year  gender  \\\n",
       "customer_id                                                                   \n",
       "7590-VHVEG             29.85          29.85       0        31  2020  Female   \n",
       "5575-GNVDE             56.95        1889.50       0      1036  2017    Male   \n",
       "3668-QPYBK             53.85         108.15       1        61  2019    Male   \n",
       "7795-CFOCW             42.30        1840.75       0      1371  2016    Male   \n",
       "9237-HQITU             70.70         151.65       1        61  2019  Female   \n",
       "\n",
       "             senior_citizen  ... internet_service online_security  \\\n",
       "customer_id                  ...                                    \n",
       "7590-VHVEG                0  ...              DSL              No   \n",
       "5575-GNVDE                0  ...              DSL             Yes   \n",
       "3668-QPYBK                0  ...              DSL             Yes   \n",
       "7795-CFOCW                0  ...              DSL             Yes   \n",
       "9237-HQITU                0  ...      Fiber optic              No   \n",
       "\n",
       "            online_backup device_protection tech_support streaming_tv  \\\n",
       "customer_id                                                             \n",
       "7590-VHVEG            Yes                No           No           No   \n",
       "5575-GNVDE             No               Yes           No           No   \n",
       "3668-QPYBK            Yes                No           No           No   \n",
       "7795-CFOCW             No               Yes          Yes           No   \n",
       "9237-HQITU             No                No           No           No   \n",
       "\n",
       "            streaming_movies multiple_lines internet phone  \n",
       "customer_id                                                 \n",
       "7590-VHVEG                No            NaN        1     0  \n",
       "5575-GNVDE                No             No        1     1  \n",
       "3668-QPYBK                No             No        1     1  \n",
       "7795-CFOCW                No            NaN        1     0  \n",
       "9237-HQITU                No             No        1     1  \n",
       "\n",
       "[5 rows x 22 columns]"
      ]
     },
     "execution_count": 23,
     "metadata": {},
     "output_type": "execute_result"
    }
   ],
   "source": [
    "#Добавим признак использования телефона\n",
    "data['phone'] = np.where(data.multiple_lines.isna(), 0, 1)\n",
    "data.head()"
   ]
  },
  {
   "cell_type": "code",
   "execution_count": 24,
   "metadata": {},
   "outputs": [
    {
     "name": "stdout",
     "output_type": "stream",
     "text": [
      "<class 'pandas.core.frame.DataFrame'>\n",
      "Index: 7043 entries, 7590-VHVEG to 3186-AJIEK\n",
      "Data columns (total 22 columns):\n",
      " #   Column             Non-Null Count  Dtype  \n",
      "---  ------             --------------  -----  \n",
      " 0   type               7043 non-null   object \n",
      " 1   paperless_billing  7043 non-null   object \n",
      " 2   payment_method     7043 non-null   object \n",
      " 3   monthly_charges    7043 non-null   float64\n",
      " 4   total_charges      7043 non-null   float64\n",
      " 5   target             7043 non-null   int64  \n",
      " 6   duration           7043 non-null   int64  \n",
      " 7   year               7043 non-null   int64  \n",
      " 8   gender             7043 non-null   object \n",
      " 9   senior_citizen     7043 non-null   int64  \n",
      " 10  partner            7043 non-null   object \n",
      " 11  dependents         7043 non-null   object \n",
      " 12  internet_service   7043 non-null   object \n",
      " 13  online_security    7043 non-null   object \n",
      " 14  online_backup      7043 non-null   object \n",
      " 15  device_protection  7043 non-null   object \n",
      " 16  tech_support       7043 non-null   object \n",
      " 17  streaming_tv       7043 non-null   object \n",
      " 18  streaming_movies   7043 non-null   object \n",
      " 19  multiple_lines     7043 non-null   object \n",
      " 20  internet           7043 non-null   int64  \n",
      " 21  phone              7043 non-null   int64  \n",
      "dtypes: float64(2), int64(6), object(14)\n",
      "memory usage: 1.5+ MB\n"
     ]
    }
   ],
   "source": [
    "#В таблице образовались пропуски для тех пользователей, кто не приобретал конкретную услугу. \n",
    "#Соответственно заполним пропуски как No, так как услуга не используется\n",
    "\n",
    "data=data.fillna('No')\n",
    "data.info()"
   ]
  },
  {
   "cell_type": "code",
   "execution_count": 25,
   "metadata": {},
   "outputs": [
    {
     "data": {
      "image/png": "[encoded data removed]",
      "text/plain": [
       "<Figure size 432x288 with 1 Axes>"
      ]
     },
     "metadata": {
      "needs_background": "light"
     },
     "output_type": "display_data"
    }
   ],
   "source": [
    "#Посмотрим распределение данных по продолжительности контракта\n",
    "\n",
    "data['duration'].hist(bins=50, label = 'duration, days')\n",
    "plt.title('Продолжительность использования услуг')\n",
    "plt.ylabel('Количество дней')\n",
    "plt.xlabel('Концентрация')\n",
    "plt.show()\n",
    "    \n"
   ]
  },
  {
   "cell_type": "code",
   "execution_count": 26,
   "metadata": {},
   "outputs": [
    {
     "data": {
      "image/png": "[encoded data removed]",
      "text/plain": [
       "<Figure size 432x288 with 1 Axes>"
      ]
     },
     "metadata": {
      "needs_background": "light"
     },
     "output_type": "display_data"
    }
   ],
   "source": [
    "#Посмотрим распределение данных по годам заключения контракта\n",
    "\n",
    "data['year'].hist(bins=8, label = 'years')\n",
    "plt.title('Год заключения договора')\n",
    "plt.ylabel('Год')\n",
    "plt.xlabel('Количество договоров')\n",
    "plt.show()"
   ]
  },
  {
   "cell_type": "code",
   "execution_count": 27,
   "metadata": {},
   "outputs": [
    {
     "data": {
      "text/html": [
       "<div>\n",
       "<style scoped>\n",
       "    .dataframe tbody tr th:only-of-type {\n",
       "        vertical-align: middle;\n",
       "    }\n",
       "\n",
       "    .dataframe tbody tr th {\n",
       "        vertical-align: top;\n",
       "    }\n",
       "\n",
       "    .dataframe thead th {\n",
       "        text-align: right;\n",
       "    }\n",
       "</style>\n",
       "<table border=\"1\" class=\"dataframe\">\n",
       "  <thead>\n",
       "    <tr style=\"text-align: right;\">\n",
       "      <th></th>\n",
       "      <th>type</th>\n",
       "      <th>paperless_billing</th>\n",
       "      <th>payment_method</th>\n",
       "      <th>monthly_charges</th>\n",
       "      <th>total_charges</th>\n",
       "      <th>target</th>\n",
       "      <th>duration</th>\n",
       "      <th>year</th>\n",
       "      <th>gender</th>\n",
       "      <th>senior_citizen</th>\n",
       "      <th>...</th>\n",
       "      <th>internet_service</th>\n",
       "      <th>online_security</th>\n",
       "      <th>online_backup</th>\n",
       "      <th>device_protection</th>\n",
       "      <th>tech_support</th>\n",
       "      <th>streaming_tv</th>\n",
       "      <th>streaming_movies</th>\n",
       "      <th>multiple_lines</th>\n",
       "      <th>internet</th>\n",
       "      <th>phone</th>\n",
       "    </tr>\n",
       "    <tr>\n",
       "      <th>customer_id</th>\n",
       "      <th></th>\n",
       "      <th></th>\n",
       "      <th></th>\n",
       "      <th></th>\n",
       "      <th></th>\n",
       "      <th></th>\n",
       "      <th></th>\n",
       "      <th></th>\n",
       "      <th></th>\n",
       "      <th></th>\n",
       "      <th></th>\n",
       "      <th></th>\n",
       "      <th></th>\n",
       "      <th></th>\n",
       "      <th></th>\n",
       "      <th></th>\n",
       "      <th></th>\n",
       "      <th></th>\n",
       "      <th></th>\n",
       "      <th></th>\n",
       "      <th></th>\n",
       "    </tr>\n",
       "  </thead>\n",
       "  <tbody>\n",
       "    <tr>\n",
       "      <th>4472-LVYGI</th>\n",
       "      <td>Two year</td>\n",
       "      <td>Yes</td>\n",
       "      <td>Bank transfer (automatic)</td>\n",
       "      <td>52.55</td>\n",
       "      <td>0.0</td>\n",
       "      <td>0</td>\n",
       "      <td>0</td>\n",
       "      <td>2020</td>\n",
       "      <td>Female</td>\n",
       "      <td>0</td>\n",
       "      <td>...</td>\n",
       "      <td>DSL</td>\n",
       "      <td>Yes</td>\n",
       "      <td>No</td>\n",
       "      <td>Yes</td>\n",
       "      <td>Yes</td>\n",
       "      <td>Yes</td>\n",
       "      <td>No</td>\n",
       "      <td>No</td>\n",
       "      <td>1</td>\n",
       "      <td>0</td>\n",
       "    </tr>\n",
       "    <tr>\n",
       "      <th>3115-CZMZD</th>\n",
       "      <td>Two year</td>\n",
       "      <td>No</td>\n",
       "      <td>Mailed check</td>\n",
       "      <td>20.25</td>\n",
       "      <td>0.0</td>\n",
       "      <td>0</td>\n",
       "      <td>0</td>\n",
       "      <td>2020</td>\n",
       "      <td>Male</td>\n",
       "      <td>0</td>\n",
       "      <td>...</td>\n",
       "      <td>No</td>\n",
       "      <td>No</td>\n",
       "      <td>No</td>\n",
       "      <td>No</td>\n",
       "      <td>No</td>\n",
       "      <td>No</td>\n",
       "      <td>No</td>\n",
       "      <td>No</td>\n",
       "      <td>0</td>\n",
       "      <td>1</td>\n",
       "    </tr>\n",
       "    <tr>\n",
       "      <th>5709-LVOEQ</th>\n",
       "      <td>Two year</td>\n",
       "      <td>No</td>\n",
       "      <td>Mailed check</td>\n",
       "      <td>80.85</td>\n",
       "      <td>0.0</td>\n",
       "      <td>0</td>\n",
       "      <td>0</td>\n",
       "      <td>2020</td>\n",
       "      <td>Female</td>\n",
       "      <td>0</td>\n",
       "      <td>...</td>\n",
       "      <td>DSL</td>\n",
       "      <td>Yes</td>\n",
       "      <td>Yes</td>\n",
       "      <td>Yes</td>\n",
       "      <td>No</td>\n",
       "      <td>Yes</td>\n",
       "      <td>Yes</td>\n",
       "      <td>No</td>\n",
       "      <td>1</td>\n",
       "      <td>1</td>\n",
       "    </tr>\n",
       "    <tr>\n",
       "      <th>4367-NUYAO</th>\n",
       "      <td>Two year</td>\n",
       "      <td>No</td>\n",
       "      <td>Mailed check</td>\n",
       "      <td>25.75</td>\n",
       "      <td>0.0</td>\n",
       "      <td>0</td>\n",
       "      <td>0</td>\n",
       "      <td>2020</td>\n",
       "      <td>Male</td>\n",
       "      <td>0</td>\n",
       "      <td>...</td>\n",
       "      <td>No</td>\n",
       "      <td>No</td>\n",
       "      <td>No</td>\n",
       "      <td>No</td>\n",
       "      <td>No</td>\n",
       "      <td>No</td>\n",
       "      <td>No</td>\n",
       "      <td>Yes</td>\n",
       "      <td>0</td>\n",
       "      <td>1</td>\n",
       "    </tr>\n",
       "    <tr>\n",
       "      <th>1371-DWPAZ</th>\n",
       "      <td>Two year</td>\n",
       "      <td>No</td>\n",
       "      <td>Credit card (automatic)</td>\n",
       "      <td>56.05</td>\n",
       "      <td>0.0</td>\n",
       "      <td>0</td>\n",
       "      <td>0</td>\n",
       "      <td>2020</td>\n",
       "      <td>Female</td>\n",
       "      <td>0</td>\n",
       "      <td>...</td>\n",
       "      <td>DSL</td>\n",
       "      <td>Yes</td>\n",
       "      <td>Yes</td>\n",
       "      <td>Yes</td>\n",
       "      <td>Yes</td>\n",
       "      <td>Yes</td>\n",
       "      <td>No</td>\n",
       "      <td>No</td>\n",
       "      <td>1</td>\n",
       "      <td>0</td>\n",
       "    </tr>\n",
       "    <tr>\n",
       "      <th>7644-OMVMY</th>\n",
       "      <td>Two year</td>\n",
       "      <td>No</td>\n",
       "      <td>Mailed check</td>\n",
       "      <td>19.85</td>\n",
       "      <td>0.0</td>\n",
       "      <td>0</td>\n",
       "      <td>0</td>\n",
       "      <td>2020</td>\n",
       "      <td>Male</td>\n",
       "      <td>0</td>\n",
       "      <td>...</td>\n",
       "      <td>No</td>\n",
       "      <td>No</td>\n",
       "      <td>No</td>\n",
       "      <td>No</td>\n",
       "      <td>No</td>\n",
       "      <td>No</td>\n",
       "      <td>No</td>\n",
       "      <td>No</td>\n",
       "      <td>0</td>\n",
       "      <td>1</td>\n",
       "    </tr>\n",
       "    <tr>\n",
       "      <th>3213-VVOLG</th>\n",
       "      <td>Two year</td>\n",
       "      <td>No</td>\n",
       "      <td>Mailed check</td>\n",
       "      <td>25.35</td>\n",
       "      <td>0.0</td>\n",
       "      <td>0</td>\n",
       "      <td>0</td>\n",
       "      <td>2020</td>\n",
       "      <td>Male</td>\n",
       "      <td>0</td>\n",
       "      <td>...</td>\n",
       "      <td>No</td>\n",
       "      <td>No</td>\n",
       "      <td>No</td>\n",
       "      <td>No</td>\n",
       "      <td>No</td>\n",
       "      <td>No</td>\n",
       "      <td>No</td>\n",
       "      <td>Yes</td>\n",
       "      <td>0</td>\n",
       "      <td>1</td>\n",
       "    </tr>\n",
       "    <tr>\n",
       "      <th>2520-SGTTA</th>\n",
       "      <td>Two year</td>\n",
       "      <td>No</td>\n",
       "      <td>Mailed check</td>\n",
       "      <td>20.00</td>\n",
       "      <td>0.0</td>\n",
       "      <td>0</td>\n",
       "      <td>0</td>\n",
       "      <td>2020</td>\n",
       "      <td>Female</td>\n",
       "      <td>0</td>\n",
       "      <td>...</td>\n",
       "      <td>No</td>\n",
       "      <td>No</td>\n",
       "      <td>No</td>\n",
       "      <td>No</td>\n",
       "      <td>No</td>\n",
       "      <td>No</td>\n",
       "      <td>No</td>\n",
       "      <td>No</td>\n",
       "      <td>0</td>\n",
       "      <td>1</td>\n",
       "    </tr>\n",
       "    <tr>\n",
       "      <th>2923-ARZLG</th>\n",
       "      <td>One year</td>\n",
       "      <td>Yes</td>\n",
       "      <td>Mailed check</td>\n",
       "      <td>19.70</td>\n",
       "      <td>0.0</td>\n",
       "      <td>0</td>\n",
       "      <td>0</td>\n",
       "      <td>2020</td>\n",
       "      <td>Male</td>\n",
       "      <td>0</td>\n",
       "      <td>...</td>\n",
       "      <td>No</td>\n",
       "      <td>No</td>\n",
       "      <td>No</td>\n",
       "      <td>No</td>\n",
       "      <td>No</td>\n",
       "      <td>No</td>\n",
       "      <td>No</td>\n",
       "      <td>No</td>\n",
       "      <td>0</td>\n",
       "      <td>1</td>\n",
       "    </tr>\n",
       "    <tr>\n",
       "      <th>4075-WKNIU</th>\n",
       "      <td>Two year</td>\n",
       "      <td>No</td>\n",
       "      <td>Mailed check</td>\n",
       "      <td>73.35</td>\n",
       "      <td>0.0</td>\n",
       "      <td>0</td>\n",
       "      <td>0</td>\n",
       "      <td>2020</td>\n",
       "      <td>Female</td>\n",
       "      <td>0</td>\n",
       "      <td>...</td>\n",
       "      <td>DSL</td>\n",
       "      <td>No</td>\n",
       "      <td>Yes</td>\n",
       "      <td>Yes</td>\n",
       "      <td>Yes</td>\n",
       "      <td>Yes</td>\n",
       "      <td>No</td>\n",
       "      <td>Yes</td>\n",
       "      <td>1</td>\n",
       "      <td>1</td>\n",
       "    </tr>\n",
       "    <tr>\n",
       "      <th>2775-SEFEE</th>\n",
       "      <td>Two year</td>\n",
       "      <td>Yes</td>\n",
       "      <td>Bank transfer (automatic)</td>\n",
       "      <td>61.90</td>\n",
       "      <td>0.0</td>\n",
       "      <td>0</td>\n",
       "      <td>0</td>\n",
       "      <td>2020</td>\n",
       "      <td>Male</td>\n",
       "      <td>0</td>\n",
       "      <td>...</td>\n",
       "      <td>DSL</td>\n",
       "      <td>Yes</td>\n",
       "      <td>Yes</td>\n",
       "      <td>No</td>\n",
       "      <td>Yes</td>\n",
       "      <td>No</td>\n",
       "      <td>No</td>\n",
       "      <td>Yes</td>\n",
       "      <td>1</td>\n",
       "      <td>1</td>\n",
       "    </tr>\n",
       "  </tbody>\n",
       "</table>\n",
       "<p>11 rows × 22 columns</p>\n",
       "</div>"
      ],
      "text/plain": [
       "                 type paperless_billing             payment_method  \\\n",
       "customer_id                                                          \n",
       "4472-LVYGI   Two year               Yes  Bank transfer (automatic)   \n",
       "3115-CZMZD   Two year                No               Mailed check   \n",
       "5709-LVOEQ   Two year                No               Mailed check   \n",
       "4367-NUYAO   Two year                No               Mailed check   \n",
       "1371-DWPAZ   Two year                No    Credit card (automatic)   \n",
       "7644-OMVMY   Two year                No               Mailed check   \n",
       "3213-VVOLG   Two year                No               Mailed check   \n",
       "2520-SGTTA   Two year                No               Mailed check   \n",
       "2923-ARZLG   One year               Yes               Mailed check   \n",
       "4075-WKNIU   Two year                No               Mailed check   \n",
       "2775-SEFEE   Two year               Yes  Bank transfer (automatic)   \n",
       "\n",
       "             monthly_charges  total_charges  target  duration  year  gender  \\\n",
       "customer_id                                                                   \n",
       "4472-LVYGI             52.55            0.0       0         0  2020  Female   \n",
       "3115-CZMZD             20.25            0.0       0         0  2020    Male   \n",
       "5709-LVOEQ             80.85            0.0       0         0  2020  Female   \n",
       "4367-NUYAO             25.75            0.0       0         0  2020    Male   \n",
       "1371-DWPAZ             56.05            0.0       0         0  2020  Female   \n",
       "7644-OMVMY             19.85            0.0       0         0  2020    Male   \n",
       "3213-VVOLG             25.35            0.0       0         0  2020    Male   \n",
       "2520-SGTTA             20.00            0.0       0         0  2020  Female   \n",
       "2923-ARZLG             19.70            0.0       0         0  2020    Male   \n",
       "4075-WKNIU             73.35            0.0       0         0  2020  Female   \n",
       "2775-SEFEE             61.90            0.0       0         0  2020    Male   \n",
       "\n",
       "             senior_citizen  ... internet_service online_security  \\\n",
       "customer_id                  ...                                    \n",
       "4472-LVYGI                0  ...              DSL             Yes   \n",
       "3115-CZMZD                0  ...               No              No   \n",
       "5709-LVOEQ                0  ...              DSL             Yes   \n",
       "4367-NUYAO                0  ...               No              No   \n",
       "1371-DWPAZ                0  ...              DSL             Yes   \n",
       "7644-OMVMY                0  ...               No              No   \n",
       "3213-VVOLG                0  ...               No              No   \n",
       "2520-SGTTA                0  ...               No              No   \n",
       "2923-ARZLG                0  ...               No              No   \n",
       "4075-WKNIU                0  ...              DSL              No   \n",
       "2775-SEFEE                0  ...              DSL             Yes   \n",
       "\n",
       "            online_backup device_protection tech_support streaming_tv  \\\n",
       "customer_id                                                             \n",
       "4472-LVYGI             No               Yes          Yes          Yes   \n",
       "3115-CZMZD             No                No           No           No   \n",
       "5709-LVOEQ            Yes               Yes           No          Yes   \n",
       "4367-NUYAO             No                No           No           No   \n",
       "1371-DWPAZ            Yes               Yes          Yes          Yes   \n",
       "7644-OMVMY             No                No           No           No   \n",
       "3213-VVOLG             No                No           No           No   \n",
       "2520-SGTTA             No                No           No           No   \n",
       "2923-ARZLG             No                No           No           No   \n",
       "4075-WKNIU            Yes               Yes          Yes          Yes   \n",
       "2775-SEFEE            Yes                No          Yes           No   \n",
       "\n",
       "            streaming_movies multiple_lines internet phone  \n",
       "customer_id                                                 \n",
       "4472-LVYGI                No             No        1     0  \n",
       "3115-CZMZD                No             No        0     1  \n",
       "5709-LVOEQ               Yes             No        1     1  \n",
       "4367-NUYAO                No            Yes        0     1  \n",
       "1371-DWPAZ                No             No        1     0  \n",
       "7644-OMVMY                No             No        0     1  \n",
       "3213-VVOLG                No            Yes        0     1  \n",
       "2520-SGTTA                No             No        0     1  \n",
       "2923-ARZLG                No             No        0     1  \n",
       "4075-WKNIU                No            Yes        1     1  \n",
       "2775-SEFEE                No            Yes        1     1  \n",
       "\n",
       "[11 rows x 22 columns]"
      ]
     },
     "execution_count": 27,
     "metadata": {},
     "output_type": "execute_result"
    }
   ],
   "source": [
    "data[data['duration'] == 0]"
   ]
  },
  {
   "cell_type": "markdown",
   "metadata": {},
   "source": [
    "Видим, что явно много договоров с очень короткой продолжительностью - около 0 и и очень длительной. Короткая продолжительность обусловлена резким ростом заключенных договоров в 2019 году (либо это особенность данных), длительная же может объясняться большим блоком лояльных клиентов, которые с компанией с основания. А также большим объемом заключенных договоров в 2014 году.   \n",
    "\n",
    "Есть также новые контракты, заключенные с февраля 2020 года, в них нулевая продолжительность, но такие данные удалять некорректно, так как это важный признак, можно заметить, что среди тех, кто только заключил контракт - нет отказавшихся, важно обучить модель этим данным.   "
   ]
  },
  {
   "cell_type": "code",
   "execution_count": 28,
   "metadata": {},
   "outputs": [
    {
     "data": {
      "image/png": "[encoded data removed]",
      "text/plain": [
       "<Figure size 432x288 with 1 Axes>"
      ]
     },
     "metadata": {
      "needs_background": "light"
     },
     "output_type": "display_data"
    }
   ],
   "source": [
    "#Посмотрим также на распределение оплаты в месяц\n",
    "\n",
    "data['monthly_charges'].hist(bins=30, label = 'monthly_charges')\n",
    "plt.title('Ежемесячные траты')\n",
    "plt.ylabel('Сумма')\n",
    "plt.xlabel('Количество договоров')\n",
    "plt.show()\n"
   ]
  },
  {
   "cell_type": "markdown",
   "metadata": {},
   "source": [
    "Трат в районе нуля нет, это хорошо, значительная доля приходится на самый дешевый тариф, но это нельзя отнести к некачественным данным, это особенность потребления услуги. "
   ]
  },
  {
   "cell_type": "code",
   "execution_count": 29,
   "metadata": {},
   "outputs": [
    {
     "data": {
      "image/png": "[encoded data removed]",
      "text/plain": [
       "<Figure size 1440x720 with 2 Axes>"
      ]
     },
     "metadata": {
      "needs_background": "light"
     },
     "output_type": "display_data"
    }
   ],
   "source": [
    "#Оценим коррелицию между признаками, чтобы избавиться от мультиколлинеарности\n",
    "interval_cols = ['monthly_charges', 'total_charges', 'duration']\n",
    "phik_overview = data.phik_matrix(interval_cols=interval_cols)\n",
    "\n",
    "plot_correlation_matrix(phik_overview.values, \n",
    "                        x_labels=phik_overview.columns, \n",
    "                        y_labels=phik_overview.index, \n",
    "                        vmin=0, vmax=1, color_map=\"Greens\", \n",
    "                        title=r\"Correlation\", \n",
    "                        fontsize_factor=1.5, \n",
    "                        figsize=(20, 10))\n",
    "plt.tight_layout()"
   ]
  },
  {
   "cell_type": "markdown",
   "metadata": {},
   "source": [
    "Мы видим очень высокую корреляцию ежемесячной стоимость от других признаков - что логично, оплата в месяц зависит от набора используемых функций, а также высокую зависимость продолжительности использования услуг и года заключения договора, что тоже логично, учитывая тот факт, что данные по отключившимся пользователям только за последние 4 месяца. Для того, чтобы не перегружать и не переобучать модель - уберем эти признаки.  \n",
    "\n",
    "Есть также прямая коррекляция добавленных нами признаков использования интернета и телефона, но мы сделали это целенаправленно для интерпретируемости модели, поэтому их оставляем."
   ]
  },
  {
   "cell_type": "code",
   "execution_count": 30,
   "metadata": {},
   "outputs": [],
   "source": [
    "data=data.drop(['year', 'monthly_charges'], axis=1)"
   ]
  },
  {
   "cell_type": "markdown",
   "metadata": {},
   "source": [
    "<h2> 3. Выделение обучающей и тестовой выборки, а также целевого признака <a class=\"tocSkip\"> </h2>  "
   ]
  },
  {
   "cell_type": "code",
   "execution_count": 31,
   "metadata": {},
   "outputs": [
    {
     "name": "stdout",
     "output_type": "stream",
     "text": [
      "features_train (5282, 19)\n",
      "target_train (5282,)\n",
      "features_test (1761, 19)\n",
      "target_test (1761,)\n"
     ]
    }
   ],
   "source": [
    "#Разделим на признаки и целевой признак\n",
    "target = data['target']\n",
    "features = data.drop(['target'], axis=1)\n",
    "\n",
    "#Закодируем категориальные переменные порядковым кодированием \n",
    "\n",
    "encoder = OrdinalEncoder()\n",
    "features = pd.DataFrame(encoder.fit_transform(features),\n",
    "                            columns=features.columns)\n",
    "\n",
    "#Выделим обучающую и тестовую выборки\n",
    "\n",
    "features_train, features_test, target_train, target_test = train_test_split(features, target, test_size=0.25, random_state=120922)\n",
    "\n",
    "print('features_train',features_train.shape)\n",
    "print('target_train', target_train.shape)\n",
    "print('features_test',features_test.shape)\n",
    "print('target_test', target_test.shape)"
   ]
  },
  {
   "cell_type": "code",
   "execution_count": 32,
   "metadata": {},
   "outputs": [
    {
     "data": {
      "text/html": [
       "<div>\n",
       "<style scoped>\n",
       "    .dataframe tbody tr th:only-of-type {\n",
       "        vertical-align: middle;\n",
       "    }\n",
       "\n",
       "    .dataframe tbody tr th {\n",
       "        vertical-align: top;\n",
       "    }\n",
       "\n",
       "    .dataframe thead th {\n",
       "        text-align: right;\n",
       "    }\n",
       "</style>\n",
       "<table border=\"1\" class=\"dataframe\">\n",
       "  <thead>\n",
       "    <tr style=\"text-align: right;\">\n",
       "      <th></th>\n",
       "      <th>type</th>\n",
       "      <th>paperless_billing</th>\n",
       "      <th>payment_method</th>\n",
       "      <th>total_charges</th>\n",
       "      <th>duration</th>\n",
       "      <th>gender</th>\n",
       "      <th>senior_citizen</th>\n",
       "      <th>partner</th>\n",
       "      <th>dependents</th>\n",
       "      <th>internet_service</th>\n",
       "      <th>online_security</th>\n",
       "      <th>online_backup</th>\n",
       "      <th>device_protection</th>\n",
       "      <th>tech_support</th>\n",
       "      <th>streaming_tv</th>\n",
       "      <th>streaming_movies</th>\n",
       "      <th>multiple_lines</th>\n",
       "      <th>internet</th>\n",
       "      <th>phone</th>\n",
       "    </tr>\n",
       "  </thead>\n",
       "  <tbody>\n",
       "    <tr>\n",
       "      <th>0</th>\n",
       "      <td>0.0</td>\n",
       "      <td>1.0</td>\n",
       "      <td>2.0</td>\n",
       "      <td>75.0</td>\n",
       "      <td>2.0</td>\n",
       "      <td>0.0</td>\n",
       "      <td>0.0</td>\n",
       "      <td>1.0</td>\n",
       "      <td>0.0</td>\n",
       "      <td>0.0</td>\n",
       "      <td>0.0</td>\n",
       "      <td>1.0</td>\n",
       "      <td>0.0</td>\n",
       "      <td>0.0</td>\n",
       "      <td>0.0</td>\n",
       "      <td>0.0</td>\n",
       "      <td>0.0</td>\n",
       "      <td>1.0</td>\n",
       "      <td>0.0</td>\n",
       "    </tr>\n",
       "    <tr>\n",
       "      <th>1</th>\n",
       "      <td>1.0</td>\n",
       "      <td>0.0</td>\n",
       "      <td>3.0</td>\n",
       "      <td>3625.0</td>\n",
       "      <td>74.0</td>\n",
       "      <td>1.0</td>\n",
       "      <td>0.0</td>\n",
       "      <td>0.0</td>\n",
       "      <td>0.0</td>\n",
       "      <td>0.0</td>\n",
       "      <td>1.0</td>\n",
       "      <td>0.0</td>\n",
       "      <td>1.0</td>\n",
       "      <td>0.0</td>\n",
       "      <td>0.0</td>\n",
       "      <td>0.0</td>\n",
       "      <td>0.0</td>\n",
       "      <td>1.0</td>\n",
       "      <td>1.0</td>\n",
       "    </tr>\n",
       "    <tr>\n",
       "      <th>2</th>\n",
       "      <td>0.0</td>\n",
       "      <td>1.0</td>\n",
       "      <td>3.0</td>\n",
       "      <td>537.0</td>\n",
       "      <td>3.0</td>\n",
       "      <td>1.0</td>\n",
       "      <td>0.0</td>\n",
       "      <td>0.0</td>\n",
       "      <td>0.0</td>\n",
       "      <td>0.0</td>\n",
       "      <td>1.0</td>\n",
       "      <td>1.0</td>\n",
       "      <td>0.0</td>\n",
       "      <td>0.0</td>\n",
       "      <td>0.0</td>\n",
       "      <td>0.0</td>\n",
       "      <td>0.0</td>\n",
       "      <td>1.0</td>\n",
       "      <td>1.0</td>\n",
       "    </tr>\n",
       "    <tr>\n",
       "      <th>3</th>\n",
       "      <td>1.0</td>\n",
       "      <td>0.0</td>\n",
       "      <td>0.0</td>\n",
       "      <td>3571.0</td>\n",
       "      <td>96.0</td>\n",
       "      <td>1.0</td>\n",
       "      <td>0.0</td>\n",
       "      <td>0.0</td>\n",
       "      <td>0.0</td>\n",
       "      <td>0.0</td>\n",
       "      <td>1.0</td>\n",
       "      <td>0.0</td>\n",
       "      <td>1.0</td>\n",
       "      <td>1.0</td>\n",
       "      <td>0.0</td>\n",
       "      <td>0.0</td>\n",
       "      <td>0.0</td>\n",
       "      <td>1.0</td>\n",
       "      <td>0.0</td>\n",
       "    </tr>\n",
       "    <tr>\n",
       "      <th>4</th>\n",
       "      <td>0.0</td>\n",
       "      <td>1.0</td>\n",
       "      <td>2.0</td>\n",
       "      <td>675.0</td>\n",
       "      <td>3.0</td>\n",
       "      <td>0.0</td>\n",
       "      <td>0.0</td>\n",
       "      <td>0.0</td>\n",
       "      <td>0.0</td>\n",
       "      <td>1.0</td>\n",
       "      <td>0.0</td>\n",
       "      <td>0.0</td>\n",
       "      <td>0.0</td>\n",
       "      <td>0.0</td>\n",
       "      <td>0.0</td>\n",
       "      <td>0.0</td>\n",
       "      <td>0.0</td>\n",
       "      <td>1.0</td>\n",
       "      <td>1.0</td>\n",
       "    </tr>\n",
       "  </tbody>\n",
       "</table>\n",
       "</div>"
      ],
      "text/plain": [
       "   type  paperless_billing  payment_method  total_charges  duration  gender  \\\n",
       "0   0.0                1.0             2.0           75.0       2.0     0.0   \n",
       "1   1.0                0.0             3.0         3625.0      74.0     1.0   \n",
       "2   0.0                1.0             3.0          537.0       3.0     1.0   \n",
       "3   1.0                0.0             0.0         3571.0      96.0     1.0   \n",
       "4   0.0                1.0             2.0          675.0       3.0     0.0   \n",
       "\n",
       "   senior_citizen  partner  dependents  internet_service  online_security  \\\n",
       "0             0.0      1.0         0.0               0.0              0.0   \n",
       "1             0.0      0.0         0.0               0.0              1.0   \n",
       "2             0.0      0.0         0.0               0.0              1.0   \n",
       "3             0.0      0.0         0.0               0.0              1.0   \n",
       "4             0.0      0.0         0.0               1.0              0.0   \n",
       "\n",
       "   online_backup  device_protection  tech_support  streaming_tv  \\\n",
       "0            1.0                0.0           0.0           0.0   \n",
       "1            0.0                1.0           0.0           0.0   \n",
       "2            1.0                0.0           0.0           0.0   \n",
       "3            0.0                1.0           1.0           0.0   \n",
       "4            0.0                0.0           0.0           0.0   \n",
       "\n",
       "   streaming_movies  multiple_lines  internet  phone  \n",
       "0               0.0             0.0       1.0    0.0  \n",
       "1               0.0             0.0       1.0    1.0  \n",
       "2               0.0             0.0       1.0    1.0  \n",
       "3               0.0             0.0       1.0    0.0  \n",
       "4               0.0             0.0       1.0    1.0  "
      ]
     },
     "execution_count": 32,
     "metadata": {},
     "output_type": "execute_result"
    }
   ],
   "source": [
    "features.head()"
   ]
  },
  {
   "cell_type": "code",
   "execution_count": 33,
   "metadata": {},
   "outputs": [
    {
     "data": {
      "text/html": [
       "<div>\n",
       "<style scoped>\n",
       "    .dataframe tbody tr th:only-of-type {\n",
       "        vertical-align: middle;\n",
       "    }\n",
       "\n",
       "    .dataframe tbody tr th {\n",
       "        vertical-align: top;\n",
       "    }\n",
       "\n",
       "    .dataframe thead th {\n",
       "        text-align: right;\n",
       "    }\n",
       "</style>\n",
       "<table border=\"1\" class=\"dataframe\">\n",
       "  <thead>\n",
       "    <tr style=\"text-align: right;\">\n",
       "      <th></th>\n",
       "      <th>type</th>\n",
       "      <th>paperless_billing</th>\n",
       "      <th>payment_method</th>\n",
       "      <th>total_charges</th>\n",
       "      <th>duration</th>\n",
       "      <th>gender</th>\n",
       "      <th>senior_citizen</th>\n",
       "      <th>partner</th>\n",
       "      <th>dependents</th>\n",
       "      <th>internet_service</th>\n",
       "      <th>online_security</th>\n",
       "      <th>online_backup</th>\n",
       "      <th>device_protection</th>\n",
       "      <th>tech_support</th>\n",
       "      <th>streaming_tv</th>\n",
       "      <th>streaming_movies</th>\n",
       "      <th>multiple_lines</th>\n",
       "      <th>internet</th>\n",
       "      <th>phone</th>\n",
       "    </tr>\n",
       "  </thead>\n",
       "  <tbody>\n",
       "    <tr>\n",
       "      <th>1827</th>\n",
       "      <td>0.0</td>\n",
       "      <td>1.0</td>\n",
       "      <td>0.0</td>\n",
       "      <td>0.430367</td>\n",
       "      <td>0.498458</td>\n",
       "      <td>0.0</td>\n",
       "      <td>0.0</td>\n",
       "      <td>1.0</td>\n",
       "      <td>1.0</td>\n",
       "      <td>0.0</td>\n",
       "      <td>1.0</td>\n",
       "      <td>0.0</td>\n",
       "      <td>0.0</td>\n",
       "      <td>0.0</td>\n",
       "      <td>1.0</td>\n",
       "      <td>1.0</td>\n",
       "      <td>0.0</td>\n",
       "      <td>1.0</td>\n",
       "      <td>0.0</td>\n",
       "    </tr>\n",
       "    <tr>\n",
       "      <th>3836</th>\n",
       "      <td>1.0</td>\n",
       "      <td>0.0</td>\n",
       "      <td>0.0</td>\n",
       "      <td>0.850291</td>\n",
       "      <td>1.270094</td>\n",
       "      <td>0.0</td>\n",
       "      <td>0.0</td>\n",
       "      <td>1.0</td>\n",
       "      <td>0.0</td>\n",
       "      <td>0.0</td>\n",
       "      <td>0.0</td>\n",
       "      <td>0.0</td>\n",
       "      <td>1.0</td>\n",
       "      <td>1.0</td>\n",
       "      <td>0.0</td>\n",
       "      <td>0.0</td>\n",
       "      <td>1.0</td>\n",
       "      <td>1.0</td>\n",
       "      <td>1.0</td>\n",
       "    </tr>\n",
       "    <tr>\n",
       "      <th>6893</th>\n",
       "      <td>0.0</td>\n",
       "      <td>0.0</td>\n",
       "      <td>1.0</td>\n",
       "      <td>-0.922722</td>\n",
       "      <td>-1.101273</td>\n",
       "      <td>0.0</td>\n",
       "      <td>0.0</td>\n",
       "      <td>1.0</td>\n",
       "      <td>1.0</td>\n",
       "      <td>0.0</td>\n",
       "      <td>1.0</td>\n",
       "      <td>1.0</td>\n",
       "      <td>0.0</td>\n",
       "      <td>0.0</td>\n",
       "      <td>0.0</td>\n",
       "      <td>0.0</td>\n",
       "      <td>0.0</td>\n",
       "      <td>1.0</td>\n",
       "      <td>1.0</td>\n",
       "    </tr>\n",
       "    <tr>\n",
       "      <th>5930</th>\n",
       "      <td>2.0</td>\n",
       "      <td>1.0</td>\n",
       "      <td>0.0</td>\n",
       "      <td>1.441979</td>\n",
       "      <td>1.608861</td>\n",
       "      <td>0.0</td>\n",
       "      <td>0.0</td>\n",
       "      <td>0.0</td>\n",
       "      <td>0.0</td>\n",
       "      <td>1.0</td>\n",
       "      <td>1.0</td>\n",
       "      <td>0.0</td>\n",
       "      <td>0.0</td>\n",
       "      <td>1.0</td>\n",
       "      <td>0.0</td>\n",
       "      <td>0.0</td>\n",
       "      <td>1.0</td>\n",
       "      <td>1.0</td>\n",
       "      <td>1.0</td>\n",
       "    </tr>\n",
       "    <tr>\n",
       "      <th>4592</th>\n",
       "      <td>1.0</td>\n",
       "      <td>1.0</td>\n",
       "      <td>3.0</td>\n",
       "      <td>-0.396663</td>\n",
       "      <td>0.272614</td>\n",
       "      <td>0.0</td>\n",
       "      <td>0.0</td>\n",
       "      <td>1.0</td>\n",
       "      <td>1.0</td>\n",
       "      <td>2.0</td>\n",
       "      <td>0.0</td>\n",
       "      <td>0.0</td>\n",
       "      <td>0.0</td>\n",
       "      <td>0.0</td>\n",
       "      <td>0.0</td>\n",
       "      <td>0.0</td>\n",
       "      <td>1.0</td>\n",
       "      <td>0.0</td>\n",
       "      <td>1.0</td>\n",
       "    </tr>\n",
       "    <tr>\n",
       "      <th>...</th>\n",
       "      <td>...</td>\n",
       "      <td>...</td>\n",
       "      <td>...</td>\n",
       "      <td>...</td>\n",
       "      <td>...</td>\n",
       "      <td>...</td>\n",
       "      <td>...</td>\n",
       "      <td>...</td>\n",
       "      <td>...</td>\n",
       "      <td>...</td>\n",
       "      <td>...</td>\n",
       "      <td>...</td>\n",
       "      <td>...</td>\n",
       "      <td>...</td>\n",
       "      <td>...</td>\n",
       "      <td>...</td>\n",
       "      <td>...</td>\n",
       "      <td>...</td>\n",
       "      <td>...</td>\n",
       "    </tr>\n",
       "    <tr>\n",
       "      <th>1050</th>\n",
       "      <td>0.0</td>\n",
       "      <td>1.0</td>\n",
       "      <td>2.0</td>\n",
       "      <td>-0.741729</td>\n",
       "      <td>-0.818968</td>\n",
       "      <td>1.0</td>\n",
       "      <td>1.0</td>\n",
       "      <td>0.0</td>\n",
       "      <td>0.0</td>\n",
       "      <td>0.0</td>\n",
       "      <td>0.0</td>\n",
       "      <td>0.0</td>\n",
       "      <td>1.0</td>\n",
       "      <td>1.0</td>\n",
       "      <td>0.0</td>\n",
       "      <td>1.0</td>\n",
       "      <td>0.0</td>\n",
       "      <td>1.0</td>\n",
       "      <td>0.0</td>\n",
       "    </tr>\n",
       "    <tr>\n",
       "      <th>5233</th>\n",
       "      <td>0.0</td>\n",
       "      <td>0.0</td>\n",
       "      <td>2.0</td>\n",
       "      <td>-0.454601</td>\n",
       "      <td>-1.007172</td>\n",
       "      <td>0.0</td>\n",
       "      <td>0.0</td>\n",
       "      <td>1.0</td>\n",
       "      <td>0.0</td>\n",
       "      <td>1.0</td>\n",
       "      <td>0.0</td>\n",
       "      <td>1.0</td>\n",
       "      <td>1.0</td>\n",
       "      <td>0.0</td>\n",
       "      <td>1.0</td>\n",
       "      <td>1.0</td>\n",
       "      <td>0.0</td>\n",
       "      <td>1.0</td>\n",
       "      <td>1.0</td>\n",
       "    </tr>\n",
       "    <tr>\n",
       "      <th>1466</th>\n",
       "      <td>0.0</td>\n",
       "      <td>1.0</td>\n",
       "      <td>2.0</td>\n",
       "      <td>-0.697634</td>\n",
       "      <td>-0.818968</td>\n",
       "      <td>1.0</td>\n",
       "      <td>0.0</td>\n",
       "      <td>1.0</td>\n",
       "      <td>1.0</td>\n",
       "      <td>0.0</td>\n",
       "      <td>1.0</td>\n",
       "      <td>0.0</td>\n",
       "      <td>0.0</td>\n",
       "      <td>0.0</td>\n",
       "      <td>0.0</td>\n",
       "      <td>0.0</td>\n",
       "      <td>0.0</td>\n",
       "      <td>1.0</td>\n",
       "      <td>1.0</td>\n",
       "    </tr>\n",
       "    <tr>\n",
       "      <th>1854</th>\n",
       "      <td>0.0</td>\n",
       "      <td>1.0</td>\n",
       "      <td>2.0</td>\n",
       "      <td>-1.526715</td>\n",
       "      <td>-1.289477</td>\n",
       "      <td>1.0</td>\n",
       "      <td>1.0</td>\n",
       "      <td>0.0</td>\n",
       "      <td>0.0</td>\n",
       "      <td>0.0</td>\n",
       "      <td>0.0</td>\n",
       "      <td>1.0</td>\n",
       "      <td>1.0</td>\n",
       "      <td>0.0</td>\n",
       "      <td>0.0</td>\n",
       "      <td>1.0</td>\n",
       "      <td>0.0</td>\n",
       "      <td>1.0</td>\n",
       "      <td>0.0</td>\n",
       "    </tr>\n",
       "    <tr>\n",
       "      <th>6040</th>\n",
       "      <td>0.0</td>\n",
       "      <td>0.0</td>\n",
       "      <td>3.0</td>\n",
       "      <td>-1.431348</td>\n",
       "      <td>-1.270657</td>\n",
       "      <td>0.0</td>\n",
       "      <td>0.0</td>\n",
       "      <td>0.0</td>\n",
       "      <td>0.0</td>\n",
       "      <td>1.0</td>\n",
       "      <td>0.0</td>\n",
       "      <td>0.0</td>\n",
       "      <td>0.0</td>\n",
       "      <td>0.0</td>\n",
       "      <td>0.0</td>\n",
       "      <td>0.0</td>\n",
       "      <td>0.0</td>\n",
       "      <td>1.0</td>\n",
       "      <td>1.0</td>\n",
       "    </tr>\n",
       "  </tbody>\n",
       "</table>\n",
       "<p>5282 rows × 19 columns</p>\n",
       "</div>"
      ],
      "text/plain": [
       "      type  paperless_billing  payment_method  total_charges  duration  \\\n",
       "1827   0.0                1.0             0.0       0.430367  0.498458   \n",
       "3836   1.0                0.0             0.0       0.850291  1.270094   \n",
       "6893   0.0                0.0             1.0      -0.922722 -1.101273   \n",
       "5930   2.0                1.0             0.0       1.441979  1.608861   \n",
       "4592   1.0                1.0             3.0      -0.396663  0.272614   \n",
       "...    ...                ...             ...            ...       ...   \n",
       "1050   0.0                1.0             2.0      -0.741729 -0.818968   \n",
       "5233   0.0                0.0             2.0      -0.454601 -1.007172   \n",
       "1466   0.0                1.0             2.0      -0.697634 -0.818968   \n",
       "1854   0.0                1.0             2.0      -1.526715 -1.289477   \n",
       "6040   0.0                0.0             3.0      -1.431348 -1.270657   \n",
       "\n",
       "      gender  senior_citizen  partner  dependents  internet_service  \\\n",
       "1827     0.0             0.0      1.0         1.0               0.0   \n",
       "3836     0.0             0.0      1.0         0.0               0.0   \n",
       "6893     0.0             0.0      1.0         1.0               0.0   \n",
       "5930     0.0             0.0      0.0         0.0               1.0   \n",
       "4592     0.0             0.0      1.0         1.0               2.0   \n",
       "...      ...             ...      ...         ...               ...   \n",
       "1050     1.0             1.0      0.0         0.0               0.0   \n",
       "5233     0.0             0.0      1.0         0.0               1.0   \n",
       "1466     1.0             0.0      1.0         1.0               0.0   \n",
       "1854     1.0             1.0      0.0         0.0               0.0   \n",
       "6040     0.0             0.0      0.0         0.0               1.0   \n",
       "\n",
       "      online_security  online_backup  device_protection  tech_support  \\\n",
       "1827              1.0            0.0                0.0           0.0   \n",
       "3836              0.0            0.0                1.0           1.0   \n",
       "6893              1.0            1.0                0.0           0.0   \n",
       "5930              1.0            0.0                0.0           1.0   \n",
       "4592              0.0            0.0                0.0           0.0   \n",
       "...               ...            ...                ...           ...   \n",
       "1050              0.0            0.0                1.0           1.0   \n",
       "5233              0.0            1.0                1.0           0.0   \n",
       "1466              1.0            0.0                0.0           0.0   \n",
       "1854              0.0            1.0                1.0           0.0   \n",
       "6040              0.0            0.0                0.0           0.0   \n",
       "\n",
       "      streaming_tv  streaming_movies  multiple_lines  internet  phone  \n",
       "1827           1.0               1.0             0.0       1.0    0.0  \n",
       "3836           0.0               0.0             1.0       1.0    1.0  \n",
       "6893           0.0               0.0             0.0       1.0    1.0  \n",
       "5930           0.0               0.0             1.0       1.0    1.0  \n",
       "4592           0.0               0.0             1.0       0.0    1.0  \n",
       "...            ...               ...             ...       ...    ...  \n",
       "1050           0.0               1.0             0.0       1.0    0.0  \n",
       "5233           1.0               1.0             0.0       1.0    1.0  \n",
       "1466           0.0               0.0             0.0       1.0    1.0  \n",
       "1854           0.0               1.0             0.0       1.0    0.0  \n",
       "6040           0.0               0.0             0.0       1.0    1.0  \n",
       "\n",
       "[5282 rows x 19 columns]"
      ]
     },
     "execution_count": 33,
     "metadata": {},
     "output_type": "execute_result"
    }
   ],
   "source": [
    "#Приведем признаки к единому масштабу\n",
    "warnings.filterwarnings(\"ignore\") \n",
    "scaler = StandardScaler()\n",
    "numeric = ['total_charges', 'duration']\n",
    "scaler.fit(features_train[numeric])\n",
    "\n",
    "features_train[numeric]=scaler.transform(features_train[numeric])\n",
    "features_test[numeric]=scaler.transform(features_test[numeric])\n",
    "\n",
    "\n",
    "features_train"
   ]
  },
  {
   "cell_type": "code",
   "execution_count": 34,
   "metadata": {},
   "outputs": [
    {
     "name": "stdout",
     "output_type": "stream",
     "text": [
      "(3881,)\n",
      "(1401,)\n"
     ]
    }
   ],
   "source": [
    "#Проанализируем баланс классов\n",
    "\n",
    "target_zeros = target_train[target_train == 0]\n",
    "target_ones = target_train[target_train == 1]\n",
    "\n",
    "\n",
    "print(target_zeros.shape)\n",
    "print(target_ones.shape)\n"
   ]
  },
  {
   "cell_type": "markdown",
   "metadata": {},
   "source": [
    "В выборке присутствует дисбаланс классов, нужно будет учесть этот факт в зависимости от выбора модели в дальнейшем."
   ]
  },
  {
   "cell_type": "markdown",
   "metadata": {},
   "source": [
    "Мы заполнили пропуски в данных там, где это было необходимо. Пропуски в значении total_charges заполнили 0, так как пользователи еще не платили за услуги. Привели данные к корректному формату. \n",
    "Добавили дополнительные столбцы - с целевой метрикой, где 1 - контракт был разорван, 0 - контракт продолжается.   \n",
    "Продолжительность использования услуг - на момент 1.02.202, а также год заключения контракта.  \n",
    "  \n",
    "А столбцы с датами заключения и окончания контракта удалили, так как они нам не потребуются.  \n",
    "Далее объединили таблицы в общую по customer_id, те признаки, которые оказались незаполненными заполнили как No, то есть не используются этим клиентом. А также добавили два признака - подключение интернета и подключения телефона, несмотря на то, что они имеют прямую зависимость от других признаков, это поможет нам в интерпретации модели.  \n",
    "  \n",
    "Оценив корреляцию признаков, выявили высокую зависимость между monthly_charges и другими признаками используемых услуг, что логично, так как каждая услуга стоит определенную сумму, а также год заключения договора с продолжительностью - мы убрали данные признаки из данных для того, чтобы не переобучать и не усложнять модель.  \n",
    "\n",
    "Из полученной таблицы мы выделили целевой признак и таблицу признаков, на которых будем обучать модель, закодировали категориальные переменные порядковым кодированием и разделили выборки на обучающую и тестовую в соотношении 75/25. \n",
    "\n",
    "Также важно отметить, что присутствует дисбаланс классов, что может повлиять на качество модели."
   ]
  },
  {
   "cell_type": "markdown",
   "metadata": {},
   "source": [
    "<h2> 4. Построение моделей, подбор гиперпараметров <a class=\"tocSkip\"> </h2>  "
   ]
  },
  {
   "cell_type": "code",
   "execution_count": 35,
   "metadata": {},
   "outputs": [
    {
     "name": "stdout",
     "output_type": "stream",
     "text": [
      "ROC-AUC: 0.843912427251753\n",
      "Accuracy: 0.7440331054155558\n"
     ]
    }
   ],
   "source": [
    "#Протестируем Логистическую регрессию\n",
    "\n",
    "target_ohe = data['target']\n",
    "features_ohe = data.drop(['target'], axis=1)\n",
    "\n",
    "features_train_ohe, features_test_ohe, target_train_ohe, target_test_ohe = train_test_split(features_ohe, target_ohe, test_size=0.25, random_state=120922)\n",
    "\n",
    "features_train_ohe = pd.get_dummies(features_train_ohe, drop_first=True)\n",
    "\n",
    "model = LogisticRegression(random_state=120922, solver='liblinear', class_weight='balanced') \n",
    "model.fit(features_train, target_train)\n",
    "\n",
    "print('ROC-AUC:', cross_val_score(model, features_train_ohe, target_train_ohe, cv=5, scoring='roc_auc').mean())\n",
    "print('Accuracy:', cross_val_score(model, features_train_ohe, target_train_ohe, cv=5, scoring='accuracy').mean())"
   ]
  },
  {
   "cell_type": "code",
   "execution_count": 36,
   "metadata": {},
   "outputs": [
    {
     "data": {
      "text/html": [
       "<div>\n",
       "<style scoped>\n",
       "    .dataframe tbody tr th:only-of-type {\n",
       "        vertical-align: middle;\n",
       "    }\n",
       "\n",
       "    .dataframe tbody tr th {\n",
       "        vertical-align: top;\n",
       "    }\n",
       "\n",
       "    .dataframe thead th {\n",
       "        text-align: right;\n",
       "    }\n",
       "</style>\n",
       "<table border=\"1\" class=\"dataframe\">\n",
       "  <thead>\n",
       "    <tr style=\"text-align: right;\">\n",
       "      <th></th>\n",
       "      <th>feature</th>\n",
       "      <th>coefficient</th>\n",
       "      <th>odds</th>\n",
       "    </tr>\n",
       "  </thead>\n",
       "  <tbody>\n",
       "    <tr>\n",
       "      <th>17</th>\n",
       "      <td>internet</td>\n",
       "      <td>3.135956</td>\n",
       "      <td>23.010629</td>\n",
       "    </tr>\n",
       "    <tr>\n",
       "      <th>9</th>\n",
       "      <td>internet_service</td>\n",
       "      <td>1.064778</td>\n",
       "      <td>2.900194</td>\n",
       "    </tr>\n",
       "    <tr>\n",
       "      <th>16</th>\n",
       "      <td>multiple_lines</td>\n",
       "      <td>0.427701</td>\n",
       "      <td>1.533727</td>\n",
       "    </tr>\n",
       "    <tr>\n",
       "      <th>15</th>\n",
       "      <td>streaming_movies</td>\n",
       "      <td>0.375242</td>\n",
       "      <td>1.455344</td>\n",
       "    </tr>\n",
       "    <tr>\n",
       "      <th>14</th>\n",
       "      <td>streaming_tv</td>\n",
       "      <td>0.321219</td>\n",
       "      <td>1.378808</td>\n",
       "    </tr>\n",
       "    <tr>\n",
       "      <th>1</th>\n",
       "      <td>paperless_billing</td>\n",
       "      <td>0.306174</td>\n",
       "      <td>1.358219</td>\n",
       "    </tr>\n",
       "    <tr>\n",
       "      <th>6</th>\n",
       "      <td>senior_citizen</td>\n",
       "      <td>0.211097</td>\n",
       "      <td>1.235032</td>\n",
       "    </tr>\n",
       "    <tr>\n",
       "      <th>12</th>\n",
       "      <td>device_protection</td>\n",
       "      <td>0.039734</td>\n",
       "      <td>1.040534</td>\n",
       "    </tr>\n",
       "    <tr>\n",
       "      <th>5</th>\n",
       "      <td>gender</td>\n",
       "      <td>0.018624</td>\n",
       "      <td>1.018798</td>\n",
       "    </tr>\n",
       "    <tr>\n",
       "      <th>2</th>\n",
       "      <td>payment_method</td>\n",
       "      <td>0.007158</td>\n",
       "      <td>1.007184</td>\n",
       "    </tr>\n",
       "    <tr>\n",
       "      <th>7</th>\n",
       "      <td>partner</td>\n",
       "      <td>-0.013084</td>\n",
       "      <td>0.987001</td>\n",
       "    </tr>\n",
       "    <tr>\n",
       "      <th>11</th>\n",
       "      <td>online_backup</td>\n",
       "      <td>-0.094385</td>\n",
       "      <td>0.909933</td>\n",
       "    </tr>\n",
       "    <tr>\n",
       "      <th>8</th>\n",
       "      <td>dependents</td>\n",
       "      <td>-0.200011</td>\n",
       "      <td>0.818722</td>\n",
       "    </tr>\n",
       "    <tr>\n",
       "      <th>13</th>\n",
       "      <td>tech_support</td>\n",
       "      <td>-0.228529</td>\n",
       "      <td>0.795703</td>\n",
       "    </tr>\n",
       "    <tr>\n",
       "      <th>18</th>\n",
       "      <td>phone</td>\n",
       "      <td>-0.263981</td>\n",
       "      <td>0.767988</td>\n",
       "    </tr>\n",
       "    <tr>\n",
       "      <th>4</th>\n",
       "      <td>duration</td>\n",
       "      <td>-0.276204</td>\n",
       "      <td>0.758658</td>\n",
       "    </tr>\n",
       "    <tr>\n",
       "      <th>10</th>\n",
       "      <td>online_security</td>\n",
       "      <td>-0.290240</td>\n",
       "      <td>0.748084</td>\n",
       "    </tr>\n",
       "    <tr>\n",
       "      <th>3</th>\n",
       "      <td>total_charges</td>\n",
       "      <td>-0.585303</td>\n",
       "      <td>0.556937</td>\n",
       "    </tr>\n",
       "    <tr>\n",
       "      <th>0</th>\n",
       "      <td>type</td>\n",
       "      <td>-0.844900</td>\n",
       "      <td>0.429600</td>\n",
       "    </tr>\n",
       "  </tbody>\n",
       "</table>\n",
       "</div>"
      ],
      "text/plain": [
       "              feature  coefficient       odds\n",
       "17           internet     3.135956  23.010629\n",
       "9    internet_service     1.064778   2.900194\n",
       "16     multiple_lines     0.427701   1.533727\n",
       "15   streaming_movies     0.375242   1.455344\n",
       "14       streaming_tv     0.321219   1.378808\n",
       "1   paperless_billing     0.306174   1.358219\n",
       "6      senior_citizen     0.211097   1.235032\n",
       "12  device_protection     0.039734   1.040534\n",
       "5              gender     0.018624   1.018798\n",
       "2      payment_method     0.007158   1.007184\n",
       "7             partner    -0.013084   0.987001\n",
       "11      online_backup    -0.094385   0.909933\n",
       "8          dependents    -0.200011   0.818722\n",
       "13       tech_support    -0.228529   0.795703\n",
       "18              phone    -0.263981   0.767988\n",
       "4            duration    -0.276204   0.758658\n",
       "10    online_security    -0.290240   0.748084\n",
       "3       total_charges    -0.585303   0.556937\n",
       "0                type    -0.844900   0.429600"
      ]
     },
     "execution_count": 36,
     "metadata": {},
     "output_type": "execute_result"
    }
   ],
   "source": [
    "#Посмотрим на интерпретацию модели\n",
    "d = {'feature': features_train.columns, 'coefficient': model.coef_[0], 'odds': np.exp(model.coef_[0])}\n",
    "df = pd.DataFrame(data=d)\n",
    "df.sort_values(by='odds', ascending=False)"
   ]
  },
  {
   "cell_type": "code",
   "execution_count": 37,
   "metadata": {},
   "outputs": [
    {
     "name": "stdout",
     "output_type": "stream",
     "text": [
      "ROC-AUC: 0.8154864327907475\n",
      "Accuracy: 0.7495246337547662\n"
     ]
    }
   ],
   "source": [
    "#Протестируем дерево решений \n",
    "model_tree = DecisionTreeClassifier(random_state=120922, max_depth=10, class_weight='balanced')\n",
    "print('ROC-AUC:', cross_val_score(model_tree, features_train, target_train, cv=5, scoring='roc_auc').mean())\n",
    "print('Accuracy:', cross_val_score(model_tree, features_train, target_train, cv=5, scoring='accuracy').mean())"
   ]
  },
  {
   "cell_type": "code",
   "execution_count": 38,
   "metadata": {},
   "outputs": [
    {
     "name": "stdout",
     "output_type": "stream",
     "text": [
      "Best parameters: {'max_depth': 7, 'min_samples_leaf': 5, 'min_samples_split': 2}\n",
      "ROC-AUC: 0.8447091916080798\n",
      "Accuracy: 0.8063186261861759\n"
     ]
    }
   ],
   "source": [
    "#Подберем параметры для модели дерева решений\n",
    "model_tree=DecisionTreeClassifier(random_state=120922)\n",
    "parametrs = {'max_depth': range (1,20, 2),\n",
    "            'min_samples_leaf': range (1,8),\n",
    "            'min_samples_split': range (2,10,2) }\n",
    "\n",
    "grid = GridSearchCV(model_tree, parametrs, cv=5, scoring='roc_auc', refit='roc_auc')\n",
    "grid.fit(features_train, target_train)\n",
    "\n",
    "model_tree = grid.best_estimator_\n",
    "print('Best parameters:', grid.best_params_)\n",
    "print('ROC-AUC:', grid.best_score_)\n",
    "print('Accuracy:', cross_val_score(model_tree, features_train, target_train, cv=5, scoring='accuracy').mean())"
   ]
  },
  {
   "cell_type": "code",
   "execution_count": 44,
   "metadata": {},
   "outputs": [
    {
     "data": {
      "text/plain": [
       "array([0, 0, 0, ..., 1, 0, 0])"
      ]
     },
     "execution_count": 44,
     "metadata": {},
     "output_type": "execute_result"
    }
   ],
   "source": [
    "grid.predict(features_test)"
   ]
  },
  {
   "cell_type": "code",
   "execution_count": 43,
   "metadata": {},
   "outputs": [
    {
     "data": {
      "text/plain": [
       "0.851899775913697"
      ]
     },
     "execution_count": 43,
     "metadata": {},
     "output_type": "execute_result"
    }
   ],
   "source": [
    "from sklearn.metrics import roc_auc_score\n",
    "roc_auc_score(target_test, grid.predict_proba(features_test)[:, 1])"
   ]
  },
  {
   "cell_type": "code",
   "execution_count": 45,
   "metadata": {},
   "outputs": [
    {
     "data": {
      "text/plain": [
       "0.7451067880302219"
      ]
     },
     "execution_count": 45,
     "metadata": {},
     "output_type": "execute_result"
    }
   ],
   "source": [
    "roc_auc_score(target_test, grid.predict(features_test))"
   ]
  },
  {
   "cell_type": "code",
   "execution_count": 39,
   "metadata": {},
   "outputs": [],
   "source": [
    "#Обучим модель с оптимальными гиперпараметрами \n",
    "#model_tree=DecisionTreeClassifier(random_state=120922, max_depth=7, class_weight='balanced', min_samples_leaf=5, min_samples_split=2)\n",
    "\n",
    "#print('ROC-AUC:', cross_val_score(model_tree, features_train, target_train, cv=5, scoring='roc_auc').mean())\n",
    "#print('Accuracy:', cross_val_score(model_tree, features_train, target_train, cv=5, scoring='accuracy').mean())"
   ]
  },
  {
   "cell_type": "code",
   "execution_count": 40,
   "metadata": {},
   "outputs": [
    {
     "name": "stdout",
     "output_type": "stream",
     "text": [
      "ROC-AUC: 0.8657484782120737\n",
      "Accuracy: 0.8231723574438806\n"
     ]
    }
   ],
   "source": [
    "#Протестируем LightGBM\n",
    "model_LGBM = LGBMClassifier(num_leaves=10, n_estimators=20, max_depth=8, random_state=120922)\n",
    "print('ROC-AUC:', cross_val_score(model_LGBM, features_train, target_train, cv=5, scoring='roc_auc').mean())\n",
    "print('Accuracy:', cross_val_score(model_LGBM, features_train, target_train, cv=5, scoring='accuracy').mean())"
   ]
  },
  {
   "cell_type": "code",
   "execution_count": 41,
   "metadata": {},
   "outputs": [
    {
     "name": "stdout",
     "output_type": "stream",
     "text": [
      "Best parameters: {'max_depth': 9, 'n_estimators': 90, 'num_leaves': 18}\n",
      "ROC-AUC: 0.8913775739587294\n",
      "Accuracy: 0.8447532324187954\n"
     ]
    }
   ],
   "source": [
    "#Подберем параметры для модели LightGBM\n",
    "model_LGBM=LGBMClassifier(random_state=120922)\n",
    "parametrs = {'max_depth': range (1,20, 4),\n",
    "            'num_leaves': range (2,20, 4),\n",
    "            'n_estimators': range (10,  100, 10) }\n",
    "\n",
    "grid = GridSearchCV(model_LGBM, parametrs, cv=5, scoring='roc_auc', refit='roc_auc')\n",
    "grid.fit(features_train, target_train)\n",
    "\n",
    "model_LGBM = grid.best_estimator_\n",
    "print('Best parameters:', grid.best_params_)\n",
    "print('ROC-AUC:', grid.best_score_)\n",
    "print('Accuracy:', cross_val_score(model_LGBM, features_train, target_train, cv=5, scoring='accuracy').mean())"
   ]
  },
  {
   "cell_type": "code",
   "execution_count": 42,
   "metadata": {},
   "outputs": [],
   "source": [
    "#Протестируем LightGBM c оптимальными гиперпараметрами\n",
    "#model_LGBM = LGBMClassifier(num_leaves=18, n_estimators=90, max_depth=9, random_state=120922)\n",
    "#print('ROC-AUC:', cross_val_score(model_LGBM, features_train, target_train, cv=5, scoring='roc_auc').mean())\n",
    "#print('Accuracy:', cross_val_score(model_LGBM, features_train, target_train, cv=5, scoring='accuracy').mean())"
   ]
  },
  {
   "cell_type": "code",
   "execution_count": 43,
   "metadata": {},
   "outputs": [
    {
     "name": "stdout",
     "output_type": "stream",
     "text": [
      "ROC-AUC: 0.8860265255239088\n",
      "Accuracy: 0.8388868581749376\n"
     ]
    }
   ],
   "source": [
    "model_CB = CatBoostClassifier(loss_function=\"Logloss\",verbose=False, iterations=100, depth=6, learning_rate=0.3, random_state=120922) \n",
    "print('ROC-AUC:', cross_val_score(model_CB, features_train, target_train, cv=5, scoring='roc_auc').mean())\n",
    "print('Accuracy:', cross_val_score(model_CB, features_train, target_train, cv=5, scoring='accuracy').mean())"
   ]
  },
  {
   "cell_type": "code",
   "execution_count": 44,
   "metadata": {},
   "outputs": [
    {
     "name": "stdout",
     "output_type": "stream",
     "text": [
      "Best parameters: {'depth': 3}\n",
      "ROC-AUC: 0.9171466964617625\n",
      "Accuracy: 0.8742893695708265\n"
     ]
    }
   ],
   "source": [
    "#Подберем параметры для модели CatBoost\n",
    "model_CB = CatBoostClassifier(loss_function=\"Logloss\", learning_rate=0.3,  random_state=120922, verbose=False, iterations=200) \n",
    "parametrs = {'depth': range (1,20, 2)\n",
    "             }\n",
    "\n",
    "grid = GridSearchCV(model_CB, parametrs, cv=5, scoring='roc_auc', refit='roc_auc')\n",
    "grid.fit(features_train, target_train)\n",
    "\n",
    "model_CB = grid.best_estimator_\n",
    "print('Best parameters:', grid.best_params_)\n",
    "print('ROC-AUC:', grid.best_score_)\n",
    "print('Accuracy:', cross_val_score(model_CB, features_train, target_train, cv=5, scoring='accuracy').mean())"
   ]
  },
  {
   "cell_type": "code",
   "execution_count": 45,
   "metadata": {},
   "outputs": [],
   "source": [
    "#Протестируем CatBoost c оптимальными гиперпараметрами\n",
    "#model_CB = CatBoostClassifier(loss_function=\"Logloss\", verbose=False, iterations=200, depth=3, learning_rate=0.3, random_state=120922) \n",
    "#print('ROC-AUC:', cross_val_score(model_CB, features_train, target_train, cv=5, scoring='roc_auc').mean())\n",
    "#print('Accuracy:', cross_val_score(model_CB, features_train, target_train, cv=5, scoring='accuracy').mean())"
   ]
  },
  {
   "cell_type": "markdown",
   "metadata": {},
   "source": [
    "Сравнив результаты 4х моделей - Логистической регресси, дерева решений, LightGBM и CatBoost - по ключевому KPI ROC-AUC наиболее высокий результат 0,92 показала модель CatBoost, она не только корректнее других предсказывает тех, кто уйдет - (истинно-положительный результат), но и корретнее других предсказывает тех, кто останется (истинно-отрицательные результаты), но также эта модель с точки зрения accuracy показала максимальный результат - в 87% случаев модель предсказывет корректно. Логично, что обе метрики имеют прямую зависимость, так как чем чаще модель дает истинно-положительный/истинно-отрицательный результат - тем выше ее точность. \n",
    "\n",
    "Таким образом, мы рекомендуем в дальнейшем использовать модель CatBoost, количество итераций - 200, глубина - 3, lerning rate - 0.3."
   ]
  },
  {
   "cell_type": "code",
   "execution_count": 46,
   "metadata": {},
   "outputs": [],
   "source": [
    "#Добавим к интерпретации модели результаты дерева решений\n",
    "model_tree.fit(features_train, target_train)\n",
    "df['importances_tree'] = model_tree.feature_importances_\n",
    "\n",
    "\n",
    "result = permutation_importance(model_tree, features_train, target_train, random_state=12092022)\n",
    "df['importances_tree_permutation']=result.importances_mean\n",
    "\n",
    "\n",
    "#ДОбавим к интерпретации модели результаты LightGBM\n",
    "model_LGBM.fit(features_train, target_train)\n",
    "df['importances_LGBM'] = model_LGBM.feature_importances_\n",
    "\n",
    "#Добавим к интерпретации модели результаты CatBoost\n",
    "model_CB.fit(features_train, target_train)\n",
    "df['importances_CB'] = model_CB.feature_importances_\n"
   ]
  },
  {
   "cell_type": "code",
   "execution_count": 47,
   "metadata": {},
   "outputs": [
    {
     "data": {
      "text/html": [
       "<style  type=\"text/css\" >\n",
       "#T_879d3_row0_col2,#T_879d3_row2_col4,#T_879d3_row5_col4,#T_879d3_row6_col3,#T_879d3_row6_col4,#T_879d3_row7_col3,#T_879d3_row7_col4,#T_879d3_row7_col6,#T_879d3_row8_col6,#T_879d3_row10_col3,#T_879d3_row10_col4,#T_879d3_row11_col4,#T_879d3_row12_col3,#T_879d3_row12_col4,#T_879d3_row12_col6,#T_879d3_row13_col3,#T_879d3_row13_col4,#T_879d3_row14_col4,#T_879d3_row15_col4,#T_879d3_row16_col3,#T_879d3_row16_col4,#T_879d3_row17_col3,#T_879d3_row17_col5{\n",
       "            background-color:  #f7fbff;\n",
       "            color:  #000000;\n",
       "        }#T_879d3_row0_col3,#T_879d3_row4_col4,#T_879d3_row4_col5,#T_879d3_row4_col6,#T_879d3_row17_col2{\n",
       "            background-color:  #08306b;\n",
       "            color:  #f1f1f1;\n",
       "        }#T_879d3_row0_col4{\n",
       "            background-color:  #65aad4;\n",
       "            color:  #000000;\n",
       "        }#T_879d3_row0_col5{\n",
       "            background-color:  #e6f0f9;\n",
       "            color:  #000000;\n",
       "        }#T_879d3_row0_col6{\n",
       "            background-color:  #d7e6f5;\n",
       "            color:  #000000;\n",
       "        }#T_879d3_row1_col2,#T_879d3_row14_col2,#T_879d3_row17_col6{\n",
       "            background-color:  #eff6fc;\n",
       "            color:  #000000;\n",
       "        }#T_879d3_row1_col3,#T_879d3_row10_col6,#T_879d3_row11_col3,#T_879d3_row13_col6,#T_879d3_row15_col6,#T_879d3_row16_col6{\n",
       "            background-color:  #f5fafe;\n",
       "            color:  #000000;\n",
       "        }#T_879d3_row1_col4,#T_879d3_row8_col2,#T_879d3_row13_col2,#T_879d3_row14_col3,#T_879d3_row17_col4,#T_879d3_row18_col3{\n",
       "            background-color:  #f4f9fe;\n",
       "            color:  #000000;\n",
       "        }#T_879d3_row1_col5,#T_879d3_row10_col5,#T_879d3_row15_col2,#T_879d3_row16_col2,#T_879d3_row16_col5{\n",
       "            background-color:  #eef5fc;\n",
       "            color:  #000000;\n",
       "        }#T_879d3_row1_col6,#T_879d3_row4_col2,#T_879d3_row5_col6,#T_879d3_row10_col2,#T_879d3_row14_col6,#T_879d3_row18_col2{\n",
       "            background-color:  #f5f9fe;\n",
       "            color:  #000000;\n",
       "        }#T_879d3_row2_col2,#T_879d3_row5_col2,#T_879d3_row7_col2,#T_879d3_row12_col2,#T_879d3_row15_col3{\n",
       "            background-color:  #f2f8fd;\n",
       "            color:  #000000;\n",
       "        }#T_879d3_row2_col3,#T_879d3_row3_col2,#T_879d3_row5_col3,#T_879d3_row6_col6,#T_879d3_row8_col3,#T_879d3_row8_col4,#T_879d3_row11_col6,#T_879d3_row18_col6{\n",
       "            background-color:  #f6faff;\n",
       "            color:  #000000;\n",
       "        }#T_879d3_row2_col5{\n",
       "            background-color:  #e7f1fa;\n",
       "            color:  #000000;\n",
       "        }#T_879d3_row2_col6,#T_879d3_row7_col5,#T_879d3_row11_col2{\n",
       "            background-color:  #f3f8fe;\n",
       "            color:  #000000;\n",
       "        }#T_879d3_row3_col3{\n",
       "            background-color:  #dbe9f6;\n",
       "            color:  #000000;\n",
       "        }#T_879d3_row3_col4{\n",
       "            background-color:  #c8dcf0;\n",
       "            color:  #000000;\n",
       "        }#T_879d3_row3_col5{\n",
       "            background-color:  #529dcc;\n",
       "            color:  #000000;\n",
       "        }#T_879d3_row3_col6,#T_879d3_row9_col2{\n",
       "            background-color:  #e1edf8;\n",
       "            color:  #000000;\n",
       "        }#T_879d3_row4_col3{\n",
       "            background-color:  #3b8bc2;\n",
       "            color:  #000000;\n",
       "        }#T_879d3_row5_col5{\n",
       "            background-color:  #ecf4fb;\n",
       "            color:  #000000;\n",
       "        }#T_879d3_row6_col2,#T_879d3_row11_col5,#T_879d3_row13_col5,#T_879d3_row15_col5{\n",
       "            background-color:  #f0f6fd;\n",
       "            color:  #000000;\n",
       "        }#T_879d3_row6_col5,#T_879d3_row14_col5,#T_879d3_row18_col5{\n",
       "            background-color:  #f1f7fd;\n",
       "            color:  #000000;\n",
       "        }#T_879d3_row8_col5{\n",
       "            background-color:  #ebf3fb;\n",
       "            color:  #000000;\n",
       "        }#T_879d3_row9_col3{\n",
       "            background-color:  #9fcae1;\n",
       "            color:  #000000;\n",
       "        }#T_879d3_row9_col4{\n",
       "            background-color:  #4695c8;\n",
       "            color:  #000000;\n",
       "        }#T_879d3_row9_col5{\n",
       "            background-color:  #e3eef8;\n",
       "            color:  #000000;\n",
       "        }#T_879d3_row9_col6{\n",
       "            background-color:  #e7f0fa;\n",
       "            color:  #000000;\n",
       "        }#T_879d3_row12_col5,#T_879d3_row18_col4{\n",
       "            background-color:  #f2f7fd;\n",
       "            color:  #000000;\n",
       "        }</style><table id=\"T_879d3_\" ><thead>    <tr>        <th class=\"blank level0\" ></th>        <th class=\"col_heading level0 col0\" >feature</th>        <th class=\"col_heading level0 col1\" >coefficient</th>        <th class=\"col_heading level0 col2\" >odds</th>        <th class=\"col_heading level0 col3\" >importances_tree</th>        <th class=\"col_heading level0 col4\" >importances_tree_permutation</th>        <th class=\"col_heading level0 col5\" >importances_LGBM</th>        <th class=\"col_heading level0 col6\" >importances_CB</th>    </tr></thead><tbody>\n",
       "                <tr>\n",
       "                        <th id=\"T_879d3_level0_row0\" class=\"row_heading level0 row0\" >0</th>\n",
       "                        <td id=\"T_879d3_row0_col0\" class=\"data row0 col0\" >type</td>\n",
       "                        <td id=\"T_879d3_row0_col1\" class=\"data row0 col1\" >-0.844900</td>\n",
       "                        <td id=\"T_879d3_row0_col2\" class=\"data row0 col2\" >0.429600</td>\n",
       "                        <td id=\"T_879d3_row0_col3\" class=\"data row0 col3\" >0.441979</td>\n",
       "                        <td id=\"T_879d3_row0_col4\" class=\"data row0 col4\" >0.049527</td>\n",
       "                        <td id=\"T_879d3_row0_col5\" class=\"data row0 col5\" >58</td>\n",
       "                        <td id=\"T_879d3_row0_col6\" class=\"data row0 col6\" >10.540487</td>\n",
       "            </tr>\n",
       "            <tr>\n",
       "                        <th id=\"T_879d3_level0_row1\" class=\"row_heading level0 row1\" >1</th>\n",
       "                        <td id=\"T_879d3_row1_col0\" class=\"data row1 col0\" >paperless_billing</td>\n",
       "                        <td id=\"T_879d3_row1_col1\" class=\"data row1 col1\" >0.306174</td>\n",
       "                        <td id=\"T_879d3_row1_col2\" class=\"data row1 col2\" >1.358219</td>\n",
       "                        <td id=\"T_879d3_row1_col3\" class=\"data row1 col3\" >0.004763</td>\n",
       "                        <td id=\"T_879d3_row1_col4\" class=\"data row1 col4\" >0.001742</td>\n",
       "                        <td id=\"T_879d3_row1_col5\" class=\"data row1 col5\" >32</td>\n",
       "                        <td id=\"T_879d3_row1_col6\" class=\"data row1 col6\" >0.817751</td>\n",
       "            </tr>\n",
       "            <tr>\n",
       "                        <th id=\"T_879d3_level0_row2\" class=\"row_heading level0 row2\" >2</th>\n",
       "                        <td id=\"T_879d3_row2_col0\" class=\"data row2 col0\" >payment_method</td>\n",
       "                        <td id=\"T_879d3_row2_col1\" class=\"data row2 col1\" >0.007158</td>\n",
       "                        <td id=\"T_879d3_row2_col2\" class=\"data row2 col2\" >1.007184</td>\n",
       "                        <td id=\"T_879d3_row2_col3\" class=\"data row2 col3\" >0.002406</td>\n",
       "                        <td id=\"T_879d3_row2_col4\" class=\"data row2 col4\" >0.000000</td>\n",
       "                        <td id=\"T_879d3_row2_col5\" class=\"data row2 col5\" >53</td>\n",
       "                        <td id=\"T_879d3_row2_col6\" class=\"data row2 col6\" >1.518365</td>\n",
       "            </tr>\n",
       "            <tr>\n",
       "                        <th id=\"T_879d3_level0_row3\" class=\"row_heading level0 row3\" >3</th>\n",
       "                        <td id=\"T_879d3_row3_col0\" class=\"data row3 col0\" >total_charges</td>\n",
       "                        <td id=\"T_879d3_row3_col1\" class=\"data row3 col1\" >-0.585303</td>\n",
       "                        <td id=\"T_879d3_row3_col2\" class=\"data row3 col2\" >0.556937</td>\n",
       "                        <td id=\"T_879d3_row3_col3\" class=\"data row3 col3\" >0.062608</td>\n",
       "                        <td id=\"T_879d3_row3_col4\" class=\"data row3 col4\" >0.022832</td>\n",
       "                        <td id=\"T_879d3_row3_col5\" class=\"data row3 col5\" >372</td>\n",
       "                        <td id=\"T_879d3_row3_col6\" class=\"data row3 col6\" >7.311827</td>\n",
       "            </tr>\n",
       "            <tr>\n",
       "                        <th id=\"T_879d3_level0_row4\" class=\"row_heading level0 row4\" >4</th>\n",
       "                        <td id=\"T_879d3_row4_col0\" class=\"data row4 col0\" >duration</td>\n",
       "                        <td id=\"T_879d3_row4_col1\" class=\"data row4 col1\" >-0.276204</td>\n",
       "                        <td id=\"T_879d3_row4_col2\" class=\"data row4 col2\" >0.758658</td>\n",
       "                        <td id=\"T_879d3_row4_col3\" class=\"data row4 col3\" >0.287292</td>\n",
       "                        <td id=\"T_879d3_row4_col4\" class=\"data row4 col4\" >0.095494</td>\n",
       "                        <td id=\"T_879d3_row4_col5\" class=\"data row4 col5\" >647</td>\n",
       "                        <td id=\"T_879d3_row4_col6\" class=\"data row4 col6\" >65.440609</td>\n",
       "            </tr>\n",
       "            <tr>\n",
       "                        <th id=\"T_879d3_level0_row5\" class=\"row_heading level0 row5\" >5</th>\n",
       "                        <td id=\"T_879d3_row5_col0\" class=\"data row5 col0\" >gender</td>\n",
       "                        <td id=\"T_879d3_row5_col1\" class=\"data row5 col1\" >0.018624</td>\n",
       "                        <td id=\"T_879d3_row5_col2\" class=\"data row5 col2\" >1.018798</td>\n",
       "                        <td id=\"T_879d3_row5_col3\" class=\"data row5 col3\" >0.002136</td>\n",
       "                        <td id=\"T_879d3_row5_col4\" class=\"data row5 col4\" >0.000000</td>\n",
       "                        <td id=\"T_879d3_row5_col5\" class=\"data row5 col5\" >37</td>\n",
       "                        <td id=\"T_879d3_row5_col6\" class=\"data row5 col6\" >0.805497</td>\n",
       "            </tr>\n",
       "            <tr>\n",
       "                        <th id=\"T_879d3_level0_row6\" class=\"row_heading level0 row6\" >6</th>\n",
       "                        <td id=\"T_879d3_row6_col0\" class=\"data row6 col0\" >senior_citizen</td>\n",
       "                        <td id=\"T_879d3_row6_col1\" class=\"data row6 col1\" >0.211097</td>\n",
       "                        <td id=\"T_879d3_row6_col2\" class=\"data row6 col2\" >1.235032</td>\n",
       "                        <td id=\"T_879d3_row6_col3\" class=\"data row6 col3\" >0.000000</td>\n",
       "                        <td id=\"T_879d3_row6_col4\" class=\"data row6 col4\" >0.000000</td>\n",
       "                        <td id=\"T_879d3_row6_col5\" class=\"data row6 col5\" >22</td>\n",
       "                        <td id=\"T_879d3_row6_col6\" class=\"data row6 col6\" >0.337954</td>\n",
       "            </tr>\n",
       "            <tr>\n",
       "                        <th id=\"T_879d3_level0_row7\" class=\"row_heading level0 row7\" >7</th>\n",
       "                        <td id=\"T_879d3_row7_col0\" class=\"data row7 col0\" >partner</td>\n",
       "                        <td id=\"T_879d3_row7_col1\" class=\"data row7 col1\" >-0.013084</td>\n",
       "                        <td id=\"T_879d3_row7_col2\" class=\"data row7 col2\" >0.987001</td>\n",
       "                        <td id=\"T_879d3_row7_col3\" class=\"data row7 col3\" >0.000000</td>\n",
       "                        <td id=\"T_879d3_row7_col4\" class=\"data row7 col4\" >0.000000</td>\n",
       "                        <td id=\"T_879d3_row7_col5\" class=\"data row7 col5\" >13</td>\n",
       "                        <td id=\"T_879d3_row7_col6\" class=\"data row7 col6\" >0.035268</td>\n",
       "            </tr>\n",
       "            <tr>\n",
       "                        <th id=\"T_879d3_level0_row8\" class=\"row_heading level0 row8\" >8</th>\n",
       "                        <td id=\"T_879d3_row8_col0\" class=\"data row8 col0\" >dependents</td>\n",
       "                        <td id=\"T_879d3_row8_col1\" class=\"data row8 col1\" >-0.200011</td>\n",
       "                        <td id=\"T_879d3_row8_col2\" class=\"data row8 col2\" >0.818722</td>\n",
       "                        <td id=\"T_879d3_row8_col3\" class=\"data row8 col3\" >0.002675</td>\n",
       "                        <td id=\"T_879d3_row8_col4\" class=\"data row8 col4\" >0.000492</td>\n",
       "                        <td id=\"T_879d3_row8_col5\" class=\"data row8 col5\" >39</td>\n",
       "                        <td id=\"T_879d3_row8_col6\" class=\"data row8 col6\" >0.146850</td>\n",
       "            </tr>\n",
       "            <tr>\n",
       "                        <th id=\"T_879d3_level0_row9\" class=\"row_heading level0 row9\" >9</th>\n",
       "                        <td id=\"T_879d3_row9_col0\" class=\"data row9 col0\" >internet_service</td>\n",
       "                        <td id=\"T_879d3_row9_col1\" class=\"data row9 col1\" >1.064778</td>\n",
       "                        <td id=\"T_879d3_row9_col2\" class=\"data row9 col2\" >2.900194</td>\n",
       "                        <td id=\"T_879d3_row9_col3\" class=\"data row9 col3\" >0.165629</td>\n",
       "                        <td id=\"T_879d3_row9_col4\" class=\"data row9 col4\" >0.058273</td>\n",
       "                        <td id=\"T_879d3_row9_col5\" class=\"data row9 col5\" >66</td>\n",
       "                        <td id=\"T_879d3_row9_col6\" class=\"data row9 col6\" >5.613516</td>\n",
       "            </tr>\n",
       "            <tr>\n",
       "                        <th id=\"T_879d3_level0_row10\" class=\"row_heading level0 row10\" >10</th>\n",
       "                        <td id=\"T_879d3_row10_col0\" class=\"data row10 col0\" >online_security</td>\n",
       "                        <td id=\"T_879d3_row10_col1\" class=\"data row10 col1\" >-0.290240</td>\n",
       "                        <td id=\"T_879d3_row10_col2\" class=\"data row10 col2\" >0.748084</td>\n",
       "                        <td id=\"T_879d3_row10_col3\" class=\"data row10 col3\" >0.000430</td>\n",
       "                        <td id=\"T_879d3_row10_col4\" class=\"data row10 col4\" >0.000000</td>\n",
       "                        <td id=\"T_879d3_row10_col5\" class=\"data row10 col5\" >29</td>\n",
       "                        <td id=\"T_879d3_row10_col6\" class=\"data row10 col6\" >0.575088</td>\n",
       "            </tr>\n",
       "            <tr>\n",
       "                        <th id=\"T_879d3_level0_row11\" class=\"row_heading level0 row11\" >11</th>\n",
       "                        <td id=\"T_879d3_row11_col0\" class=\"data row11 col0\" >online_backup</td>\n",
       "                        <td id=\"T_879d3_row11_col1\" class=\"data row11 col1\" >-0.094385</td>\n",
       "                        <td id=\"T_879d3_row11_col2\" class=\"data row11 col2\" >0.909933</td>\n",
       "                        <td id=\"T_879d3_row11_col3\" class=\"data row11 col3\" >0.003738</td>\n",
       "                        <td id=\"T_879d3_row11_col4\" class=\"data row11 col4\" >0.000000</td>\n",
       "                        <td id=\"T_879d3_row11_col5\" class=\"data row11 col5\" >25</td>\n",
       "                        <td id=\"T_879d3_row11_col6\" class=\"data row11 col6\" >0.411639</td>\n",
       "            </tr>\n",
       "            <tr>\n",
       "                        <th id=\"T_879d3_level0_row12\" class=\"row_heading level0 row12\" >12</th>\n",
       "                        <td id=\"T_879d3_row12_col0\" class=\"data row12 col0\" >device_protection</td>\n",
       "                        <td id=\"T_879d3_row12_col1\" class=\"data row12 col1\" >0.039734</td>\n",
       "                        <td id=\"T_879d3_row12_col2\" class=\"data row12 col2\" >1.040534</td>\n",
       "                        <td id=\"T_879d3_row12_col3\" class=\"data row12 col3\" >0.000000</td>\n",
       "                        <td id=\"T_879d3_row12_col4\" class=\"data row12 col4\" >0.000000</td>\n",
       "                        <td id=\"T_879d3_row12_col5\" class=\"data row12 col5\" >19</td>\n",
       "                        <td id=\"T_879d3_row12_col6\" class=\"data row12 col6\" >0.085910</td>\n",
       "            </tr>\n",
       "            <tr>\n",
       "                        <th id=\"T_879d3_level0_row13\" class=\"row_heading level0 row13\" >13</th>\n",
       "                        <td id=\"T_879d3_row13_col0\" class=\"data row13 col0\" >tech_support</td>\n",
       "                        <td id=\"T_879d3_row13_col1\" class=\"data row13 col1\" >-0.228529</td>\n",
       "                        <td id=\"T_879d3_row13_col2\" class=\"data row13 col2\" >0.795703</td>\n",
       "                        <td id=\"T_879d3_row13_col3\" class=\"data row13 col3\" >0.000217</td>\n",
       "                        <td id=\"T_879d3_row13_col4\" class=\"data row13 col4\" >0.000000</td>\n",
       "                        <td id=\"T_879d3_row13_col5\" class=\"data row13 col5\" >23</td>\n",
       "                        <td id=\"T_879d3_row13_col6\" class=\"data row13 col6\" >0.548000</td>\n",
       "            </tr>\n",
       "            <tr>\n",
       "                        <th id=\"T_879d3_level0_row14\" class=\"row_heading level0 row14\" >14</th>\n",
       "                        <td id=\"T_879d3_row14_col0\" class=\"data row14 col0\" >streaming_tv</td>\n",
       "                        <td id=\"T_879d3_row14_col1\" class=\"data row14 col1\" >0.321219</td>\n",
       "                        <td id=\"T_879d3_row14_col2\" class=\"data row14 col2\" >1.378808</td>\n",
       "                        <td id=\"T_879d3_row14_col3\" class=\"data row14 col3\" >0.006946</td>\n",
       "                        <td id=\"T_879d3_row14_col4\" class=\"data row14 col4\" >-0.000076</td>\n",
       "                        <td id=\"T_879d3_row14_col5\" class=\"data row14 col5\" >21</td>\n",
       "                        <td id=\"T_879d3_row14_col6\" class=\"data row14 col6\" >0.901110</td>\n",
       "            </tr>\n",
       "            <tr>\n",
       "                        <th id=\"T_879d3_level0_row15\" class=\"row_heading level0 row15\" >15</th>\n",
       "                        <td id=\"T_879d3_row15_col0\" class=\"data row15 col0\" >streaming_movies</td>\n",
       "                        <td id=\"T_879d3_row15_col1\" class=\"data row15 col1\" >0.375242</td>\n",
       "                        <td id=\"T_879d3_row15_col2\" class=\"data row15 col2\" >1.455344</td>\n",
       "                        <td id=\"T_879d3_row15_col3\" class=\"data row15 col3\" >0.010387</td>\n",
       "                        <td id=\"T_879d3_row15_col4\" class=\"data row15 col4\" >0.000227</td>\n",
       "                        <td id=\"T_879d3_row15_col5\" class=\"data row15 col5\" >25</td>\n",
       "                        <td id=\"T_879d3_row15_col6\" class=\"data row15 col6\" >0.799338</td>\n",
       "            </tr>\n",
       "            <tr>\n",
       "                        <th id=\"T_879d3_level0_row16\" class=\"row_heading level0 row16\" >16</th>\n",
       "                        <td id=\"T_879d3_row16_col0\" class=\"data row16 col0\" >multiple_lines</td>\n",
       "                        <td id=\"T_879d3_row16_col1\" class=\"data row16 col1\" >0.427701</td>\n",
       "                        <td id=\"T_879d3_row16_col2\" class=\"data row16 col2\" >1.533727</td>\n",
       "                        <td id=\"T_879d3_row16_col3\" class=\"data row16 col3\" >0.000000</td>\n",
       "                        <td id=\"T_879d3_row16_col4\" class=\"data row16 col4\" >0.000000</td>\n",
       "                        <td id=\"T_879d3_row16_col5\" class=\"data row16 col5\" >28</td>\n",
       "                        <td id=\"T_879d3_row16_col6\" class=\"data row16 col6\" >0.761168</td>\n",
       "            </tr>\n",
       "            <tr>\n",
       "                        <th id=\"T_879d3_level0_row17\" class=\"row_heading level0 row17\" >17</th>\n",
       "                        <td id=\"T_879d3_row17_col0\" class=\"data row17 col0\" >internet</td>\n",
       "                        <td id=\"T_879d3_row17_col1\" class=\"data row17 col1\" >3.135956</td>\n",
       "                        <td id=\"T_879d3_row17_col2\" class=\"data row17 col2\" >23.010629</td>\n",
       "                        <td id=\"T_879d3_row17_col3\" class=\"data row17 col3\" >0.001245</td>\n",
       "                        <td id=\"T_879d3_row17_col4\" class=\"data row17 col4\" >0.001477</td>\n",
       "                        <td id=\"T_879d3_row17_col5\" class=\"data row17 col5\" >0</td>\n",
       "                        <td id=\"T_879d3_row17_col6\" class=\"data row17 col6\" >2.808821</td>\n",
       "            </tr>\n",
       "            <tr>\n",
       "                        <th id=\"T_879d3_level0_row18\" class=\"row_heading level0 row18\" >18</th>\n",
       "                        <td id=\"T_879d3_row18_col0\" class=\"data row18 col0\" >phone</td>\n",
       "                        <td id=\"T_879d3_row18_col1\" class=\"data row18 col1\" >-0.263981</td>\n",
       "                        <td id=\"T_879d3_row18_col2\" class=\"data row18 col2\" >0.767988</td>\n",
       "                        <td id=\"T_879d3_row18_col3\" class=\"data row18 col3\" >0.007548</td>\n",
       "                        <td id=\"T_879d3_row18_col4\" class=\"data row18 col4\" >0.002613</td>\n",
       "                        <td id=\"T_879d3_row18_col5\" class=\"data row18 col5\" >21</td>\n",
       "                        <td id=\"T_879d3_row18_col6\" class=\"data row18 col6\" >0.540803</td>\n",
       "            </tr>\n",
       "    </tbody></table>"
      ],
      "text/plain": [
       "<pandas.io.formats.style.Styler at 0x7f2fb9b5bee0>"
      ]
     },
     "execution_count": 47,
     "metadata": {},
     "output_type": "execute_result"
    }
   ],
   "source": [
    "numeric_columns = ['odds',\n",
    "                   'importances_tree',\n",
    "                   'importances_tree_permutation',\n",
    "                  'importances_LGBM',\n",
    "                  'importances_CB']\n",
    "df.style.background_gradient(cmap='Blues', axis=0, subset=numeric_columns )\n"
   ]
  },
  {
   "cell_type": "markdown",
   "metadata": {},
   "source": [
    "Можем заметить, что модели показали разное значение факторов - для логистической регрессии основной вклад вносит использование интернета и его функционал соответственно, а для моделей, основанных на деревьях, на первый план выходят параметры договора и его продолжительность. Но нас в первую очередь интересует результат CatBoost, как модели, показавшей самый высокий результат.  \n",
    "\n",
    "Но можно определенно сказать, что высокое влияение имеют продолжительность взаимодействия с компанией(чем она выше - тем меньше шанс отказа), общая оплаченная сумма (хотя это несомненно взаимосвязанные факторы, влияние соответствующее), тип оплаты и использование интернет подключения - при использование оптоволокна шанс отключение выше, чем при использовании DSL (при учете, что фактор наличия интернета в целом рассматривается отдельно)."
   ]
  },
  {
   "cell_type": "markdown",
   "metadata": {},
   "source": [
    "<h2> 5. Проверка модели на тестовой выборке <a class=\"tocSkip\"> </h2>  "
   ]
  },
  {
   "cell_type": "code",
   "execution_count": 48,
   "metadata": {},
   "outputs": [
    {
     "name": "stdout",
     "output_type": "stream",
     "text": [
      "ROC_AUC: 0.9302523119228454\n",
      "Accuracy: 0.8949460533787621\n"
     ]
    }
   ],
   "source": [
    "#Оценим метрики качества модели на тестовой выборке, которую мы отделили ранее\n",
    "\n",
    "model=model_CB\n",
    "\n",
    "model.fit(features_train, target_train) \n",
    "probabilities_test = model.predict_proba(features_test)[:, 1]\n",
    "\n",
    "auc_roc = roc_auc_score(target_test, probabilities_test)\n",
    "\n",
    "print(\"ROC_AUC:\", auc_roc)\n",
    "\n",
    "predictions=model.predict(features_test)\n",
    "print(\"Accuracy:\", accuracy_score(target_test, predictions))"
   ]
  },
  {
   "cell_type": "markdown",
   "metadata": {},
   "source": [
    "<h2> Вывод <a class=\"tocSkip\"> </h2>  \n",
    "\n",
    "Для поиска оптимального решения мы протестировали 4 различных модели - логистическая регрессия, дерево решений, LightGBM и CatBoost.  \n",
    "\n",
    "Модели градиентного бустинга показали наиболее высокие результаты - ROC_AUC и Accuracy\n",
    "\n",
    "Для того, чтобы определить гиперпараметры, для улучшения качества моделей мы использовали метод Gridsearch, что позволило значительно улучшить изначальные показатели моделей, так например ROC-AUC LightGBM вырос на 0.04 - с 0.85 до 0.89 после подбора оптимальных гиперпараметров. И по результатам этой операции удалось добиться высоких показателей качества модели CatBoost - после подбора оптимальных гиперпараметров - глубина - 3, количество итераций - 200, удалось достичь ROC - AUC 0.92 на обучающей выборке и 0.88 accuracy,  то есть в 88% случаев модель корректно предсказываем - собирается ли пользователь отказаться от услуг компании.   \n",
    "    \n",
    "Валидация на тестовой выборке также подтвердила выскоий результат данной модели - ROC-AUC-0.93 и Accuracy - 0.89, что позволяет нам подтвердить эффективность модели.\n",
    "    \n",
    "В итоге Мы рекомендуем использовать в дальнейшем модель CatBoost, количество итераций - 200, глубина - 3, lerning rate - 0.3."
   ]
  },
  {
   "cell_type": "markdown",
   "metadata": {},
   "source": [
    "# Часть 3. Отчет \n"
   ]
  },
  {
   "cell_type": "markdown",
   "metadata": {},
   "source": [
    "Перед нами стояла следующая <b>задача</b>:\n",
    "\n",
    "Оператор связи «Ниединогоразрыва.ком» хочет научиться прогнозировать отток клиентов. Если выяснится, что пользователь планирует уйти, ему будут предложены промокоды и специальные условия. Команда оператора собрала персональные данные о некоторых клиентах, информацию об их тарифах и договорах.   \n",
    "\n",
    "<b>Цель проекта:</b> Построить модель бинарной классификации, которая будет определять пользователей с высокой вероятностью отказа от услуг компании.   \n",
    "\n",
    "<b>KPI:</b>\n",
    "Первычный целевой признак - ROC-AUC > 0,85\n",
    "Вторичный целевой признак - Accuracy   \n",
    "\n",
    "Ддя достижения результата было проведено 5 этапов работы (в соответствии с изначальным планом):\n",
    "\n",
    "1. Предобработка данных. Анализ представленных данных их полнота и корректность. Поиск пропущенных или некорректно заполненных значений и их заполнение, поиск, описание и обработка выбросов в данных.  \n",
    "2. Объединение баз в единую таблицу признаков, расчет дополнительных признаков, первичный анализ признаков, их зависимости между собой, отбор лишних данных, если такие возникнут. \n",
    "3. Выделение обучающей и тестовой выборки в соотношении 75/25, а также целевого признака в отдельную таблицу. \n",
    "4. Построение нескольких моделей, подбор гиперпараметром моделей, сравнение их эффективности с помощью кросс-валидации. Выбор оптимальной модели.\n",
    "5. Проверка качества выбранной модели на тестовой выборке.  \n",
    "\n",
    "Все этапы, которые изначально были запланированы, реализованы в ходе проекта. Выработанный план позволил последовательно пройти все необходимые шаги и прийти к высокому результату по целевой метрике.\n",
    "\n",
    "Данные представлены 4 базами - контракты, персональные данные, услуги интернет соединения, услуги телефонной связи.  \n",
    "Всего представлено 7043 записей, базы связаны через уникальный Customer ID.  \n",
    "\n",
    "Мы заполнили пропуски в данных там, где это было необходимо. Пропуски в значении total_charges заполнили 0, так как пользователи еще не платили за услуги. Привели данные к корректному формату. \n",
    "Добавили дополнительные столбцы - с целевой метрикой, где 1 - контракт был разорван, 0 - контракт продолжается.   \n",
    "Продолжительность использования услуг - на момент 1.02.202, а также год заключения контракта.  \n",
    "  \n",
    "А столбцы с датами заключения и окончания контракта удалили, так как они нам не потребуются.  \n",
    "Далее объединили таблицы в общую по customer_id, те признаки, которые оказались незаполненными заполнили как No, то есть не используются этим клиентом. А также добавили два признака - подключение интернета и подключения телефона, несмотря на то, что они имеют прямую зависимость от других признаков, это поможет нам в интерпретации модели.  \n",
    "  \n",
    "Оценив корреляцию признаков, выявили высокую зависимость между monthly_charges и другими признаками используемых услуг, что логично, так как каждая услуга стоит определенную сумму, а также год заключения договора с продолжительностью - мы убрали данные признаки из данных для того, чтобы не переобучать и не усложнять модель.  \n",
    "\n",
    "Из полученной таблицы мы выделили целевой признак и таблицу признаков, на которых будем обучать модель, закодировали категориальные переменные порядковым кодированием и разделили выборки на обучающую и тестовую в соотношении 75/25.   \n",
    "\n",
    "Для поиска оптимального решения мы протестировали 4 различных модели - <b>логистическая регрессия, дерево решений, LightGBM и CatBoost.</b>  \n",
    "\n",
    "Модели градиентного бустинга показали наиболее высокие результаты - ROC_AUC и Accuracy\n",
    "\n",
    "Для того, чтобы определить гиперпараметры, для улучшения качества моделей мы использовали метод Gridsearch, что позволило значительно улучшить изначальные показатели моделей, так например ROC-AUC LightGBM вырос на 0.04 - с 0.85 до 0.89 после подбора оптимальных гиперпараметров. И по результатам этой операции удалось добиться высоких показателей качества модели CatBoost - после подбора оптимальных гиперпараметров - глубина - 3, количество итераций - 200, удалось достичь ROC - AUC 0.92 на обучающей выборке и 0.88 accuracy,  то есть в 88% случаев модель корректно предсказываем - собирается ли пользователь отказаться от услуг компании.   \n",
    "\n",
    "Основная сложность, с которой мы столкнулись в ходе разработки проекта - скорость расчета моделей и подбора гиперпараметров, в дальнейшем при усложнении расчетов можно использовать GPU для расчетов.   \n",
    "    \n",
    "Валидация на тестовой выборке также подтвердила выскоий результат данной модели - ROC-AUC-0.93 и Accuracy - 0.89, что позволяет нам подтвердить эффективность модели.\n",
    "    \n",
    "<b>В итоге Мы рекомендуем использовать в дальнейшем модель CatBoost, количество итераций - 200, глубина - 3, lerning rate - 0.3.</b>  \n",
    "\n",
    "Дополнительно мы также проанализировали интерпретацию модели. Можно определенно сказать, что высокое влияение имеют продолжительность взаимодействия с компанией(чем она выше - тем меньше шанс отказа), общая оплаченная сумма (хотя это несомненно взаимосвязанные факторы, влияние соответствующее), тип оплаты и использование интернет подключения - при использование оптоволокна шанс отключение выше, чем при использовании DSL (при учете, что фактор наличия интернета в целом рассматривается отдельно)."
   ]
  }
 ],
 "metadata": {
  "ExecuteTimeLog": [
   {
    "duration": 357,
    "start_time": "2022-09-13T18:58:51.150Z"
   },
   {
    "duration": 193,
    "start_time": "2022-09-13T18:58:51.508Z"
   },
   {
    "duration": 4,
    "start_time": "2022-09-13T18:58:51.702Z"
   },
   {
    "duration": 10,
    "start_time": "2022-09-13T18:58:51.708Z"
   },
   {
    "duration": 13,
    "start_time": "2022-09-13T18:58:51.720Z"
   },
   {
    "duration": 13,
    "start_time": "2022-09-13T18:58:51.734Z"
   },
   {
    "duration": 14,
    "start_time": "2022-09-13T18:58:51.748Z"
   },
   {
    "duration": 7,
    "start_time": "2022-09-13T18:58:51.764Z"
   },
   {
    "duration": 102,
    "start_time": "2022-09-13T18:58:51.772Z"
   },
   {
    "duration": 9,
    "start_time": "2022-09-13T18:58:51.876Z"
   },
   {
    "duration": 59,
    "start_time": "2022-09-13T18:58:51.887Z"
   },
   {
    "duration": 9,
    "start_time": "2022-09-13T18:58:51.947Z"
   },
   {
    "duration": 7,
    "start_time": "2022-09-13T18:58:51.957Z"
   },
   {
    "duration": 56,
    "start_time": "2022-09-13T18:58:51.966Z"
   },
   {
    "duration": 9,
    "start_time": "2022-09-13T18:58:52.023Z"
   },
   {
    "duration": 17,
    "start_time": "2022-09-13T19:02:44.884Z"
   },
   {
    "duration": 14,
    "start_time": "2022-09-13T19:12:37.900Z"
   },
   {
    "duration": 11,
    "start_time": "2022-09-13T19:12:44.053Z"
   },
   {
    "duration": 80,
    "start_time": "2022-09-13T19:13:50.024Z"
   },
   {
    "duration": 13,
    "start_time": "2022-09-13T19:14:12.573Z"
   },
   {
    "duration": 741,
    "start_time": "2022-09-13T19:15:38.176Z"
   },
   {
    "duration": 7,
    "start_time": "2022-09-13T19:15:48.864Z"
   },
   {
    "duration": 15,
    "start_time": "2022-09-13T19:16:00.491Z"
   },
   {
    "duration": 12,
    "start_time": "2022-09-13T19:16:11.668Z"
   },
   {
    "duration": 8,
    "start_time": "2022-09-13T19:18:25.888Z"
   },
   {
    "duration": 17,
    "start_time": "2022-09-13T19:20:52.180Z"
   },
   {
    "duration": 61,
    "start_time": "2022-09-13T19:21:01.850Z"
   },
   {
    "duration": 11,
    "start_time": "2022-09-13T19:21:11.061Z"
   },
   {
    "duration": 12,
    "start_time": "2022-09-13T19:21:12.866Z"
   },
   {
    "duration": 13,
    "start_time": "2022-09-13T19:21:19.531Z"
   },
   {
    "duration": 8,
    "start_time": "2022-09-13T19:23:19.865Z"
   },
   {
    "duration": 21,
    "start_time": "2022-09-13T19:23:29.938Z"
   },
   {
    "duration": 16,
    "start_time": "2022-09-13T19:24:12.759Z"
   },
   {
    "duration": 14,
    "start_time": "2022-09-13T19:31:13.652Z"
   },
   {
    "duration": 387,
    "start_time": "2022-09-13T19:32:06.406Z"
   },
   {
    "duration": 70,
    "start_time": "2022-09-13T19:32:06.795Z"
   },
   {
    "duration": 4,
    "start_time": "2022-09-13T19:32:06.866Z"
   },
   {
    "duration": 6,
    "start_time": "2022-09-13T19:32:06.872Z"
   },
   {
    "duration": 38,
    "start_time": "2022-09-13T19:32:06.879Z"
   },
   {
    "duration": 12,
    "start_time": "2022-09-13T19:32:06.919Z"
   },
   {
    "duration": 15,
    "start_time": "2022-09-13T19:32:06.932Z"
   },
   {
    "duration": 4,
    "start_time": "2022-09-13T19:32:06.949Z"
   },
   {
    "duration": 7,
    "start_time": "2022-09-13T19:32:06.955Z"
   },
   {
    "duration": 47,
    "start_time": "2022-09-13T19:32:06.964Z"
   },
   {
    "duration": 11,
    "start_time": "2022-09-13T19:32:07.012Z"
   },
   {
    "duration": 38,
    "start_time": "2022-09-13T19:32:07.025Z"
   },
   {
    "duration": 10,
    "start_time": "2022-09-13T19:32:07.064Z"
   },
   {
    "duration": 7,
    "start_time": "2022-09-13T19:32:07.076Z"
   },
   {
    "duration": 32,
    "start_time": "2022-09-13T19:32:07.085Z"
   },
   {
    "duration": 8,
    "start_time": "2022-09-13T19:32:07.119Z"
   },
   {
    "duration": 12,
    "start_time": "2022-09-13T19:32:07.129Z"
   },
   {
    "duration": 116,
    "start_time": "2022-09-13T19:32:07.142Z"
   },
   {
    "duration": 0,
    "start_time": "2022-09-13T19:32:07.260Z"
   },
   {
    "duration": 7,
    "start_time": "2022-09-13T19:34:01.277Z"
   },
   {
    "duration": 7,
    "start_time": "2022-09-13T19:34:22.044Z"
   },
   {
    "duration": 71,
    "start_time": "2022-09-13T19:36:08.928Z"
   },
   {
    "duration": 7,
    "start_time": "2022-09-13T19:36:15.943Z"
   },
   {
    "duration": 10,
    "start_time": "2022-09-13T19:36:20.473Z"
   },
   {
    "duration": 9,
    "start_time": "2022-09-13T19:36:22.705Z"
   },
   {
    "duration": 7,
    "start_time": "2022-09-13T19:38:38.821Z"
   },
   {
    "duration": 342,
    "start_time": "2022-09-13T19:39:03.260Z"
   },
   {
    "duration": 66,
    "start_time": "2022-09-13T19:39:03.604Z"
   },
   {
    "duration": 4,
    "start_time": "2022-09-13T19:39:03.672Z"
   },
   {
    "duration": 7,
    "start_time": "2022-09-13T19:39:03.677Z"
   },
   {
    "duration": 16,
    "start_time": "2022-09-13T19:39:03.685Z"
   },
   {
    "duration": 10,
    "start_time": "2022-09-13T19:39:03.702Z"
   },
   {
    "duration": 14,
    "start_time": "2022-09-13T19:39:03.714Z"
   },
   {
    "duration": 4,
    "start_time": "2022-09-13T19:39:03.729Z"
   },
   {
    "duration": 5,
    "start_time": "2022-09-13T19:39:03.734Z"
   },
   {
    "duration": 34,
    "start_time": "2022-09-13T19:39:03.741Z"
   },
   {
    "duration": 9,
    "start_time": "2022-09-13T19:39:03.777Z"
   },
   {
    "duration": 50,
    "start_time": "2022-09-13T19:39:03.787Z"
   },
   {
    "duration": 11,
    "start_time": "2022-09-13T19:39:03.839Z"
   },
   {
    "duration": 6,
    "start_time": "2022-09-13T19:39:03.851Z"
   },
   {
    "duration": 29,
    "start_time": "2022-09-13T19:39:03.858Z"
   },
   {
    "duration": 9,
    "start_time": "2022-09-13T19:39:03.889Z"
   },
   {
    "duration": 13,
    "start_time": "2022-09-13T19:39:03.900Z"
   },
   {
    "duration": 67,
    "start_time": "2022-09-13T19:39:03.914Z"
   },
   {
    "duration": 0,
    "start_time": "2022-09-13T19:39:03.982Z"
   },
   {
    "duration": 7,
    "start_time": "2022-09-13T19:42:10.364Z"
   },
   {
    "duration": 4,
    "start_time": "2022-09-13T19:43:06.920Z"
   },
   {
    "duration": 11,
    "start_time": "2022-09-13T19:43:07.749Z"
   },
   {
    "duration": 7,
    "start_time": "2022-09-13T19:43:26.446Z"
   },
   {
    "duration": 7,
    "start_time": "2022-09-13T19:43:44.707Z"
   },
   {
    "duration": 4,
    "start_time": "2022-09-13T19:50:29.286Z"
   },
   {
    "duration": 16,
    "start_time": "2022-09-13T19:50:31.907Z"
   },
   {
    "duration": 16,
    "start_time": "2022-09-13T19:51:42.387Z"
   },
   {
    "duration": 15,
    "start_time": "2022-09-13T19:51:43.603Z"
   },
   {
    "duration": 18,
    "start_time": "2022-09-13T19:52:09.087Z"
   },
   {
    "duration": 13,
    "start_time": "2022-09-13T19:52:14.965Z"
   },
   {
    "duration": 11,
    "start_time": "2022-09-13T19:53:18.087Z"
   },
   {
    "duration": 45,
    "start_time": "2022-09-13T19:57:50.361Z"
   },
   {
    "duration": 12,
    "start_time": "2022-09-13T19:57:52.165Z"
   },
   {
    "duration": 12,
    "start_time": "2022-09-13T19:58:00.073Z"
   },
   {
    "duration": 13,
    "start_time": "2022-09-13T19:58:06.210Z"
   },
   {
    "duration": 14,
    "start_time": "2022-09-13T20:17:52.803Z"
   },
   {
    "duration": 392,
    "start_time": "2022-09-13T20:18:21.793Z"
   },
   {
    "duration": 66,
    "start_time": "2022-09-13T20:18:22.186Z"
   },
   {
    "duration": 4,
    "start_time": "2022-09-13T20:18:22.255Z"
   },
   {
    "duration": 17,
    "start_time": "2022-09-13T20:18:22.261Z"
   },
   {
    "duration": 24,
    "start_time": "2022-09-13T20:18:22.279Z"
   },
   {
    "duration": 21,
    "start_time": "2022-09-13T20:18:22.305Z"
   },
   {
    "duration": 25,
    "start_time": "2022-09-13T20:18:22.328Z"
   },
   {
    "duration": 13,
    "start_time": "2022-09-13T20:18:22.354Z"
   },
   {
    "duration": 13,
    "start_time": "2022-09-13T20:18:22.369Z"
   },
   {
    "duration": 45,
    "start_time": "2022-09-13T20:18:22.383Z"
   },
   {
    "duration": 9,
    "start_time": "2022-09-13T20:18:22.429Z"
   },
   {
    "duration": 38,
    "start_time": "2022-09-13T20:18:22.439Z"
   },
   {
    "duration": 9,
    "start_time": "2022-09-13T20:18:22.478Z"
   },
   {
    "duration": 10,
    "start_time": "2022-09-13T20:18:22.488Z"
   },
   {
    "duration": 30,
    "start_time": "2022-09-13T20:18:22.499Z"
   },
   {
    "duration": 14,
    "start_time": "2022-09-13T20:18:22.530Z"
   },
   {
    "duration": 134,
    "start_time": "2022-09-13T20:18:22.545Z"
   },
   {
    "duration": 55,
    "start_time": "2022-09-13T20:19:03.920Z"
   },
   {
    "duration": 14,
    "start_time": "2022-09-13T20:19:13.525Z"
   },
   {
    "duration": 360,
    "start_time": "2022-09-13T20:19:22.037Z"
   },
   {
    "duration": 70,
    "start_time": "2022-09-13T20:19:22.399Z"
   },
   {
    "duration": 5,
    "start_time": "2022-09-13T20:19:22.470Z"
   },
   {
    "duration": 30,
    "start_time": "2022-09-13T20:19:22.476Z"
   },
   {
    "duration": 45,
    "start_time": "2022-09-13T20:19:22.507Z"
   },
   {
    "duration": 12,
    "start_time": "2022-09-13T20:19:22.554Z"
   },
   {
    "duration": 25,
    "start_time": "2022-09-13T20:19:22.568Z"
   },
   {
    "duration": 9,
    "start_time": "2022-09-13T20:19:22.595Z"
   },
   {
    "duration": 11,
    "start_time": "2022-09-13T20:19:22.606Z"
   },
   {
    "duration": 41,
    "start_time": "2022-09-13T20:19:22.620Z"
   },
   {
    "duration": 12,
    "start_time": "2022-09-13T20:19:22.663Z"
   },
   {
    "duration": 47,
    "start_time": "2022-09-13T20:19:22.677Z"
   },
   {
    "duration": 14,
    "start_time": "2022-09-13T20:19:22.725Z"
   },
   {
    "duration": 6,
    "start_time": "2022-09-13T20:19:22.740Z"
   },
   {
    "duration": 36,
    "start_time": "2022-09-13T20:19:22.747Z"
   },
   {
    "duration": 8,
    "start_time": "2022-09-13T20:19:22.784Z"
   },
   {
    "duration": 98,
    "start_time": "2022-09-13T20:19:22.794Z"
   },
   {
    "duration": 16,
    "start_time": "2022-09-13T20:20:12.029Z"
   },
   {
    "duration": 415,
    "start_time": "2022-09-13T20:20:41.084Z"
   },
   {
    "duration": 68,
    "start_time": "2022-09-13T20:20:41.501Z"
   },
   {
    "duration": 4,
    "start_time": "2022-09-13T20:20:41.571Z"
   },
   {
    "duration": 8,
    "start_time": "2022-09-13T20:20:41.577Z"
   },
   {
    "duration": 42,
    "start_time": "2022-09-13T20:20:41.586Z"
   },
   {
    "duration": 11,
    "start_time": "2022-09-13T20:20:41.630Z"
   },
   {
    "duration": 14,
    "start_time": "2022-09-13T20:20:41.642Z"
   },
   {
    "duration": 4,
    "start_time": "2022-09-13T20:20:41.657Z"
   },
   {
    "duration": 7,
    "start_time": "2022-09-13T20:20:41.662Z"
   },
   {
    "duration": 38,
    "start_time": "2022-09-13T20:20:41.671Z"
   },
   {
    "duration": 8,
    "start_time": "2022-09-13T20:20:41.711Z"
   },
   {
    "duration": 35,
    "start_time": "2022-09-13T20:20:41.721Z"
   },
   {
    "duration": 9,
    "start_time": "2022-09-13T20:20:41.757Z"
   },
   {
    "duration": 6,
    "start_time": "2022-09-13T20:20:41.768Z"
   },
   {
    "duration": 26,
    "start_time": "2022-09-13T20:20:41.776Z"
   },
   {
    "duration": 9,
    "start_time": "2022-09-13T20:20:41.804Z"
   },
   {
    "duration": 14,
    "start_time": "2022-09-13T20:20:41.815Z"
   },
   {
    "duration": 15,
    "start_time": "2022-09-13T20:23:18.128Z"
   },
   {
    "duration": 16,
    "start_time": "2022-09-13T20:25:28.812Z"
   },
   {
    "duration": 14,
    "start_time": "2022-09-13T20:25:39.096Z"
   },
   {
    "duration": 377,
    "start_time": "2022-09-13T20:25:48.624Z"
   },
   {
    "duration": 69,
    "start_time": "2022-09-13T20:25:49.003Z"
   },
   {
    "duration": 5,
    "start_time": "2022-09-13T20:25:49.073Z"
   },
   {
    "duration": 20,
    "start_time": "2022-09-13T20:25:49.080Z"
   },
   {
    "duration": 48,
    "start_time": "2022-09-13T20:25:49.103Z"
   },
   {
    "duration": 10,
    "start_time": "2022-09-13T20:25:49.153Z"
   },
   {
    "duration": 13,
    "start_time": "2022-09-13T20:25:49.164Z"
   },
   {
    "duration": 4,
    "start_time": "2022-09-13T20:25:49.178Z"
   },
   {
    "duration": 26,
    "start_time": "2022-09-13T20:25:49.183Z"
   },
   {
    "duration": 31,
    "start_time": "2022-09-13T20:25:49.211Z"
   },
   {
    "duration": 9,
    "start_time": "2022-09-13T20:25:49.244Z"
   },
   {
    "duration": 44,
    "start_time": "2022-09-13T20:25:49.254Z"
   },
   {
    "duration": 10,
    "start_time": "2022-09-13T20:25:49.299Z"
   },
   {
    "duration": 11,
    "start_time": "2022-09-13T20:25:49.311Z"
   },
   {
    "duration": 32,
    "start_time": "2022-09-13T20:25:49.323Z"
   },
   {
    "duration": 9,
    "start_time": "2022-09-13T20:25:49.356Z"
   },
   {
    "duration": 23,
    "start_time": "2022-09-13T20:25:49.366Z"
   },
   {
    "duration": 67,
    "start_time": "2022-09-14T09:38:17.593Z"
   },
   {
    "duration": 6,
    "start_time": "2022-09-14T09:38:24.800Z"
   },
   {
    "duration": 3,
    "start_time": "2022-09-14T09:38:30.323Z"
   },
   {
    "duration": 20,
    "start_time": "2022-09-14T09:38:31.721Z"
   },
   {
    "duration": 6,
    "start_time": "2022-09-14T09:48:25.304Z"
   },
   {
    "duration": 13,
    "start_time": "2022-09-14T09:48:33.072Z"
   },
   {
    "duration": 8,
    "start_time": "2022-09-14T09:53:58.567Z"
   },
   {
    "duration": 20,
    "start_time": "2022-09-14T09:54:11.363Z"
   },
   {
    "duration": 14,
    "start_time": "2022-09-14T09:54:25.272Z"
   },
   {
    "duration": 28,
    "start_time": "2022-09-14T09:55:28.996Z"
   },
   {
    "duration": 13,
    "start_time": "2022-09-14T09:57:20.041Z"
   },
   {
    "duration": 10,
    "start_time": "2022-09-14T09:57:42.364Z"
   },
   {
    "duration": 23,
    "start_time": "2022-09-14T09:57:50.745Z"
   },
   {
    "duration": 19,
    "start_time": "2022-09-14T09:58:09.343Z"
   },
   {
    "duration": 561,
    "start_time": "2022-09-14T10:43:46.440Z"
   },
   {
    "duration": 3,
    "start_time": "2022-09-14T10:43:55.972Z"
   },
   {
    "duration": 133,
    "start_time": "2022-09-14T10:44:02.271Z"
   },
   {
    "duration": 12,
    "start_time": "2022-09-14T10:44:40.821Z"
   },
   {
    "duration": 599,
    "start_time": "2022-09-14T10:44:55.445Z"
   },
   {
    "duration": 75,
    "start_time": "2022-09-14T10:44:56.046Z"
   },
   {
    "duration": 5,
    "start_time": "2022-09-14T10:44:56.123Z"
   },
   {
    "duration": 8,
    "start_time": "2022-09-14T10:44:56.130Z"
   },
   {
    "duration": 39,
    "start_time": "2022-09-14T10:44:56.139Z"
   },
   {
    "duration": 9,
    "start_time": "2022-09-14T10:44:56.179Z"
   },
   {
    "duration": 3,
    "start_time": "2022-09-14T10:44:56.190Z"
   },
   {
    "duration": 36,
    "start_time": "2022-09-14T10:44:56.194Z"
   },
   {
    "duration": 5,
    "start_time": "2022-09-14T10:44:56.231Z"
   },
   {
    "duration": 17,
    "start_time": "2022-09-14T10:44:56.238Z"
   },
   {
    "duration": 47,
    "start_time": "2022-09-14T10:44:56.256Z"
   },
   {
    "duration": 22,
    "start_time": "2022-09-14T10:44:56.305Z"
   },
   {
    "duration": 32,
    "start_time": "2022-09-14T10:44:56.329Z"
   },
   {
    "duration": 9,
    "start_time": "2022-09-14T10:44:56.362Z"
   },
   {
    "duration": 6,
    "start_time": "2022-09-14T10:44:56.373Z"
   },
   {
    "duration": 26,
    "start_time": "2022-09-14T10:44:56.380Z"
   },
   {
    "duration": 18,
    "start_time": "2022-09-14T10:44:56.408Z"
   },
   {
    "duration": 76,
    "start_time": "2022-09-14T10:44:56.427Z"
   },
   {
    "duration": 0,
    "start_time": "2022-09-14T10:44:56.504Z"
   },
   {
    "duration": 0,
    "start_time": "2022-09-14T10:44:56.505Z"
   },
   {
    "duration": 0,
    "start_time": "2022-09-14T10:44:56.507Z"
   },
   {
    "duration": 0,
    "start_time": "2022-09-14T10:44:56.508Z"
   },
   {
    "duration": 636,
    "start_time": "2022-09-14T10:47:29.093Z"
   },
   {
    "duration": 65,
    "start_time": "2022-09-14T10:47:29.731Z"
   },
   {
    "duration": 5,
    "start_time": "2022-09-14T10:47:29.797Z"
   },
   {
    "duration": 20,
    "start_time": "2022-09-14T10:47:29.804Z"
   },
   {
    "duration": 51,
    "start_time": "2022-09-14T10:47:29.826Z"
   },
   {
    "duration": 11,
    "start_time": "2022-09-14T10:47:29.879Z"
   },
   {
    "duration": 30,
    "start_time": "2022-09-14T10:47:29.892Z"
   },
   {
    "duration": 20,
    "start_time": "2022-09-14T10:47:29.924Z"
   },
   {
    "duration": 5,
    "start_time": "2022-09-14T10:47:29.946Z"
   },
   {
    "duration": 27,
    "start_time": "2022-09-14T10:47:29.953Z"
   },
   {
    "duration": 58,
    "start_time": "2022-09-14T10:47:29.982Z"
   },
   {
    "duration": 9,
    "start_time": "2022-09-14T10:47:30.041Z"
   },
   {
    "duration": 50,
    "start_time": "2022-09-14T10:47:30.051Z"
   },
   {
    "duration": 17,
    "start_time": "2022-09-14T10:47:30.103Z"
   },
   {
    "duration": 11,
    "start_time": "2022-09-14T10:47:30.122Z"
   },
   {
    "duration": 45,
    "start_time": "2022-09-14T10:47:30.134Z"
   },
   {
    "duration": 10,
    "start_time": "2022-09-14T10:47:30.180Z"
   },
   {
    "duration": 100,
    "start_time": "2022-09-14T10:47:30.192Z"
   },
   {
    "duration": 0,
    "start_time": "2022-09-14T10:47:30.293Z"
   },
   {
    "duration": 0,
    "start_time": "2022-09-14T10:47:30.295Z"
   },
   {
    "duration": 0,
    "start_time": "2022-09-14T10:47:30.296Z"
   },
   {
    "duration": 0,
    "start_time": "2022-09-14T10:47:30.297Z"
   },
   {
    "duration": 750,
    "start_time": "2022-09-14T10:50:10.308Z"
   },
   {
    "duration": 82,
    "start_time": "2022-09-14T10:50:11.060Z"
   },
   {
    "duration": 7,
    "start_time": "2022-09-14T10:50:11.145Z"
   },
   {
    "duration": 6,
    "start_time": "2022-09-14T10:50:11.155Z"
   },
   {
    "duration": 50,
    "start_time": "2022-09-14T10:50:11.162Z"
   },
   {
    "duration": 14,
    "start_time": "2022-09-14T10:50:11.213Z"
   },
   {
    "duration": 4,
    "start_time": "2022-09-14T10:50:11.230Z"
   },
   {
    "duration": 21,
    "start_time": "2022-09-14T10:50:11.235Z"
   },
   {
    "duration": 5,
    "start_time": "2022-09-14T10:50:11.257Z"
   },
   {
    "duration": 6,
    "start_time": "2022-09-14T10:50:11.265Z"
   },
   {
    "duration": 54,
    "start_time": "2022-09-14T10:50:11.272Z"
   },
   {
    "duration": 10,
    "start_time": "2022-09-14T10:50:11.328Z"
   },
   {
    "duration": 35,
    "start_time": "2022-09-14T10:50:11.340Z"
   },
   {
    "duration": 10,
    "start_time": "2022-09-14T10:50:11.376Z"
   },
   {
    "duration": 6,
    "start_time": "2022-09-14T10:50:11.388Z"
   },
   {
    "duration": 31,
    "start_time": "2022-09-14T10:50:11.408Z"
   },
   {
    "duration": 8,
    "start_time": "2022-09-14T10:50:11.441Z"
   },
   {
    "duration": 1134,
    "start_time": "2022-09-14T10:50:11.451Z"
   },
   {
    "duration": 0,
    "start_time": "2022-09-14T10:50:12.587Z"
   },
   {
    "duration": 0,
    "start_time": "2022-09-14T10:50:12.589Z"
   },
   {
    "duration": 0,
    "start_time": "2022-09-14T10:50:12.590Z"
   },
   {
    "duration": 0,
    "start_time": "2022-09-14T10:50:12.591Z"
   },
   {
    "duration": 13,
    "start_time": "2022-09-14T10:50:31.648Z"
   },
   {
    "duration": 634,
    "start_time": "2022-09-14T10:50:44.976Z"
   },
   {
    "duration": 75,
    "start_time": "2022-09-14T10:50:45.613Z"
   },
   {
    "duration": 4,
    "start_time": "2022-09-14T10:50:45.690Z"
   },
   {
    "duration": 6,
    "start_time": "2022-09-14T10:50:45.696Z"
   },
   {
    "duration": 47,
    "start_time": "2022-09-14T10:50:45.703Z"
   },
   {
    "duration": 10,
    "start_time": "2022-09-14T10:50:45.752Z"
   },
   {
    "duration": 3,
    "start_time": "2022-09-14T10:50:45.763Z"
   },
   {
    "duration": 15,
    "start_time": "2022-09-14T10:50:45.767Z"
   },
   {
    "duration": 3,
    "start_time": "2022-09-14T10:50:45.784Z"
   },
   {
    "duration": 5,
    "start_time": "2022-09-14T10:50:45.809Z"
   },
   {
    "duration": 44,
    "start_time": "2022-09-14T10:50:45.816Z"
   },
   {
    "duration": 9,
    "start_time": "2022-09-14T10:50:45.862Z"
   },
   {
    "duration": 38,
    "start_time": "2022-09-14T10:50:45.873Z"
   },
   {
    "duration": 16,
    "start_time": "2022-09-14T10:50:45.913Z"
   },
   {
    "duration": 8,
    "start_time": "2022-09-14T10:50:45.930Z"
   },
   {
    "duration": 31,
    "start_time": "2022-09-14T10:50:45.940Z"
   },
   {
    "duration": 10,
    "start_time": "2022-09-14T10:50:45.972Z"
   },
   {
    "duration": 20,
    "start_time": "2022-09-14T10:50:45.984Z"
   },
   {
    "duration": 33,
    "start_time": "2022-09-14T10:50:46.005Z"
   },
   {
    "duration": 14,
    "start_time": "2022-09-14T10:50:46.040Z"
   },
   {
    "duration": 23,
    "start_time": "2022-09-14T10:50:46.056Z"
   },
   {
    "duration": 182,
    "start_time": "2022-09-14T10:50:46.081Z"
   },
   {
    "duration": 592,
    "start_time": "2022-09-14T10:51:21.246Z"
   },
   {
    "duration": 67,
    "start_time": "2022-09-14T10:51:21.840Z"
   },
   {
    "duration": 5,
    "start_time": "2022-09-14T10:51:21.909Z"
   },
   {
    "duration": 18,
    "start_time": "2022-09-14T10:51:21.916Z"
   },
   {
    "duration": 46,
    "start_time": "2022-09-14T10:51:21.936Z"
   },
   {
    "duration": 13,
    "start_time": "2022-09-14T10:51:21.983Z"
   },
   {
    "duration": 4,
    "start_time": "2022-09-14T10:51:22.008Z"
   },
   {
    "duration": 29,
    "start_time": "2022-09-14T10:51:22.013Z"
   },
   {
    "duration": 4,
    "start_time": "2022-09-14T10:51:22.044Z"
   },
   {
    "duration": 8,
    "start_time": "2022-09-14T10:51:22.050Z"
   },
   {
    "duration": 34,
    "start_time": "2022-09-14T10:51:22.059Z"
   },
   {
    "duration": 15,
    "start_time": "2022-09-14T10:51:22.095Z"
   },
   {
    "duration": 51,
    "start_time": "2022-09-14T10:51:22.112Z"
   },
   {
    "duration": 10,
    "start_time": "2022-09-14T10:51:22.164Z"
   },
   {
    "duration": 7,
    "start_time": "2022-09-14T10:51:22.175Z"
   },
   {
    "duration": 29,
    "start_time": "2022-09-14T10:51:22.183Z"
   },
   {
    "duration": 11,
    "start_time": "2022-09-14T10:51:22.217Z"
   },
   {
    "duration": 534,
    "start_time": "2022-09-14T10:51:22.230Z"
   },
   {
    "duration": 0,
    "start_time": "2022-09-14T10:51:22.766Z"
   },
   {
    "duration": 0,
    "start_time": "2022-09-14T10:51:22.767Z"
   },
   {
    "duration": 1,
    "start_time": "2022-09-14T10:51:22.771Z"
   },
   {
    "duration": 0,
    "start_time": "2022-09-14T10:51:22.772Z"
   },
   {
    "duration": 635,
    "start_time": "2022-09-14T10:55:25.368Z"
   },
   {
    "duration": 70,
    "start_time": "2022-09-14T10:55:26.005Z"
   },
   {
    "duration": 4,
    "start_time": "2022-09-14T10:55:26.077Z"
   },
   {
    "duration": 7,
    "start_time": "2022-09-14T10:55:26.083Z"
   },
   {
    "duration": 44,
    "start_time": "2022-09-14T10:55:26.091Z"
   },
   {
    "duration": 9,
    "start_time": "2022-09-14T10:55:26.137Z"
   },
   {
    "duration": 3,
    "start_time": "2022-09-14T10:55:26.147Z"
   },
   {
    "duration": 16,
    "start_time": "2022-09-14T10:55:26.151Z"
   },
   {
    "duration": 3,
    "start_time": "2022-09-14T10:55:26.169Z"
   },
   {
    "duration": 5,
    "start_time": "2022-09-14T10:55:26.175Z"
   },
   {
    "duration": 43,
    "start_time": "2022-09-14T10:55:26.182Z"
   },
   {
    "duration": 9,
    "start_time": "2022-09-14T10:55:26.226Z"
   },
   {
    "duration": 32,
    "start_time": "2022-09-14T10:55:26.237Z"
   },
   {
    "duration": 9,
    "start_time": "2022-09-14T10:55:26.270Z"
   },
   {
    "duration": 6,
    "start_time": "2022-09-14T10:55:26.280Z"
   },
   {
    "duration": 36,
    "start_time": "2022-09-14T10:55:26.288Z"
   },
   {
    "duration": 9,
    "start_time": "2022-09-14T10:55:26.325Z"
   },
   {
    "duration": 16,
    "start_time": "2022-09-14T10:55:26.335Z"
   },
   {
    "duration": 25,
    "start_time": "2022-09-14T10:55:26.353Z"
   },
   {
    "duration": 47,
    "start_time": "2022-09-14T10:55:26.379Z"
   },
   {
    "duration": 25,
    "start_time": "2022-09-14T10:55:26.428Z"
   },
   {
    "duration": 165,
    "start_time": "2022-09-14T10:55:26.454Z"
   },
   {
    "duration": 216,
    "start_time": "2022-09-14T10:56:00.740Z"
   },
   {
    "duration": 156,
    "start_time": "2022-09-14T10:56:11.276Z"
   },
   {
    "duration": 196,
    "start_time": "2022-09-14T10:58:53.749Z"
   },
   {
    "duration": 134,
    "start_time": "2022-09-14T10:59:35.036Z"
   },
   {
    "duration": 20,
    "start_time": "2022-09-14T11:05:23.688Z"
   },
   {
    "duration": 138,
    "start_time": "2022-09-14T11:14:07.207Z"
   },
   {
    "duration": 140,
    "start_time": "2022-09-14T11:14:27.876Z"
   },
   {
    "duration": 159,
    "start_time": "2022-09-14T11:14:39.130Z"
   },
   {
    "duration": 75,
    "start_time": "2022-09-14T11:47:01.826Z"
   },
   {
    "duration": 53,
    "start_time": "2022-09-14T11:48:47.316Z"
   },
   {
    "duration": 136,
    "start_time": "2022-09-14T11:48:51.340Z"
   },
   {
    "duration": 3104,
    "start_time": "2022-09-14T11:55:24.019Z"
   },
   {
    "duration": 486,
    "start_time": "2022-09-14T11:55:29.421Z"
   },
   {
    "duration": 6254,
    "start_time": "2022-09-14T11:57:26.292Z"
   },
   {
    "duration": 26,
    "start_time": "2022-09-14T12:00:35.463Z"
   },
   {
    "duration": 21,
    "start_time": "2022-09-14T12:01:19.764Z"
   },
   {
    "duration": 1975,
    "start_time": "2022-09-14T12:01:27.912Z"
   },
   {
    "duration": 1086,
    "start_time": "2022-09-14T12:01:29.889Z"
   },
   {
    "duration": 69,
    "start_time": "2022-09-14T12:01:30.977Z"
   },
   {
    "duration": 4,
    "start_time": "2022-09-14T12:01:31.047Z"
   },
   {
    "duration": 24,
    "start_time": "2022-09-14T12:01:31.053Z"
   },
   {
    "duration": 62,
    "start_time": "2022-09-14T12:01:31.079Z"
   },
   {
    "duration": 11,
    "start_time": "2022-09-14T12:01:31.142Z"
   },
   {
    "duration": 8,
    "start_time": "2022-09-14T12:01:31.154Z"
   },
   {
    "duration": 34,
    "start_time": "2022-09-14T12:01:31.164Z"
   },
   {
    "duration": 16,
    "start_time": "2022-09-14T12:01:31.201Z"
   },
   {
    "duration": 24,
    "start_time": "2022-09-14T12:01:31.219Z"
   },
   {
    "duration": 52,
    "start_time": "2022-09-14T12:01:31.245Z"
   },
   {
    "duration": 9,
    "start_time": "2022-09-14T12:01:31.299Z"
   },
   {
    "duration": 63,
    "start_time": "2022-09-14T12:01:31.310Z"
   },
   {
    "duration": 11,
    "start_time": "2022-09-14T12:01:31.374Z"
   },
   {
    "duration": 25,
    "start_time": "2022-09-14T12:01:31.387Z"
   },
   {
    "duration": 42,
    "start_time": "2022-09-14T12:01:31.414Z"
   },
   {
    "duration": 20,
    "start_time": "2022-09-14T12:01:31.458Z"
   },
   {
    "duration": 29,
    "start_time": "2022-09-14T12:01:31.480Z"
   },
   {
    "duration": 44,
    "start_time": "2022-09-14T12:01:31.510Z"
   },
   {
    "duration": 29,
    "start_time": "2022-09-14T12:01:31.556Z"
   },
   {
    "duration": 175,
    "start_time": "2022-09-14T12:01:31.586Z"
   },
   {
    "duration": 144,
    "start_time": "2022-09-14T12:01:31.762Z"
   },
   {
    "duration": 20,
    "start_time": "2022-09-14T12:01:31.908Z"
   },
   {
    "duration": 169,
    "start_time": "2022-09-14T12:01:31.930Z"
   },
   {
    "duration": 6542,
    "start_time": "2022-09-14T12:01:32.101Z"
   },
   {
    "duration": 9,
    "start_time": "2022-09-14T12:02:56.030Z"
   },
   {
    "duration": 9,
    "start_time": "2022-09-14T12:03:09.230Z"
   },
   {
    "duration": 10,
    "start_time": "2022-09-14T12:03:20.698Z"
   },
   {
    "duration": 9,
    "start_time": "2022-09-14T12:03:28.235Z"
   },
   {
    "duration": 10,
    "start_time": "2022-09-14T12:03:37.892Z"
   },
   {
    "duration": 14,
    "start_time": "2022-09-14T12:03:47.010Z"
   },
   {
    "duration": 4,
    "start_time": "2022-09-14T12:04:33.702Z"
   },
   {
    "duration": 3884,
    "start_time": "2022-09-14T12:06:34.267Z"
   },
   {
    "duration": 3961,
    "start_time": "2022-09-14T12:06:54.957Z"
   },
   {
    "duration": 3956,
    "start_time": "2022-09-14T12:09:13.648Z"
   },
   {
    "duration": 73609,
    "start_time": "2022-09-14T12:10:06.378Z"
   },
   {
    "duration": 15,
    "start_time": "2022-09-14T12:17:05.431Z"
   },
   {
    "duration": 25,
    "start_time": "2022-09-14T12:17:17.502Z"
   },
   {
    "duration": 12,
    "start_time": "2022-09-14T12:17:33.632Z"
   },
   {
    "duration": 1943,
    "start_time": "2022-09-14T12:17:43.642Z"
   },
   {
    "duration": 1068,
    "start_time": "2022-09-14T12:17:45.587Z"
   },
   {
    "duration": 68,
    "start_time": "2022-09-14T12:17:46.657Z"
   },
   {
    "duration": 4,
    "start_time": "2022-09-14T12:17:46.728Z"
   },
   {
    "duration": 11,
    "start_time": "2022-09-14T12:17:46.733Z"
   },
   {
    "duration": 38,
    "start_time": "2022-09-14T12:17:46.746Z"
   },
   {
    "duration": 24,
    "start_time": "2022-09-14T12:17:46.785Z"
   },
   {
    "duration": 2,
    "start_time": "2022-09-14T12:17:46.810Z"
   },
   {
    "duration": 18,
    "start_time": "2022-09-14T12:17:46.814Z"
   },
   {
    "duration": 4,
    "start_time": "2022-09-14T12:17:46.835Z"
   },
   {
    "duration": 6,
    "start_time": "2022-09-14T12:17:46.840Z"
   },
   {
    "duration": 34,
    "start_time": "2022-09-14T12:17:46.848Z"
   },
   {
    "duration": 8,
    "start_time": "2022-09-14T12:17:46.884Z"
   },
   {
    "duration": 45,
    "start_time": "2022-09-14T12:17:46.894Z"
   },
   {
    "duration": 9,
    "start_time": "2022-09-14T12:17:46.940Z"
   },
   {
    "duration": 6,
    "start_time": "2022-09-14T12:17:46.951Z"
   },
   {
    "duration": 27,
    "start_time": "2022-09-14T12:17:46.958Z"
   },
   {
    "duration": 7,
    "start_time": "2022-09-14T12:17:46.986Z"
   },
   {
    "duration": 16,
    "start_time": "2022-09-14T12:17:46.994Z"
   },
   {
    "duration": 24,
    "start_time": "2022-09-14T12:17:47.011Z"
   },
   {
    "duration": 21,
    "start_time": "2022-09-14T12:17:47.036Z"
   },
   {
    "duration": 189,
    "start_time": "2022-09-14T12:17:47.058Z"
   },
   {
    "duration": 150,
    "start_time": "2022-09-14T12:17:47.249Z"
   },
   {
    "duration": 26,
    "start_time": "2022-09-14T12:17:47.401Z"
   },
   {
    "duration": 148,
    "start_time": "2022-09-14T12:17:47.429Z"
   },
   {
    "duration": 3871,
    "start_time": "2022-09-14T12:17:47.579Z"
   },
   {
    "duration": 4,
    "start_time": "2022-09-14T12:17:51.452Z"
   },
   {
    "duration": 100,
    "start_time": "2022-09-14T13:05:20.009Z"
   },
   {
    "duration": 369,
    "start_time": "2022-09-14T13:11:11.885Z"
   },
   {
    "duration": 11,
    "start_time": "2022-09-14T13:13:50.843Z"
   },
   {
    "duration": 22,
    "start_time": "2022-09-14T13:17:43.252Z"
   },
   {
    "duration": 14,
    "start_time": "2022-09-14T13:17:50.382Z"
   },
   {
    "duration": 3,
    "start_time": "2022-09-14T13:19:45.704Z"
   },
   {
    "duration": 28,
    "start_time": "2022-09-14T13:21:46.147Z"
   },
   {
    "duration": 2107,
    "start_time": "2022-09-14T13:22:06.643Z"
   },
   {
    "duration": 1397,
    "start_time": "2022-09-14T13:22:08.753Z"
   },
   {
    "duration": 68,
    "start_time": "2022-09-14T13:22:10.152Z"
   },
   {
    "duration": 5,
    "start_time": "2022-09-14T13:22:10.222Z"
   },
   {
    "duration": 10,
    "start_time": "2022-09-14T13:22:10.228Z"
   },
   {
    "duration": 44,
    "start_time": "2022-09-14T13:22:10.239Z"
   },
   {
    "duration": 11,
    "start_time": "2022-09-14T13:22:10.285Z"
   },
   {
    "duration": 3,
    "start_time": "2022-09-14T13:22:10.309Z"
   },
   {
    "duration": 16,
    "start_time": "2022-09-14T13:22:10.313Z"
   },
   {
    "duration": 4,
    "start_time": "2022-09-14T13:22:10.332Z"
   },
   {
    "duration": 12,
    "start_time": "2022-09-14T13:22:10.338Z"
   },
   {
    "duration": 42,
    "start_time": "2022-09-14T13:22:10.352Z"
   },
   {
    "duration": 14,
    "start_time": "2022-09-14T13:22:10.396Z"
   },
   {
    "duration": 40,
    "start_time": "2022-09-14T13:22:10.411Z"
   },
   {
    "duration": 10,
    "start_time": "2022-09-14T13:22:10.453Z"
   },
   {
    "duration": 12,
    "start_time": "2022-09-14T13:22:10.464Z"
   },
   {
    "duration": 26,
    "start_time": "2022-09-14T13:22:10.478Z"
   },
   {
    "duration": 9,
    "start_time": "2022-09-14T13:22:10.505Z"
   },
   {
    "duration": 17,
    "start_time": "2022-09-14T13:22:10.515Z"
   },
   {
    "duration": 26,
    "start_time": "2022-09-14T13:22:10.534Z"
   },
   {
    "duration": 47,
    "start_time": "2022-09-14T13:22:10.562Z"
   },
   {
    "duration": 172,
    "start_time": "2022-09-14T13:22:10.611Z"
   },
   {
    "duration": 147,
    "start_time": "2022-09-14T13:22:10.785Z"
   },
   {
    "duration": 21,
    "start_time": "2022-09-14T13:22:10.934Z"
   },
   {
    "duration": 152,
    "start_time": "2022-09-14T13:22:10.957Z"
   },
   {
    "duration": 4040,
    "start_time": "2022-09-14T13:22:11.110Z"
   },
   {
    "duration": 5,
    "start_time": "2022-09-14T13:22:15.151Z"
   },
   {
    "duration": 12,
    "start_time": "2022-09-14T13:22:15.160Z"
   },
   {
    "duration": 44,
    "start_time": "2022-09-14T13:22:15.174Z"
   },
   {
    "duration": 43,
    "start_time": "2022-09-14T13:22:15.220Z"
   },
   {
    "duration": 2,
    "start_time": "2022-09-14T13:22:15.265Z"
   },
   {
    "duration": 4,
    "start_time": "2022-09-14T13:37:22.214Z"
   },
   {
    "duration": 13,
    "start_time": "2022-09-14T13:37:43.740Z"
   },
   {
    "duration": 29,
    "start_time": "2022-09-14T13:38:00.365Z"
   },
   {
    "duration": 5,
    "start_time": "2022-09-14T13:38:58.600Z"
   },
   {
    "duration": 2991,
    "start_time": "2022-09-14T18:42:39.959Z"
   },
   {
    "duration": 1499,
    "start_time": "2022-09-14T18:42:42.952Z"
   },
   {
    "duration": 151,
    "start_time": "2022-09-14T18:42:44.454Z"
   },
   {
    "duration": 10,
    "start_time": "2022-09-14T18:42:44.610Z"
   },
   {
    "duration": 15,
    "start_time": "2022-09-14T18:42:44.622Z"
   },
   {
    "duration": 57,
    "start_time": "2022-09-14T18:42:44.639Z"
   },
   {
    "duration": 18,
    "start_time": "2022-09-14T18:42:44.698Z"
   },
   {
    "duration": 6,
    "start_time": "2022-09-14T18:42:44.719Z"
   },
   {
    "duration": 18,
    "start_time": "2022-09-14T18:42:44.727Z"
   },
   {
    "duration": 5,
    "start_time": "2022-09-14T18:42:44.748Z"
   },
   {
    "duration": 15,
    "start_time": "2022-09-14T18:42:44.754Z"
   },
   {
    "duration": 109,
    "start_time": "2022-09-14T18:42:44.770Z"
   },
   {
    "duration": 9,
    "start_time": "2022-09-14T18:42:44.880Z"
   },
   {
    "duration": 63,
    "start_time": "2022-09-14T18:42:44.890Z"
   },
   {
    "duration": 9,
    "start_time": "2022-09-14T18:42:44.955Z"
   },
   {
    "duration": 8,
    "start_time": "2022-09-14T18:42:44.965Z"
   },
   {
    "duration": 66,
    "start_time": "2022-09-14T18:42:44.975Z"
   },
   {
    "duration": 10,
    "start_time": "2022-09-14T18:42:45.042Z"
   },
   {
    "duration": 22,
    "start_time": "2022-09-14T18:42:45.054Z"
   },
   {
    "duration": 33,
    "start_time": "2022-09-14T18:42:45.077Z"
   },
   {
    "duration": 28,
    "start_time": "2022-09-14T18:42:45.112Z"
   },
   {
    "duration": 214,
    "start_time": "2022-09-14T18:42:45.142Z"
   },
   {
    "duration": 169,
    "start_time": "2022-09-14T18:42:45.358Z"
   },
   {
    "duration": 22,
    "start_time": "2022-09-14T18:42:45.529Z"
   },
   {
    "duration": 190,
    "start_time": "2022-09-14T18:42:45.552Z"
   },
   {
    "duration": 4551,
    "start_time": "2022-09-14T18:42:45.744Z"
   },
   {
    "duration": 4,
    "start_time": "2022-09-14T18:42:50.297Z"
   },
   {
    "duration": 128,
    "start_time": "2022-09-14T18:42:50.309Z"
   },
   {
    "duration": 0,
    "start_time": "2022-09-14T18:42:50.438Z"
   },
   {
    "duration": 0,
    "start_time": "2022-09-14T18:42:50.440Z"
   },
   {
    "duration": 0,
    "start_time": "2022-09-14T18:42:50.441Z"
   },
   {
    "duration": 2143,
    "start_time": "2022-09-14T19:04:20.677Z"
   },
   {
    "duration": 1311,
    "start_time": "2022-09-14T19:04:22.822Z"
   },
   {
    "duration": 79,
    "start_time": "2022-09-14T19:04:24.135Z"
   },
   {
    "duration": 8,
    "start_time": "2022-09-14T19:04:24.217Z"
   },
   {
    "duration": 13,
    "start_time": "2022-09-14T19:04:24.227Z"
   },
   {
    "duration": 38,
    "start_time": "2022-09-14T19:04:24.241Z"
   },
   {
    "duration": 10,
    "start_time": "2022-09-14T19:04:24.280Z"
   },
   {
    "duration": 6,
    "start_time": "2022-09-14T19:04:24.302Z"
   },
   {
    "duration": 21,
    "start_time": "2022-09-14T19:04:24.310Z"
   },
   {
    "duration": 4,
    "start_time": "2022-09-14T19:04:24.334Z"
   },
   {
    "duration": 8,
    "start_time": "2022-09-14T19:04:24.339Z"
   },
   {
    "duration": 33,
    "start_time": "2022-09-14T19:04:24.348Z"
   },
   {
    "duration": 18,
    "start_time": "2022-09-14T19:04:24.391Z"
   },
   {
    "duration": 53,
    "start_time": "2022-09-14T19:04:24.412Z"
   },
   {
    "duration": 11,
    "start_time": "2022-09-14T19:04:24.467Z"
   },
   {
    "duration": 7,
    "start_time": "2022-09-14T19:04:24.480Z"
   },
   {
    "duration": 40,
    "start_time": "2022-09-14T19:04:24.488Z"
   },
   {
    "duration": 10,
    "start_time": "2022-09-14T19:04:24.530Z"
   },
   {
    "duration": 30,
    "start_time": "2022-09-14T19:04:24.542Z"
   },
   {
    "duration": 37,
    "start_time": "2022-09-14T19:04:24.574Z"
   },
   {
    "duration": 31,
    "start_time": "2022-09-14T19:04:24.615Z"
   },
   {
    "duration": 209,
    "start_time": "2022-09-14T19:04:24.648Z"
   },
   {
    "duration": 168,
    "start_time": "2022-09-14T19:04:24.859Z"
   },
   {
    "duration": 22,
    "start_time": "2022-09-14T19:04:25.028Z"
   },
   {
    "duration": 184,
    "start_time": "2022-09-14T19:04:25.052Z"
   },
   {
    "duration": 4594,
    "start_time": "2022-09-14T19:04:25.237Z"
   },
   {
    "duration": 4,
    "start_time": "2022-09-14T19:04:29.833Z"
   },
   {
    "duration": 105,
    "start_time": "2022-09-14T19:04:29.840Z"
   },
   {
    "duration": 0,
    "start_time": "2022-09-14T19:04:29.947Z"
   },
   {
    "duration": 0,
    "start_time": "2022-09-14T19:04:29.948Z"
   },
   {
    "duration": 0,
    "start_time": "2022-09-14T19:04:29.949Z"
   },
   {
    "duration": 4,
    "start_time": "2022-09-14T19:05:15.073Z"
   },
   {
    "duration": 2165,
    "start_time": "2022-09-14T19:05:22.807Z"
   },
   {
    "duration": 1353,
    "start_time": "2022-09-14T19:05:24.974Z"
   },
   {
    "duration": 65,
    "start_time": "2022-09-14T19:05:26.328Z"
   },
   {
    "duration": 5,
    "start_time": "2022-09-14T19:05:26.394Z"
   },
   {
    "duration": 20,
    "start_time": "2022-09-14T19:05:26.402Z"
   },
   {
    "duration": 44,
    "start_time": "2022-09-14T19:05:26.424Z"
   },
   {
    "duration": 12,
    "start_time": "2022-09-14T19:05:26.470Z"
   },
   {
    "duration": 3,
    "start_time": "2022-09-14T19:05:26.483Z"
   },
   {
    "duration": 23,
    "start_time": "2022-09-14T19:05:26.501Z"
   },
   {
    "duration": 4,
    "start_time": "2022-09-14T19:05:26.526Z"
   },
   {
    "duration": 5,
    "start_time": "2022-09-14T19:05:26.532Z"
   },
   {
    "duration": 32,
    "start_time": "2022-09-14T19:05:26.538Z"
   },
   {
    "duration": 29,
    "start_time": "2022-09-14T19:05:26.572Z"
   },
   {
    "duration": 36,
    "start_time": "2022-09-14T19:05:26.609Z"
   },
   {
    "duration": 12,
    "start_time": "2022-09-14T19:05:26.647Z"
   },
   {
    "duration": 12,
    "start_time": "2022-09-14T19:05:26.661Z"
   },
   {
    "duration": 32,
    "start_time": "2022-09-14T19:05:26.674Z"
   },
   {
    "duration": 13,
    "start_time": "2022-09-14T19:05:26.709Z"
   },
   {
    "duration": 17,
    "start_time": "2022-09-14T19:05:26.724Z"
   },
   {
    "duration": 30,
    "start_time": "2022-09-14T19:05:26.742Z"
   },
   {
    "duration": 54,
    "start_time": "2022-09-14T19:05:26.774Z"
   },
   {
    "duration": 235,
    "start_time": "2022-09-14T19:05:26.830Z"
   },
   {
    "duration": 179,
    "start_time": "2022-09-14T19:05:27.066Z"
   },
   {
    "duration": 33,
    "start_time": "2022-09-14T19:05:27.246Z"
   },
   {
    "duration": 191,
    "start_time": "2022-09-14T19:05:27.281Z"
   },
   {
    "duration": 4647,
    "start_time": "2022-09-14T19:05:27.473Z"
   },
   {
    "duration": 4,
    "start_time": "2022-09-14T19:05:32.122Z"
   },
   {
    "duration": 41,
    "start_time": "2022-09-14T19:05:32.128Z"
   },
   {
    "duration": 23,
    "start_time": "2022-09-14T19:05:32.171Z"
   },
   {
    "duration": 39,
    "start_time": "2022-09-14T19:05:32.196Z"
   },
   {
    "duration": 6,
    "start_time": "2022-09-14T19:05:32.237Z"
   },
   {
    "duration": 33,
    "start_time": "2022-09-14T19:06:18.438Z"
   },
   {
    "duration": 85,
    "start_time": "2022-09-14T19:17:39.156Z"
   },
   {
    "duration": 113,
    "start_time": "2022-09-14T19:19:27.876Z"
   },
   {
    "duration": 96,
    "start_time": "2022-09-14T19:19:36.208Z"
   },
   {
    "duration": 95,
    "start_time": "2022-09-14T19:19:52.309Z"
   },
   {
    "duration": 24,
    "start_time": "2022-09-14T19:21:12.803Z"
   },
   {
    "duration": 30,
    "start_time": "2022-09-14T19:21:22.717Z"
   },
   {
    "duration": 24,
    "start_time": "2022-09-14T19:21:28.342Z"
   },
   {
    "duration": 26,
    "start_time": "2022-09-14T19:21:34.206Z"
   },
   {
    "duration": 90,
    "start_time": "2022-09-14T19:21:41.616Z"
   },
   {
    "duration": 4,
    "start_time": "2022-09-15T12:00:32.799Z"
   },
   {
    "duration": 4,
    "start_time": "2022-09-15T12:07:14.872Z"
   },
   {
    "duration": 10,
    "start_time": "2022-09-15T12:11:39.197Z"
   },
   {
    "duration": 5,
    "start_time": "2022-09-15T12:12:14.263Z"
   },
   {
    "duration": 4,
    "start_time": "2022-09-15T12:13:47.328Z"
   },
   {
    "duration": 81,
    "start_time": "2022-09-15T12:14:24.787Z"
   },
   {
    "duration": 191,
    "start_time": "2022-09-15T12:14:39.122Z"
   },
   {
    "duration": 153,
    "start_time": "2022-09-15T12:14:53.569Z"
   },
   {
    "duration": 142,
    "start_time": "2022-09-15T12:15:01.871Z"
   },
   {
    "duration": 122,
    "start_time": "2022-09-15T12:15:05.856Z"
   },
   {
    "duration": 147,
    "start_time": "2022-09-15T12:15:09.699Z"
   },
   {
    "duration": 160,
    "start_time": "2022-09-15T12:15:28.132Z"
   },
   {
    "duration": 163,
    "start_time": "2022-09-15T12:17:00.349Z"
   },
   {
    "duration": 156,
    "start_time": "2022-09-15T12:17:36.992Z"
   },
   {
    "duration": 1386,
    "start_time": "2022-09-15T12:17:38.217Z"
   },
   {
    "duration": 115,
    "start_time": "2022-09-15T12:37:01.431Z"
   },
   {
    "duration": 2024,
    "start_time": "2022-09-15T12:37:55.116Z"
   },
   {
    "duration": 1253,
    "start_time": "2022-09-15T12:37:57.143Z"
   },
   {
    "duration": 69,
    "start_time": "2022-09-15T12:37:58.397Z"
   },
   {
    "duration": 5,
    "start_time": "2022-09-15T12:37:58.469Z"
   },
   {
    "duration": 9,
    "start_time": "2022-09-15T12:37:58.476Z"
   },
   {
    "duration": 41,
    "start_time": "2022-09-15T12:37:58.487Z"
   },
   {
    "duration": 12,
    "start_time": "2022-09-15T12:37:58.530Z"
   },
   {
    "duration": 4,
    "start_time": "2022-09-15T12:37:58.543Z"
   },
   {
    "duration": 19,
    "start_time": "2022-09-15T12:37:58.549Z"
   },
   {
    "duration": 4,
    "start_time": "2022-09-15T12:37:58.571Z"
   },
   {
    "duration": 26,
    "start_time": "2022-09-15T12:37:58.577Z"
   },
   {
    "duration": 40,
    "start_time": "2022-09-15T12:37:58.605Z"
   },
   {
    "duration": 15,
    "start_time": "2022-09-15T12:37:58.647Z"
   },
   {
    "duration": 50,
    "start_time": "2022-09-15T12:37:58.664Z"
   },
   {
    "duration": 11,
    "start_time": "2022-09-15T12:37:58.716Z"
   },
   {
    "duration": 8,
    "start_time": "2022-09-15T12:37:58.729Z"
   },
   {
    "duration": 28,
    "start_time": "2022-09-15T12:37:58.739Z"
   },
   {
    "duration": 9,
    "start_time": "2022-09-15T12:37:58.769Z"
   },
   {
    "duration": 35,
    "start_time": "2022-09-15T12:37:58.779Z"
   },
   {
    "duration": 28,
    "start_time": "2022-09-15T12:37:58.816Z"
   },
   {
    "duration": 22,
    "start_time": "2022-09-15T12:37:58.846Z"
   },
   {
    "duration": 219,
    "start_time": "2022-09-15T12:37:58.869Z"
   },
   {
    "duration": 171,
    "start_time": "2022-09-15T12:37:59.090Z"
   },
   {
    "duration": 25,
    "start_time": "2022-09-15T12:37:59.263Z"
   },
   {
    "duration": 194,
    "start_time": "2022-09-15T12:37:59.289Z"
   },
   {
    "duration": 4597,
    "start_time": "2022-09-15T12:37:59.485Z"
   },
   {
    "duration": 6,
    "start_time": "2022-09-15T12:38:04.085Z"
   },
   {
    "duration": 63,
    "start_time": "2022-09-15T12:38:04.104Z"
   },
   {
    "duration": 55,
    "start_time": "2022-09-15T12:38:04.170Z"
   },
   {
    "duration": 50,
    "start_time": "2022-09-15T12:38:04.227Z"
   },
   {
    "duration": 5,
    "start_time": "2022-09-15T12:38:04.278Z"
   },
   {
    "duration": 4,
    "start_time": "2022-09-15T12:38:04.299Z"
   },
   {
    "duration": 180,
    "start_time": "2022-09-15T12:38:04.304Z"
   },
   {
    "duration": 1021,
    "start_time": "2022-09-15T12:38:04.486Z"
   },
   {
    "duration": 2069,
    "start_time": "2022-09-15T12:39:09.995Z"
   },
   {
    "duration": 1488,
    "start_time": "2022-09-15T12:39:12.067Z"
   },
   {
    "duration": 66,
    "start_time": "2022-09-15T12:39:13.557Z"
   },
   {
    "duration": 7,
    "start_time": "2022-09-15T12:39:13.626Z"
   },
   {
    "duration": 14,
    "start_time": "2022-09-15T12:39:13.635Z"
   },
   {
    "duration": 62,
    "start_time": "2022-09-15T12:39:13.651Z"
   },
   {
    "duration": 16,
    "start_time": "2022-09-15T12:39:13.716Z"
   },
   {
    "duration": 3,
    "start_time": "2022-09-15T12:39:13.734Z"
   },
   {
    "duration": 27,
    "start_time": "2022-09-15T12:39:13.739Z"
   },
   {
    "duration": 31,
    "start_time": "2022-09-15T12:39:13.770Z"
   },
   {
    "duration": 11,
    "start_time": "2022-09-15T12:39:13.803Z"
   },
   {
    "duration": 32,
    "start_time": "2022-09-15T12:39:13.816Z"
   },
   {
    "duration": 15,
    "start_time": "2022-09-15T12:39:13.851Z"
   },
   {
    "duration": 45,
    "start_time": "2022-09-15T12:39:13.868Z"
   },
   {
    "duration": 18,
    "start_time": "2022-09-15T12:39:13.915Z"
   },
   {
    "duration": 9,
    "start_time": "2022-09-15T12:39:13.936Z"
   },
   {
    "duration": 30,
    "start_time": "2022-09-15T12:39:13.947Z"
   },
   {
    "duration": 25,
    "start_time": "2022-09-15T12:39:13.979Z"
   },
   {
    "duration": 28,
    "start_time": "2022-09-15T12:39:14.006Z"
   },
   {
    "duration": 41,
    "start_time": "2022-09-15T12:39:14.036Z"
   },
   {
    "duration": 26,
    "start_time": "2022-09-15T12:39:14.103Z"
   },
   {
    "duration": 319,
    "start_time": "2022-09-15T12:39:14.131Z"
   },
   {
    "duration": 261,
    "start_time": "2022-09-15T12:39:14.451Z"
   },
   {
    "duration": 29,
    "start_time": "2022-09-15T12:39:14.715Z"
   },
   {
    "duration": 226,
    "start_time": "2022-09-15T12:39:14.746Z"
   },
   {
    "duration": 4630,
    "start_time": "2022-09-15T12:39:14.974Z"
   },
   {
    "duration": 4,
    "start_time": "2022-09-15T12:39:19.606Z"
   },
   {
    "duration": 205,
    "start_time": "2022-09-15T12:39:19.613Z"
   },
   {
    "duration": 0,
    "start_time": "2022-09-15T12:39:19.819Z"
   },
   {
    "duration": 0,
    "start_time": "2022-09-15T12:39:19.821Z"
   },
   {
    "duration": 0,
    "start_time": "2022-09-15T12:39:19.822Z"
   },
   {
    "duration": 0,
    "start_time": "2022-09-15T12:39:19.823Z"
   },
   {
    "duration": 0,
    "start_time": "2022-09-15T12:39:19.824Z"
   },
   {
    "duration": 0,
    "start_time": "2022-09-15T12:39:19.825Z"
   },
   {
    "duration": 1963,
    "start_time": "2022-09-15T12:39:38.895Z"
   },
   {
    "duration": 1362,
    "start_time": "2022-09-15T12:39:40.860Z"
   },
   {
    "duration": 64,
    "start_time": "2022-09-15T12:39:42.224Z"
   },
   {
    "duration": 5,
    "start_time": "2022-09-15T12:39:42.289Z"
   },
   {
    "duration": 8,
    "start_time": "2022-09-15T12:39:42.295Z"
   },
   {
    "duration": 40,
    "start_time": "2022-09-15T12:39:42.305Z"
   },
   {
    "duration": 12,
    "start_time": "2022-09-15T12:39:42.346Z"
   },
   {
    "duration": 7,
    "start_time": "2022-09-15T12:39:42.359Z"
   },
   {
    "duration": 23,
    "start_time": "2022-09-15T12:39:42.367Z"
   },
   {
    "duration": 5,
    "start_time": "2022-09-15T12:39:42.401Z"
   },
   {
    "duration": 8,
    "start_time": "2022-09-15T12:39:42.407Z"
   },
   {
    "duration": 34,
    "start_time": "2022-09-15T12:39:42.416Z"
   },
   {
    "duration": 10,
    "start_time": "2022-09-15T12:39:42.452Z"
   },
   {
    "duration": 41,
    "start_time": "2022-09-15T12:39:42.464Z"
   },
   {
    "duration": 12,
    "start_time": "2022-09-15T12:39:42.507Z"
   },
   {
    "duration": 13,
    "start_time": "2022-09-15T12:39:42.521Z"
   },
   {
    "duration": 31,
    "start_time": "2022-09-15T12:39:42.536Z"
   },
   {
    "duration": 10,
    "start_time": "2022-09-15T12:39:42.568Z"
   },
   {
    "duration": 23,
    "start_time": "2022-09-15T12:39:42.580Z"
   },
   {
    "duration": 30,
    "start_time": "2022-09-15T12:39:42.605Z"
   },
   {
    "duration": 24,
    "start_time": "2022-09-15T12:39:42.636Z"
   },
   {
    "duration": 219,
    "start_time": "2022-09-15T12:39:42.662Z"
   },
   {
    "duration": 167,
    "start_time": "2022-09-15T12:39:42.882Z"
   },
   {
    "duration": 22,
    "start_time": "2022-09-15T12:39:43.051Z"
   },
   {
    "duration": 166,
    "start_time": "2022-09-15T12:39:43.074Z"
   },
   {
    "duration": 4665,
    "start_time": "2022-09-15T12:39:43.242Z"
   },
   {
    "duration": 5,
    "start_time": "2022-09-15T12:39:47.909Z"
   },
   {
    "duration": 14,
    "start_time": "2022-09-15T12:39:47.919Z"
   },
   {
    "duration": 18,
    "start_time": "2022-09-15T12:39:47.935Z"
   },
   {
    "duration": 64,
    "start_time": "2022-09-15T12:39:47.954Z"
   },
   {
    "duration": 5,
    "start_time": "2022-09-15T12:39:48.021Z"
   },
   {
    "duration": 9,
    "start_time": "2022-09-15T12:39:48.027Z"
   },
   {
    "duration": 78,
    "start_time": "2022-09-15T12:39:48.038Z"
   },
   {
    "duration": 1094,
    "start_time": "2022-09-15T12:39:48.118Z"
   },
   {
    "duration": 52,
    "start_time": "2022-09-15T12:40:47.242Z"
   },
   {
    "duration": 928,
    "start_time": "2022-09-15T12:41:05.775Z"
   },
   {
    "duration": 1056,
    "start_time": "2022-09-15T12:41:07.847Z"
   },
   {
    "duration": 1944,
    "start_time": "2022-09-15T12:41:49.270Z"
   },
   {
    "duration": 1345,
    "start_time": "2022-09-15T12:41:51.217Z"
   },
   {
    "duration": 66,
    "start_time": "2022-09-15T12:41:52.564Z"
   },
   {
    "duration": 5,
    "start_time": "2022-09-15T12:41:52.632Z"
   },
   {
    "duration": 7,
    "start_time": "2022-09-15T12:41:52.638Z"
   },
   {
    "duration": 84,
    "start_time": "2022-09-15T12:41:52.647Z"
   },
   {
    "duration": 19,
    "start_time": "2022-09-15T12:41:52.733Z"
   },
   {
    "duration": 3,
    "start_time": "2022-09-15T12:41:52.754Z"
   },
   {
    "duration": 18,
    "start_time": "2022-09-15T12:41:52.758Z"
   },
   {
    "duration": 25,
    "start_time": "2022-09-15T12:41:52.779Z"
   },
   {
    "duration": 7,
    "start_time": "2022-09-15T12:41:52.806Z"
   },
   {
    "duration": 35,
    "start_time": "2022-09-15T12:41:52.815Z"
   },
   {
    "duration": 12,
    "start_time": "2022-09-15T12:41:52.851Z"
   },
   {
    "duration": 45,
    "start_time": "2022-09-15T12:41:52.864Z"
   },
   {
    "duration": 11,
    "start_time": "2022-09-15T12:41:52.911Z"
   },
   {
    "duration": 7,
    "start_time": "2022-09-15T12:41:52.924Z"
   },
   {
    "duration": 32,
    "start_time": "2022-09-15T12:41:52.933Z"
   },
   {
    "duration": 33,
    "start_time": "2022-09-15T12:41:52.967Z"
   },
   {
    "duration": 18,
    "start_time": "2022-09-15T12:41:53.002Z"
   },
   {
    "duration": 31,
    "start_time": "2022-09-15T12:41:53.022Z"
   },
   {
    "duration": 54,
    "start_time": "2022-09-15T12:41:53.055Z"
   },
   {
    "duration": 224,
    "start_time": "2022-09-15T12:41:53.111Z"
   },
   {
    "duration": 180,
    "start_time": "2022-09-15T12:41:53.337Z"
   },
   {
    "duration": 24,
    "start_time": "2022-09-15T12:41:53.520Z"
   },
   {
    "duration": 175,
    "start_time": "2022-09-15T12:41:53.546Z"
   },
   {
    "duration": 4649,
    "start_time": "2022-09-15T12:41:53.722Z"
   },
   {
    "duration": 4,
    "start_time": "2022-09-15T12:41:58.373Z"
   },
   {
    "duration": 51,
    "start_time": "2022-09-15T12:41:58.380Z"
   },
   {
    "duration": 20,
    "start_time": "2022-09-15T12:41:58.432Z"
   },
   {
    "duration": 64,
    "start_time": "2022-09-15T12:41:58.454Z"
   },
   {
    "duration": 6,
    "start_time": "2022-09-15T12:41:58.519Z"
   },
   {
    "duration": 10,
    "start_time": "2022-09-15T12:41:58.527Z"
   },
   {
    "duration": 169,
    "start_time": "2022-09-15T12:41:58.539Z"
   },
   {
    "duration": 995,
    "start_time": "2022-09-15T12:41:58.709Z"
   },
   {
    "duration": 1561,
    "start_time": "2022-09-15T12:42:53.554Z"
   },
   {
    "duration": 1980,
    "start_time": "2022-09-15T12:43:38.633Z"
   },
   {
    "duration": 1305,
    "start_time": "2022-09-15T12:43:40.615Z"
   },
   {
    "duration": 65,
    "start_time": "2022-09-15T12:43:41.922Z"
   },
   {
    "duration": 5,
    "start_time": "2022-09-15T12:43:41.988Z"
   },
   {
    "duration": 5,
    "start_time": "2022-09-15T12:43:41.995Z"
   },
   {
    "duration": 41,
    "start_time": "2022-09-15T12:43:42.001Z"
   },
   {
    "duration": 11,
    "start_time": "2022-09-15T12:43:42.043Z"
   },
   {
    "duration": 3,
    "start_time": "2022-09-15T12:43:42.055Z"
   },
   {
    "duration": 17,
    "start_time": "2022-09-15T12:43:42.060Z"
   },
   {
    "duration": 4,
    "start_time": "2022-09-15T12:43:42.100Z"
   },
   {
    "duration": 5,
    "start_time": "2022-09-15T12:43:42.106Z"
   },
   {
    "duration": 35,
    "start_time": "2022-09-15T12:43:42.113Z"
   },
   {
    "duration": 10,
    "start_time": "2022-09-15T12:43:42.150Z"
   },
   {
    "duration": 45,
    "start_time": "2022-09-15T12:43:42.163Z"
   },
   {
    "duration": 12,
    "start_time": "2022-09-15T12:43:42.210Z"
   },
   {
    "duration": 12,
    "start_time": "2022-09-15T12:43:42.224Z"
   },
   {
    "duration": 29,
    "start_time": "2022-09-15T12:43:42.238Z"
   },
   {
    "duration": 10,
    "start_time": "2022-09-15T12:43:42.268Z"
   },
   {
    "duration": 33,
    "start_time": "2022-09-15T12:43:42.280Z"
   },
   {
    "duration": 30,
    "start_time": "2022-09-15T12:43:42.315Z"
   },
   {
    "duration": 24,
    "start_time": "2022-09-15T12:43:42.346Z"
   },
   {
    "duration": 229,
    "start_time": "2022-09-15T12:43:42.371Z"
   },
   {
    "duration": 165,
    "start_time": "2022-09-15T12:43:42.602Z"
   },
   {
    "duration": 34,
    "start_time": "2022-09-15T12:43:42.769Z"
   },
   {
    "duration": 201,
    "start_time": "2022-09-15T12:43:42.805Z"
   },
   {
    "duration": 4729,
    "start_time": "2022-09-15T12:43:43.008Z"
   },
   {
    "duration": 3,
    "start_time": "2022-09-15T12:43:47.740Z"
   },
   {
    "duration": 73,
    "start_time": "2022-09-15T12:43:47.746Z"
   },
   {
    "duration": 21,
    "start_time": "2022-09-15T12:43:47.821Z"
   },
   {
    "duration": 38,
    "start_time": "2022-09-15T12:43:47.844Z"
   },
   {
    "duration": 20,
    "start_time": "2022-09-15T12:43:47.884Z"
   },
   {
    "duration": 5,
    "start_time": "2022-09-15T12:43:47.906Z"
   },
   {
    "duration": 195,
    "start_time": "2022-09-15T12:43:47.913Z"
   },
   {
    "duration": 1830,
    "start_time": "2022-09-15T12:43:48.110Z"
   },
   {
    "duration": 1929,
    "start_time": "2022-09-15T12:44:34.301Z"
   },
   {
    "duration": 1338,
    "start_time": "2022-09-15T12:44:36.233Z"
   },
   {
    "duration": 66,
    "start_time": "2022-09-15T12:44:37.572Z"
   },
   {
    "duration": 4,
    "start_time": "2022-09-15T12:44:37.640Z"
   },
   {
    "duration": 9,
    "start_time": "2022-09-15T12:44:37.646Z"
   },
   {
    "duration": 48,
    "start_time": "2022-09-15T12:44:37.656Z"
   },
   {
    "duration": 12,
    "start_time": "2022-09-15T12:44:37.705Z"
   },
   {
    "duration": 3,
    "start_time": "2022-09-15T12:44:37.718Z"
   },
   {
    "duration": 16,
    "start_time": "2022-09-15T12:44:37.723Z"
   },
   {
    "duration": 5,
    "start_time": "2022-09-15T12:44:37.741Z"
   },
   {
    "duration": 6,
    "start_time": "2022-09-15T12:44:37.747Z"
   },
   {
    "duration": 47,
    "start_time": "2022-09-15T12:44:37.755Z"
   },
   {
    "duration": 10,
    "start_time": "2022-09-15T12:44:37.803Z"
   },
   {
    "duration": 35,
    "start_time": "2022-09-15T12:44:37.815Z"
   },
   {
    "duration": 10,
    "start_time": "2022-09-15T12:44:37.851Z"
   },
   {
    "duration": 7,
    "start_time": "2022-09-15T12:44:37.862Z"
   },
   {
    "duration": 30,
    "start_time": "2022-09-15T12:44:37.870Z"
   },
   {
    "duration": 9,
    "start_time": "2022-09-15T12:44:37.902Z"
   },
   {
    "duration": 21,
    "start_time": "2022-09-15T12:44:37.912Z"
   },
   {
    "duration": 33,
    "start_time": "2022-09-15T12:44:37.934Z"
   },
   {
    "duration": 45,
    "start_time": "2022-09-15T12:44:37.969Z"
   },
   {
    "duration": 200,
    "start_time": "2022-09-15T12:44:38.016Z"
   },
   {
    "duration": 190,
    "start_time": "2022-09-15T12:44:38.217Z"
   },
   {
    "duration": 27,
    "start_time": "2022-09-15T12:44:38.409Z"
   },
   {
    "duration": 186,
    "start_time": "2022-09-15T12:44:38.438Z"
   },
   {
    "duration": 5670,
    "start_time": "2022-09-15T12:44:38.626Z"
   },
   {
    "duration": 5,
    "start_time": "2022-09-15T12:44:44.299Z"
   },
   {
    "duration": 43,
    "start_time": "2022-09-15T12:44:44.307Z"
   },
   {
    "duration": 23,
    "start_time": "2022-09-15T12:44:44.352Z"
   },
   {
    "duration": 77,
    "start_time": "2022-09-15T12:44:44.376Z"
   },
   {
    "duration": 6,
    "start_time": "2022-09-15T12:44:44.455Z"
   },
   {
    "duration": 14,
    "start_time": "2022-09-15T12:44:44.463Z"
   },
   {
    "duration": 152,
    "start_time": "2022-09-15T12:44:44.480Z"
   },
   {
    "duration": 67,
    "start_time": "2022-09-15T12:44:44.633Z"
   },
   {
    "duration": 2147,
    "start_time": "2022-09-15T12:45:23.142Z"
   },
   {
    "duration": 1348,
    "start_time": "2022-09-15T12:45:25.292Z"
   },
   {
    "duration": 66,
    "start_time": "2022-09-15T12:45:26.642Z"
   },
   {
    "duration": 4,
    "start_time": "2022-09-15T12:45:26.710Z"
   },
   {
    "duration": 8,
    "start_time": "2022-09-15T12:45:26.715Z"
   },
   {
    "duration": 43,
    "start_time": "2022-09-15T12:45:26.724Z"
   },
   {
    "duration": 13,
    "start_time": "2022-09-15T12:45:26.768Z"
   },
   {
    "duration": 4,
    "start_time": "2022-09-15T12:45:26.802Z"
   },
   {
    "duration": 21,
    "start_time": "2022-09-15T12:45:26.807Z"
   },
   {
    "duration": 6,
    "start_time": "2022-09-15T12:45:26.832Z"
   },
   {
    "duration": 6,
    "start_time": "2022-09-15T12:45:26.840Z"
   },
   {
    "duration": 58,
    "start_time": "2022-09-15T12:45:26.848Z"
   },
   {
    "duration": 17,
    "start_time": "2022-09-15T12:45:26.908Z"
   },
   {
    "duration": 43,
    "start_time": "2022-09-15T12:45:26.927Z"
   },
   {
    "duration": 11,
    "start_time": "2022-09-15T12:45:26.971Z"
   },
   {
    "duration": 6,
    "start_time": "2022-09-15T12:45:26.983Z"
   },
   {
    "duration": 34,
    "start_time": "2022-09-15T12:45:26.991Z"
   },
   {
    "duration": 9,
    "start_time": "2022-09-15T12:45:27.026Z"
   },
   {
    "duration": 19,
    "start_time": "2022-09-15T12:45:27.036Z"
   },
   {
    "duration": 26,
    "start_time": "2022-09-15T12:45:27.057Z"
   },
   {
    "duration": 36,
    "start_time": "2022-09-15T12:45:27.084Z"
   },
   {
    "duration": 203,
    "start_time": "2022-09-15T12:45:27.122Z"
   },
   {
    "duration": 168,
    "start_time": "2022-09-15T12:45:27.327Z"
   },
   {
    "duration": 26,
    "start_time": "2022-09-15T12:45:27.497Z"
   },
   {
    "duration": 184,
    "start_time": "2022-09-15T12:45:27.525Z"
   },
   {
    "duration": 4414,
    "start_time": "2022-09-15T12:45:27.711Z"
   },
   {
    "duration": 4,
    "start_time": "2022-09-15T12:45:32.127Z"
   },
   {
    "duration": 65,
    "start_time": "2022-09-15T12:45:32.135Z"
   },
   {
    "duration": 22,
    "start_time": "2022-09-15T12:45:32.202Z"
   },
   {
    "duration": 37,
    "start_time": "2022-09-15T12:45:32.226Z"
   },
   {
    "duration": 5,
    "start_time": "2022-09-15T12:45:32.264Z"
   },
   {
    "duration": 3,
    "start_time": "2022-09-15T12:45:32.300Z"
   },
   {
    "duration": 180,
    "start_time": "2022-09-15T12:45:32.304Z"
   },
   {
    "duration": 1418,
    "start_time": "2022-09-15T12:45:32.485Z"
   },
   {
    "duration": 2463,
    "start_time": "2022-09-15T12:45:56.540Z"
   },
   {
    "duration": 1632,
    "start_time": "2022-09-15T12:46:05.589Z"
   },
   {
    "duration": 1622,
    "start_time": "2022-09-15T12:56:56.386Z"
   },
   {
    "duration": 161,
    "start_time": "2022-09-15T12:57:01.066Z"
   },
   {
    "duration": 160,
    "start_time": "2022-09-15T12:57:03.280Z"
   },
   {
    "duration": 27,
    "start_time": "2022-09-15T13:00:39.860Z"
   },
   {
    "duration": 242894,
    "start_time": "2022-09-15T13:01:41.922Z"
   },
   {
    "duration": 119,
    "start_time": "2022-09-15T13:06:16.752Z"
   },
   {
    "duration": 59,
    "start_time": "2022-09-15T13:06:24.828Z"
   },
   {
    "duration": 8231,
    "start_time": "2022-09-15T13:06:29.848Z"
   },
   {
    "duration": 8090,
    "start_time": "2022-09-15T13:11:13.282Z"
   },
   {
    "duration": 179,
    "start_time": "2022-09-15T13:11:49.827Z"
   },
   {
    "duration": 8170,
    "start_time": "2022-09-15T13:13:28.186Z"
   },
   {
    "duration": 1871,
    "start_time": "2022-09-15T13:13:54.924Z"
   },
   {
    "duration": 1341,
    "start_time": "2022-09-15T13:13:56.797Z"
   },
   {
    "duration": 65,
    "start_time": "2022-09-15T13:13:58.139Z"
   },
   {
    "duration": 5,
    "start_time": "2022-09-15T13:13:58.205Z"
   },
   {
    "duration": 8,
    "start_time": "2022-09-15T13:13:58.212Z"
   },
   {
    "duration": 37,
    "start_time": "2022-09-15T13:13:58.222Z"
   },
   {
    "duration": 10,
    "start_time": "2022-09-15T13:13:58.261Z"
   },
   {
    "duration": 3,
    "start_time": "2022-09-15T13:13:58.272Z"
   },
   {
    "duration": 34,
    "start_time": "2022-09-15T13:13:58.277Z"
   },
   {
    "duration": 4,
    "start_time": "2022-09-15T13:13:58.313Z"
   },
   {
    "duration": 10,
    "start_time": "2022-09-15T13:13:58.319Z"
   },
   {
    "duration": 33,
    "start_time": "2022-09-15T13:13:58.330Z"
   },
   {
    "duration": 10,
    "start_time": "2022-09-15T13:13:58.365Z"
   },
   {
    "duration": 38,
    "start_time": "2022-09-15T13:13:58.377Z"
   },
   {
    "duration": 11,
    "start_time": "2022-09-15T13:13:58.416Z"
   },
   {
    "duration": 7,
    "start_time": "2022-09-15T13:13:58.428Z"
   },
   {
    "duration": 24,
    "start_time": "2022-09-15T13:13:58.436Z"
   },
   {
    "duration": 8,
    "start_time": "2022-09-15T13:13:58.462Z"
   },
   {
    "duration": 30,
    "start_time": "2022-09-15T13:13:58.472Z"
   },
   {
    "duration": 27,
    "start_time": "2022-09-15T13:13:58.504Z"
   },
   {
    "duration": 24,
    "start_time": "2022-09-15T13:13:58.532Z"
   },
   {
    "duration": 212,
    "start_time": "2022-09-15T13:13:58.558Z"
   },
   {
    "duration": 149,
    "start_time": "2022-09-15T13:13:58.772Z"
   },
   {
    "duration": 20,
    "start_time": "2022-09-15T13:13:58.922Z"
   },
   {
    "duration": 226,
    "start_time": "2022-09-15T13:13:58.944Z"
   },
   {
    "duration": 4425,
    "start_time": "2022-09-15T13:13:59.171Z"
   },
   {
    "duration": 5,
    "start_time": "2022-09-15T13:14:03.599Z"
   },
   {
    "duration": 63,
    "start_time": "2022-09-15T13:14:03.607Z"
   },
   {
    "duration": 0,
    "start_time": "2022-09-15T13:14:03.672Z"
   },
   {
    "duration": 0,
    "start_time": "2022-09-15T13:14:03.674Z"
   },
   {
    "duration": 0,
    "start_time": "2022-09-15T13:14:03.675Z"
   },
   {
    "duration": 0,
    "start_time": "2022-09-15T13:14:03.676Z"
   },
   {
    "duration": 0,
    "start_time": "2022-09-15T13:14:03.678Z"
   },
   {
    "duration": 0,
    "start_time": "2022-09-15T13:14:03.679Z"
   },
   {
    "duration": 0,
    "start_time": "2022-09-15T13:14:03.680Z"
   },
   {
    "duration": 0,
    "start_time": "2022-09-15T13:14:03.682Z"
   },
   {
    "duration": 1930,
    "start_time": "2022-09-15T13:14:19.571Z"
   },
   {
    "duration": 1533,
    "start_time": "2022-09-15T13:14:21.504Z"
   },
   {
    "duration": 72,
    "start_time": "2022-09-15T13:14:23.039Z"
   },
   {
    "duration": 7,
    "start_time": "2022-09-15T13:14:23.114Z"
   },
   {
    "duration": 11,
    "start_time": "2022-09-15T13:14:23.125Z"
   },
   {
    "duration": 40,
    "start_time": "2022-09-15T13:14:23.138Z"
   },
   {
    "duration": 32,
    "start_time": "2022-09-15T13:14:23.180Z"
   },
   {
    "duration": 4,
    "start_time": "2022-09-15T13:14:23.214Z"
   },
   {
    "duration": 29,
    "start_time": "2022-09-15T13:14:23.220Z"
   },
   {
    "duration": 6,
    "start_time": "2022-09-15T13:14:23.253Z"
   },
   {
    "duration": 10,
    "start_time": "2022-09-15T13:14:23.260Z"
   },
   {
    "duration": 57,
    "start_time": "2022-09-15T13:14:23.272Z"
   },
   {
    "duration": 15,
    "start_time": "2022-09-15T13:14:23.332Z"
   },
   {
    "duration": 38,
    "start_time": "2022-09-15T13:14:23.349Z"
   },
   {
    "duration": 16,
    "start_time": "2022-09-15T13:14:23.389Z"
   },
   {
    "duration": 6,
    "start_time": "2022-09-15T13:14:23.408Z"
   },
   {
    "duration": 34,
    "start_time": "2022-09-15T13:14:23.416Z"
   },
   {
    "duration": 9,
    "start_time": "2022-09-15T13:14:23.452Z"
   },
   {
    "duration": 44,
    "start_time": "2022-09-15T13:14:23.463Z"
   },
   {
    "duration": 30,
    "start_time": "2022-09-15T13:14:23.508Z"
   },
   {
    "duration": 22,
    "start_time": "2022-09-15T13:14:23.540Z"
   },
   {
    "duration": 205,
    "start_time": "2022-09-15T13:14:23.563Z"
   },
   {
    "duration": 174,
    "start_time": "2022-09-15T13:14:23.770Z"
   },
   {
    "duration": 28,
    "start_time": "2022-09-15T13:14:23.945Z"
   },
   {
    "duration": 280,
    "start_time": "2022-09-15T13:14:23.975Z"
   },
   {
    "duration": 4355,
    "start_time": "2022-09-15T13:14:24.258Z"
   },
   {
    "duration": 5,
    "start_time": "2022-09-15T13:14:28.615Z"
   },
   {
    "duration": 14,
    "start_time": "2022-09-15T13:14:28.624Z"
   },
   {
    "duration": 17,
    "start_time": "2022-09-15T13:14:28.640Z"
   },
   {
    "duration": 67,
    "start_time": "2022-09-15T13:14:28.659Z"
   },
   {
    "duration": 5,
    "start_time": "2022-09-15T13:14:28.728Z"
   },
   {
    "duration": 7,
    "start_time": "2022-09-15T13:14:28.734Z"
   },
   {
    "duration": 1560,
    "start_time": "2022-09-15T13:14:28.742Z"
   },
   {
    "duration": 146,
    "start_time": "2022-09-15T13:14:30.307Z"
   },
   {
    "duration": 67,
    "start_time": "2022-09-15T13:14:30.454Z"
   },
   {
    "duration": 3022,
    "start_time": "2022-09-15T13:14:30.522Z"
   },
   {
    "duration": 1935,
    "start_time": "2022-09-15T13:15:19.891Z"
   },
   {
    "duration": 1330,
    "start_time": "2022-09-15T13:15:21.829Z"
   },
   {
    "duration": 67,
    "start_time": "2022-09-15T13:15:23.161Z"
   },
   {
    "duration": 5,
    "start_time": "2022-09-15T13:15:23.230Z"
   },
   {
    "duration": 8,
    "start_time": "2022-09-15T13:15:23.236Z"
   },
   {
    "duration": 40,
    "start_time": "2022-09-15T13:15:23.246Z"
   },
   {
    "duration": 11,
    "start_time": "2022-09-15T13:15:23.300Z"
   },
   {
    "duration": 4,
    "start_time": "2022-09-15T13:15:23.313Z"
   },
   {
    "duration": 22,
    "start_time": "2022-09-15T13:15:23.318Z"
   },
   {
    "duration": 6,
    "start_time": "2022-09-15T13:15:23.343Z"
   },
   {
    "duration": 5,
    "start_time": "2022-09-15T13:15:23.351Z"
   },
   {
    "duration": 63,
    "start_time": "2022-09-15T13:15:23.358Z"
   },
   {
    "duration": 15,
    "start_time": "2022-09-15T13:15:23.423Z"
   },
   {
    "duration": 43,
    "start_time": "2022-09-15T13:15:23.439Z"
   },
   {
    "duration": 18,
    "start_time": "2022-09-15T13:15:23.483Z"
   },
   {
    "duration": 6,
    "start_time": "2022-09-15T13:15:23.502Z"
   },
   {
    "duration": 27,
    "start_time": "2022-09-15T13:15:23.509Z"
   },
   {
    "duration": 9,
    "start_time": "2022-09-15T13:15:23.538Z"
   },
   {
    "duration": 19,
    "start_time": "2022-09-15T13:15:23.549Z"
   },
   {
    "duration": 60,
    "start_time": "2022-09-15T13:15:23.570Z"
   },
   {
    "duration": 23,
    "start_time": "2022-09-15T13:15:23.632Z"
   },
   {
    "duration": 224,
    "start_time": "2022-09-15T13:15:23.657Z"
   },
   {
    "duration": 159,
    "start_time": "2022-09-15T13:15:23.883Z"
   },
   {
    "duration": 25,
    "start_time": "2022-09-15T13:15:24.043Z"
   },
   {
    "duration": 270,
    "start_time": "2022-09-15T13:15:24.069Z"
   },
   {
    "duration": 4282,
    "start_time": "2022-09-15T13:15:24.341Z"
   },
   {
    "duration": 5,
    "start_time": "2022-09-15T13:15:28.625Z"
   },
   {
    "duration": 41,
    "start_time": "2022-09-15T13:15:28.632Z"
   },
   {
    "duration": 41,
    "start_time": "2022-09-15T13:15:28.675Z"
   },
   {
    "duration": 54,
    "start_time": "2022-09-15T13:15:28.718Z"
   },
   {
    "duration": 26,
    "start_time": "2022-09-15T13:15:28.774Z"
   },
   {
    "duration": 3,
    "start_time": "2022-09-15T13:15:28.803Z"
   },
   {
    "duration": 1516,
    "start_time": "2022-09-15T13:15:28.809Z"
   },
   {
    "duration": 264,
    "start_time": "2022-09-15T13:15:30.401Z"
   },
   {
    "duration": 250646,
    "start_time": "2022-09-15T13:15:30.667Z"
   },
   {
    "duration": 6345,
    "start_time": "2022-09-15T13:19:41.315Z"
   },
   {
    "duration": 4,
    "start_time": "2022-09-15T14:36:27.093Z"
   },
   {
    "duration": 108,
    "start_time": "2022-09-15T15:03:46.812Z"
   },
   {
    "duration": 1823,
    "start_time": "2022-09-15T15:03:51.801Z"
   },
   {
    "duration": 1347,
    "start_time": "2022-09-15T15:03:53.626Z"
   },
   {
    "duration": 66,
    "start_time": "2022-09-15T15:03:54.975Z"
   },
   {
    "duration": 5,
    "start_time": "2022-09-15T15:03:55.042Z"
   },
   {
    "duration": 12,
    "start_time": "2022-09-15T15:03:55.049Z"
   },
   {
    "duration": 39,
    "start_time": "2022-09-15T15:03:55.062Z"
   },
   {
    "duration": 11,
    "start_time": "2022-09-15T15:03:55.103Z"
   },
   {
    "duration": 3,
    "start_time": "2022-09-15T15:03:55.116Z"
   },
   {
    "duration": 16,
    "start_time": "2022-09-15T15:03:55.120Z"
   },
   {
    "duration": 5,
    "start_time": "2022-09-15T15:03:55.137Z"
   },
   {
    "duration": 17,
    "start_time": "2022-09-15T15:03:55.143Z"
   },
   {
    "duration": 38,
    "start_time": "2022-09-15T15:03:55.162Z"
   },
   {
    "duration": 10,
    "start_time": "2022-09-15T15:03:55.202Z"
   },
   {
    "duration": 34,
    "start_time": "2022-09-15T15:03:55.215Z"
   },
   {
    "duration": 11,
    "start_time": "2022-09-15T15:03:55.251Z"
   },
   {
    "duration": 6,
    "start_time": "2022-09-15T15:03:55.263Z"
   },
   {
    "duration": 30,
    "start_time": "2022-09-15T15:03:55.271Z"
   },
   {
    "duration": 8,
    "start_time": "2022-09-15T15:03:55.303Z"
   },
   {
    "duration": 20,
    "start_time": "2022-09-15T15:03:55.312Z"
   },
   {
    "duration": 25,
    "start_time": "2022-09-15T15:03:55.334Z"
   },
   {
    "duration": 39,
    "start_time": "2022-09-15T15:03:55.361Z"
   },
   {
    "duration": 179,
    "start_time": "2022-09-15T15:03:55.402Z"
   },
   {
    "duration": 143,
    "start_time": "2022-09-15T15:03:55.582Z"
   },
   {
    "duration": 21,
    "start_time": "2022-09-15T15:03:55.727Z"
   },
   {
    "duration": 229,
    "start_time": "2022-09-15T15:03:55.750Z"
   },
   {
    "duration": 4111,
    "start_time": "2022-09-15T15:03:55.981Z"
   },
   {
    "duration": 5,
    "start_time": "2022-09-15T15:04:00.099Z"
   },
   {
    "duration": 47,
    "start_time": "2022-09-15T15:04:00.105Z"
   },
   {
    "duration": 18,
    "start_time": "2022-09-15T15:04:00.154Z"
   },
   {
    "duration": 53,
    "start_time": "2022-09-15T15:04:00.174Z"
   },
   {
    "duration": 5,
    "start_time": "2022-09-15T15:04:00.229Z"
   },
   {
    "duration": 15,
    "start_time": "2022-09-15T15:04:00.236Z"
   },
   {
    "duration": 1753,
    "start_time": "2022-09-15T15:04:00.253Z"
   },
   {
    "duration": 323,
    "start_time": "2022-09-15T15:04:02.008Z"
   },
   {
    "duration": 111,
    "start_time": "2022-09-15T15:04:02.332Z"
   },
   {
    "duration": 0,
    "start_time": "2022-09-15T15:04:02.445Z"
   },
   {
    "duration": 0,
    "start_time": "2022-09-15T15:04:02.446Z"
   },
   {
    "duration": 1869,
    "start_time": "2022-09-15T15:05:05.783Z"
   },
   {
    "duration": 1302,
    "start_time": "2022-09-15T15:05:07.654Z"
   },
   {
    "duration": 65,
    "start_time": "2022-09-15T15:05:08.958Z"
   },
   {
    "duration": 4,
    "start_time": "2022-09-15T15:05:09.026Z"
   },
   {
    "duration": 5,
    "start_time": "2022-09-15T15:05:09.032Z"
   },
   {
    "duration": 36,
    "start_time": "2022-09-15T15:05:09.039Z"
   },
   {
    "duration": 30,
    "start_time": "2022-09-15T15:05:09.077Z"
   },
   {
    "duration": 4,
    "start_time": "2022-09-15T15:05:09.109Z"
   },
   {
    "duration": 15,
    "start_time": "2022-09-15T15:05:09.115Z"
   },
   {
    "duration": 4,
    "start_time": "2022-09-15T15:05:09.133Z"
   },
   {
    "duration": 7,
    "start_time": "2022-09-15T15:05:09.139Z"
   },
   {
    "duration": 32,
    "start_time": "2022-09-15T15:05:09.147Z"
   },
   {
    "duration": 9,
    "start_time": "2022-09-15T15:05:09.200Z"
   },
   {
    "duration": 33,
    "start_time": "2022-09-15T15:05:09.211Z"
   },
   {
    "duration": 10,
    "start_time": "2022-09-15T15:05:09.246Z"
   },
   {
    "duration": 5,
    "start_time": "2022-09-15T15:05:09.258Z"
   },
   {
    "duration": 27,
    "start_time": "2022-09-15T15:05:09.265Z"
   },
   {
    "duration": 13,
    "start_time": "2022-09-15T15:05:09.293Z"
   },
   {
    "duration": 17,
    "start_time": "2022-09-15T15:05:09.307Z"
   },
   {
    "duration": 27,
    "start_time": "2022-09-15T15:05:09.326Z"
   },
   {
    "duration": 52,
    "start_time": "2022-09-15T15:05:09.355Z"
   },
   {
    "duration": 204,
    "start_time": "2022-09-15T15:05:09.408Z"
   },
   {
    "duration": 141,
    "start_time": "2022-09-15T15:05:09.614Z"
   },
   {
    "duration": 21,
    "start_time": "2022-09-15T15:05:09.757Z"
   },
   {
    "duration": 230,
    "start_time": "2022-09-15T15:05:09.780Z"
   },
   {
    "duration": 4045,
    "start_time": "2022-09-15T15:05:10.012Z"
   },
   {
    "duration": 5,
    "start_time": "2022-09-15T15:05:14.059Z"
   },
   {
    "duration": 80,
    "start_time": "2022-09-15T15:05:14.068Z"
   },
   {
    "duration": 29,
    "start_time": "2022-09-15T15:05:14.150Z"
   },
   {
    "duration": 46,
    "start_time": "2022-09-15T15:05:14.181Z"
   },
   {
    "duration": 4,
    "start_time": "2022-09-15T15:05:14.228Z"
   },
   {
    "duration": 6,
    "start_time": "2022-09-15T15:05:14.234Z"
   },
   {
    "duration": 1666,
    "start_time": "2022-09-15T15:05:14.242Z"
   },
   {
    "duration": 336,
    "start_time": "2022-09-15T15:05:15.910Z"
   },
   {
    "duration": 18338,
    "start_time": "2022-09-15T15:05:16.248Z"
   },
   {
    "duration": 1517,
    "start_time": "2022-09-15T15:05:34.588Z"
   },
   {
    "duration": 5731,
    "start_time": "2022-09-15T15:05:36.107Z"
   },
   {
    "duration": 147,
    "start_time": "2022-09-15T15:06:49.182Z"
   },
   {
    "duration": 16864,
    "start_time": "2022-09-15T15:06:50.782Z"
   },
   {
    "duration": 137,
    "start_time": "2022-09-15T15:07:55.371Z"
   },
   {
    "duration": 118,
    "start_time": "2022-09-15T15:12:24.210Z"
   },
   {
    "duration": 26,
    "start_time": "2022-09-15T15:13:00.999Z"
   },
   {
    "duration": 3,
    "start_time": "2022-09-15T15:20:02.782Z"
   },
   {
    "duration": 4,
    "start_time": "2022-09-15T15:20:52.297Z"
   },
   {
    "duration": 22,
    "start_time": "2022-09-15T15:23:16.320Z"
   },
   {
    "duration": 4,
    "start_time": "2022-09-15T15:23:22.420Z"
   },
   {
    "duration": 1652,
    "start_time": "2022-09-15T16:19:36.852Z"
   },
   {
    "duration": 1916,
    "start_time": "2022-09-15T16:19:51.765Z"
   },
   {
    "duration": 1954,
    "start_time": "2022-09-15T16:19:53.683Z"
   },
   {
    "duration": 65,
    "start_time": "2022-09-15T16:19:55.639Z"
   },
   {
    "duration": 5,
    "start_time": "2022-09-15T16:19:55.706Z"
   },
   {
    "duration": 12,
    "start_time": "2022-09-15T16:19:55.713Z"
   },
   {
    "duration": 40,
    "start_time": "2022-09-15T16:19:55.727Z"
   },
   {
    "duration": 31,
    "start_time": "2022-09-15T16:19:55.769Z"
   },
   {
    "duration": 4,
    "start_time": "2022-09-15T16:19:55.802Z"
   },
   {
    "duration": 23,
    "start_time": "2022-09-15T16:19:55.808Z"
   },
   {
    "duration": 5,
    "start_time": "2022-09-15T16:19:55.835Z"
   },
   {
    "duration": 7,
    "start_time": "2022-09-15T16:19:55.842Z"
   },
   {
    "duration": 57,
    "start_time": "2022-09-15T16:19:55.851Z"
   },
   {
    "duration": 12,
    "start_time": "2022-09-15T16:19:55.910Z"
   },
   {
    "duration": 38,
    "start_time": "2022-09-15T16:19:55.924Z"
   },
   {
    "duration": 23,
    "start_time": "2022-09-15T16:19:55.964Z"
   },
   {
    "duration": 14,
    "start_time": "2022-09-15T16:19:55.989Z"
   },
   {
    "duration": 33,
    "start_time": "2022-09-15T16:19:56.005Z"
   },
   {
    "duration": 11,
    "start_time": "2022-09-15T16:19:56.040Z"
   },
   {
    "duration": 28,
    "start_time": "2022-09-15T16:19:56.053Z"
   },
   {
    "duration": 41,
    "start_time": "2022-09-15T16:19:56.083Z"
   },
   {
    "duration": 25,
    "start_time": "2022-09-15T16:19:56.126Z"
   },
   {
    "duration": 203,
    "start_time": "2022-09-15T16:19:56.154Z"
   },
   {
    "duration": 148,
    "start_time": "2022-09-15T16:19:56.359Z"
   },
   {
    "duration": 21,
    "start_time": "2022-09-15T16:19:56.509Z"
   },
   {
    "duration": 235,
    "start_time": "2022-09-15T16:19:56.532Z"
   },
   {
    "duration": 4239,
    "start_time": "2022-09-15T16:19:56.769Z"
   },
   {
    "duration": 5,
    "start_time": "2022-09-15T16:20:01.010Z"
   },
   {
    "duration": 77,
    "start_time": "2022-09-15T16:20:01.019Z"
   },
   {
    "duration": 20,
    "start_time": "2022-09-15T16:20:01.098Z"
   },
   {
    "duration": 59,
    "start_time": "2022-09-15T16:20:01.120Z"
   },
   {
    "duration": 5,
    "start_time": "2022-09-15T16:20:01.181Z"
   },
   {
    "duration": 50,
    "start_time": "2022-09-15T16:20:01.188Z"
   },
   {
    "duration": 1561,
    "start_time": "2022-09-15T16:20:01.240Z"
   },
   {
    "duration": 252,
    "start_time": "2022-09-15T16:20:02.803Z"
   },
   {
    "duration": 18436,
    "start_time": "2022-09-15T16:20:03.057Z"
   },
   {
    "duration": 139,
    "start_time": "2022-09-15T16:20:21.499Z"
   },
   {
    "duration": 1974,
    "start_time": "2022-09-15T16:22:49.103Z"
   },
   {
    "duration": 1407,
    "start_time": "2022-09-15T16:22:51.080Z"
   },
   {
    "duration": 67,
    "start_time": "2022-09-15T16:22:52.488Z"
   },
   {
    "duration": 5,
    "start_time": "2022-09-15T16:22:52.557Z"
   },
   {
    "duration": 8,
    "start_time": "2022-09-15T16:22:52.564Z"
   },
   {
    "duration": 41,
    "start_time": "2022-09-15T16:22:52.574Z"
   },
   {
    "duration": 15,
    "start_time": "2022-09-15T16:22:52.617Z"
   },
   {
    "duration": 5,
    "start_time": "2022-09-15T16:22:52.634Z"
   },
   {
    "duration": 17,
    "start_time": "2022-09-15T16:22:52.641Z"
   },
   {
    "duration": 5,
    "start_time": "2022-09-15T16:22:52.660Z"
   },
   {
    "duration": 35,
    "start_time": "2022-09-15T16:22:52.667Z"
   },
   {
    "duration": 41,
    "start_time": "2022-09-15T16:22:52.704Z"
   },
   {
    "duration": 10,
    "start_time": "2022-09-15T16:22:52.746Z"
   },
   {
    "duration": 44,
    "start_time": "2022-09-15T16:22:52.759Z"
   },
   {
    "duration": 14,
    "start_time": "2022-09-15T16:22:52.805Z"
   },
   {
    "duration": 14,
    "start_time": "2022-09-15T16:22:52.821Z"
   },
   {
    "duration": 29,
    "start_time": "2022-09-15T16:22:52.837Z"
   },
   {
    "duration": 10,
    "start_time": "2022-09-15T16:22:52.867Z"
   },
   {
    "duration": 35,
    "start_time": "2022-09-15T16:22:52.879Z"
   },
   {
    "duration": 33,
    "start_time": "2022-09-15T16:22:52.916Z"
   },
   {
    "duration": 55,
    "start_time": "2022-09-15T16:22:52.952Z"
   },
   {
    "duration": 250,
    "start_time": "2022-09-15T16:22:53.010Z"
   },
   {
    "duration": 160,
    "start_time": "2022-09-15T16:22:53.262Z"
   },
   {
    "duration": 25,
    "start_time": "2022-09-15T16:22:53.424Z"
   },
   {
    "duration": 271,
    "start_time": "2022-09-15T16:22:53.452Z"
   },
   {
    "duration": 4570,
    "start_time": "2022-09-15T16:22:53.725Z"
   },
   {
    "duration": 9,
    "start_time": "2022-09-15T16:22:58.299Z"
   },
   {
    "duration": 60,
    "start_time": "2022-09-15T16:22:58.313Z"
   },
   {
    "duration": 30,
    "start_time": "2022-09-15T16:22:58.375Z"
   },
   {
    "duration": 80,
    "start_time": "2022-09-15T16:22:58.407Z"
   },
   {
    "duration": 6,
    "start_time": "2022-09-15T16:22:58.489Z"
   },
   {
    "duration": 38,
    "start_time": "2022-09-15T16:22:58.497Z"
   },
   {
    "duration": 1567,
    "start_time": "2022-09-15T16:22:58.537Z"
   },
   {
    "duration": 366,
    "start_time": "2022-09-15T16:23:00.106Z"
   },
   {
    "duration": 19165,
    "start_time": "2022-09-15T16:23:00.474Z"
   },
   {
    "duration": 144,
    "start_time": "2022-09-15T16:23:19.641Z"
   },
   {
    "duration": 221838,
    "start_time": "2022-09-15T16:23:19.787Z"
   },
   {
    "duration": 7796,
    "start_time": "2022-09-15T16:27:01.627Z"
   },
   {
    "duration": 26,
    "start_time": "2022-09-15T16:27:09.424Z"
   },
   {
    "duration": 1929,
    "start_time": "2022-09-15T17:21:14.484Z"
   },
   {
    "duration": 1402,
    "start_time": "2022-09-15T17:21:16.415Z"
   },
   {
    "duration": 63,
    "start_time": "2022-09-15T17:21:17.819Z"
   },
   {
    "duration": 4,
    "start_time": "2022-09-15T17:21:17.884Z"
   },
   {
    "duration": 9,
    "start_time": "2022-09-15T17:21:17.889Z"
   },
   {
    "duration": 36,
    "start_time": "2022-09-15T17:21:17.900Z"
   },
   {
    "duration": 10,
    "start_time": "2022-09-15T17:21:17.938Z"
   },
   {
    "duration": 3,
    "start_time": "2022-09-15T17:21:17.950Z"
   },
   {
    "duration": 17,
    "start_time": "2022-09-15T17:21:17.954Z"
   },
   {
    "duration": 3,
    "start_time": "2022-09-15T17:21:17.973Z"
   },
   {
    "duration": 5,
    "start_time": "2022-09-15T17:21:18.000Z"
   },
   {
    "duration": 42,
    "start_time": "2022-09-15T17:21:18.006Z"
   },
   {
    "duration": 10,
    "start_time": "2022-09-15T17:21:18.049Z"
   },
   {
    "duration": 35,
    "start_time": "2022-09-15T17:21:18.060Z"
   },
   {
    "duration": 9,
    "start_time": "2022-09-15T17:21:18.097Z"
   },
   {
    "duration": 4,
    "start_time": "2022-09-15T17:21:18.108Z"
   },
   {
    "duration": 28,
    "start_time": "2022-09-15T17:21:18.113Z"
   },
   {
    "duration": 7,
    "start_time": "2022-09-15T17:21:18.142Z"
   },
   {
    "duration": 16,
    "start_time": "2022-09-15T17:21:18.151Z"
   },
   {
    "duration": 25,
    "start_time": "2022-09-15T17:21:18.168Z"
   },
   {
    "duration": 20,
    "start_time": "2022-09-15T17:21:18.195Z"
   },
   {
    "duration": 197,
    "start_time": "2022-09-15T17:21:18.216Z"
   },
   {
    "duration": 228,
    "start_time": "2022-09-15T17:21:18.414Z"
   },
   {
    "duration": 69,
    "start_time": "2022-09-15T17:21:18.644Z"
   },
   {
    "duration": 238,
    "start_time": "2022-09-15T17:21:18.714Z"
   },
   {
    "duration": 4212,
    "start_time": "2022-09-15T17:21:18.953Z"
   },
   {
    "duration": 4,
    "start_time": "2022-09-15T17:21:23.167Z"
   },
   {
    "duration": 50,
    "start_time": "2022-09-15T17:21:23.174Z"
   },
   {
    "duration": 19,
    "start_time": "2022-09-15T17:21:23.225Z"
   },
   {
    "duration": 32,
    "start_time": "2022-09-15T17:21:23.246Z"
   },
   {
    "duration": 22,
    "start_time": "2022-09-15T17:21:23.279Z"
   },
   {
    "duration": 1612,
    "start_time": "2022-09-15T17:21:23.303Z"
   },
   {
    "duration": 337,
    "start_time": "2022-09-15T17:21:24.917Z"
   },
   {
    "duration": 17702,
    "start_time": "2022-09-15T17:21:25.256Z"
   },
   {
    "duration": 138,
    "start_time": "2022-09-15T17:21:42.959Z"
   },
   {
    "duration": 269512,
    "start_time": "2022-09-15T17:21:43.100Z"
   },
   {
    "duration": 181,
    "start_time": "2022-09-15T17:26:12.613Z"
   },
   {
    "duration": 0,
    "start_time": "2022-09-15T17:26:12.800Z"
   },
   {
    "duration": 0,
    "start_time": "2022-09-15T17:26:12.802Z"
   },
   {
    "duration": 0,
    "start_time": "2022-09-15T17:26:12.803Z"
   },
   {
    "duration": 379096,
    "start_time": "2022-09-15T17:26:46.810Z"
   },
   {
    "duration": 6043,
    "start_time": "2022-09-15T17:51:43.957Z"
   },
   {
    "duration": 9,
    "start_time": "2022-09-15T17:51:50.002Z"
   },
   {
    "duration": 5356,
    "start_time": "2022-09-15T18:10:20.145Z"
   },
   {
    "duration": 715,
    "start_time": "2022-09-15T18:10:53.709Z"
   },
   {
    "duration": 2010,
    "start_time": "2022-09-15T19:20:33.651Z"
   },
   {
    "duration": 1278,
    "start_time": "2022-09-15T19:20:35.663Z"
   },
   {
    "duration": 66,
    "start_time": "2022-09-15T19:20:36.943Z"
   },
   {
    "duration": 4,
    "start_time": "2022-09-15T19:20:37.011Z"
   },
   {
    "duration": 7,
    "start_time": "2022-09-15T19:20:37.017Z"
   },
   {
    "duration": 42,
    "start_time": "2022-09-15T19:20:37.026Z"
   },
   {
    "duration": 11,
    "start_time": "2022-09-15T19:20:37.069Z"
   },
   {
    "duration": 20,
    "start_time": "2022-09-15T19:20:37.081Z"
   },
   {
    "duration": 19,
    "start_time": "2022-09-15T19:20:37.103Z"
   },
   {
    "duration": 3,
    "start_time": "2022-09-15T19:20:37.124Z"
   },
   {
    "duration": 8,
    "start_time": "2022-09-15T19:20:37.129Z"
   },
   {
    "duration": 32,
    "start_time": "2022-09-15T19:20:37.138Z"
   },
   {
    "duration": 11,
    "start_time": "2022-09-15T19:20:37.171Z"
   },
   {
    "duration": 41,
    "start_time": "2022-09-15T19:20:37.183Z"
   },
   {
    "duration": 10,
    "start_time": "2022-09-15T19:20:37.225Z"
   },
   {
    "duration": 6,
    "start_time": "2022-09-15T19:20:37.236Z"
   },
   {
    "duration": 30,
    "start_time": "2022-09-15T19:20:37.244Z"
   },
   {
    "duration": 9,
    "start_time": "2022-09-15T19:20:37.275Z"
   },
   {
    "duration": 22,
    "start_time": "2022-09-15T19:20:37.286Z"
   },
   {
    "duration": 26,
    "start_time": "2022-09-15T19:20:37.310Z"
   },
   {
    "duration": 20,
    "start_time": "2022-09-15T19:20:37.338Z"
   },
   {
    "duration": 197,
    "start_time": "2022-09-15T19:20:37.360Z"
   },
   {
    "duration": 143,
    "start_time": "2022-09-15T19:20:37.559Z"
   },
   {
    "duration": 21,
    "start_time": "2022-09-15T19:20:37.703Z"
   },
   {
    "duration": 222,
    "start_time": "2022-09-15T19:20:37.725Z"
   },
   {
    "duration": 4297,
    "start_time": "2022-09-15T19:20:37.949Z"
   },
   {
    "duration": 4,
    "start_time": "2022-09-15T19:20:42.247Z"
   },
   {
    "duration": 50,
    "start_time": "2022-09-15T19:20:42.255Z"
   },
   {
    "duration": 20,
    "start_time": "2022-09-15T19:20:42.306Z"
   },
   {
    "duration": 38,
    "start_time": "2022-09-15T19:20:42.328Z"
   },
   {
    "duration": 5,
    "start_time": "2022-09-15T19:20:42.367Z"
   },
   {
    "duration": 1739,
    "start_time": "2022-09-15T19:20:42.373Z"
   },
   {
    "duration": 287,
    "start_time": "2022-09-15T19:20:44.114Z"
   },
   {
    "duration": 0,
    "start_time": "2022-09-15T19:20:44.403Z"
   },
   {
    "duration": 0,
    "start_time": "2022-09-15T19:20:44.405Z"
   },
   {
    "duration": 0,
    "start_time": "2022-09-15T19:20:44.406Z"
   },
   {
    "duration": 0,
    "start_time": "2022-09-15T19:20:44.407Z"
   },
   {
    "duration": 0,
    "start_time": "2022-09-15T19:20:44.408Z"
   },
   {
    "duration": 0,
    "start_time": "2022-09-15T19:20:44.410Z"
   },
   {
    "duration": 0,
    "start_time": "2022-09-15T19:20:44.411Z"
   },
   {
    "duration": 0,
    "start_time": "2022-09-15T19:20:44.413Z"
   },
   {
    "duration": 0,
    "start_time": "2022-09-15T19:20:44.414Z"
   },
   {
    "duration": 10,
    "start_time": "2022-09-15T19:22:27.266Z"
   },
   {
    "duration": 1671,
    "start_time": "2022-09-15T19:37:44.641Z"
   },
   {
    "duration": 14,
    "start_time": "2022-09-15T19:37:49.854Z"
   },
   {
    "duration": 9,
    "start_time": "2022-09-15T19:40:34.947Z"
   },
   {
    "duration": 10,
    "start_time": "2022-09-15T19:41:21.601Z"
   },
   {
    "duration": 1810,
    "start_time": "2022-09-15T19:41:49.614Z"
   },
   {
    "duration": 1353,
    "start_time": "2022-09-15T19:41:51.426Z"
   },
   {
    "duration": 68,
    "start_time": "2022-09-15T19:41:52.780Z"
   },
   {
    "duration": 5,
    "start_time": "2022-09-15T19:41:52.850Z"
   },
   {
    "duration": 16,
    "start_time": "2022-09-15T19:41:52.856Z"
   },
   {
    "duration": 43,
    "start_time": "2022-09-15T19:41:52.874Z"
   },
   {
    "duration": 10,
    "start_time": "2022-09-15T19:41:52.919Z"
   },
   {
    "duration": 3,
    "start_time": "2022-09-15T19:41:52.930Z"
   },
   {
    "duration": 15,
    "start_time": "2022-09-15T19:41:52.934Z"
   },
   {
    "duration": 4,
    "start_time": "2022-09-15T19:41:52.951Z"
   },
   {
    "duration": 9,
    "start_time": "2022-09-15T19:41:52.956Z"
   },
   {
    "duration": 43,
    "start_time": "2022-09-15T19:41:52.966Z"
   },
   {
    "duration": 9,
    "start_time": "2022-09-15T19:41:53.011Z"
   },
   {
    "duration": 39,
    "start_time": "2022-09-15T19:41:53.022Z"
   },
   {
    "duration": 12,
    "start_time": "2022-09-15T19:41:53.063Z"
   },
   {
    "duration": 25,
    "start_time": "2022-09-15T19:41:53.076Z"
   },
   {
    "duration": 28,
    "start_time": "2022-09-15T19:41:53.103Z"
   },
   {
    "duration": 10,
    "start_time": "2022-09-15T19:41:53.132Z"
   },
   {
    "duration": 22,
    "start_time": "2022-09-15T19:41:53.143Z"
   },
   {
    "duration": 33,
    "start_time": "2022-09-15T19:41:53.167Z"
   },
   {
    "duration": 23,
    "start_time": "2022-09-15T19:41:53.202Z"
   },
   {
    "duration": 187,
    "start_time": "2022-09-15T19:41:53.226Z"
   },
   {
    "duration": 151,
    "start_time": "2022-09-15T19:41:53.415Z"
   },
   {
    "duration": 23,
    "start_time": "2022-09-15T19:41:53.568Z"
   },
   {
    "duration": 226,
    "start_time": "2022-09-15T19:41:53.592Z"
   },
   {
    "duration": 4220,
    "start_time": "2022-09-15T19:41:53.820Z"
   },
   {
    "duration": 4,
    "start_time": "2022-09-15T19:41:58.042Z"
   },
   {
    "duration": 52,
    "start_time": "2022-09-15T19:41:58.049Z"
   },
   {
    "duration": 19,
    "start_time": "2022-09-15T19:41:58.102Z"
   },
   {
    "duration": 41,
    "start_time": "2022-09-15T19:41:58.123Z"
   },
   {
    "duration": 6,
    "start_time": "2022-09-15T19:41:58.165Z"
   },
   {
    "duration": 1831,
    "start_time": "2022-09-15T19:41:58.173Z"
   },
   {
    "duration": 99,
    "start_time": "2022-09-15T19:42:00.006Z"
   },
   {
    "duration": 254,
    "start_time": "2022-09-15T19:42:00.107Z"
   },
   {
    "duration": 17492,
    "start_time": "2022-09-15T19:42:00.363Z"
   },
   {
    "duration": 136,
    "start_time": "2022-09-15T19:42:17.857Z"
   },
   {
    "duration": 107,
    "start_time": "2022-09-15T19:42:17.994Z"
   },
   {
    "duration": 0,
    "start_time": "2022-09-15T19:42:18.102Z"
   },
   {
    "duration": 0,
    "start_time": "2022-09-15T19:42:18.103Z"
   },
   {
    "duration": 0,
    "start_time": "2022-09-15T19:42:18.104Z"
   },
   {
    "duration": 0,
    "start_time": "2022-09-15T19:42:18.105Z"
   },
   {
    "duration": 0,
    "start_time": "2022-09-15T19:42:18.106Z"
   },
   {
    "duration": 26,
    "start_time": "2022-09-15T19:44:24.190Z"
   },
   {
    "duration": 1832,
    "start_time": "2022-09-15T19:45:09.466Z"
   },
   {
    "duration": 1328,
    "start_time": "2022-09-15T19:45:11.303Z"
   },
   {
    "duration": 66,
    "start_time": "2022-09-15T19:45:12.633Z"
   },
   {
    "duration": 5,
    "start_time": "2022-09-15T19:45:12.701Z"
   },
   {
    "duration": 17,
    "start_time": "2022-09-15T19:45:12.707Z"
   },
   {
    "duration": 38,
    "start_time": "2022-09-15T19:45:12.726Z"
   },
   {
    "duration": 11,
    "start_time": "2022-09-15T19:45:12.766Z"
   },
   {
    "duration": 18,
    "start_time": "2022-09-15T19:45:12.778Z"
   },
   {
    "duration": 36,
    "start_time": "2022-09-15T19:45:12.799Z"
   },
   {
    "duration": 14,
    "start_time": "2022-09-15T19:45:12.836Z"
   },
   {
    "duration": 29,
    "start_time": "2022-09-15T19:45:12.851Z"
   },
   {
    "duration": 43,
    "start_time": "2022-09-15T19:45:12.881Z"
   },
   {
    "duration": 10,
    "start_time": "2022-09-15T19:45:12.927Z"
   },
   {
    "duration": 56,
    "start_time": "2022-09-15T19:45:12.938Z"
   },
   {
    "duration": 9,
    "start_time": "2022-09-15T19:45:12.995Z"
   },
   {
    "duration": 44,
    "start_time": "2022-09-15T19:45:13.005Z"
   },
   {
    "duration": 42,
    "start_time": "2022-09-15T19:45:13.050Z"
   },
   {
    "duration": 11,
    "start_time": "2022-09-15T19:45:13.094Z"
   },
   {
    "duration": 29,
    "start_time": "2022-09-15T19:45:13.106Z"
   },
   {
    "duration": 40,
    "start_time": "2022-09-15T19:45:13.136Z"
   },
   {
    "duration": 19,
    "start_time": "2022-09-15T19:45:13.178Z"
   },
   {
    "duration": 185,
    "start_time": "2022-09-15T19:45:13.198Z"
   },
   {
    "duration": 162,
    "start_time": "2022-09-15T19:45:13.385Z"
   },
   {
    "duration": 20,
    "start_time": "2022-09-15T19:45:13.548Z"
   },
   {
    "duration": 225,
    "start_time": "2022-09-15T19:45:13.570Z"
   },
   {
    "duration": 4137,
    "start_time": "2022-09-15T19:45:13.796Z"
   },
   {
    "duration": 4,
    "start_time": "2022-09-15T19:45:17.935Z"
   },
   {
    "duration": 39,
    "start_time": "2022-09-15T19:45:17.941Z"
   },
   {
    "duration": 32,
    "start_time": "2022-09-15T19:45:17.982Z"
   },
   {
    "duration": 37,
    "start_time": "2022-09-15T19:45:18.015Z"
   },
   {
    "duration": 5,
    "start_time": "2022-09-15T19:45:18.053Z"
   },
   {
    "duration": 1750,
    "start_time": "2022-09-15T19:45:18.059Z"
   },
   {
    "duration": 93,
    "start_time": "2022-09-15T19:45:19.811Z"
   },
   {
    "duration": 239,
    "start_time": "2022-09-15T19:45:19.909Z"
   },
   {
    "duration": 17643,
    "start_time": "2022-09-15T19:45:20.149Z"
   },
   {
    "duration": 139,
    "start_time": "2022-09-15T19:45:37.794Z"
   },
   {
    "duration": 23,
    "start_time": "2022-09-15T19:45:37.934Z"
   },
   {
    "duration": 1448,
    "start_time": "2022-09-15T19:45:37.959Z"
   },
   {
    "duration": 5500,
    "start_time": "2022-09-15T19:45:39.409Z"
   },
   {
    "duration": 5977,
    "start_time": "2022-09-15T19:45:44.913Z"
   },
   {
    "duration": 1760,
    "start_time": "2022-09-15T19:52:15.330Z"
   },
   {
    "duration": 1365,
    "start_time": "2022-09-15T19:52:17.092Z"
   },
   {
    "duration": 67,
    "start_time": "2022-09-15T19:52:18.459Z"
   },
   {
    "duration": 4,
    "start_time": "2022-09-15T19:52:18.528Z"
   },
   {
    "duration": 6,
    "start_time": "2022-09-15T19:52:18.534Z"
   },
   {
    "duration": 43,
    "start_time": "2022-09-15T19:52:18.541Z"
   },
   {
    "duration": 21,
    "start_time": "2022-09-15T19:52:18.585Z"
   },
   {
    "duration": 3,
    "start_time": "2022-09-15T19:52:18.608Z"
   },
   {
    "duration": 17,
    "start_time": "2022-09-15T19:52:18.612Z"
   },
   {
    "duration": 4,
    "start_time": "2022-09-15T19:52:18.631Z"
   },
   {
    "duration": 8,
    "start_time": "2022-09-15T19:52:18.636Z"
   },
   {
    "duration": 35,
    "start_time": "2022-09-15T19:52:18.645Z"
   },
   {
    "duration": 20,
    "start_time": "2022-09-15T19:52:18.682Z"
   },
   {
    "duration": 37,
    "start_time": "2022-09-15T19:52:18.705Z"
   },
   {
    "duration": 10,
    "start_time": "2022-09-15T19:52:18.743Z"
   },
   {
    "duration": 8,
    "start_time": "2022-09-15T19:52:18.754Z"
   },
   {
    "duration": 25,
    "start_time": "2022-09-15T19:52:18.764Z"
   },
   {
    "duration": 7,
    "start_time": "2022-09-15T19:52:18.791Z"
   },
   {
    "duration": 17,
    "start_time": "2022-09-15T19:52:18.800Z"
   },
   {
    "duration": 25,
    "start_time": "2022-09-15T19:52:18.819Z"
   },
   {
    "duration": 21,
    "start_time": "2022-09-15T19:52:18.846Z"
   },
   {
    "duration": 210,
    "start_time": "2022-09-15T19:52:18.869Z"
   },
   {
    "duration": 156,
    "start_time": "2022-09-15T19:52:19.081Z"
   },
   {
    "duration": 22,
    "start_time": "2022-09-15T19:52:19.238Z"
   },
   {
    "duration": 246,
    "start_time": "2022-09-15T19:52:19.262Z"
   },
   {
    "duration": 4092,
    "start_time": "2022-09-15T19:52:19.510Z"
   },
   {
    "duration": 5,
    "start_time": "2022-09-15T19:52:23.604Z"
   },
   {
    "duration": 39,
    "start_time": "2022-09-15T19:52:23.611Z"
   },
   {
    "duration": 18,
    "start_time": "2022-09-15T19:52:23.651Z"
   },
   {
    "duration": 56,
    "start_time": "2022-09-15T19:52:23.670Z"
   },
   {
    "duration": 5,
    "start_time": "2022-09-15T19:52:23.727Z"
   },
   {
    "duration": 1773,
    "start_time": "2022-09-15T19:52:23.733Z"
   },
   {
    "duration": 100,
    "start_time": "2022-09-15T19:52:25.508Z"
   },
   {
    "duration": 164,
    "start_time": "2022-09-15T19:52:25.700Z"
   },
   {
    "duration": 17696,
    "start_time": "2022-09-15T19:52:25.866Z"
   },
   {
    "duration": 145,
    "start_time": "2022-09-15T19:52:43.564Z"
   },
   {
    "duration": 21,
    "start_time": "2022-09-15T19:52:43.711Z"
   },
   {
    "duration": 1769,
    "start_time": "2022-09-15T19:52:43.734Z"
   },
   {
    "duration": 5514,
    "start_time": "2022-09-15T19:52:45.505Z"
   },
   {
    "duration": 6443,
    "start_time": "2022-09-15T19:52:51.020Z"
   },
   {
    "duration": 381708,
    "start_time": "2022-09-15T19:52:57.466Z"
   },
   {
    "duration": 447,
    "start_time": "2022-09-15T19:59:19.176Z"
   },
   {
    "duration": 4809,
    "start_time": "2022-09-15T20:01:07.938Z"
   },
   {
    "duration": 8646,
    "start_time": "2022-09-15T20:01:29.138Z"
   },
   {
    "duration": 490027,
    "start_time": "2022-09-15T20:02:25.179Z"
   },
   {
    "duration": 1199,
    "start_time": "2022-09-15T20:10:35.208Z"
   },
   {
    "duration": 9587,
    "start_time": "2022-09-15T20:11:58.516Z"
   },
   {
    "duration": 9877,
    "start_time": "2022-09-15T20:12:31.316Z"
   },
   {
    "duration": 724124,
    "start_time": "2022-09-15T20:12:51.739Z"
   },
   {
    "duration": 6516,
    "start_time": "2022-09-15T20:27:55.718Z"
   },
   {
    "duration": 707,
    "start_time": "2022-09-15T20:28:02.712Z"
   },
   {
    "duration": 119,
    "start_time": "2022-09-16T06:39:31.635Z"
   },
   {
    "duration": 17,
    "start_time": "2022-09-16T06:39:41.474Z"
   },
   {
    "duration": 9,
    "start_time": "2022-09-16T06:40:13.105Z"
   },
   {
    "duration": 316,
    "start_time": "2022-09-16T06:40:24.949Z"
   },
   {
    "duration": 334,
    "start_time": "2022-09-16T06:41:07.899Z"
   },
   {
    "duration": 24,
    "start_time": "2022-09-16T06:42:24.745Z"
   },
   {
    "duration": 9,
    "start_time": "2022-09-16T06:43:17.590Z"
   },
   {
    "duration": 12,
    "start_time": "2022-09-16T06:43:29.065Z"
   },
   {
    "duration": 10,
    "start_time": "2022-09-16T06:43:55.457Z"
   },
   {
    "duration": 6,
    "start_time": "2022-09-16T06:44:06.787Z"
   },
   {
    "duration": 10,
    "start_time": "2022-09-16T06:44:59.064Z"
   },
   {
    "duration": 9,
    "start_time": "2022-09-16T06:45:09.521Z"
   },
   {
    "duration": 9,
    "start_time": "2022-09-16T06:46:43.106Z"
   },
   {
    "duration": 9,
    "start_time": "2022-09-16T06:46:49.770Z"
   },
   {
    "duration": 1599,
    "start_time": "2022-09-16T06:47:34.971Z"
   },
   {
    "duration": 2040,
    "start_time": "2022-09-16T06:47:38.492Z"
   },
   {
    "duration": 7,
    "start_time": "2022-09-16T06:47:41.760Z"
   },
   {
    "duration": 69,
    "start_time": "2022-09-16T06:47:43.552Z"
   },
   {
    "duration": 6,
    "start_time": "2022-09-16T06:47:46.295Z"
   },
   {
    "duration": 4,
    "start_time": "2022-09-16T06:47:47.709Z"
   },
   {
    "duration": 40,
    "start_time": "2022-09-16T06:47:49.262Z"
   },
   {
    "duration": 12,
    "start_time": "2022-09-16T06:47:52.395Z"
   },
   {
    "duration": 4,
    "start_time": "2022-09-16T06:47:54.207Z"
   },
   {
    "duration": 15,
    "start_time": "2022-09-16T06:47:56.492Z"
   },
   {
    "duration": 5,
    "start_time": "2022-09-16T06:47:59.000Z"
   },
   {
    "duration": 4,
    "start_time": "2022-09-16T06:48:00.147Z"
   },
   {
    "duration": 57,
    "start_time": "2022-09-16T06:48:02.357Z"
   },
   {
    "duration": 11,
    "start_time": "2022-09-16T06:48:04.198Z"
   },
   {
    "duration": 54,
    "start_time": "2022-09-16T06:48:06.010Z"
   },
   {
    "duration": 10,
    "start_time": "2022-09-16T06:48:07.958Z"
   },
   {
    "duration": 4,
    "start_time": "2022-09-16T06:48:09.762Z"
   },
   {
    "duration": 48,
    "start_time": "2022-09-16T06:48:11.763Z"
   },
   {
    "duration": 9,
    "start_time": "2022-09-16T06:48:14.622Z"
   },
   {
    "duration": 17,
    "start_time": "2022-09-16T06:48:19.002Z"
   },
   {
    "duration": 28,
    "start_time": "2022-09-16T06:48:22.462Z"
   },
   {
    "duration": 31,
    "start_time": "2022-09-16T06:48:24.881Z"
   },
   {
    "duration": 29,
    "start_time": "2022-09-16T06:48:38.421Z"
   },
   {
    "duration": 21,
    "start_time": "2022-09-16T06:49:08.019Z"
   },
   {
    "duration": 31,
    "start_time": "2022-09-16T06:50:31.097Z"
   },
   {
    "duration": 35,
    "start_time": "2022-09-16T06:50:47.457Z"
   },
   {
    "duration": 29,
    "start_time": "2022-09-16T06:51:34.423Z"
   },
   {
    "duration": 205,
    "start_time": "2022-09-16T06:51:38.079Z"
   },
   {
    "duration": 149,
    "start_time": "2022-09-16T06:51:40.755Z"
   },
   {
    "duration": 25,
    "start_time": "2022-09-16T06:51:42.854Z"
   },
   {
    "duration": 233,
    "start_time": "2022-09-16T06:51:45.769Z"
   },
   {
    "duration": 5273,
    "start_time": "2022-09-16T06:51:48.785Z"
   },
   {
    "duration": 4,
    "start_time": "2022-09-16T06:52:19.207Z"
   },
   {
    "duration": 37,
    "start_time": "2022-09-16T06:52:22.257Z"
   },
   {
    "duration": 23,
    "start_time": "2022-09-16T06:52:26.455Z"
   },
   {
    "duration": 34,
    "start_time": "2022-09-16T06:52:29.357Z"
   },
   {
    "duration": 5,
    "start_time": "2022-09-16T06:52:32.406Z"
   },
   {
    "duration": 1845,
    "start_time": "2022-09-16T06:52:35.263Z"
   },
   {
    "duration": 12,
    "start_time": "2022-09-16T06:52:40.686Z"
   },
   {
    "duration": 175,
    "start_time": "2022-09-16T06:53:04.267Z"
   },
   {
    "duration": 18579,
    "start_time": "2022-09-16T06:53:09.340Z"
   },
   {
    "duration": 134,
    "start_time": "2022-09-16T06:53:43.748Z"
   },
   {
    "duration": 30,
    "start_time": "2022-09-16T06:53:47.485Z"
   },
   {
    "duration": 101,
    "start_time": "2022-09-16T07:00:25.167Z"
   },
   {
    "duration": 5,
    "start_time": "2022-09-16T07:00:34.710Z"
   },
   {
    "duration": 9,
    "start_time": "2022-09-16T07:06:39.429Z"
   },
   {
    "duration": 10,
    "start_time": "2022-09-16T07:06:59.974Z"
   },
   {
    "duration": 13,
    "start_time": "2022-09-16T07:07:30.288Z"
   },
   {
    "duration": 11,
    "start_time": "2022-09-16T07:07:46.359Z"
   },
   {
    "duration": 248,
    "start_time": "2022-09-16T07:07:54.567Z"
   },
   {
    "duration": 250,
    "start_time": "2022-09-16T07:08:37.967Z"
   },
   {
    "duration": 244,
    "start_time": "2022-09-16T07:08:49.158Z"
   },
   {
    "duration": 241,
    "start_time": "2022-09-16T07:10:38.024Z"
   },
   {
    "duration": 234,
    "start_time": "2022-09-16T07:10:42.558Z"
   },
   {
    "duration": 240,
    "start_time": "2022-09-16T07:10:56.082Z"
   },
   {
    "duration": 240,
    "start_time": "2022-09-16T07:11:17.650Z"
   },
   {
    "duration": 245,
    "start_time": "2022-09-16T07:12:36.168Z"
   },
   {
    "duration": 243,
    "start_time": "2022-09-16T07:14:38.184Z"
   },
   {
    "duration": 249,
    "start_time": "2022-09-16T07:16:26.667Z"
   },
   {
    "duration": 249,
    "start_time": "2022-09-16T07:16:42.257Z"
   },
   {
    "duration": 248,
    "start_time": "2022-09-16T07:16:48.658Z"
   },
   {
    "duration": 3055,
    "start_time": "2022-09-16T07:18:33.348Z"
   },
   {
    "duration": 2938,
    "start_time": "2022-09-16T07:18:57.064Z"
   },
   {
    "duration": 28,
    "start_time": "2022-09-16T07:22:37.838Z"
   },
   {
    "duration": 49,
    "start_time": "2022-09-16T07:24:55.717Z"
   },
   {
    "duration": 10,
    "start_time": "2022-09-16T07:31:02.657Z"
   },
   {
    "duration": 30,
    "start_time": "2022-09-16T07:31:47.419Z"
   },
   {
    "duration": 12,
    "start_time": "2022-09-16T07:33:43.749Z"
   },
   {
    "duration": 36,
    "start_time": "2022-09-16T07:35:30.520Z"
   },
   {
    "duration": 20,
    "start_time": "2022-09-16T07:35:37.654Z"
   },
   {
    "duration": 31,
    "start_time": "2022-09-16T07:36:22.987Z"
   },
   {
    "duration": 3898,
    "start_time": "2022-09-16T07:37:12.502Z"
   },
   {
    "duration": 105,
    "start_time": "2022-09-16T07:37:16.403Z"
   },
   {
    "duration": 265,
    "start_time": "2022-09-16T07:52:08.434Z"
   },
   {
    "duration": 300167,
    "start_time": "2022-09-16T07:52:24.256Z"
   },
   {
    "duration": 9835,
    "start_time": "2022-09-16T07:57:24.425Z"
   },
   {
    "duration": 8605,
    "start_time": "2022-09-16T07:57:34.264Z"
   },
   {
    "duration": 26843,
    "start_time": "2022-09-16T07:57:42.871Z"
   },
   {
    "duration": 32,
    "start_time": "2022-09-16T07:58:09.716Z"
   },
   {
    "duration": 51,
    "start_time": "2022-09-16T14:04:32.446Z"
   },
   {
    "duration": 8,
    "start_time": "2022-09-16T14:17:37.810Z"
   },
   {
    "duration": 2816,
    "start_time": "2022-09-16T14:18:51.586Z"
   },
   {
    "duration": 1866,
    "start_time": "2022-09-16T14:18:54.405Z"
   },
   {
    "duration": 136,
    "start_time": "2022-09-16T14:18:56.272Z"
   },
   {
    "duration": 5,
    "start_time": "2022-09-16T14:18:56.411Z"
   },
   {
    "duration": 10,
    "start_time": "2022-09-16T14:18:56.417Z"
   },
   {
    "duration": 43,
    "start_time": "2022-09-16T14:18:56.428Z"
   },
   {
    "duration": 12,
    "start_time": "2022-09-16T14:18:56.473Z"
   },
   {
    "duration": 3,
    "start_time": "2022-09-16T14:18:56.487Z"
   },
   {
    "duration": 41,
    "start_time": "2022-09-16T14:18:56.492Z"
   },
   {
    "duration": 5,
    "start_time": "2022-09-16T14:18:56.536Z"
   },
   {
    "duration": 8,
    "start_time": "2022-09-16T14:18:56.542Z"
   },
   {
    "duration": 108,
    "start_time": "2022-09-16T14:18:56.552Z"
   },
   {
    "duration": 11,
    "start_time": "2022-09-16T14:18:56.662Z"
   },
   {
    "duration": 63,
    "start_time": "2022-09-16T14:18:56.675Z"
   },
   {
    "duration": 12,
    "start_time": "2022-09-16T14:18:56.739Z"
   },
   {
    "duration": 8,
    "start_time": "2022-09-16T14:18:56.753Z"
   },
   {
    "duration": 72,
    "start_time": "2022-09-16T14:18:56.763Z"
   },
   {
    "duration": 11,
    "start_time": "2022-09-16T14:18:56.837Z"
   },
   {
    "duration": 23,
    "start_time": "2022-09-16T14:18:56.850Z"
   },
   {
    "duration": 46,
    "start_time": "2022-09-16T14:18:56.875Z"
   },
   {
    "duration": 25,
    "start_time": "2022-09-16T14:18:56.924Z"
   },
   {
    "duration": 25,
    "start_time": "2022-09-16T14:18:56.951Z"
   },
   {
    "duration": 51,
    "start_time": "2022-09-16T14:18:56.978Z"
   },
   {
    "duration": 24,
    "start_time": "2022-09-16T14:18:57.031Z"
   },
   {
    "duration": 295,
    "start_time": "2022-09-16T14:18:57.057Z"
   },
   {
    "duration": 167,
    "start_time": "2022-09-16T14:18:57.354Z"
   },
   {
    "duration": 27,
    "start_time": "2022-09-16T14:18:57.522Z"
   },
   {
    "duration": 182,
    "start_time": "2022-09-16T14:18:57.553Z"
   },
   {
    "duration": 5814,
    "start_time": "2022-09-16T14:18:57.737Z"
   },
   {
    "duration": 6,
    "start_time": "2022-09-16T14:19:03.554Z"
   },
   {
    "duration": 50,
    "start_time": "2022-09-16T14:19:03.562Z"
   },
   {
    "duration": 24,
    "start_time": "2022-09-16T14:19:03.614Z"
   },
   {
    "duration": 49,
    "start_time": "2022-09-16T14:19:03.640Z"
   },
   {
    "duration": 5,
    "start_time": "2022-09-16T14:19:03.691Z"
   },
   {
    "duration": 1926,
    "start_time": "2022-09-16T14:19:03.698Z"
   },
   {
    "duration": 104,
    "start_time": "2022-09-16T14:19:05.626Z"
   },
   {
    "duration": 241,
    "start_time": "2022-09-16T14:19:05.822Z"
   },
   {
    "duration": 21268,
    "start_time": "2022-09-16T14:19:06.065Z"
   },
   {
    "duration": 158,
    "start_time": "2022-09-16T14:19:27.334Z"
   },
   {
    "duration": 1935,
    "start_time": "2022-09-16T14:19:27.494Z"
   },
   {
    "duration": 8298,
    "start_time": "2022-09-16T14:19:29.431Z"
   },
   {
    "duration": 7073,
    "start_time": "2022-09-16T14:19:37.731Z"
   },
   {
    "duration": 2244,
    "start_time": "2022-09-16T14:24:31.405Z"
   },
   {
    "duration": 1577,
    "start_time": "2022-09-16T14:24:33.651Z"
   },
   {
    "duration": 69,
    "start_time": "2022-09-16T14:24:35.230Z"
   },
   {
    "duration": 5,
    "start_time": "2022-09-16T14:24:35.301Z"
   },
   {
    "duration": 7,
    "start_time": "2022-09-16T14:24:35.308Z"
   },
   {
    "duration": 45,
    "start_time": "2022-09-16T14:24:35.317Z"
   },
   {
    "duration": 12,
    "start_time": "2022-09-16T14:24:35.364Z"
   },
   {
    "duration": 3,
    "start_time": "2022-09-16T14:24:35.378Z"
   },
   {
    "duration": 21,
    "start_time": "2022-09-16T14:24:35.383Z"
   },
   {
    "duration": 4,
    "start_time": "2022-09-16T14:24:35.420Z"
   },
   {
    "duration": 11,
    "start_time": "2022-09-16T14:24:35.426Z"
   },
   {
    "duration": 36,
    "start_time": "2022-09-16T14:24:35.439Z"
   },
   {
    "duration": 11,
    "start_time": "2022-09-16T14:24:35.477Z"
   },
   {
    "duration": 40,
    "start_time": "2022-09-16T14:24:35.491Z"
   },
   {
    "duration": 12,
    "start_time": "2022-09-16T14:24:35.533Z"
   },
   {
    "duration": 7,
    "start_time": "2022-09-16T14:24:35.547Z"
   },
   {
    "duration": 28,
    "start_time": "2022-09-16T14:24:35.556Z"
   },
   {
    "duration": 10,
    "start_time": "2022-09-16T14:24:35.586Z"
   },
   {
    "duration": 37,
    "start_time": "2022-09-16T14:24:35.598Z"
   },
   {
    "duration": 31,
    "start_time": "2022-09-16T14:24:35.637Z"
   },
   {
    "duration": 26,
    "start_time": "2022-09-16T14:24:35.670Z"
   },
   {
    "duration": 25,
    "start_time": "2022-09-16T14:24:35.722Z"
   },
   {
    "duration": 23,
    "start_time": "2022-09-16T14:24:35.749Z"
   },
   {
    "duration": 52,
    "start_time": "2022-09-16T14:24:35.774Z"
   },
   {
    "duration": 221,
    "start_time": "2022-09-16T14:24:35.829Z"
   },
   {
    "duration": 254,
    "start_time": "2022-09-16T14:24:36.052Z"
   },
   {
    "duration": 33,
    "start_time": "2022-09-16T14:24:36.307Z"
   },
   {
    "duration": 180,
    "start_time": "2022-09-16T14:24:36.344Z"
   },
   {
    "duration": 5865,
    "start_time": "2022-09-16T14:24:36.526Z"
   },
   {
    "duration": 4,
    "start_time": "2022-09-16T14:24:42.393Z"
   },
   {
    "duration": 50,
    "start_time": "2022-09-16T14:24:42.399Z"
   },
   {
    "duration": 24,
    "start_time": "2022-09-16T14:24:42.451Z"
   },
   {
    "duration": 54,
    "start_time": "2022-09-16T14:24:42.477Z"
   },
   {
    "duration": 6,
    "start_time": "2022-09-16T14:24:42.532Z"
   },
   {
    "duration": 1887,
    "start_time": "2022-09-16T14:24:42.539Z"
   },
   {
    "duration": 96,
    "start_time": "2022-09-16T14:24:44.428Z"
   },
   {
    "duration": 276,
    "start_time": "2022-09-16T14:24:44.526Z"
   },
   {
    "duration": 21669,
    "start_time": "2022-09-16T14:24:44.803Z"
   },
   {
    "duration": 161,
    "start_time": "2022-09-16T14:25:06.474Z"
   },
   {
    "duration": 1791,
    "start_time": "2022-09-16T14:25:06.637Z"
   },
   {
    "duration": 352095,
    "start_time": "2022-09-16T14:25:08.430Z"
   },
   {
    "duration": 6805,
    "start_time": "2022-09-16T14:31:00.526Z"
   },
   {
    "duration": 7249,
    "start_time": "2022-09-16T14:31:07.333Z"
   },
   {
    "duration": 826017,
    "start_time": "2022-09-16T14:31:14.584Z"
   },
   {
    "duration": 10882,
    "start_time": "2022-09-16T14:45:00.603Z"
   },
   {
    "duration": 2313,
    "start_time": "2022-09-16T14:45:11.486Z"
   },
   {
    "duration": 67,
    "start_time": "2022-09-16T14:45:13.801Z"
   },
   {
    "duration": 926,
    "start_time": "2022-09-16T14:45:13.871Z"
   },
   {
    "duration": 54,
    "start_time": "2022-09-16T19:51:14.858Z"
   },
   {
    "duration": 2884,
    "start_time": "2022-09-16T19:52:30.575Z"
   },
   {
    "duration": 1766,
    "start_time": "2022-09-16T19:52:33.462Z"
   },
   {
    "duration": 221,
    "start_time": "2022-09-16T19:52:35.230Z"
   },
   {
    "duration": 5,
    "start_time": "2022-09-16T19:52:35.453Z"
   },
   {
    "duration": 35,
    "start_time": "2022-09-16T19:52:35.459Z"
   },
   {
    "duration": 44,
    "start_time": "2022-09-16T19:52:35.495Z"
   },
   {
    "duration": 11,
    "start_time": "2022-09-16T19:52:35.541Z"
   },
   {
    "duration": 3,
    "start_time": "2022-09-16T19:52:35.554Z"
   },
   {
    "duration": 21,
    "start_time": "2022-09-16T19:52:35.558Z"
   },
   {
    "duration": 5,
    "start_time": "2022-09-16T19:52:35.582Z"
   },
   {
    "duration": 24,
    "start_time": "2022-09-16T19:52:35.588Z"
   },
   {
    "duration": 191,
    "start_time": "2022-09-16T19:52:35.613Z"
   },
   {
    "duration": 9,
    "start_time": "2022-09-16T19:52:35.806Z"
   },
   {
    "duration": 79,
    "start_time": "2022-09-16T19:52:35.817Z"
   },
   {
    "duration": 10,
    "start_time": "2022-09-16T19:52:35.897Z"
   },
   {
    "duration": 18,
    "start_time": "2022-09-16T19:52:35.908Z"
   },
   {
    "duration": 100,
    "start_time": "2022-09-16T19:52:35.927Z"
   },
   {
    "duration": 9,
    "start_time": "2022-09-16T19:52:36.029Z"
   },
   {
    "duration": 22,
    "start_time": "2022-09-16T19:52:36.039Z"
   },
   {
    "duration": 41,
    "start_time": "2022-09-16T19:52:36.063Z"
   },
   {
    "duration": 22,
    "start_time": "2022-09-16T19:52:36.105Z"
   },
   {
    "duration": 20,
    "start_time": "2022-09-16T19:52:36.129Z"
   },
   {
    "duration": 49,
    "start_time": "2022-09-16T19:52:36.151Z"
   },
   {
    "duration": 21,
    "start_time": "2022-09-16T19:52:36.202Z"
   },
   {
    "duration": 196,
    "start_time": "2022-09-16T19:52:36.225Z"
   },
   {
    "duration": 224,
    "start_time": "2022-09-16T19:52:36.422Z"
   },
   {
    "duration": 34,
    "start_time": "2022-09-16T19:52:36.647Z"
   },
   {
    "duration": 159,
    "start_time": "2022-09-16T19:52:36.684Z"
   },
   {
    "duration": 5137,
    "start_time": "2022-09-16T19:52:36.844Z"
   },
   {
    "duration": 4,
    "start_time": "2022-09-16T19:52:41.983Z"
   },
   {
    "duration": 42,
    "start_time": "2022-09-16T19:52:41.989Z"
   },
   {
    "duration": 53,
    "start_time": "2022-09-16T19:52:42.032Z"
   },
   {
    "duration": 41,
    "start_time": "2022-09-16T19:52:42.086Z"
   },
   {
    "duration": 5,
    "start_time": "2022-09-16T19:52:42.129Z"
   },
   {
    "duration": 1942,
    "start_time": "2022-09-16T19:52:42.135Z"
   },
   {
    "duration": 104,
    "start_time": "2022-09-16T19:52:44.079Z"
   },
   {
    "duration": 181,
    "start_time": "2022-09-16T19:52:44.184Z"
   },
   {
    "duration": 18988,
    "start_time": "2022-09-16T19:52:44.367Z"
   },
   {
    "duration": 0,
    "start_time": "2022-09-16T19:53:03.357Z"
   },
   {
    "duration": 0,
    "start_time": "2022-09-16T19:53:03.358Z"
   },
   {
    "duration": 0,
    "start_time": "2022-09-16T19:53:03.359Z"
   },
   {
    "duration": 0,
    "start_time": "2022-09-16T19:53:03.360Z"
   },
   {
    "duration": 0,
    "start_time": "2022-09-16T19:53:03.362Z"
   },
   {
    "duration": 0,
    "start_time": "2022-09-16T19:53:03.363Z"
   },
   {
    "duration": 0,
    "start_time": "2022-09-16T19:53:03.364Z"
   },
   {
    "duration": 19707,
    "start_time": "2022-09-16T19:56:25.795Z"
   },
   {
    "duration": 19626,
    "start_time": "2022-09-16T19:57:57.795Z"
   },
   {
    "duration": 19528,
    "start_time": "2022-09-16T19:58:52.677Z"
   },
   {
    "duration": 19776,
    "start_time": "2022-09-16T20:00:20.693Z"
   },
   {
    "duration": 19120,
    "start_time": "2022-09-16T20:02:36.195Z"
   },
   {
    "duration": 19473,
    "start_time": "2022-09-16T20:03:02.538Z"
   },
   {
    "duration": 2160,
    "start_time": "2022-09-16T20:23:14.227Z"
   },
   {
    "duration": 1489,
    "start_time": "2022-09-16T20:23:16.390Z"
   },
   {
    "duration": 69,
    "start_time": "2022-09-16T20:23:17.881Z"
   },
   {
    "duration": 4,
    "start_time": "2022-09-16T20:23:17.953Z"
   },
   {
    "duration": 8,
    "start_time": "2022-09-16T20:23:17.959Z"
   },
   {
    "duration": 38,
    "start_time": "2022-09-16T20:23:17.969Z"
   },
   {
    "duration": 11,
    "start_time": "2022-09-16T20:23:18.009Z"
   },
   {
    "duration": 5,
    "start_time": "2022-09-16T20:23:18.022Z"
   },
   {
    "duration": 18,
    "start_time": "2022-09-16T20:23:18.029Z"
   },
   {
    "duration": 5,
    "start_time": "2022-09-16T20:23:18.050Z"
   },
   {
    "duration": 6,
    "start_time": "2022-09-16T20:23:18.077Z"
   },
   {
    "duration": 54,
    "start_time": "2022-09-16T20:23:18.084Z"
   },
   {
    "duration": 13,
    "start_time": "2022-09-16T20:23:18.140Z"
   },
   {
    "duration": 33,
    "start_time": "2022-09-16T20:23:18.155Z"
   },
   {
    "duration": 10,
    "start_time": "2022-09-16T20:23:18.190Z"
   },
   {
    "duration": 13,
    "start_time": "2022-09-16T20:23:18.202Z"
   },
   {
    "duration": 48,
    "start_time": "2022-09-16T20:23:18.217Z"
   },
   {
    "duration": 13,
    "start_time": "2022-09-16T20:23:18.267Z"
   },
   {
    "duration": 25,
    "start_time": "2022-09-16T20:23:18.282Z"
   },
   {
    "duration": 31,
    "start_time": "2022-09-16T20:23:18.308Z"
   },
   {
    "duration": 37,
    "start_time": "2022-09-16T20:23:18.341Z"
   },
   {
    "duration": 31,
    "start_time": "2022-09-16T20:23:18.381Z"
   },
   {
    "duration": 22,
    "start_time": "2022-09-16T20:23:18.414Z"
   },
   {
    "duration": 43,
    "start_time": "2022-09-16T20:23:18.438Z"
   },
   {
    "duration": 214,
    "start_time": "2022-09-16T20:23:18.483Z"
   },
   {
    "duration": 247,
    "start_time": "2022-09-16T20:23:18.700Z"
   },
   {
    "duration": 35,
    "start_time": "2022-09-16T20:23:18.949Z"
   },
   {
    "duration": 166,
    "start_time": "2022-09-16T20:23:18.988Z"
   },
   {
    "duration": 5297,
    "start_time": "2022-09-16T20:23:19.155Z"
   },
   {
    "duration": 7,
    "start_time": "2022-09-16T20:23:24.454Z"
   },
   {
    "duration": 51,
    "start_time": "2022-09-16T20:23:24.462Z"
   },
   {
    "duration": 23,
    "start_time": "2022-09-16T20:23:24.514Z"
   },
   {
    "duration": 61,
    "start_time": "2022-09-16T20:23:24.539Z"
   },
   {
    "duration": 5,
    "start_time": "2022-09-16T20:23:24.602Z"
   },
   {
    "duration": 1874,
    "start_time": "2022-09-16T20:23:24.609Z"
   },
   {
    "duration": 97,
    "start_time": "2022-09-16T20:23:26.485Z"
   },
   {
    "duration": 265,
    "start_time": "2022-09-16T20:23:26.584Z"
   },
   {
    "duration": 19595,
    "start_time": "2022-09-16T20:23:26.851Z"
   },
   {
    "duration": 3,
    "start_time": "2022-09-16T20:23:46.448Z"
   },
   {
    "duration": 261839,
    "start_time": "2022-09-16T20:23:46.452Z"
   },
   {
    "duration": 8177897,
    "start_time": "2022-09-16T20:28:08.292Z"
   },
   {
    "duration": 2,
    "start_time": "2022-09-16T22:44:26.192Z"
   },
   {
    "duration": 7175,
    "start_time": "2022-09-16T22:44:26.196Z"
   },
   {
    "duration": 795939,
    "start_time": "2022-09-16T22:44:33.373Z"
   },
   {
    "duration": 2,
    "start_time": "2022-09-16T22:57:49.313Z"
   },
   {
    "duration": 4633,
    "start_time": "2022-09-16T22:57:49.317Z"
   },
   {
    "duration": 61,
    "start_time": "2022-09-16T22:57:53.952Z"
   },
   {
    "duration": 707,
    "start_time": "2022-09-16T22:57:54.014Z"
   },
   {
    "duration": 3,
    "start_time": "2022-09-17T17:42:32.225Z"
   },
   {
    "duration": 2177,
    "start_time": "2022-09-18T18:40:19.303Z"
   },
   {
    "duration": 1695,
    "start_time": "2022-09-18T18:40:21.483Z"
   },
   {
    "duration": 69,
    "start_time": "2022-09-18T18:40:23.180Z"
   },
   {
    "duration": 4,
    "start_time": "2022-09-18T18:40:23.252Z"
   },
   {
    "duration": 8,
    "start_time": "2022-09-18T18:40:23.258Z"
   },
   {
    "duration": 42,
    "start_time": "2022-09-18T18:40:23.268Z"
   },
   {
    "duration": 13,
    "start_time": "2022-09-18T18:40:23.312Z"
   },
   {
    "duration": 3,
    "start_time": "2022-09-18T18:40:23.327Z"
   },
   {
    "duration": 27,
    "start_time": "2022-09-18T18:40:23.332Z"
   },
   {
    "duration": 5,
    "start_time": "2022-09-18T18:40:23.362Z"
   },
   {
    "duration": 8,
    "start_time": "2022-09-18T18:40:23.368Z"
   },
   {
    "duration": 40,
    "start_time": "2022-09-18T18:40:23.378Z"
   },
   {
    "duration": 14,
    "start_time": "2022-09-18T18:40:24.699Z"
   },
   {
    "duration": 57,
    "start_time": "2022-09-18T18:40:25.222Z"
   },
   {
    "duration": 12,
    "start_time": "2022-09-18T18:40:25.281Z"
   },
   {
    "duration": 8,
    "start_time": "2022-09-18T18:40:25.295Z"
   },
   {
    "duration": 28,
    "start_time": "2022-09-18T18:40:25.347Z"
   },
   {
    "duration": 12,
    "start_time": "2022-09-18T18:40:25.380Z"
   },
   {
    "duration": 23,
    "start_time": "2022-09-18T18:40:25.644Z"
   },
   {
    "duration": 37,
    "start_time": "2022-09-18T18:40:27.043Z"
   },
   {
    "duration": 25,
    "start_time": "2022-09-18T18:40:27.109Z"
   },
   {
    "duration": 26,
    "start_time": "2022-09-18T18:40:27.139Z"
   },
   {
    "duration": 24,
    "start_time": "2022-09-18T18:40:27.190Z"
   },
   {
    "duration": 25,
    "start_time": "2022-09-18T18:40:27.216Z"
   },
   {
    "duration": 214,
    "start_time": "2022-09-18T18:40:27.260Z"
   },
   {
    "duration": 267,
    "start_time": "2022-09-18T18:40:27.476Z"
   },
   {
    "duration": 42,
    "start_time": "2022-09-18T18:40:27.745Z"
   },
   {
    "duration": 188,
    "start_time": "2022-09-18T18:40:28.593Z"
   },
   {
    "duration": 5842,
    "start_time": "2022-09-18T18:40:28.784Z"
   },
   {
    "duration": 6,
    "start_time": "2022-09-18T18:40:34.629Z"
   },
   {
    "duration": 64,
    "start_time": "2022-09-18T18:40:34.653Z"
   },
   {
    "duration": 56,
    "start_time": "2022-09-18T18:40:34.720Z"
   },
   {
    "duration": 47,
    "start_time": "2022-09-18T18:40:34.778Z"
   },
   {
    "duration": 7,
    "start_time": "2022-09-18T18:40:37.276Z"
   },
   {
    "duration": 1872,
    "start_time": "2022-09-18T18:40:40.613Z"
   },
   {
    "duration": 12,
    "start_time": "2022-09-18T18:40:52.938Z"
   },
   {
    "duration": 215,
    "start_time": "2022-09-18T18:40:53.452Z"
   },
   {
    "duration": 23586,
    "start_time": "2022-09-18T18:41:25.651Z"
   },
   {
    "duration": 159,
    "start_time": "2022-09-18T18:43:20.312Z"
   },
   {
    "duration": 12,
    "start_time": "2022-09-18T18:43:24.541Z"
   },
   {
    "duration": 6,
    "start_time": "2022-09-18T18:45:15.289Z"
   },
   {
    "duration": 8,
    "start_time": "2022-09-18T18:45:43.598Z"
   },
   {
    "duration": 11,
    "start_time": "2022-09-18T18:45:59.748Z"
   },
   {
    "duration": 8,
    "start_time": "2022-09-18T18:46:19.131Z"
   },
   {
    "duration": 11,
    "start_time": "2022-09-18T18:46:32.053Z"
   },
   {
    "duration": 59,
    "start_time": "2022-09-20T08:32:04.650Z"
   },
   {
    "duration": 1016,
    "start_time": "2022-09-20T08:32:59.881Z"
   },
   {
    "duration": 489,
    "start_time": "2022-09-20T08:33:39.926Z"
   },
   {
    "duration": 2612,
    "start_time": "2022-09-20T08:33:45.851Z"
   },
   {
    "duration": 159,
    "start_time": "2022-09-20T08:33:49.080Z"
   },
   {
    "duration": 3,
    "start_time": "2022-09-20T08:34:06.272Z"
   }
  ],
  "kernelspec": {
   "display_name": "Python 3 (ipykernel)",
   "language": "python",
   "name": "python3"
  },
  "language_info": {
   "codemirror_mode": {
    "name": "ipython",
    "version": 3
   },
   "file_extension": ".py",
   "mimetype": "text/x-python",
   "name": "python",
   "nbconvert_exporter": "python",
   "pygments_lexer": "ipython3",
   "version": "3.9.5"
  },
  "toc": {
   "base_numbering": 1,
   "nav_menu": {},
   "number_sections": true,
   "sideBar": true,
   "skip_h1_title": true,
   "title_cell": "Table of Contents",
   "title_sidebar": "Contents",
   "toc_cell": false,
   "toc_position": {},
   "toc_section_display": true,
   "toc_window_display": false
  }
 },
 "nbformat": 4,
 "nbformat_minor": 2
}
