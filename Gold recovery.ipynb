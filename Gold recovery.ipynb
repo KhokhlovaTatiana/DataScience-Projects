{
 "cells": [
  {
   "cell_type": "markdown",
   "metadata": {
    "toc": true
   },
   "source": [
    "<h1>Содержание<span class=\"tocSkip\"></span></h1>\n",
    "<div class=\"toc\"><ul class=\"toc-item\"><li><span><a href=\"#Подготовка-данных\" data-toc-modified-id=\"Подготовка-данных-1\"><span class=\"toc-item-num\">1&nbsp;&nbsp;</span>Подготовка данных</a></span></li><li><span><a href=\"#Анализ-данных\" data-toc-modified-id=\"Анализ-данных-2\"><span class=\"toc-item-num\">2&nbsp;&nbsp;</span>Анализ данных</a></span></li><li><span><a href=\"#Модель\" data-toc-modified-id=\"Модель-3\"><span class=\"toc-item-num\">3&nbsp;&nbsp;</span>Модель</a></span></li><li><span><a href=\"#Чек-лист-готовности-проекта\" data-toc-modified-id=\"Чек-лист-готовности-проекта-4\"><span class=\"toc-item-num\">4&nbsp;&nbsp;</span>Чек-лист готовности проекта</a></span></li></ul></div>"
   ]
  },
  {
   "cell_type": "markdown",
   "metadata": {},
   "source": [
    "# Восстановление золота из руды"
   ]
  },
  {
   "cell_type": "markdown",
   "metadata": {},
   "source": [
    "Подготовьте прототип модели машинного обучения для «Цифры». Компания разрабатывает решения для эффективной работы промышленных предприятий.\n",
    "\n",
    "Модель должна предсказать коэффициент восстановления золота из золотосодержащей руды. Используйте данные с параметрами добычи и очистки. \n",
    "\n",
    "Модель поможет оптимизировать производство, чтобы не запускать предприятие с убыточными характеристиками.\n",
    "\n",
    "Вам нужно:\n",
    "\n",
    "1. Подготовить данные;\n",
    "2. Провести исследовательский анализ данных;\n",
    "3. Построить и обучить модель.\n",
    "\n",
    "Чтобы выполнить проект, обращайтесь к библиотекам *pandas*, *matplotlib* и *sklearn.* Вам поможет их документация."
   ]
  },
  {
   "cell_type": "markdown",
   "metadata": {},
   "source": [
    "# Описание данных"
   ]
  },
  {
   "cell_type": "markdown",
   "metadata": {},
   "source": [
    "Технологический процесс  \n",
    "Rougher feed — исходное сырье  \n",
    "Rougher additions (или reagent additions) — флотационные реагенты: Xanthate, Sulphate, Depressant   \n",
    "Xanthate **— ксантогенат (промотер, или активатор флотации);  \n",
    "Sulphate — сульфат (на данном производстве сульфид натрия);  \n",
    "Depressant — депрессант (силикат натрия).  \n",
    "Rougher process (англ. «грубый процесс») — флотация  \n",
    "Rougher tails — отвальные хвосты  \n",
    "Float banks — флотационная установка  \n",
    "Cleaner process — очистка  \n",
    "Rougher Au — черновой концентрат золота  \n",
    "Final Au — финальный концентрат золота  \n",
    "\n",
    "\n",
    "Параметры этапов  \n",
    "air amount — объём воздуха   \n",
    "fluid levels — уровень жидкости  \n",
    "feed size — размер гранул сырья  \n",
    "feed rate — скорость подачи  \n",
    "\n",
    "Наименование признаков должно быть такое:  \n",
    "[этап].[тип_параметра].[название_параметра]  \n",
    "\n",
    "Пример: rougher.input.feed_ag  \n",
    "\n",
    "\n",
    "Возможные значения для блока [этап]:  \n",
    "rougher — флотация  \n",
    "primary_cleaner — первичная очистка  \n",
    "secondary_cleaner — вторичная очистка  \n",
    "final — финальные характеристики  \n",
    "Возможные значения для блока [тип_параметра]:  \n",
    "input — параметры сырья  \n",
    "output — параметры продукта  \n",
    "state — параметры, характеризующие текущее состояние этапа  \n",
    "calculation — расчётные характеристики \n",
    "\n"
   ]
  },
  {
   "cell_type": "markdown",
   "metadata": {},
   "source": [
    "## Подготовка данных"
   ]
  },
  {
   "cell_type": "code",
   "execution_count": 1,
   "metadata": {},
   "outputs": [],
   "source": [
    "import pandas as pd\n",
    "import numpy as np\n",
    "\n",
    "from sklearn.metrics import mean_absolute_error\n",
    "from matplotlib import pyplot as plt\n",
    "from sklearn.linear_model import LinearRegression\n",
    "from sklearn.tree import DecisionTreeRegressor\n",
    "from sklearn.ensemble import RandomForestRegressor\n",
    "from sklearn.metrics import make_scorer\n",
    "\n",
    "from sklearn.model_selection import train_test_split\n",
    "from sklearn.model_selection import cross_val_score"
   ]
  },
  {
   "cell_type": "code",
   "execution_count": 2,
   "metadata": {},
   "outputs": [
    {
     "name": "stdout",
     "output_type": "stream",
     "text": [
      "<class 'pandas.core.frame.DataFrame'>\n",
      "RangeIndex: 14149 entries, 0 to 14148\n",
      "Data columns (total 87 columns):\n",
      " #   Column                                              Non-Null Count  Dtype  \n",
      "---  ------                                              --------------  -----  \n",
      " 0   date                                                14149 non-null  object \n",
      " 1   final.output.concentrate_ag                         14148 non-null  float64\n",
      " 2   final.output.concentrate_pb                         14148 non-null  float64\n",
      " 3   final.output.concentrate_sol                        13938 non-null  float64\n",
      " 4   final.output.concentrate_au                         14149 non-null  float64\n",
      " 5   final.output.recovery                               14149 non-null  float64\n",
      " 6   final.output.tail_ag                                14149 non-null  float64\n",
      " 7   final.output.tail_pb                                14049 non-null  float64\n",
      " 8   final.output.tail_sol                               14144 non-null  float64\n",
      " 9   final.output.tail_au                                14149 non-null  float64\n",
      " 10  primary_cleaner.input.sulfate                       14129 non-null  float64\n",
      " 11  primary_cleaner.input.depressant                    14117 non-null  float64\n",
      " 12  primary_cleaner.input.feed_size                     14149 non-null  float64\n",
      " 13  primary_cleaner.input.xanthate                      14049 non-null  float64\n",
      " 14  primary_cleaner.output.concentrate_ag               14149 non-null  float64\n",
      " 15  primary_cleaner.output.concentrate_pb               14063 non-null  float64\n",
      " 16  primary_cleaner.output.concentrate_sol              13863 non-null  float64\n",
      " 17  primary_cleaner.output.concentrate_au               14149 non-null  float64\n",
      " 18  primary_cleaner.output.tail_ag                      14148 non-null  float64\n",
      " 19  primary_cleaner.output.tail_pb                      14134 non-null  float64\n",
      " 20  primary_cleaner.output.tail_sol                     14103 non-null  float64\n",
      " 21  primary_cleaner.output.tail_au                      14149 non-null  float64\n",
      " 22  primary_cleaner.state.floatbank8_a_air              14145 non-null  float64\n",
      " 23  primary_cleaner.state.floatbank8_a_level            14148 non-null  float64\n",
      " 24  primary_cleaner.state.floatbank8_b_air              14145 non-null  float64\n",
      " 25  primary_cleaner.state.floatbank8_b_level            14148 non-null  float64\n",
      " 26  primary_cleaner.state.floatbank8_c_air              14147 non-null  float64\n",
      " 27  primary_cleaner.state.floatbank8_c_level            14148 non-null  float64\n",
      " 28  primary_cleaner.state.floatbank8_d_air              14146 non-null  float64\n",
      " 29  primary_cleaner.state.floatbank8_d_level            14148 non-null  float64\n",
      " 30  rougher.calculation.sulfate_to_au_concentrate       14148 non-null  float64\n",
      " 31  rougher.calculation.floatbank10_sulfate_to_au_feed  14148 non-null  float64\n",
      " 32  rougher.calculation.floatbank11_sulfate_to_au_feed  14148 non-null  float64\n",
      " 33  rougher.calculation.au_pb_ratio                     14149 non-null  float64\n",
      " 34  rougher.input.feed_ag                               14149 non-null  float64\n",
      " 35  rougher.input.feed_pb                               14049 non-null  float64\n",
      " 36  rougher.input.feed_rate                             14141 non-null  float64\n",
      " 37  rougher.input.feed_size                             14005 non-null  float64\n",
      " 38  rougher.input.feed_sol                              14071 non-null  float64\n",
      " 39  rougher.input.feed_au                               14149 non-null  float64\n",
      " 40  rougher.input.floatbank10_sulfate                   14120 non-null  float64\n",
      " 41  rougher.input.floatbank10_xanthate                  14141 non-null  float64\n",
      " 42  rougher.input.floatbank11_sulfate                   14113 non-null  float64\n",
      " 43  rougher.input.floatbank11_xanthate                  13721 non-null  float64\n",
      " 44  rougher.output.concentrate_ag                       14149 non-null  float64\n",
      " 45  rougher.output.concentrate_pb                       14149 non-null  float64\n",
      " 46  rougher.output.concentrate_sol                      14127 non-null  float64\n",
      " 47  rougher.output.concentrate_au                       14149 non-null  float64\n",
      " 48  rougher.output.recovery                             14149 non-null  float64\n",
      " 49  rougher.output.tail_ag                              14148 non-null  float64\n",
      " 50  rougher.output.tail_pb                              14149 non-null  float64\n",
      " 51  rougher.output.tail_sol                             14149 non-null  float64\n",
      " 52  rougher.output.tail_au                              14149 non-null  float64\n",
      " 53  rougher.state.floatbank10_a_air                     14148 non-null  float64\n",
      " 54  rougher.state.floatbank10_a_level                   14148 non-null  float64\n",
      " 55  rougher.state.floatbank10_b_air                     14148 non-null  float64\n",
      " 56  rougher.state.floatbank10_b_level                   14148 non-null  float64\n",
      " 57  rougher.state.floatbank10_c_air                     14148 non-null  float64\n",
      " 58  rougher.state.floatbank10_c_level                   14148 non-null  float64\n",
      " 59  rougher.state.floatbank10_d_air                     14149 non-null  float64\n",
      " 60  rougher.state.floatbank10_d_level                   14149 non-null  float64\n",
      " 61  rougher.state.floatbank10_e_air                     13713 non-null  float64\n",
      " 62  rougher.state.floatbank10_e_level                   14149 non-null  float64\n",
      " 63  rougher.state.floatbank10_f_air                     14149 non-null  float64\n",
      " 64  rougher.state.floatbank10_f_level                   14149 non-null  float64\n",
      " 65  secondary_cleaner.output.tail_ag                    14147 non-null  float64\n",
      " 66  secondary_cleaner.output.tail_pb                    14139 non-null  float64\n",
      " 67  secondary_cleaner.output.tail_sol                   12544 non-null  float64\n",
      " 68  secondary_cleaner.output.tail_au                    14149 non-null  float64\n",
      " 69  secondary_cleaner.state.floatbank2_a_air            13932 non-null  float64\n",
      " 70  secondary_cleaner.state.floatbank2_a_level          14148 non-null  float64\n",
      " 71  secondary_cleaner.state.floatbank2_b_air            14128 non-null  float64\n",
      " 72  secondary_cleaner.state.floatbank2_b_level          14148 non-null  float64\n",
      " 73  secondary_cleaner.state.floatbank3_a_air            14145 non-null  float64\n",
      " 74  secondary_cleaner.state.floatbank3_a_level          14148 non-null  float64\n",
      " 75  secondary_cleaner.state.floatbank3_b_air            14148 non-null  float64\n",
      " 76  secondary_cleaner.state.floatbank3_b_level          14148 non-null  float64\n",
      " 77  secondary_cleaner.state.floatbank4_a_air            14143 non-null  float64\n",
      " 78  secondary_cleaner.state.floatbank4_a_level          14148 non-null  float64\n",
      " 79  secondary_cleaner.state.floatbank4_b_air            14148 non-null  float64\n",
      " 80  secondary_cleaner.state.floatbank4_b_level          14148 non-null  float64\n",
      " 81  secondary_cleaner.state.floatbank5_a_air            14148 non-null  float64\n",
      " 82  secondary_cleaner.state.floatbank5_a_level          14148 non-null  float64\n",
      " 83  secondary_cleaner.state.floatbank5_b_air            14148 non-null  float64\n",
      " 84  secondary_cleaner.state.floatbank5_b_level          14148 non-null  float64\n",
      " 85  secondary_cleaner.state.floatbank6_a_air            14147 non-null  float64\n",
      " 86  secondary_cleaner.state.floatbank6_a_level          14148 non-null  float64\n",
      "dtypes: float64(86), object(1)\n",
      "memory usage: 9.4+ MB\n"
     ]
    }
   ],
   "source": [
    "data_train = pd.read_csv('/datasets/gold_recovery_train_new.csv')\n",
    "data_train.info()\n"
   ]
  },
  {
   "cell_type": "code",
   "execution_count": 3,
   "metadata": {
    "scrolled": false
   },
   "outputs": [
    {
     "name": "stdout",
     "output_type": "stream",
     "text": [
      "<class 'pandas.core.frame.DataFrame'>\n",
      "RangeIndex: 5290 entries, 0 to 5289\n",
      "Data columns (total 53 columns):\n",
      " #   Column                                      Non-Null Count  Dtype  \n",
      "---  ------                                      --------------  -----  \n",
      " 0   date                                        5290 non-null   object \n",
      " 1   primary_cleaner.input.sulfate               5286 non-null   float64\n",
      " 2   primary_cleaner.input.depressant            5285 non-null   float64\n",
      " 3   primary_cleaner.input.feed_size             5290 non-null   float64\n",
      " 4   primary_cleaner.input.xanthate              5286 non-null   float64\n",
      " 5   primary_cleaner.state.floatbank8_a_air      5290 non-null   float64\n",
      " 6   primary_cleaner.state.floatbank8_a_level    5290 non-null   float64\n",
      " 7   primary_cleaner.state.floatbank8_b_air      5290 non-null   float64\n",
      " 8   primary_cleaner.state.floatbank8_b_level    5290 non-null   float64\n",
      " 9   primary_cleaner.state.floatbank8_c_air      5290 non-null   float64\n",
      " 10  primary_cleaner.state.floatbank8_c_level    5290 non-null   float64\n",
      " 11  primary_cleaner.state.floatbank8_d_air      5290 non-null   float64\n",
      " 12  primary_cleaner.state.floatbank8_d_level    5290 non-null   float64\n",
      " 13  rougher.input.feed_ag                       5290 non-null   float64\n",
      " 14  rougher.input.feed_pb                       5290 non-null   float64\n",
      " 15  rougher.input.feed_rate                     5287 non-null   float64\n",
      " 16  rougher.input.feed_size                     5289 non-null   float64\n",
      " 17  rougher.input.feed_sol                      5269 non-null   float64\n",
      " 18  rougher.input.feed_au                       5290 non-null   float64\n",
      " 19  rougher.input.floatbank10_sulfate           5285 non-null   float64\n",
      " 20  rougher.input.floatbank10_xanthate          5290 non-null   float64\n",
      " 21  rougher.input.floatbank11_sulfate           5282 non-null   float64\n",
      " 22  rougher.input.floatbank11_xanthate          5265 non-null   float64\n",
      " 23  rougher.state.floatbank10_a_air             5290 non-null   float64\n",
      " 24  rougher.state.floatbank10_a_level           5290 non-null   float64\n",
      " 25  rougher.state.floatbank10_b_air             5290 non-null   float64\n",
      " 26  rougher.state.floatbank10_b_level           5290 non-null   float64\n",
      " 27  rougher.state.floatbank10_c_air             5290 non-null   float64\n",
      " 28  rougher.state.floatbank10_c_level           5290 non-null   float64\n",
      " 29  rougher.state.floatbank10_d_air             5290 non-null   float64\n",
      " 30  rougher.state.floatbank10_d_level           5290 non-null   float64\n",
      " 31  rougher.state.floatbank10_e_air             5290 non-null   float64\n",
      " 32  rougher.state.floatbank10_e_level           5290 non-null   float64\n",
      " 33  rougher.state.floatbank10_f_air             5290 non-null   float64\n",
      " 34  rougher.state.floatbank10_f_level           5290 non-null   float64\n",
      " 35  secondary_cleaner.state.floatbank2_a_air    5287 non-null   float64\n",
      " 36  secondary_cleaner.state.floatbank2_a_level  5290 non-null   float64\n",
      " 37  secondary_cleaner.state.floatbank2_b_air    5288 non-null   float64\n",
      " 38  secondary_cleaner.state.floatbank2_b_level  5290 non-null   float64\n",
      " 39  secondary_cleaner.state.floatbank3_a_air    5281 non-null   float64\n",
      " 40  secondary_cleaner.state.floatbank3_a_level  5290 non-null   float64\n",
      " 41  secondary_cleaner.state.floatbank3_b_air    5290 non-null   float64\n",
      " 42  secondary_cleaner.state.floatbank3_b_level  5290 non-null   float64\n",
      " 43  secondary_cleaner.state.floatbank4_a_air    5290 non-null   float64\n",
      " 44  secondary_cleaner.state.floatbank4_a_level  5290 non-null   float64\n",
      " 45  secondary_cleaner.state.floatbank4_b_air    5290 non-null   float64\n",
      " 46  secondary_cleaner.state.floatbank4_b_level  5290 non-null   float64\n",
      " 47  secondary_cleaner.state.floatbank5_a_air    5290 non-null   float64\n",
      " 48  secondary_cleaner.state.floatbank5_a_level  5290 non-null   float64\n",
      " 49  secondary_cleaner.state.floatbank5_b_air    5290 non-null   float64\n",
      " 50  secondary_cleaner.state.floatbank5_b_level  5290 non-null   float64\n",
      " 51  secondary_cleaner.state.floatbank6_a_air    5290 non-null   float64\n",
      " 52  secondary_cleaner.state.floatbank6_a_level  5290 non-null   float64\n",
      "dtypes: float64(52), object(1)\n",
      "memory usage: 2.1+ MB\n"
     ]
    }
   ],
   "source": [
    "data_test = pd.read_csv('/datasets/gold_recovery_test_new.csv')\n",
    "data_test.info()"
   ]
  },
  {
   "cell_type": "code",
   "execution_count": 4,
   "metadata": {},
   "outputs": [
    {
     "name": "stdout",
     "output_type": "stream",
     "text": [
      "<class 'pandas.core.frame.DataFrame'>\n",
      "RangeIndex: 19439 entries, 0 to 19438\n",
      "Data columns (total 87 columns):\n",
      " #   Column                                              Non-Null Count  Dtype  \n",
      "---  ------                                              --------------  -----  \n",
      " 0   date                                                19439 non-null  object \n",
      " 1   final.output.concentrate_ag                         19438 non-null  float64\n",
      " 2   final.output.concentrate_pb                         19438 non-null  float64\n",
      " 3   final.output.concentrate_sol                        19228 non-null  float64\n",
      " 4   final.output.concentrate_au                         19439 non-null  float64\n",
      " 5   final.output.recovery                               19439 non-null  float64\n",
      " 6   final.output.tail_ag                                19438 non-null  float64\n",
      " 7   final.output.tail_pb                                19338 non-null  float64\n",
      " 8   final.output.tail_sol                               19433 non-null  float64\n",
      " 9   final.output.tail_au                                19439 non-null  float64\n",
      " 10  primary_cleaner.input.sulfate                       19415 non-null  float64\n",
      " 11  primary_cleaner.input.depressant                    19402 non-null  float64\n",
      " 12  primary_cleaner.input.feed_size                     19439 non-null  float64\n",
      " 13  primary_cleaner.input.xanthate                      19335 non-null  float64\n",
      " 14  primary_cleaner.output.concentrate_ag               19439 non-null  float64\n",
      " 15  primary_cleaner.output.concentrate_pb               19323 non-null  float64\n",
      " 16  primary_cleaner.output.concentrate_sol              19069 non-null  float64\n",
      " 17  primary_cleaner.output.concentrate_au               19439 non-null  float64\n",
      " 18  primary_cleaner.output.tail_ag                      19435 non-null  float64\n",
      " 19  primary_cleaner.output.tail_pb                      19418 non-null  float64\n",
      " 20  primary_cleaner.output.tail_sol                     19377 non-null  float64\n",
      " 21  primary_cleaner.output.tail_au                      19439 non-null  float64\n",
      " 22  primary_cleaner.state.floatbank8_a_air              19435 non-null  float64\n",
      " 23  primary_cleaner.state.floatbank8_a_level            19438 non-null  float64\n",
      " 24  primary_cleaner.state.floatbank8_b_air              19435 non-null  float64\n",
      " 25  primary_cleaner.state.floatbank8_b_level            19438 non-null  float64\n",
      " 26  primary_cleaner.state.floatbank8_c_air              19437 non-null  float64\n",
      " 27  primary_cleaner.state.floatbank8_c_level            19438 non-null  float64\n",
      " 28  primary_cleaner.state.floatbank8_d_air              19436 non-null  float64\n",
      " 29  primary_cleaner.state.floatbank8_d_level            19438 non-null  float64\n",
      " 30  rougher.calculation.sulfate_to_au_concentrate       19437 non-null  float64\n",
      " 31  rougher.calculation.floatbank10_sulfate_to_au_feed  19437 non-null  float64\n",
      " 32  rougher.calculation.floatbank11_sulfate_to_au_feed  19437 non-null  float64\n",
      " 33  rougher.calculation.au_pb_ratio                     19439 non-null  float64\n",
      " 34  rougher.input.feed_ag                               19439 non-null  float64\n",
      " 35  rougher.input.feed_pb                               19339 non-null  float64\n",
      " 36  rougher.input.feed_rate                             19428 non-null  float64\n",
      " 37  rougher.input.feed_size                             19294 non-null  float64\n",
      " 38  rougher.input.feed_sol                              19340 non-null  float64\n",
      " 39  rougher.input.feed_au                               19439 non-null  float64\n",
      " 40  rougher.input.floatbank10_sulfate                   19405 non-null  float64\n",
      " 41  rougher.input.floatbank10_xanthate                  19431 non-null  float64\n",
      " 42  rougher.input.floatbank11_sulfate                   19395 non-null  float64\n",
      " 43  rougher.input.floatbank11_xanthate                  18986 non-null  float64\n",
      " 44  rougher.output.concentrate_ag                       19439 non-null  float64\n",
      " 45  rougher.output.concentrate_pb                       19439 non-null  float64\n",
      " 46  rougher.output.concentrate_sol                      19416 non-null  float64\n",
      " 47  rougher.output.concentrate_au                       19439 non-null  float64\n",
      " 48  rougher.output.recovery                             19439 non-null  float64\n",
      " 49  rougher.output.tail_ag                              19438 non-null  float64\n",
      " 50  rougher.output.tail_pb                              19439 non-null  float64\n",
      " 51  rougher.output.tail_sol                             19439 non-null  float64\n",
      " 52  rougher.output.tail_au                              19439 non-null  float64\n",
      " 53  rougher.state.floatbank10_a_air                     19438 non-null  float64\n",
      " 54  rougher.state.floatbank10_a_level                   19438 non-null  float64\n",
      " 55  rougher.state.floatbank10_b_air                     19438 non-null  float64\n",
      " 56  rougher.state.floatbank10_b_level                   19438 non-null  float64\n",
      " 57  rougher.state.floatbank10_c_air                     19438 non-null  float64\n",
      " 58  rougher.state.floatbank10_c_level                   19438 non-null  float64\n",
      " 59  rougher.state.floatbank10_d_air                     19439 non-null  float64\n",
      " 60  rougher.state.floatbank10_d_level                   19439 non-null  float64\n",
      " 61  rougher.state.floatbank10_e_air                     19003 non-null  float64\n",
      " 62  rougher.state.floatbank10_e_level                   19439 non-null  float64\n",
      " 63  rougher.state.floatbank10_f_air                     19439 non-null  float64\n",
      " 64  rougher.state.floatbank10_f_level                   19439 non-null  float64\n",
      " 65  secondary_cleaner.output.tail_ag                    19437 non-null  float64\n",
      " 66  secondary_cleaner.output.tail_pb                    19427 non-null  float64\n",
      " 67  secondary_cleaner.output.tail_sol                   17691 non-null  float64\n",
      " 68  secondary_cleaner.output.tail_au                    19439 non-null  float64\n",
      " 69  secondary_cleaner.state.floatbank2_a_air            19219 non-null  float64\n",
      " 70  secondary_cleaner.state.floatbank2_a_level          19438 non-null  float64\n",
      " 71  secondary_cleaner.state.floatbank2_b_air            19416 non-null  float64\n",
      " 72  secondary_cleaner.state.floatbank2_b_level          19438 non-null  float64\n",
      " 73  secondary_cleaner.state.floatbank3_a_air            19426 non-null  float64\n",
      " 74  secondary_cleaner.state.floatbank3_a_level          19438 non-null  float64\n",
      " 75  secondary_cleaner.state.floatbank3_b_air            19438 non-null  float64\n",
      " 76  secondary_cleaner.state.floatbank3_b_level          19438 non-null  float64\n",
      " 77  secondary_cleaner.state.floatbank4_a_air            19433 non-null  float64\n",
      " 78  secondary_cleaner.state.floatbank4_a_level          19438 non-null  float64\n",
      " 79  secondary_cleaner.state.floatbank4_b_air            19438 non-null  float64\n",
      " 80  secondary_cleaner.state.floatbank4_b_level          19438 non-null  float64\n",
      " 81  secondary_cleaner.state.floatbank5_a_air            19438 non-null  float64\n",
      " 82  secondary_cleaner.state.floatbank5_a_level          19438 non-null  float64\n",
      " 83  secondary_cleaner.state.floatbank5_b_air            19438 non-null  float64\n",
      " 84  secondary_cleaner.state.floatbank5_b_level          19438 non-null  float64\n",
      " 85  secondary_cleaner.state.floatbank6_a_air            19437 non-null  float64\n",
      " 86  secondary_cleaner.state.floatbank6_a_level          19438 non-null  float64\n",
      "dtypes: float64(86), object(1)\n",
      "memory usage: 12.9+ MB\n"
     ]
    }
   ],
   "source": [
    "data_full = pd.read_csv('/datasets/gold_recovery_full_new.csv')\n",
    "data_full.info()"
   ]
  },
  {
   "cell_type": "code",
   "execution_count": 5,
   "metadata": {},
   "outputs": [
    {
     "data": {
      "text/plain": [
       "9.73512347450521e-15"
      ]
     },
     "execution_count": 5,
     "metadata": {},
     "output_type": "execute_result"
    }
   ],
   "source": [
    "#проверим корректность расчета эффективности обогащения \n",
    "\n",
    "\n",
    "data_train['rougher.output.recovery_chek'] = ((data_train['rougher.output.concentrate_au'] \n",
    "                                               * (data_train['rougher.input.feed_au'] - \n",
    "                                                  data_train['rougher.output.tail_au'])) / (data_train['rougher.input.feed_au'] \n",
    "                                                                                            * (data_train['rougher.output.concentrate_au'] - \n",
    "                                                                                               data_train['rougher.output.tail_au']))) * 100\n",
    "\n",
    "MAE = mean_absolute_error(data_train['rougher.output.recovery'], data_train['rougher.output.recovery_chek'])\n",
    "MAE"
   ]
  },
  {
   "cell_type": "markdown",
   "metadata": {},
   "source": [
    "Для проверки корректности расчета результирующей метрики оценили MAE между данными в таблице и контрольным расчетом. \n",
    "Судя по результату близкому к нулю - метрика рассчитана корректно, миниимальные различия могут быть связаны с округлением."
   ]
  },
  {
   "cell_type": "code",
   "execution_count": 6,
   "metadata": {},
   "outputs": [
    {
     "data": {
      "text/plain": [
       "['final.output.concentrate_ag',\n",
       " 'final.output.concentrate_pb',\n",
       " 'final.output.concentrate_sol',\n",
       " 'final.output.concentrate_au',\n",
       " 'final.output.recovery',\n",
       " 'final.output.tail_ag',\n",
       " 'final.output.tail_pb',\n",
       " 'final.output.tail_sol',\n",
       " 'final.output.tail_au',\n",
       " 'primary_cleaner.output.concentrate_ag',\n",
       " 'primary_cleaner.output.concentrate_pb',\n",
       " 'primary_cleaner.output.concentrate_sol',\n",
       " 'primary_cleaner.output.concentrate_au',\n",
       " 'primary_cleaner.output.tail_ag',\n",
       " 'primary_cleaner.output.tail_pb',\n",
       " 'primary_cleaner.output.tail_sol',\n",
       " 'primary_cleaner.output.tail_au',\n",
       " 'rougher.calculation.sulfate_to_au_concentrate',\n",
       " 'rougher.calculation.floatbank10_sulfate_to_au_feed',\n",
       " 'rougher.calculation.floatbank11_sulfate_to_au_feed',\n",
       " 'rougher.calculation.au_pb_ratio',\n",
       " 'rougher.output.concentrate_ag',\n",
       " 'rougher.output.concentrate_pb',\n",
       " 'rougher.output.concentrate_sol',\n",
       " 'rougher.output.concentrate_au',\n",
       " 'rougher.output.recovery',\n",
       " 'rougher.output.tail_ag',\n",
       " 'rougher.output.tail_pb',\n",
       " 'rougher.output.tail_sol',\n",
       " 'rougher.output.tail_au',\n",
       " 'secondary_cleaner.output.tail_ag',\n",
       " 'secondary_cleaner.output.tail_pb',\n",
       " 'secondary_cleaner.output.tail_sol',\n",
       " 'secondary_cleaner.output.tail_au',\n",
       " 'rougher.output.recovery_chek']"
      ]
     },
     "execution_count": 6,
     "metadata": {},
     "output_type": "execute_result"
    }
   ],
   "source": [
    "#сравним признаки в двух наборах данных - обучающем и тестовом\n",
    "unique = []\n",
    "for i in range(len(list(data_train.columns))):\n",
    "    if list(data_train.columns)[i] not in list(data_test.columns):\n",
    "        unique.append(list(data_train.columns)[i])\n",
    "unique"
   ]
  },
  {
   "cell_type": "markdown",
   "metadata": {},
   "source": [
    "В тестовом наборе данных отсутствуют признаки, связанные с объемом материалов, полученных на выходе после обработки. Вероятно это связано с тем, что в реальных данных до проведения каждого этапа мы не можем знать, сколько получим на выходе каждого элемента и нам нужно эти данные уметь получать из имеющихся. "
   ]
  },
  {
   "cell_type": "code",
   "execution_count": 7,
   "metadata": {},
   "outputs": [
    {
     "name": "stdout",
     "output_type": "stream",
     "text": [
      "<class 'pandas.core.frame.DataFrame'>\n",
      "RangeIndex: 14149 entries, 0 to 14148\n",
      "Data columns (total 88 columns):\n",
      " #   Column                                              Non-Null Count  Dtype  \n",
      "---  ------                                              --------------  -----  \n",
      " 0   date                                                14149 non-null  object \n",
      " 1   final.output.concentrate_ag                         14149 non-null  float64\n",
      " 2   final.output.concentrate_pb                         14149 non-null  float64\n",
      " 3   final.output.concentrate_sol                        14149 non-null  float64\n",
      " 4   final.output.concentrate_au                         14149 non-null  float64\n",
      " 5   final.output.recovery                               14149 non-null  float64\n",
      " 6   final.output.tail_ag                                14149 non-null  float64\n",
      " 7   final.output.tail_pb                                14149 non-null  float64\n",
      " 8   final.output.tail_sol                               14149 non-null  float64\n",
      " 9   final.output.tail_au                                14149 non-null  float64\n",
      " 10  primary_cleaner.input.sulfate                       14149 non-null  float64\n",
      " 11  primary_cleaner.input.depressant                    14149 non-null  float64\n",
      " 12  primary_cleaner.input.feed_size                     14149 non-null  float64\n",
      " 13  primary_cleaner.input.xanthate                      14149 non-null  float64\n",
      " 14  primary_cleaner.output.concentrate_ag               14149 non-null  float64\n",
      " 15  primary_cleaner.output.concentrate_pb               14149 non-null  float64\n",
      " 16  primary_cleaner.output.concentrate_sol              14149 non-null  float64\n",
      " 17  primary_cleaner.output.concentrate_au               14149 non-null  float64\n",
      " 18  primary_cleaner.output.tail_ag                      14149 non-null  float64\n",
      " 19  primary_cleaner.output.tail_pb                      14149 non-null  float64\n",
      " 20  primary_cleaner.output.tail_sol                     14149 non-null  float64\n",
      " 21  primary_cleaner.output.tail_au                      14149 non-null  float64\n",
      " 22  primary_cleaner.state.floatbank8_a_air              14149 non-null  float64\n",
      " 23  primary_cleaner.state.floatbank8_a_level            14149 non-null  float64\n",
      " 24  primary_cleaner.state.floatbank8_b_air              14149 non-null  float64\n",
      " 25  primary_cleaner.state.floatbank8_b_level            14149 non-null  float64\n",
      " 26  primary_cleaner.state.floatbank8_c_air              14149 non-null  float64\n",
      " 27  primary_cleaner.state.floatbank8_c_level            14149 non-null  float64\n",
      " 28  primary_cleaner.state.floatbank8_d_air              14149 non-null  float64\n",
      " 29  primary_cleaner.state.floatbank8_d_level            14149 non-null  float64\n",
      " 30  rougher.calculation.sulfate_to_au_concentrate       14149 non-null  float64\n",
      " 31  rougher.calculation.floatbank10_sulfate_to_au_feed  14149 non-null  float64\n",
      " 32  rougher.calculation.floatbank11_sulfate_to_au_feed  14149 non-null  float64\n",
      " 33  rougher.calculation.au_pb_ratio                     14149 non-null  float64\n",
      " 34  rougher.input.feed_ag                               14149 non-null  float64\n",
      " 35  rougher.input.feed_pb                               14149 non-null  float64\n",
      " 36  rougher.input.feed_rate                             14149 non-null  float64\n",
      " 37  rougher.input.feed_size                             14149 non-null  float64\n",
      " 38  rougher.input.feed_sol                              14149 non-null  float64\n",
      " 39  rougher.input.feed_au                               14149 non-null  float64\n",
      " 40  rougher.input.floatbank10_sulfate                   14149 non-null  float64\n",
      " 41  rougher.input.floatbank10_xanthate                  14149 non-null  float64\n",
      " 42  rougher.input.floatbank11_sulfate                   14149 non-null  float64\n",
      " 43  rougher.input.floatbank11_xanthate                  14149 non-null  float64\n",
      " 44  rougher.output.concentrate_ag                       14149 non-null  float64\n",
      " 45  rougher.output.concentrate_pb                       14149 non-null  float64\n",
      " 46  rougher.output.concentrate_sol                      14149 non-null  float64\n",
      " 47  rougher.output.concentrate_au                       14149 non-null  float64\n",
      " 48  rougher.output.recovery                             14149 non-null  float64\n",
      " 49  rougher.output.tail_ag                              14149 non-null  float64\n",
      " 50  rougher.output.tail_pb                              14149 non-null  float64\n",
      " 51  rougher.output.tail_sol                             14149 non-null  float64\n",
      " 52  rougher.output.tail_au                              14149 non-null  float64\n",
      " 53  rougher.state.floatbank10_a_air                     14149 non-null  float64\n",
      " 54  rougher.state.floatbank10_a_level                   14149 non-null  float64\n",
      " 55  rougher.state.floatbank10_b_air                     14149 non-null  float64\n",
      " 56  rougher.state.floatbank10_b_level                   14149 non-null  float64\n",
      " 57  rougher.state.floatbank10_c_air                     14149 non-null  float64\n",
      " 58  rougher.state.floatbank10_c_level                   14149 non-null  float64\n",
      " 59  rougher.state.floatbank10_d_air                     14149 non-null  float64\n",
      " 60  rougher.state.floatbank10_d_level                   14149 non-null  float64\n",
      " 61  rougher.state.floatbank10_e_air                     14149 non-null  float64\n",
      " 62  rougher.state.floatbank10_e_level                   14149 non-null  float64\n",
      " 63  rougher.state.floatbank10_f_air                     14149 non-null  float64\n",
      " 64  rougher.state.floatbank10_f_level                   14149 non-null  float64\n",
      " 65  secondary_cleaner.output.tail_ag                    14149 non-null  float64\n",
      " 66  secondary_cleaner.output.tail_pb                    14149 non-null  float64\n",
      " 67  secondary_cleaner.output.tail_sol                   14149 non-null  float64\n",
      " 68  secondary_cleaner.output.tail_au                    14149 non-null  float64\n",
      " 69  secondary_cleaner.state.floatbank2_a_air            14149 non-null  float64\n",
      " 70  secondary_cleaner.state.floatbank2_a_level          14149 non-null  float64\n",
      " 71  secondary_cleaner.state.floatbank2_b_air            14149 non-null  float64\n",
      " 72  secondary_cleaner.state.floatbank2_b_level          14149 non-null  float64\n",
      " 73  secondary_cleaner.state.floatbank3_a_air            14149 non-null  float64\n",
      " 74  secondary_cleaner.state.floatbank3_a_level          14149 non-null  float64\n",
      " 75  secondary_cleaner.state.floatbank3_b_air            14149 non-null  float64\n",
      " 76  secondary_cleaner.state.floatbank3_b_level          14149 non-null  float64\n",
      " 77  secondary_cleaner.state.floatbank4_a_air            14149 non-null  float64\n",
      " 78  secondary_cleaner.state.floatbank4_a_level          14149 non-null  float64\n",
      " 79  secondary_cleaner.state.floatbank4_b_air            14149 non-null  float64\n",
      " 80  secondary_cleaner.state.floatbank4_b_level          14149 non-null  float64\n",
      " 81  secondary_cleaner.state.floatbank5_a_air            14149 non-null  float64\n",
      " 82  secondary_cleaner.state.floatbank5_a_level          14149 non-null  float64\n",
      " 83  secondary_cleaner.state.floatbank5_b_air            14149 non-null  float64\n",
      " 84  secondary_cleaner.state.floatbank5_b_level          14149 non-null  float64\n",
      " 85  secondary_cleaner.state.floatbank6_a_air            14149 non-null  float64\n",
      " 86  secondary_cleaner.state.floatbank6_a_level          14149 non-null  float64\n",
      " 87  rougher.output.recovery_chek                        14149 non-null  float64\n",
      "dtypes: float64(87), object(1)\n",
      "memory usage: 9.5+ MB\n",
      "<class 'pandas.core.frame.DataFrame'>\n",
      "RangeIndex: 5290 entries, 0 to 5289\n",
      "Data columns (total 53 columns):\n",
      " #   Column                                      Non-Null Count  Dtype  \n",
      "---  ------                                      --------------  -----  \n",
      " 0   date                                        5290 non-null   object \n",
      " 1   primary_cleaner.input.sulfate               5290 non-null   float64\n",
      " 2   primary_cleaner.input.depressant            5290 non-null   float64\n",
      " 3   primary_cleaner.input.feed_size             5290 non-null   float64\n",
      " 4   primary_cleaner.input.xanthate              5290 non-null   float64\n",
      " 5   primary_cleaner.state.floatbank8_a_air      5290 non-null   float64\n",
      " 6   primary_cleaner.state.floatbank8_a_level    5290 non-null   float64\n",
      " 7   primary_cleaner.state.floatbank8_b_air      5290 non-null   float64\n",
      " 8   primary_cleaner.state.floatbank8_b_level    5290 non-null   float64\n",
      " 9   primary_cleaner.state.floatbank8_c_air      5290 non-null   float64\n",
      " 10  primary_cleaner.state.floatbank8_c_level    5290 non-null   float64\n",
      " 11  primary_cleaner.state.floatbank8_d_air      5290 non-null   float64\n",
      " 12  primary_cleaner.state.floatbank8_d_level    5290 non-null   float64\n",
      " 13  rougher.input.feed_ag                       5290 non-null   float64\n",
      " 14  rougher.input.feed_pb                       5290 non-null   float64\n",
      " 15  rougher.input.feed_rate                     5290 non-null   float64\n",
      " 16  rougher.input.feed_size                     5290 non-null   float64\n",
      " 17  rougher.input.feed_sol                      5290 non-null   float64\n",
      " 18  rougher.input.feed_au                       5290 non-null   float64\n",
      " 19  rougher.input.floatbank10_sulfate           5290 non-null   float64\n",
      " 20  rougher.input.floatbank10_xanthate          5290 non-null   float64\n",
      " 21  rougher.input.floatbank11_sulfate           5290 non-null   float64\n",
      " 22  rougher.input.floatbank11_xanthate          5290 non-null   float64\n",
      " 23  rougher.state.floatbank10_a_air             5290 non-null   float64\n",
      " 24  rougher.state.floatbank10_a_level           5290 non-null   float64\n",
      " 25  rougher.state.floatbank10_b_air             5290 non-null   float64\n",
      " 26  rougher.state.floatbank10_b_level           5290 non-null   float64\n",
      " 27  rougher.state.floatbank10_c_air             5290 non-null   float64\n",
      " 28  rougher.state.floatbank10_c_level           5290 non-null   float64\n",
      " 29  rougher.state.floatbank10_d_air             5290 non-null   float64\n",
      " 30  rougher.state.floatbank10_d_level           5290 non-null   float64\n",
      " 31  rougher.state.floatbank10_e_air             5290 non-null   float64\n",
      " 32  rougher.state.floatbank10_e_level           5290 non-null   float64\n",
      " 33  rougher.state.floatbank10_f_air             5290 non-null   float64\n",
      " 34  rougher.state.floatbank10_f_level           5290 non-null   float64\n",
      " 35  secondary_cleaner.state.floatbank2_a_air    5290 non-null   float64\n",
      " 36  secondary_cleaner.state.floatbank2_a_level  5290 non-null   float64\n",
      " 37  secondary_cleaner.state.floatbank2_b_air    5290 non-null   float64\n",
      " 38  secondary_cleaner.state.floatbank2_b_level  5290 non-null   float64\n",
      " 39  secondary_cleaner.state.floatbank3_a_air    5290 non-null   float64\n",
      " 40  secondary_cleaner.state.floatbank3_a_level  5290 non-null   float64\n",
      " 41  secondary_cleaner.state.floatbank3_b_air    5290 non-null   float64\n",
      " 42  secondary_cleaner.state.floatbank3_b_level  5290 non-null   float64\n",
      " 43  secondary_cleaner.state.floatbank4_a_air    5290 non-null   float64\n",
      " 44  secondary_cleaner.state.floatbank4_a_level  5290 non-null   float64\n",
      " 45  secondary_cleaner.state.floatbank4_b_air    5290 non-null   float64\n",
      " 46  secondary_cleaner.state.floatbank4_b_level  5290 non-null   float64\n",
      " 47  secondary_cleaner.state.floatbank5_a_air    5290 non-null   float64\n",
      " 48  secondary_cleaner.state.floatbank5_a_level  5290 non-null   float64\n",
      " 49  secondary_cleaner.state.floatbank5_b_air    5290 non-null   float64\n",
      " 50  secondary_cleaner.state.floatbank5_b_level  5290 non-null   float64\n",
      " 51  secondary_cleaner.state.floatbank6_a_air    5290 non-null   float64\n",
      " 52  secondary_cleaner.state.floatbank6_a_level  5290 non-null   float64\n",
      "dtypes: float64(52), object(1)\n",
      "memory usage: 2.1+ MB\n"
     ]
    }
   ],
   "source": [
    "#проведем предобработку данных, заполним пустые значения близкими по времени замерами, так как нам известно, что они близки по результатам\n",
    "\n",
    "data_train = data_train.fillna(method='ffill')\n",
    "data_test = data_test.fillna(method='ffill')\n",
    "\n",
    "data_train.info()\n",
    "data_test.info()"
   ]
  },
  {
   "cell_type": "markdown",
   "metadata": {},
   "source": [
    "Мы заполнили пустые значения близкими по дате получения замеров, так как нам известно, что зачастую они близки по значению из-за близкого сбора по времени."
   ]
  },
  {
   "cell_type": "markdown",
   "metadata": {},
   "source": [
    "## Анализ данных"
   ]
  },
  {
   "cell_type": "code",
   "execution_count": 8,
   "metadata": {},
   "outputs": [],
   "source": [
    "def histogram (data):\n",
    "    data['1'].hist(range=(0,100), bins=20, stacked =True, label = 'rougher')\n",
    "    data['2'].hist(range=(0,100), bins=20, stacked =True, label = 'primary_cleaner')\n",
    "    data['3'].hist(range=(0,100), bins=20, stacked =True, label = 'secondary_cleaner')\n",
    "    plt.title('Содержание золота на разных этапах ')\n",
    "    plt.ylabel('Количество замеров')\n",
    "    plt.xlabel('Концентрация')\n",
    "    plt.legend()\n",
    "    plt.show()\n",
    "    print(data)"
   ]
  },
  {
   "cell_type": "code",
   "execution_count": 9,
   "metadata": {},
   "outputs": [
    {
     "data": {
      "image/png": "[encoded data removed]",
      "text/plain": [
       "<Figure size 432x288 with 1 Axes>"
      ]
     },
     "metadata": {
      "needs_background": "light"
     },
     "output_type": "display_data"
    },
    {
     "name": "stdout",
     "output_type": "stream",
     "text": [
      "               1          2          3\n",
      "0      19.793808  34.174427  42.192020\n",
      "1      20.050975  34.118526  42.701629\n",
      "2      19.737170  33.969464  42.657501\n",
      "3      19.320810  28.260743  42.689819\n",
      "4      19.216101  33.044932  42.774141\n",
      "...          ...        ...        ...\n",
      "14144  18.603550  32.940215  46.713954\n",
      "14145  18.441436  32.925325  46.866780\n",
      "14146  15.111231  31.856742  46.795691\n",
      "14147  17.834772  30.770892  46.408188\n",
      "14148  17.804134  30.356618  46.299438\n",
      "\n",
      "[14149 rows x 3 columns]\n"
     ]
    }
   ],
   "source": [
    "data_train_con_au = data_train[['rougher.output.concentrate_au', 'primary_cleaner.output.concentrate_au', 'final.output.concentrate_au']]\n",
    "data_train_con_au = data_train_con_au.rename(columns={'rougher.output.concentrate_au': '1', 'primary_cleaner.output.concentrate_au': '2', 'final.output.concentrate_au': '3'})\n",
    "data_train_con_au\n",
    "histogram(data_train_con_au)"
   ]
  },
  {
   "cell_type": "code",
   "execution_count": 10,
   "metadata": {},
   "outputs": [
    {
     "data": {
      "image/png": "[encoded data removed]",
      "text/plain": [
       "<Figure size 432x288 with 1 Axes>"
      ]
     },
     "metadata": {
      "needs_background": "light"
     },
     "output_type": "display_data"
    },
    {
     "name": "stdout",
     "output_type": "stream",
     "text": [
      "               1         2         3\n",
      "0      11.500771  8.547551  6.055403\n",
      "1      11.615865  8.558743  6.029369\n",
      "2      11.695753  8.603505  6.055926\n",
      "3      11.915047  7.221879  6.047977\n",
      "4      12.411054  9.089428  6.148599\n",
      "...          ...       ...       ...\n",
      "14144  11.124896  6.559174  3.224920\n",
      "14145  11.425983  6.612376  3.195978\n",
      "14146   8.523497  7.128896  3.109998\n",
      "14147  11.658799  7.490444  3.367241\n",
      "14148  11.959486  7.537584  3.598375\n",
      "\n",
      "[14149 rows x 3 columns]\n"
     ]
    }
   ],
   "source": [
    "data_train_con_ag = data_train[['rougher.output.concentrate_ag', 'primary_cleaner.output.concentrate_ag', 'final.output.concentrate_ag']]\n",
    "data_train_con_ag = data_train_con_ag.rename(columns={'rougher.output.concentrate_ag': '1', 'primary_cleaner.output.concentrate_ag': '2', 'final.output.concentrate_ag': '3'})\n",
    "\n",
    "histogram(data_train_con_ag)"
   ]
  },
  {
   "cell_type": "code",
   "execution_count": 11,
   "metadata": {},
   "outputs": [
    {
     "data": {
      "image/png": "[encoded data removed]",
      "text/plain": [
       "<Figure size 432x288 with 1 Axes>"
      ]
     },
     "metadata": {
      "needs_background": "light"
     },
     "output_type": "display_data"
    },
    {
     "name": "stdout",
     "output_type": "stream",
     "text": [
      "               1          2          3\n",
      "0       7.101074  10.389648   9.889648\n",
      "1       7.278807  10.497069   9.968944\n",
      "2       7.216833  10.354494  10.213995\n",
      "3       7.175616   8.496563   9.977019\n",
      "4       7.240205   9.986786  10.142511\n",
      "...          ...        ...        ...\n",
      "14144  10.984003  12.445966  11.356233\n",
      "14145  10.888213  12.623947  11.349355\n",
      "14146   8.955135  12.633558  11.434366\n",
      "14147  10.655377  12.012378  11.625587\n",
      "14148  10.702148  11.650285  11.737832\n",
      "\n",
      "[14149 rows x 3 columns]\n"
     ]
    }
   ],
   "source": [
    "data_train_con_pb = data_train[['rougher.output.concentrate_pb', 'primary_cleaner.output.concentrate_pb', 'final.output.concentrate_pb']]\n",
    "data_train_con_pb = data_train_con_pb.rename(columns={'rougher.output.concentrate_pb': '1', 'primary_cleaner.output.concentrate_pb': '2', 'final.output.concentrate_pb': '3'})\n",
    "\n",
    "histogram(data_train_con_pb)"
   ]
  },
  {
   "cell_type": "markdown",
   "metadata": {},
   "source": [
    "В результате обработки руды концентрация золота увеличивается за счет снижения концентрации других металлов, в первую очередь серебра. Концентрация свинца остается примерно одинаковой в ходе всего технологического процесса. "
   ]
  },
  {
   "cell_type": "code",
   "execution_count": 12,
   "metadata": {},
   "outputs": [
    {
     "data": {
      "image/png": "[encoded data removed]",
      "text/plain": [
       "<Figure size 432x288 with 1 Axes>"
      ]
     },
     "metadata": {
      "needs_background": "light"
     },
     "output_type": "display_data"
    },
    {
     "name": "stdout",
     "output_type": "stream",
     "text": [
      "train mean 60.23985599255732\n",
      "train median 55.269783890501536\n",
      "test mean 55.952754028895136\n",
      "test median 50.8468431600362\n"
     ]
    }
   ],
   "source": [
    "#Сравним распределение гранул сырья на тестовой и обучающей выборке для того, чтобы проверить корректность создания выборки\n",
    "\n",
    "data_train['rougher.input.feed_size'].hist(range=(0,200), bins=40, stacked =True, label = 'Train')\n",
    "data_test['rougher.input.feed_size'].hist(range=(0,200), bins=40, stacked =True, label = 'Test')\n",
    "plt.title('Содержание золота на разных этапах ')\n",
    "plt.ylabel('Количество замеров')\n",
    "plt.xlabel('Размер')\n",
    "plt.legend()\n",
    "plt.show()\n",
    "\n",
    "print('train mean', data_train['rougher.input.feed_size'].mean())\n",
    "print('train median', data_train['rougher.input.feed_size'].median())\n",
    "print('test mean', data_test['rougher.input.feed_size'].mean())\n",
    "print('test median', data_test['rougher.input.feed_size'].median())"
   ]
  },
  {
   "cell_type": "markdown",
   "metadata": {},
   "source": [
    "Размер гранул сырья в тестовой и обучающей выборке отличаются на ~8%, также как и медиана, при этом с точки зрения распределения размера мы видим аналогичную картину в обеих выборках, из чего можем заключить, что выборки распределены корректно и мы можем работать с представленными данными. "
   ]
  },
  {
   "cell_type": "code",
   "execution_count": 13,
   "metadata": {},
   "outputs": [],
   "source": [
    "#Исследуем суммарную концентрацию веществ на разных этапах \n",
    "\n",
    "data_train['rougher.output.concentrat_total'] = data_train['rougher.output.concentrate_pb'] + data_train['rougher.output.concentrate_au'] + data_train['rougher.output.concentrate_ag'] + data_train['rougher.output.concentrate_sol']\n",
    "data_train['primary_cleaner.output.concentrat_total'] = data_train['primary_cleaner.output.concentrate_pb'] + data_train['primary_cleaner.output.concentrate_au'] + data_train['primary_cleaner.output.concentrate_ag'] +  data_train['primary_cleaner.output.concentrate_sol']\n",
    "data_train['final.output.concentrat_total'] = data_train['final.output.concentrate_pb'] + data_train['final.output.concentrate_au'] + data_train['final.output.concentrate_ag'] + data_train['final.output.concentrate_sol']\n",
    "data_train['input.concentrat_total'] = data_train['rougher.input.feed_pb'] + data_train['rougher.input.feed_au'] + data_train['rougher.input.feed_ag'] + data_train['rougher.input.feed_sol']\n"
   ]
  },
  {
   "cell_type": "code",
   "execution_count": 14,
   "metadata": {},
   "outputs": [
    {
     "data": {
      "image/png": "[encoded data removed]",
      "text/plain": [
       "<Figure size 432x288 with 1 Axes>"
      ]
     },
     "metadata": {
      "needs_background": "light"
     },
     "output_type": "display_data"
    }
   ],
   "source": [
    "data_train['input.concentrat_total'].hist(alpha=0.5, range=(0,100), bins=20, stacked =True, label = 'input')\n",
    "data_train['rougher.output.concentrat_total'].hist(alpha=0.5, range=(0,100), bins=20, stacked =True, label = 'rougher')\n",
    "data_train['primary_cleaner.output.concentrat_total'].hist(alpha=0.5, range=(0,100), bins=20, stacked =True, label = 'primary_cleaner')\n",
    "data_train['final.output.concentrat_total'].hist(alpha=0.5, range=(0,100), bins=20, stacked =True, label = 'final')\n",
    "plt.title('Cуммарная концентрация металлов на разных этапах очистки')\n",
    "plt.ylabel('Количество замеров')\n",
    "plt.xlabel('Концентрация')\n",
    "plt.legend()\n",
    "plt.show()\n"
   ]
  },
  {
   "cell_type": "markdown",
   "metadata": {},
   "source": [
    "Суммарная концентрация металлов на всех этапах распределена вокруг ~70%, при этом наблюдаются аномальные наблюдения, в которых суммарное значение находится около нуля. Такие наблюдения искажают данные, соответственно нам необходимо удалить их из данных, с которыми мы работаем. Такие наблюдения могут быть связаны с особенностью технологического процесса, исключительные замеры, в которых в ходе технологического процесса были допущены неточности. \n",
    "При этом удалить такие замеры необходимо только из обучающей выборке, так как в тестовой мы еще не знаем, какой на выходе будет концентрат, соответственно предполагаем, что процесс будет проведен корректно. "
   ]
  },
  {
   "cell_type": "code",
   "execution_count": 15,
   "metadata": {},
   "outputs": [
    {
     "data": {
      "text/plain": [
       "(14149, 92)"
      ]
     },
     "execution_count": 15,
     "metadata": {},
     "output_type": "execute_result"
    }
   ],
   "source": [
    "data_train.shape"
   ]
  },
  {
   "cell_type": "code",
   "execution_count": 16,
   "metadata": {},
   "outputs": [
    {
     "data": {
      "text/plain": [
       "(14148, 92)"
      ]
     },
     "execution_count": 16,
     "metadata": {},
     "output_type": "execute_result"
    }
   ],
   "source": [
    "#удалим выбросы из обучающей выборки \n",
    "\n",
    "data_train = data_train.loc[(data_train['final.output.concentrat_total'] != 0) | (data_train['primary_cleaner.output.concentrat_total'] != 0) | (data_train['rougher.output.concentrat_total'] != 0)]\n",
    "data_train.shape"
   ]
  },
  {
   "cell_type": "markdown",
   "metadata": {},
   "source": [
    "Мы удалили выбросы из обучающей выборки, видим, что уменьшилась она незначительно и теперь мы можем эффективно с ней работать "
   ]
  },
  {
   "cell_type": "markdown",
   "metadata": {},
   "source": [
    "## Модель"
   ]
  },
  {
   "cell_type": "code",
   "execution_count": 17,
   "metadata": {},
   "outputs": [],
   "source": [
    "#Введем функцию расчета sMAPE\n",
    "\n",
    "def smape(model, features, target):\n",
    "    model = model.fit(features, target)\n",
    "    pred = model.predict(features)\n",
    "    return 100/len(target) * np.sum(2 * np.abs(pred - target) / (np.abs(target) + np.abs(pred)))"
   ]
  },
  {
   "cell_type": "code",
   "execution_count": 18,
   "metadata": {},
   "outputs": [],
   "source": [
    "def smape_test(target, pred):\n",
    "    \n",
    "    return 100/len(target) * np.sum(2 * np.abs(pred - target) / (np.abs(target) + np.abs(pred)))"
   ]
  },
  {
   "cell_type": "code",
   "execution_count": 19,
   "metadata": {},
   "outputs": [],
   "source": [
    "def final_smape(rougher, final):\n",
    "    \n",
    "    \n",
    "    return 0.25 * rougher + 0.75 * final"
   ]
  },
  {
   "cell_type": "code",
   "execution_count": 20,
   "metadata": {},
   "outputs": [
    {
     "data": {
      "text/plain": [
       "(14148, 92)"
      ]
     },
     "execution_count": 20,
     "metadata": {},
     "output_type": "execute_result"
    }
   ],
   "source": [
    "data_train.shape"
   ]
  },
  {
   "cell_type": "code",
   "execution_count": 21,
   "metadata": {},
   "outputs": [
    {
     "data": {
      "text/plain": [
       "['final.output.concentrate_ag',\n",
       " 'final.output.concentrate_pb',\n",
       " 'final.output.concentrate_sol',\n",
       " 'final.output.concentrate_au',\n",
       " 'final.output.recovery',\n",
       " 'final.output.tail_ag',\n",
       " 'final.output.tail_pb',\n",
       " 'final.output.tail_sol',\n",
       " 'final.output.tail_au',\n",
       " 'primary_cleaner.output.concentrate_ag',\n",
       " 'primary_cleaner.output.concentrate_pb',\n",
       " 'primary_cleaner.output.concentrate_sol',\n",
       " 'primary_cleaner.output.concentrate_au',\n",
       " 'primary_cleaner.output.tail_ag',\n",
       " 'primary_cleaner.output.tail_pb',\n",
       " 'primary_cleaner.output.tail_sol',\n",
       " 'primary_cleaner.output.tail_au',\n",
       " 'rougher.calculation.sulfate_to_au_concentrate',\n",
       " 'rougher.calculation.floatbank10_sulfate_to_au_feed',\n",
       " 'rougher.calculation.floatbank11_sulfate_to_au_feed',\n",
       " 'rougher.calculation.au_pb_ratio',\n",
       " 'rougher.output.concentrate_ag',\n",
       " 'rougher.output.concentrate_pb',\n",
       " 'rougher.output.concentrate_sol',\n",
       " 'rougher.output.concentrate_au',\n",
       " 'rougher.output.recovery',\n",
       " 'rougher.output.tail_ag',\n",
       " 'rougher.output.tail_pb',\n",
       " 'rougher.output.tail_sol',\n",
       " 'rougher.output.tail_au',\n",
       " 'secondary_cleaner.output.tail_ag',\n",
       " 'secondary_cleaner.output.tail_pb',\n",
       " 'secondary_cleaner.output.tail_sol',\n",
       " 'secondary_cleaner.output.tail_au',\n",
       " 'rougher.output.recovery_chek',\n",
       " 'rougher.output.concentrat_total',\n",
       " 'primary_cleaner.output.concentrat_total',\n",
       " 'final.output.concentrat_total',\n",
       " 'input.concentrat_total']"
      ]
     },
     "execution_count": 21,
     "metadata": {},
     "output_type": "execute_result"
    }
   ],
   "source": [
    "col = []\n",
    "for i in range(len(list(data_train.columns))):\n",
    "    if list(data_train.columns)[i] not in list(data_test.columns):\n",
    "        col.append(list(data_train.columns)[i])\n",
    "col"
   ]
  },
  {
   "cell_type": "code",
   "execution_count": 22,
   "metadata": {},
   "outputs": [
    {
     "name": "stdout",
     "output_type": "stream",
     "text": [
      "<class 'pandas.core.frame.DataFrame'>\n",
      "Int64Index: 14148 entries, 0 to 14148\n",
      "Data columns (total 52 columns):\n",
      " #   Column                                      Non-Null Count  Dtype  \n",
      "---  ------                                      --------------  -----  \n",
      " 0   primary_cleaner.input.sulfate               14148 non-null  float64\n",
      " 1   primary_cleaner.input.depressant            14148 non-null  float64\n",
      " 2   primary_cleaner.input.feed_size             14148 non-null  float64\n",
      " 3   primary_cleaner.input.xanthate              14148 non-null  float64\n",
      " 4   primary_cleaner.state.floatbank8_a_air      14148 non-null  float64\n",
      " 5   primary_cleaner.state.floatbank8_a_level    14148 non-null  float64\n",
      " 6   primary_cleaner.state.floatbank8_b_air      14148 non-null  float64\n",
      " 7   primary_cleaner.state.floatbank8_b_level    14148 non-null  float64\n",
      " 8   primary_cleaner.state.floatbank8_c_air      14148 non-null  float64\n",
      " 9   primary_cleaner.state.floatbank8_c_level    14148 non-null  float64\n",
      " 10  primary_cleaner.state.floatbank8_d_air      14148 non-null  float64\n",
      " 11  primary_cleaner.state.floatbank8_d_level    14148 non-null  float64\n",
      " 12  rougher.input.feed_ag                       14148 non-null  float64\n",
      " 13  rougher.input.feed_pb                       14148 non-null  float64\n",
      " 14  rougher.input.feed_rate                     14148 non-null  float64\n",
      " 15  rougher.input.feed_size                     14148 non-null  float64\n",
      " 16  rougher.input.feed_sol                      14148 non-null  float64\n",
      " 17  rougher.input.feed_au                       14148 non-null  float64\n",
      " 18  rougher.input.floatbank10_sulfate           14148 non-null  float64\n",
      " 19  rougher.input.floatbank10_xanthate          14148 non-null  float64\n",
      " 20  rougher.input.floatbank11_sulfate           14148 non-null  float64\n",
      " 21  rougher.input.floatbank11_xanthate          14148 non-null  float64\n",
      " 22  rougher.state.floatbank10_a_air             14148 non-null  float64\n",
      " 23  rougher.state.floatbank10_a_level           14148 non-null  float64\n",
      " 24  rougher.state.floatbank10_b_air             14148 non-null  float64\n",
      " 25  rougher.state.floatbank10_b_level           14148 non-null  float64\n",
      " 26  rougher.state.floatbank10_c_air             14148 non-null  float64\n",
      " 27  rougher.state.floatbank10_c_level           14148 non-null  float64\n",
      " 28  rougher.state.floatbank10_d_air             14148 non-null  float64\n",
      " 29  rougher.state.floatbank10_d_level           14148 non-null  float64\n",
      " 30  rougher.state.floatbank10_e_air             14148 non-null  float64\n",
      " 31  rougher.state.floatbank10_e_level           14148 non-null  float64\n",
      " 32  rougher.state.floatbank10_f_air             14148 non-null  float64\n",
      " 33  rougher.state.floatbank10_f_level           14148 non-null  float64\n",
      " 34  secondary_cleaner.state.floatbank2_a_air    14148 non-null  float64\n",
      " 35  secondary_cleaner.state.floatbank2_a_level  14148 non-null  float64\n",
      " 36  secondary_cleaner.state.floatbank2_b_air    14148 non-null  float64\n",
      " 37  secondary_cleaner.state.floatbank2_b_level  14148 non-null  float64\n",
      " 38  secondary_cleaner.state.floatbank3_a_air    14148 non-null  float64\n",
      " 39  secondary_cleaner.state.floatbank3_a_level  14148 non-null  float64\n",
      " 40  secondary_cleaner.state.floatbank3_b_air    14148 non-null  float64\n",
      " 41  secondary_cleaner.state.floatbank3_b_level  14148 non-null  float64\n",
      " 42  secondary_cleaner.state.floatbank4_a_air    14148 non-null  float64\n",
      " 43  secondary_cleaner.state.floatbank4_a_level  14148 non-null  float64\n",
      " 44  secondary_cleaner.state.floatbank4_b_air    14148 non-null  float64\n",
      " 45  secondary_cleaner.state.floatbank4_b_level  14148 non-null  float64\n",
      " 46  secondary_cleaner.state.floatbank5_a_air    14148 non-null  float64\n",
      " 47  secondary_cleaner.state.floatbank5_a_level  14148 non-null  float64\n",
      " 48  secondary_cleaner.state.floatbank5_b_air    14148 non-null  float64\n",
      " 49  secondary_cleaner.state.floatbank5_b_level  14148 non-null  float64\n",
      " 50  secondary_cleaner.state.floatbank6_a_air    14148 non-null  float64\n",
      " 51  secondary_cleaner.state.floatbank6_a_level  14148 non-null  float64\n",
      "dtypes: float64(52)\n",
      "memory usage: 5.7 MB\n"
     ]
    }
   ],
   "source": [
    "#Обучим модель на обучающей выборке \n",
    "\n",
    "target = data_train[['rougher.output.recovery', 'final.output.recovery']]\n",
    "features = data_train.drop(col, axis=1).drop('date', axis=1)\n",
    "\n",
    "\n",
    "features.info()"
   ]
  },
  {
   "cell_type": "code",
   "execution_count": 23,
   "metadata": {},
   "outputs": [],
   "source": [
    "\n",
    "scorer = make_scorer(smape_test, greater_is_better=False)"
   ]
  },
  {
   "cell_type": "code",
   "execution_count": 24,
   "metadata": {},
   "outputs": [
    {
     "name": "stdout",
     "output_type": "stream",
     "text": [
      "sMAPE 12.34448199314085\n"
     ]
    }
   ],
   "source": [
    "#Линейная регрессия\n",
    "model= LinearRegression()\n",
    "\n",
    "\n",
    "\n",
    "print('sMAPE', (-1) * final_smape(cross_val_score(model, features, target[target.columns[0]], cv=5, scoring=scorer), cross_val_score(model, features, target[target.columns[1]], cv=5, scoring=scorer)).mean())"
   ]
  },
  {
   "cell_type": "code",
   "execution_count": 25,
   "metadata": {},
   "outputs": [
    {
     "name": "stdout",
     "output_type": "stream",
     "text": [
      "sMAPE 16.637038530306103\n"
     ]
    }
   ],
   "source": [
    "#Дерево решений\n",
    "\n",
    "model = DecisionTreeRegressor(random_state = 12345, max_depth=10)\n",
    "\n",
    "print('sMAPE', (-1) * final_smape(cross_val_score(model, features, target[target.columns[0]], cv=5, scoring=scorer), cross_val_score(model, features, target[target.columns[1]], cv=5, scoring=scorer)).mean())"
   ]
  },
  {
   "cell_type": "code",
   "execution_count": null,
   "metadata": {},
   "outputs": [],
   "source": [
    "#Попробуем улучшить Дерево решений\n",
    "\n",
    "\n",
    "best_depth = 0\n",
    "best_score = 17\n",
    "for depth in range(1, 70, 1):\n",
    "    model = DecisionTreeRegressor(max_depth=depth, random_state=12345)\n",
    "    model.fit(features, target)\n",
    "    score = (-1) * final_smape(cross_val_score(model, features, target[target.columns[0]], cv=5, scoring=scorer), cross_val_score(model, features, target[target.columns[1]], cv=5, scoring=scorer)).mean()\n",
    "    if  score < best_score:\n",
    "        best_score = score\n",
    "        best_depth=depth \n",
    "        \n",
    "print (best_score, best_depth)"
   ]
  },
  {
   "cell_type": "markdown",
   "metadata": {},
   "source": [
    "Лучший результат мы получили при глубине 2. "
   ]
  },
  {
   "cell_type": "code",
   "execution_count": null,
   "metadata": {},
   "outputs": [],
   "source": [
    "model = DecisionTreeRegressor(random_state = 12345, max_depth=2)\n",
    "print('sMAPE', (-1) * final_smape(cross_val_score(model, features, target[target.columns[0]], cv=5, scoring=scorer), cross_val_score(model, features, target[target.columns[1]], cv=5, scoring=scorer)).mean())"
   ]
  },
  {
   "cell_type": "markdown",
   "metadata": {},
   "source": [
    "Мы получили метрику sMAPE лучше для модели Дерево решений, поэтому выбираем ее для дальнейшего использования"
   ]
  },
  {
   "cell_type": "code",
   "execution_count": 48,
   "metadata": {
    "collapsed": true
   },
   "outputs": [
    {
     "ename": "ValueError",
     "evalue": "X has 54 features, but DecisionTreeRegressor is expecting 52 features as input.",
     "output_type": "error",
     "traceback": [
      "\u001b[0;31m---------------------------------------------------------------------------\u001b[0m",
      "\u001b[0;31mValueError\u001b[0m                                Traceback (most recent call last)",
      "\u001b[0;32m/tmp/ipykernel_210/1496383422.py\u001b[0m in \u001b[0;36m<module>\u001b[0;34m\u001b[0m\n\u001b[1;32m      3\u001b[0m \u001b[0mmodel\u001b[0m \u001b[0;34m=\u001b[0m \u001b[0mDecisionTreeRegressor\u001b[0m\u001b[0;34m(\u001b[0m\u001b[0mrandom_state\u001b[0m \u001b[0;34m=\u001b[0m \u001b[0;36m12345\u001b[0m\u001b[0;34m,\u001b[0m \u001b[0mmax_depth\u001b[0m\u001b[0;34m=\u001b[0m\u001b[0;36m2\u001b[0m\u001b[0;34m)\u001b[0m\u001b[0;34m\u001b[0m\u001b[0;34m\u001b[0m\u001b[0m\n\u001b[1;32m      4\u001b[0m \u001b[0mmodel\u001b[0m\u001b[0;34m.\u001b[0m\u001b[0mfit\u001b[0m\u001b[0;34m(\u001b[0m\u001b[0mfeatures\u001b[0m\u001b[0;34m,\u001b[0m \u001b[0mtarget\u001b[0m\u001b[0;34m)\u001b[0m\u001b[0;34m\u001b[0m\u001b[0;34m\u001b[0m\u001b[0m\n\u001b[0;32m----> 5\u001b[0;31m \u001b[0mpred_test\u001b[0m \u001b[0;34m=\u001b[0m \u001b[0mmodel\u001b[0m\u001b[0;34m.\u001b[0m\u001b[0mpredict\u001b[0m\u001b[0;34m(\u001b[0m\u001b[0mdata_test\u001b[0m\u001b[0;34m.\u001b[0m\u001b[0mdrop\u001b[0m\u001b[0;34m(\u001b[0m\u001b[0;34m'date'\u001b[0m\u001b[0;34m,\u001b[0m \u001b[0maxis\u001b[0m\u001b[0;34m=\u001b[0m\u001b[0;36m1\u001b[0m\u001b[0;34m)\u001b[0m\u001b[0;34m)\u001b[0m\u001b[0;34m\u001b[0m\u001b[0;34m\u001b[0m\u001b[0m\n\u001b[0m",
      "\u001b[0;32m/opt/conda/lib/python3.9/site-packages/sklearn/tree/_classes.py\u001b[0m in \u001b[0;36mpredict\u001b[0;34m(self, X, check_input)\u001b[0m\n\u001b[1;32m    435\u001b[0m         \"\"\"\n\u001b[1;32m    436\u001b[0m         \u001b[0mcheck_is_fitted\u001b[0m\u001b[0;34m(\u001b[0m\u001b[0mself\u001b[0m\u001b[0;34m)\u001b[0m\u001b[0;34m\u001b[0m\u001b[0;34m\u001b[0m\u001b[0m\n\u001b[0;32m--> 437\u001b[0;31m         \u001b[0mX\u001b[0m \u001b[0;34m=\u001b[0m \u001b[0mself\u001b[0m\u001b[0;34m.\u001b[0m\u001b[0m_validate_X_predict\u001b[0m\u001b[0;34m(\u001b[0m\u001b[0mX\u001b[0m\u001b[0;34m,\u001b[0m \u001b[0mcheck_input\u001b[0m\u001b[0;34m)\u001b[0m\u001b[0;34m\u001b[0m\u001b[0;34m\u001b[0m\u001b[0m\n\u001b[0m\u001b[1;32m    438\u001b[0m         \u001b[0mproba\u001b[0m \u001b[0;34m=\u001b[0m \u001b[0mself\u001b[0m\u001b[0;34m.\u001b[0m\u001b[0mtree_\u001b[0m\u001b[0;34m.\u001b[0m\u001b[0mpredict\u001b[0m\u001b[0;34m(\u001b[0m\u001b[0mX\u001b[0m\u001b[0;34m)\u001b[0m\u001b[0;34m\u001b[0m\u001b[0;34m\u001b[0m\u001b[0m\n\u001b[1;32m    439\u001b[0m         \u001b[0mn_samples\u001b[0m \u001b[0;34m=\u001b[0m \u001b[0mX\u001b[0m\u001b[0;34m.\u001b[0m\u001b[0mshape\u001b[0m\u001b[0;34m[\u001b[0m\u001b[0;36m0\u001b[0m\u001b[0;34m]\u001b[0m\u001b[0;34m\u001b[0m\u001b[0;34m\u001b[0m\u001b[0m\n",
      "\u001b[0;32m/opt/conda/lib/python3.9/site-packages/sklearn/tree/_classes.py\u001b[0m in \u001b[0;36m_validate_X_predict\u001b[0;34m(self, X, check_input)\u001b[0m\n\u001b[1;32m    400\u001b[0m         \u001b[0;34m\"\"\"Validate the training data on predict (probabilities).\"\"\"\u001b[0m\u001b[0;34m\u001b[0m\u001b[0;34m\u001b[0m\u001b[0m\n\u001b[1;32m    401\u001b[0m         \u001b[0;32mif\u001b[0m \u001b[0mcheck_input\u001b[0m\u001b[0;34m:\u001b[0m\u001b[0;34m\u001b[0m\u001b[0;34m\u001b[0m\u001b[0m\n\u001b[0;32m--> 402\u001b[0;31m             X = self._validate_data(X, dtype=DTYPE, accept_sparse=\"csr\",\n\u001b[0m\u001b[1;32m    403\u001b[0m                                     reset=False)\n\u001b[1;32m    404\u001b[0m             if issparse(X) and (X.indices.dtype != np.intc or\n",
      "\u001b[0;32m/opt/conda/lib/python3.9/site-packages/sklearn/base.py\u001b[0m in \u001b[0;36m_validate_data\u001b[0;34m(self, X, y, reset, validate_separately, **check_params)\u001b[0m\n\u001b[1;32m    435\u001b[0m \u001b[0;34m\u001b[0m\u001b[0m\n\u001b[1;32m    436\u001b[0m         \u001b[0;32mif\u001b[0m \u001b[0mcheck_params\u001b[0m\u001b[0;34m.\u001b[0m\u001b[0mget\u001b[0m\u001b[0;34m(\u001b[0m\u001b[0;34m'ensure_2d'\u001b[0m\u001b[0;34m,\u001b[0m \u001b[0;32mTrue\u001b[0m\u001b[0;34m)\u001b[0m\u001b[0;34m:\u001b[0m\u001b[0;34m\u001b[0m\u001b[0;34m\u001b[0m\u001b[0m\n\u001b[0;32m--> 437\u001b[0;31m             \u001b[0mself\u001b[0m\u001b[0;34m.\u001b[0m\u001b[0m_check_n_features\u001b[0m\u001b[0;34m(\u001b[0m\u001b[0mX\u001b[0m\u001b[0;34m,\u001b[0m \u001b[0mreset\u001b[0m\u001b[0;34m=\u001b[0m\u001b[0mreset\u001b[0m\u001b[0;34m)\u001b[0m\u001b[0;34m\u001b[0m\u001b[0;34m\u001b[0m\u001b[0m\n\u001b[0m\u001b[1;32m    438\u001b[0m \u001b[0;34m\u001b[0m\u001b[0m\n\u001b[1;32m    439\u001b[0m         \u001b[0;32mreturn\u001b[0m \u001b[0mout\u001b[0m\u001b[0;34m\u001b[0m\u001b[0;34m\u001b[0m\u001b[0m\n",
      "\u001b[0;32m/opt/conda/lib/python3.9/site-packages/sklearn/base.py\u001b[0m in \u001b[0;36m_check_n_features\u001b[0;34m(self, X, reset)\u001b[0m\n\u001b[1;32m    363\u001b[0m \u001b[0;34m\u001b[0m\u001b[0m\n\u001b[1;32m    364\u001b[0m         \u001b[0;32mif\u001b[0m \u001b[0mn_features\u001b[0m \u001b[0;34m!=\u001b[0m \u001b[0mself\u001b[0m\u001b[0;34m.\u001b[0m\u001b[0mn_features_in_\u001b[0m\u001b[0;34m:\u001b[0m\u001b[0;34m\u001b[0m\u001b[0;34m\u001b[0m\u001b[0m\n\u001b[0;32m--> 365\u001b[0;31m             raise ValueError(\n\u001b[0m\u001b[1;32m    366\u001b[0m                 \u001b[0;34mf\"X has {n_features} features, but {self.__class__.__name__} \"\u001b[0m\u001b[0;34m\u001b[0m\u001b[0;34m\u001b[0m\u001b[0m\n\u001b[1;32m    367\u001b[0m                 f\"is expecting {self.n_features_in_} features as input.\")\n",
      "\u001b[0;31mValueError\u001b[0m: X has 54 features, but DecisionTreeRegressor is expecting 52 features as input."
     ]
    }
   ],
   "source": [
    "#Проверим модель на тестовой выборке\n",
    "\n",
    "model = DecisionTreeRegressor(random_state = 12345, max_depth=2)\n",
    "model.fit(features, target)\n",
    "pred_test = model.predict(data_test.drop('date', axis=1))"
   ]
  },
  {
   "cell_type": "code",
   "execution_count": 45,
   "metadata": {},
   "outputs": [],
   "source": [
    "data_test['rougher.output.recovery_pred'] = pd.DataFrame(pred_test)[0]\n",
    "data_test['final.output.recovery_pred'] = pd.DataFrame(pred_test)[1]"
   ]
  },
  {
   "cell_type": "code",
   "execution_count": 46,
   "metadata": {},
   "outputs": [],
   "source": [
    "final_test = data_test[['date', 'rougher.output.recovery_pred', 'final.output.recovery_pred']]"
   ]
  },
  {
   "cell_type": "code",
   "execution_count": 47,
   "metadata": {},
   "outputs": [
    {
     "data": {
      "text/html": [
       "<div>\n",
       "<style scoped>\n",
       "    .dataframe tbody tr th:only-of-type {\n",
       "        vertical-align: middle;\n",
       "    }\n",
       "\n",
       "    .dataframe tbody tr th {\n",
       "        vertical-align: top;\n",
       "    }\n",
       "\n",
       "    .dataframe thead th {\n",
       "        text-align: right;\n",
       "    }\n",
       "</style>\n",
       "<table border=\"1\" class=\"dataframe\">\n",
       "  <thead>\n",
       "    <tr style=\"text-align: right;\">\n",
       "      <th></th>\n",
       "      <th>date</th>\n",
       "      <th>rougher.output.recovery_pred</th>\n",
       "      <th>final.output.recovery_pred</th>\n",
       "      <th>rougher.output.recovery</th>\n",
       "      <th>final.output.recovery</th>\n",
       "      <th>r_const</th>\n",
       "      <th>f_const</th>\n",
       "    </tr>\n",
       "  </thead>\n",
       "  <tbody>\n",
       "    <tr>\n",
       "      <th>0</th>\n",
       "      <td>2016-09-01 00:59:59</td>\n",
       "      <td>90.491742</td>\n",
       "      <td>73.498823</td>\n",
       "      <td>89.993421</td>\n",
       "      <td>70.273583</td>\n",
       "      <td>84.99781</td>\n",
       "      <td>68.471462</td>\n",
       "    </tr>\n",
       "    <tr>\n",
       "      <th>1</th>\n",
       "      <td>2016-09-01 01:59:59</td>\n",
       "      <td>92.479776</td>\n",
       "      <td>73.565217</td>\n",
       "      <td>88.089657</td>\n",
       "      <td>68.910432</td>\n",
       "      <td>84.99781</td>\n",
       "      <td>68.471462</td>\n",
       "    </tr>\n",
       "    <tr>\n",
       "      <th>2</th>\n",
       "      <td>2016-09-01 02:59:59</td>\n",
       "      <td>92.358769</td>\n",
       "      <td>73.788784</td>\n",
       "      <td>88.412756</td>\n",
       "      <td>68.143213</td>\n",
       "      <td>84.99781</td>\n",
       "      <td>68.471462</td>\n",
       "    </tr>\n",
       "    <tr>\n",
       "      <th>3</th>\n",
       "      <td>2016-09-01 03:59:59</td>\n",
       "      <td>92.101168</td>\n",
       "      <td>73.958610</td>\n",
       "      <td>87.360133</td>\n",
       "      <td>67.776393</td>\n",
       "      <td>84.99781</td>\n",
       "      <td>68.471462</td>\n",
       "    </tr>\n",
       "    <tr>\n",
       "      <th>4</th>\n",
       "      <td>2016-09-01 04:59:59</td>\n",
       "      <td>92.799924</td>\n",
       "      <td>71.963180</td>\n",
       "      <td>83.236367</td>\n",
       "      <td>61.467078</td>\n",
       "      <td>84.99781</td>\n",
       "      <td>68.471462</td>\n",
       "    </tr>\n",
       "    <tr>\n",
       "      <th>...</th>\n",
       "      <td>...</td>\n",
       "      <td>...</td>\n",
       "      <td>...</td>\n",
       "      <td>...</td>\n",
       "      <td>...</td>\n",
       "      <td>...</td>\n",
       "      <td>...</td>\n",
       "    </tr>\n",
       "    <tr>\n",
       "      <th>5285</th>\n",
       "      <td>2017-12-31 19:59:59</td>\n",
       "      <td>89.351337</td>\n",
       "      <td>73.746037</td>\n",
       "      <td>95.172585</td>\n",
       "      <td>68.919891</td>\n",
       "      <td>84.99781</td>\n",
       "      <td>68.471462</td>\n",
       "    </tr>\n",
       "    <tr>\n",
       "      <th>5286</th>\n",
       "      <td>2017-12-31 20:59:59</td>\n",
       "      <td>87.403885</td>\n",
       "      <td>76.645642</td>\n",
       "      <td>94.575036</td>\n",
       "      <td>68.440582</td>\n",
       "      <td>84.99781</td>\n",
       "      <td>68.471462</td>\n",
       "    </tr>\n",
       "    <tr>\n",
       "      <th>5287</th>\n",
       "      <td>2017-12-31 21:59:59</td>\n",
       "      <td>86.517969</td>\n",
       "      <td>75.910971</td>\n",
       "      <td>93.018138</td>\n",
       "      <td>67.092759</td>\n",
       "      <td>84.99781</td>\n",
       "      <td>68.471462</td>\n",
       "    </tr>\n",
       "    <tr>\n",
       "      <th>5288</th>\n",
       "      <td>2017-12-31 22:59:59</td>\n",
       "      <td>88.516596</td>\n",
       "      <td>73.608672</td>\n",
       "      <td>92.599042</td>\n",
       "      <td>68.061186</td>\n",
       "      <td>84.99781</td>\n",
       "      <td>68.471462</td>\n",
       "    </tr>\n",
       "    <tr>\n",
       "      <th>5289</th>\n",
       "      <td>2017-12-31 23:59:59</td>\n",
       "      <td>87.871630</td>\n",
       "      <td>74.752159</td>\n",
       "      <td>91.177695</td>\n",
       "      <td>71.699976</td>\n",
       "      <td>84.99781</td>\n",
       "      <td>68.471462</td>\n",
       "    </tr>\n",
       "  </tbody>\n",
       "</table>\n",
       "<p>5290 rows × 7 columns</p>\n",
       "</div>"
      ],
      "text/plain": [
       "                     date  rougher.output.recovery_pred  \\\n",
       "0     2016-09-01 00:59:59                     90.491742   \n",
       "1     2016-09-01 01:59:59                     92.479776   \n",
       "2     2016-09-01 02:59:59                     92.358769   \n",
       "3     2016-09-01 03:59:59                     92.101168   \n",
       "4     2016-09-01 04:59:59                     92.799924   \n",
       "...                   ...                           ...   \n",
       "5285  2017-12-31 19:59:59                     89.351337   \n",
       "5286  2017-12-31 20:59:59                     87.403885   \n",
       "5287  2017-12-31 21:59:59                     86.517969   \n",
       "5288  2017-12-31 22:59:59                     88.516596   \n",
       "5289  2017-12-31 23:59:59                     87.871630   \n",
       "\n",
       "      final.output.recovery_pred  rougher.output.recovery  \\\n",
       "0                      73.498823                89.993421   \n",
       "1                      73.565217                88.089657   \n",
       "2                      73.788784                88.412756   \n",
       "3                      73.958610                87.360133   \n",
       "4                      71.963180                83.236367   \n",
       "...                          ...                      ...   \n",
       "5285                   73.746037                95.172585   \n",
       "5286                   76.645642                94.575036   \n",
       "5287                   75.910971                93.018138   \n",
       "5288                   73.608672                92.599042   \n",
       "5289                   74.752159                91.177695   \n",
       "\n",
       "      final.output.recovery   r_const    f_const  \n",
       "0                 70.273583  84.99781  68.471462  \n",
       "1                 68.910432  84.99781  68.471462  \n",
       "2                 68.143213  84.99781  68.471462  \n",
       "3                 67.776393  84.99781  68.471462  \n",
       "4                 61.467078  84.99781  68.471462  \n",
       "...                     ...       ...        ...  \n",
       "5285              68.919891  84.99781  68.471462  \n",
       "5286              68.440582  84.99781  68.471462  \n",
       "5287              67.092759  84.99781  68.471462  \n",
       "5288              68.061186  84.99781  68.471462  \n",
       "5289              71.699976  84.99781  68.471462  \n",
       "\n",
       "[5290 rows x 7 columns]"
      ]
     },
     "execution_count": 47,
     "metadata": {},
     "output_type": "execute_result"
    }
   ],
   "source": [
    "final_test = final_test.merge(data_full[['date', 'rougher.output.recovery', 'final.output.recovery']])\n",
    "final_test['r_const'] = final_test['rougher.output.recovery'].mean()\n",
    "final_test['f_const'] = final_test['final.output.recovery'].mean()\n",
    "final_test"
   ]
  },
  {
   "cell_type": "code",
   "execution_count": 32,
   "metadata": {},
   "outputs": [],
   "source": [
    "final_smape_test = 0.25 * (smape_test(final_test['rougher.output.recovery'], \n",
    "                final_test['rougher.output.recovery'])) + 0.75 * (smape_test(final_test['final.output.recovery'],\n",
    "                                                               final_test['final.output.recovery_pred']))"
   ]
  },
  {
   "cell_type": "code",
   "execution_count": 33,
   "metadata": {},
   "outputs": [],
   "source": [
    "test_constant = 0.25 * (smape_test(final_test['rougher.output.recovery'], \n",
    "                final_test['r_const'])) + 0.75 * (smape_test(final_test['final.output.recovery'],\n",
    "                                                               final_test['f_const']))"
   ]
  },
  {
   "cell_type": "code",
   "execution_count": 34,
   "metadata": {},
   "outputs": [
    {
     "name": "stdout",
     "output_type": "stream",
     "text": [
      "SMAPE на тестовой выборке: 9.993856110005986\n",
      "SMAPE на константе: 9.223908398047978\n"
     ]
    }
   ],
   "source": [
    "print('SMAPE на тестовой выборке:', final_smape_test)\n",
    "print('SMAPE на константе:', test_constant)"
   ]
  },
  {
   "cell_type": "markdown",
   "metadata": {},
   "source": [
    "sMape на тестовой выборке мы получили хуже, чем на константе, не можем выбрать данную модель, протестируем линейную регрессию"
   ]
  },
  {
   "cell_type": "code",
   "execution_count": 35,
   "metadata": {},
   "outputs": [],
   "source": [
    "model = LinearRegression()\n",
    "model.fit(features, target)\n",
    "pred_test = model.predict(data_test.drop(['date', 'rougher.output.recovery_pred', 'final.output.recovery_pred'] , axis=1))"
   ]
  },
  {
   "cell_type": "code",
   "execution_count": 36,
   "metadata": {},
   "outputs": [],
   "source": [
    "data_test['rougher.output.recovery_pred'] = pd.DataFrame(pred_test)[0]\n",
    "data_test['final.output.recovery_pred'] = pd.DataFrame(pred_test)[1]"
   ]
  },
  {
   "cell_type": "code",
   "execution_count": 37,
   "metadata": {},
   "outputs": [
    {
     "name": "stdout",
     "output_type": "stream",
     "text": [
      "SMAPE на тестовой выборке: 7.5159104270166885\n",
      "SMAPE на константе: 9.223908398047978\n"
     ]
    }
   ],
   "source": [
    "final_test = data_test[['date', 'rougher.output.recovery_pred', 'final.output.recovery_pred']]\n",
    "final_test = final_test.merge(data_full[['date', 'rougher.output.recovery', 'final.output.recovery']])\n",
    "final_test['r_const'] = final_test['rougher.output.recovery'].mean()\n",
    "final_test['f_const'] = final_test['final.output.recovery'].mean()\n",
    "final_smape_test = 0.25 * (smape_test(final_test['rougher.output.recovery'], \n",
    "                final_test['rougher.output.recovery'])) + 0.75 * (smape_test(final_test['final.output.recovery'],\n",
    "                                                               final_test['final.output.recovery_pred']))\n",
    "print('SMAPE на тестовой выборке:', final_smape_test)\n",
    "print('SMAPE на константе:', test_constant)"
   ]
  },
  {
   "cell_type": "markdown",
   "metadata": {},
   "source": [
    "Модель линейной регрессии показала на тестовой выборке значительно более высокий результат, поэтому мы выбираем ее для дальнейшего использования. "
   ]
  },
  {
   "cell_type": "markdown",
   "metadata": {},
   "source": [
    "# Вывод\n",
    "\n",
    "Мы проанализировали данные обрабоки руды и получения концентрации золота. Протестировали 2 различные модели, на основе метрики sMAPE сравнили результаты как на обучающей, так и на тестовой выборке. Для определения качества на тестовой выборке использовали сравнение с константой и получили, что наиболее высокий результат показала модель Линейная регрессия - ее мы рекомендуем использовать далее."
   ]
  },
  {
   "cell_type": "code",
   "execution_count": null,
   "metadata": {},
   "outputs": [],
   "source": []
  }
 ],
 "metadata": {
  "ExecuteTimeLog": [
   {
    "duration": 802,
    "start_time": "2022-05-22T13:33:33.957Z"
   },
   {
    "duration": 947,
    "start_time": "2022-05-22T13:34:41.372Z"
   },
   {
    "duration": 269,
    "start_time": "2022-05-22T13:36:15.179Z"
   },
   {
    "duration": 134,
    "start_time": "2022-05-22T13:37:26.163Z"
   },
   {
    "duration": 547,
    "start_time": "2022-05-22T13:38:08.995Z"
   },
   {
    "duration": 60,
    "start_time": "2022-05-25T12:21:18.770Z"
   },
   {
    "duration": 865,
    "start_time": "2022-05-25T12:21:24.981Z"
   },
   {
    "duration": 1221,
    "start_time": "2022-05-25T12:21:25.849Z"
   },
   {
    "duration": 153,
    "start_time": "2022-05-25T12:21:27.072Z"
   },
   {
    "duration": 636,
    "start_time": "2022-05-25T12:21:27.228Z"
   },
   {
    "duration": 261,
    "start_time": "2022-05-25T12:22:04.848Z"
   },
   {
    "duration": 379,
    "start_time": "2022-05-25T12:25:13.277Z"
   },
   {
    "duration": 107,
    "start_time": "2022-05-25T12:25:16.427Z"
   },
   {
    "duration": 315,
    "start_time": "2022-05-25T12:25:18.705Z"
   },
   {
    "duration": 402,
    "start_time": "2022-05-25T12:26:23.691Z"
   },
   {
    "duration": 354,
    "start_time": "2022-05-25T12:27:21.694Z"
   },
   {
    "duration": 411,
    "start_time": "2022-05-25T12:32:11.640Z"
   },
   {
    "duration": 68,
    "start_time": "2022-05-25T16:43:53.115Z"
   },
   {
    "duration": 898,
    "start_time": "2022-05-25T16:44:34.420Z"
   },
   {
    "duration": 310,
    "start_time": "2022-05-25T16:44:35.320Z"
   },
   {
    "duration": 112,
    "start_time": "2022-05-25T16:44:35.631Z"
   },
   {
    "duration": 366,
    "start_time": "2022-05-25T16:44:35.746Z"
   },
   {
    "duration": 4,
    "start_time": "2022-05-25T16:44:36.114Z"
   },
   {
    "duration": 62,
    "start_time": "2022-05-25T16:46:35.856Z"
   },
   {
    "duration": 9,
    "start_time": "2022-05-25T16:47:00.132Z"
   },
   {
    "duration": 8,
    "start_time": "2022-05-25T16:50:21.535Z"
   },
   {
    "duration": 8,
    "start_time": "2022-05-25T16:50:34.018Z"
   },
   {
    "duration": 13,
    "start_time": "2022-05-25T16:50:47.585Z"
   },
   {
    "duration": 8,
    "start_time": "2022-05-26T10:19:36.084Z"
   },
   {
    "duration": 96,
    "start_time": "2022-05-26T10:22:36.109Z"
   },
   {
    "duration": 2,
    "start_time": "2022-05-26T10:23:48.755Z"
   },
   {
    "duration": 8,
    "start_time": "2022-05-26T10:23:54.045Z"
   },
   {
    "duration": 98,
    "start_time": "2022-05-26T10:28:10.251Z"
   },
   {
    "duration": 4,
    "start_time": "2022-05-26T12:27:28.295Z"
   },
   {
    "duration": 52,
    "start_time": "2022-05-26T15:59:32.297Z"
   },
   {
    "duration": 753,
    "start_time": "2022-05-26T15:59:45.815Z"
   },
   {
    "duration": 1131,
    "start_time": "2022-05-26T15:59:46.570Z"
   },
   {
    "duration": 144,
    "start_time": "2022-05-26T15:59:47.703Z"
   },
   {
    "duration": 506,
    "start_time": "2022-05-26T15:59:47.849Z"
   },
   {
    "duration": 13,
    "start_time": "2022-05-26T15:59:48.357Z"
   },
   {
    "duration": 4,
    "start_time": "2022-05-26T15:59:48.372Z"
   },
   {
    "duration": 23,
    "start_time": "2022-05-26T15:59:48.377Z"
   },
   {
    "duration": 32,
    "start_time": "2022-05-26T16:00:14.605Z"
   },
   {
    "duration": 619,
    "start_time": "2022-05-26T19:29:19.238Z"
   },
   {
    "duration": 11,
    "start_time": "2022-05-26T19:30:09.028Z"
   },
   {
    "duration": 499,
    "start_time": "2022-05-26T19:30:25.500Z"
   },
   {
    "duration": 220,
    "start_time": "2022-05-26T19:31:09.600Z"
   },
   {
    "duration": 221,
    "start_time": "2022-05-26T19:31:34.599Z"
   },
   {
    "duration": 14,
    "start_time": "2022-05-26T19:33:25.570Z"
   },
   {
    "duration": 10,
    "start_time": "2022-05-26T19:41:53.213Z"
   },
   {
    "duration": 11,
    "start_time": "2022-05-26T19:41:58.036Z"
   },
   {
    "duration": 957,
    "start_time": "2022-05-26T19:42:00.084Z"
   },
   {
    "duration": 3,
    "start_time": "2022-05-26T19:42:45.564Z"
   },
   {
    "duration": 263,
    "start_time": "2022-05-26T19:42:50.018Z"
   },
   {
    "duration": 317,
    "start_time": "2022-05-26T19:44:14.090Z"
   },
   {
    "duration": 301,
    "start_time": "2022-05-26T19:47:51.757Z"
   },
   {
    "duration": 167,
    "start_time": "2022-05-26T19:49:16.300Z"
   },
   {
    "duration": 233,
    "start_time": "2022-05-26T19:50:36.552Z"
   },
   {
    "duration": 16,
    "start_time": "2022-05-26T19:57:12.027Z"
   },
   {
    "duration": 424,
    "start_time": "2022-05-26T20:08:44.366Z"
   },
   {
    "duration": 12,
    "start_time": "2022-05-26T20:08:49.133Z"
   },
   {
    "duration": 535,
    "start_time": "2022-05-26T20:08:53.100Z"
   },
   {
    "duration": 16,
    "start_time": "2022-05-26T20:09:11.882Z"
   },
   {
    "duration": 289,
    "start_time": "2022-05-26T20:09:16.213Z"
   },
   {
    "duration": 12,
    "start_time": "2022-05-26T20:12:04.879Z"
   },
   {
    "duration": 1202,
    "start_time": "2022-05-26T20:12:09.584Z"
   },
   {
    "duration": 1184,
    "start_time": "2022-05-26T20:12:10.788Z"
   },
   {
    "duration": 163,
    "start_time": "2022-05-26T20:12:11.974Z"
   },
   {
    "duration": 613,
    "start_time": "2022-05-26T20:12:12.139Z"
   },
   {
    "duration": 13,
    "start_time": "2022-05-26T20:12:12.754Z"
   },
   {
    "duration": 19,
    "start_time": "2022-05-26T20:12:12.773Z"
   },
   {
    "duration": 80,
    "start_time": "2022-05-26T20:12:12.794Z"
   },
   {
    "duration": 20,
    "start_time": "2022-05-26T20:12:12.875Z"
   },
   {
    "duration": 5,
    "start_time": "2022-05-26T20:12:12.897Z"
   },
   {
    "duration": 363,
    "start_time": "2022-05-26T20:12:12.904Z"
   },
   {
    "duration": 14,
    "start_time": "2022-05-26T20:12:13.269Z"
   },
   {
    "duration": 215,
    "start_time": "2022-05-26T20:13:40.330Z"
   },
   {
    "duration": 509,
    "start_time": "2022-05-26T20:13:56.113Z"
   },
   {
    "duration": 213,
    "start_time": "2022-05-26T20:14:16.584Z"
   },
   {
    "duration": 208,
    "start_time": "2022-05-26T20:15:20.929Z"
   },
   {
    "duration": 1119,
    "start_time": "2022-05-26T20:16:26.377Z"
   },
   {
    "duration": 314,
    "start_time": "2022-05-26T20:16:27.498Z"
   },
   {
    "duration": 84,
    "start_time": "2022-05-26T20:16:27.813Z"
   },
   {
    "duration": 379,
    "start_time": "2022-05-26T20:16:27.899Z"
   },
   {
    "duration": 10,
    "start_time": "2022-05-26T20:16:28.280Z"
   },
   {
    "duration": 12,
    "start_time": "2022-05-26T20:16:28.291Z"
   },
   {
    "duration": 87,
    "start_time": "2022-05-26T20:16:28.305Z"
   },
   {
    "duration": 4,
    "start_time": "2022-05-26T20:16:28.393Z"
   },
   {
    "duration": 353,
    "start_time": "2022-05-26T20:16:28.399Z"
   },
   {
    "duration": 218,
    "start_time": "2022-05-26T20:16:28.754Z"
   },
   {
    "duration": 251,
    "start_time": "2022-05-26T20:16:28.974Z"
   },
   {
    "duration": 5,
    "start_time": "2022-05-26T20:18:21.386Z"
   },
   {
    "duration": 268,
    "start_time": "2022-05-26T20:18:23.115Z"
   },
   {
    "duration": 256,
    "start_time": "2022-05-26T20:18:27.315Z"
   },
   {
    "duration": 279,
    "start_time": "2022-05-26T20:18:32.590Z"
   },
   {
    "duration": 374,
    "start_time": "2022-05-26T20:18:43.562Z"
   },
   {
    "duration": 13,
    "start_time": "2022-05-26T20:18:51.214Z"
   },
   {
    "duration": 5,
    "start_time": "2022-05-26T20:20:11.309Z"
   },
   {
    "duration": 286,
    "start_time": "2022-05-26T20:20:12.564Z"
   },
   {
    "duration": 247,
    "start_time": "2022-05-26T20:20:17.352Z"
   },
   {
    "duration": 231,
    "start_time": "2022-05-26T20:20:19.566Z"
   },
   {
    "duration": 53,
    "start_time": "2022-05-30T20:29:47.102Z"
   },
   {
    "duration": 1183,
    "start_time": "2022-05-30T20:29:52.718Z"
   },
   {
    "duration": 801,
    "start_time": "2022-05-30T20:29:53.903Z"
   },
   {
    "duration": 370,
    "start_time": "2022-05-30T20:29:54.706Z"
   },
   {
    "duration": 1616,
    "start_time": "2022-05-30T20:29:55.078Z"
   },
   {
    "duration": 11,
    "start_time": "2022-05-30T20:29:56.696Z"
   },
   {
    "duration": 12,
    "start_time": "2022-05-30T20:29:56.708Z"
   },
   {
    "duration": 54,
    "start_time": "2022-05-30T20:29:56.722Z"
   },
   {
    "duration": 4,
    "start_time": "2022-05-30T20:29:56.777Z"
   },
   {
    "duration": 368,
    "start_time": "2022-05-30T20:29:56.783Z"
   },
   {
    "duration": 234,
    "start_time": "2022-05-30T20:29:57.152Z"
   },
   {
    "duration": 236,
    "start_time": "2022-05-30T20:29:57.388Z"
   },
   {
    "duration": 203,
    "start_time": "2022-05-30T20:29:57.625Z"
   },
   {
    "duration": 28,
    "start_time": "2022-05-30T20:31:02.134Z"
   },
   {
    "duration": 6,
    "start_time": "2022-05-30T20:31:14.239Z"
   },
   {
    "duration": 220,
    "start_time": "2022-05-30T20:32:21.938Z"
   },
   {
    "duration": 279,
    "start_time": "2022-05-30T20:32:31.191Z"
   },
   {
    "duration": 360,
    "start_time": "2022-05-30T20:39:13.178Z"
   },
   {
    "duration": 103,
    "start_time": "2022-05-31T12:34:08.063Z"
   },
   {
    "duration": 507,
    "start_time": "2022-05-31T12:35:18.721Z"
   },
   {
    "duration": 579,
    "start_time": "2022-05-31T12:40:04.069Z"
   },
   {
    "duration": 505,
    "start_time": "2022-05-31T12:41:09.685Z"
   },
   {
    "duration": 7,
    "start_time": "2022-05-31T12:41:23.577Z"
   },
   {
    "duration": 10,
    "start_time": "2022-05-31T12:41:31.066Z"
   },
   {
    "duration": 267,
    "start_time": "2022-05-31T12:42:06.145Z"
   },
   {
    "duration": 251,
    "start_time": "2022-05-31T12:48:07.724Z"
   },
   {
    "duration": 240,
    "start_time": "2022-05-31T12:50:39.705Z"
   },
   {
    "duration": 10,
    "start_time": "2022-05-31T13:07:15.328Z"
   },
   {
    "duration": 266,
    "start_time": "2022-05-31T13:07:41.276Z"
   },
   {
    "duration": 20,
    "start_time": "2022-05-31T13:15:01.197Z"
   },
   {
    "duration": 26,
    "start_time": "2022-05-31T13:15:15.741Z"
   },
   {
    "duration": 24,
    "start_time": "2022-05-31T13:15:49.902Z"
   },
   {
    "duration": 56,
    "start_time": "2022-05-31T13:16:01.368Z"
   },
   {
    "duration": 10,
    "start_time": "2022-05-31T13:24:15.353Z"
   },
   {
    "duration": 14,
    "start_time": "2022-05-31T13:24:24.129Z"
   },
   {
    "duration": 24,
    "start_time": "2022-05-31T13:25:40.151Z"
   },
   {
    "duration": 16,
    "start_time": "2022-05-31T13:25:57.271Z"
   },
   {
    "duration": 9,
    "start_time": "2022-05-31T13:26:03.008Z"
   },
   {
    "duration": 1065,
    "start_time": "2022-05-31T13:26:42.451Z"
   },
   {
    "duration": 283,
    "start_time": "2022-05-31T13:26:43.518Z"
   },
   {
    "duration": 80,
    "start_time": "2022-05-31T13:26:43.803Z"
   },
   {
    "duration": 356,
    "start_time": "2022-05-31T13:26:43.885Z"
   },
   {
    "duration": 9,
    "start_time": "2022-05-31T13:26:44.243Z"
   },
   {
    "duration": 5,
    "start_time": "2022-05-31T13:26:44.254Z"
   },
   {
    "duration": 69,
    "start_time": "2022-05-31T13:26:44.261Z"
   },
   {
    "duration": 6,
    "start_time": "2022-05-31T13:26:44.332Z"
   },
   {
    "duration": 371,
    "start_time": "2022-05-31T13:26:44.340Z"
   },
   {
    "duration": 251,
    "start_time": "2022-05-31T13:26:44.714Z"
   },
   {
    "duration": 290,
    "start_time": "2022-05-31T13:26:44.966Z"
   },
   {
    "duration": 305,
    "start_time": "2022-05-31T13:26:45.258Z"
   },
   {
    "duration": 8,
    "start_time": "2022-05-31T13:26:45.565Z"
   },
   {
    "duration": 313,
    "start_time": "2022-05-31T13:26:45.574Z"
   },
   {
    "duration": 11,
    "start_time": "2022-05-31T13:26:45.888Z"
   },
   {
    "duration": 18,
    "start_time": "2022-05-31T13:26:45.901Z"
   },
   {
    "duration": 11,
    "start_time": "2022-05-31T13:28:07.364Z"
   },
   {
    "duration": 1199,
    "start_time": "2022-06-01T12:42:03.350Z"
   },
   {
    "duration": 301,
    "start_time": "2022-06-01T12:42:04.552Z"
   },
   {
    "duration": 90,
    "start_time": "2022-06-01T12:42:04.855Z"
   },
   {
    "duration": 377,
    "start_time": "2022-06-01T12:42:04.948Z"
   },
   {
    "duration": 22,
    "start_time": "2022-06-01T12:42:05.327Z"
   },
   {
    "duration": 13,
    "start_time": "2022-06-01T12:42:05.351Z"
   },
   {
    "duration": 66,
    "start_time": "2022-06-01T12:42:05.366Z"
   },
   {
    "duration": 12,
    "start_time": "2022-06-01T12:42:05.433Z"
   },
   {
    "duration": 415,
    "start_time": "2022-06-01T12:42:05.448Z"
   },
   {
    "duration": 285,
    "start_time": "2022-06-01T12:42:05.867Z"
   },
   {
    "duration": 297,
    "start_time": "2022-06-01T12:42:06.154Z"
   },
   {
    "duration": 338,
    "start_time": "2022-06-01T12:42:06.453Z"
   },
   {
    "duration": 11,
    "start_time": "2022-06-01T12:42:06.792Z"
   },
   {
    "duration": 383,
    "start_time": "2022-06-01T12:42:06.804Z"
   },
   {
    "duration": 4,
    "start_time": "2022-06-01T12:42:07.190Z"
   },
   {
    "duration": 42,
    "start_time": "2022-06-01T12:42:07.196Z"
   },
   {
    "duration": 4,
    "start_time": "2022-06-01T12:42:07.240Z"
   },
   {
    "duration": 21,
    "start_time": "2022-06-01T12:42:07.246Z"
   },
   {
    "duration": 13,
    "start_time": "2022-06-01T12:42:07.269Z"
   },
   {
    "duration": 135,
    "start_time": "2022-06-01T12:42:07.284Z"
   },
   {
    "duration": 27,
    "start_time": "2022-06-01T12:42:20.341Z"
   },
   {
    "duration": 37,
    "start_time": "2022-06-01T12:42:29.190Z"
   },
   {
    "duration": 12,
    "start_time": "2022-06-01T12:43:05.691Z"
   },
   {
    "duration": 45,
    "start_time": "2022-06-01T12:43:45.223Z"
   },
   {
    "duration": 18,
    "start_time": "2022-06-01T12:43:50.224Z"
   },
   {
    "duration": 4,
    "start_time": "2022-06-01T12:44:08.606Z"
   },
   {
    "duration": 11,
    "start_time": "2022-06-01T12:44:12.422Z"
   },
   {
    "duration": 35,
    "start_time": "2022-06-01T12:44:36.542Z"
   },
   {
    "duration": 11,
    "start_time": "2022-06-01T12:44:38.583Z"
   },
   {
    "duration": 4363,
    "start_time": "2022-06-01T12:45:22.588Z"
   },
   {
    "duration": 12,
    "start_time": "2022-06-01T12:45:53.282Z"
   },
   {
    "duration": 5,
    "start_time": "2022-06-01T12:47:47.635Z"
   },
   {
    "duration": 9653,
    "start_time": "2022-06-01T12:47:51.098Z"
   },
   {
    "duration": 13196,
    "start_time": "2022-06-01T12:49:53.509Z"
   },
   {
    "duration": 3,
    "start_time": "2022-06-01T12:55:07.100Z"
   },
   {
    "duration": 15,
    "start_time": "2022-06-01T12:56:37.516Z"
   },
   {
    "duration": 17,
    "start_time": "2022-06-01T12:56:45.950Z"
   },
   {
    "duration": 1238,
    "start_time": "2022-06-01T13:09:27.563Z"
   },
   {
    "duration": 319,
    "start_time": "2022-06-01T13:09:28.803Z"
   },
   {
    "duration": 104,
    "start_time": "2022-06-01T13:09:29.123Z"
   },
   {
    "duration": 495,
    "start_time": "2022-06-01T13:09:29.229Z"
   },
   {
    "duration": 25,
    "start_time": "2022-06-01T13:09:29.726Z"
   },
   {
    "duration": 6,
    "start_time": "2022-06-01T13:09:29.754Z"
   },
   {
    "duration": 62,
    "start_time": "2022-06-01T13:09:29.762Z"
   },
   {
    "duration": 4,
    "start_time": "2022-06-01T13:09:29.826Z"
   },
   {
    "duration": 348,
    "start_time": "2022-06-01T13:09:29.831Z"
   },
   {
    "duration": 317,
    "start_time": "2022-06-01T13:09:30.181Z"
   },
   {
    "duration": 313,
    "start_time": "2022-06-01T13:09:30.499Z"
   },
   {
    "duration": 349,
    "start_time": "2022-06-01T13:09:30.814Z"
   },
   {
    "duration": 9,
    "start_time": "2022-06-01T13:09:31.165Z"
   },
   {
    "duration": 386,
    "start_time": "2022-06-01T13:09:31.177Z"
   },
   {
    "duration": 5,
    "start_time": "2022-06-01T13:09:31.565Z"
   },
   {
    "duration": 32,
    "start_time": "2022-06-01T13:09:31.572Z"
   },
   {
    "duration": 6,
    "start_time": "2022-06-01T13:09:31.606Z"
   },
   {
    "duration": 13,
    "start_time": "2022-06-01T13:09:31.614Z"
   },
   {
    "duration": 16,
    "start_time": "2022-06-01T13:09:31.629Z"
   },
   {
    "duration": 45,
    "start_time": "2022-06-01T13:09:31.647Z"
   },
   {
    "duration": 6575,
    "start_time": "2022-06-01T13:09:31.694Z"
   },
   {
    "duration": 225,
    "start_time": "2022-06-01T13:09:38.350Z"
   },
   {
    "duration": 0,
    "start_time": "2022-06-01T13:09:38.577Z"
   },
   {
    "duration": 0,
    "start_time": "2022-06-01T13:09:38.578Z"
   },
   {
    "duration": 0,
    "start_time": "2022-06-01T13:09:38.580Z"
   },
   {
    "duration": 0,
    "start_time": "2022-06-01T13:09:38.581Z"
   },
   {
    "duration": 0,
    "start_time": "2022-06-01T13:09:38.582Z"
   },
   {
    "duration": 0,
    "start_time": "2022-06-01T13:09:38.583Z"
   },
   {
    "duration": 0,
    "start_time": "2022-06-01T13:09:38.584Z"
   },
   {
    "duration": 0,
    "start_time": "2022-06-01T13:09:38.585Z"
   },
   {
    "duration": 7353,
    "start_time": "2022-06-01T13:10:03.508Z"
   },
   {
    "duration": 11321,
    "start_time": "2022-06-01T13:10:17.376Z"
   },
   {
    "duration": 103,
    "start_time": "2022-06-01T13:12:37.055Z"
   },
   {
    "duration": 144602,
    "start_time": "2022-06-01T13:14:49.423Z"
   },
   {
    "duration": 140410,
    "start_time": "2022-06-01T13:19:20.869Z"
   },
   {
    "duration": 399137,
    "start_time": "2022-06-01T14:50:33.209Z"
   },
   {
    "duration": 41291,
    "start_time": "2022-06-01T15:52:18.420Z"
   },
   {
    "duration": 83008,
    "start_time": "2022-06-01T15:53:36.377Z"
   },
   {
    "duration": 5,
    "start_time": "2022-06-01T15:56:24.337Z"
   },
   {
    "duration": 798718,
    "start_time": "2022-06-01T15:56:29.873Z"
   },
   {
    "duration": 800068,
    "start_time": "2022-06-01T16:11:13.894Z"
   },
   {
    "duration": 12431,
    "start_time": "2022-06-02T07:54:57.126Z"
   },
   {
    "duration": 799,
    "start_time": "2022-06-02T07:56:12.451Z"
   },
   {
    "duration": 1257,
    "start_time": "2022-06-02T07:58:45.230Z"
   },
   {
    "duration": 312,
    "start_time": "2022-06-02T07:58:46.489Z"
   },
   {
    "duration": 90,
    "start_time": "2022-06-02T07:58:46.803Z"
   },
   {
    "duration": 451,
    "start_time": "2022-06-02T07:58:46.896Z"
   },
   {
    "duration": 12,
    "start_time": "2022-06-02T07:58:47.349Z"
   },
   {
    "duration": 23,
    "start_time": "2022-06-02T07:58:47.363Z"
   },
   {
    "duration": 65,
    "start_time": "2022-06-02T07:58:47.388Z"
   },
   {
    "duration": 4,
    "start_time": "2022-06-02T07:58:47.455Z"
   },
   {
    "duration": 314,
    "start_time": "2022-06-02T07:58:47.460Z"
   },
   {
    "duration": 305,
    "start_time": "2022-06-02T07:58:47.777Z"
   },
   {
    "duration": 299,
    "start_time": "2022-06-02T07:58:48.083Z"
   },
   {
    "duration": 324,
    "start_time": "2022-06-02T07:58:48.384Z"
   },
   {
    "duration": 11,
    "start_time": "2022-06-02T07:58:48.710Z"
   },
   {
    "duration": 349,
    "start_time": "2022-06-02T07:58:48.722Z"
   },
   {
    "duration": 5,
    "start_time": "2022-06-02T07:58:49.073Z"
   },
   {
    "duration": 40,
    "start_time": "2022-06-02T07:58:49.080Z"
   },
   {
    "duration": 24,
    "start_time": "2022-06-02T07:58:49.122Z"
   },
   {
    "duration": 30,
    "start_time": "2022-06-02T07:58:49.148Z"
   },
   {
    "duration": 29,
    "start_time": "2022-06-02T07:58:49.180Z"
   },
   {
    "duration": 74,
    "start_time": "2022-06-02T07:58:49.211Z"
   },
   {
    "duration": 4159,
    "start_time": "2022-06-02T07:58:49.287Z"
   },
   {
    "duration": 7070,
    "start_time": "2022-06-02T07:58:53.448Z"
   },
   {
    "duration": 824336,
    "start_time": "2022-06-02T07:59:00.520Z"
   },
   {
    "duration": 12508,
    "start_time": "2022-06-02T08:12:44.858Z"
   },
   {
    "duration": 960,
    "start_time": "2022-06-02T08:12:57.368Z"
   },
   {
    "duration": 0,
    "start_time": "2022-06-02T08:12:58.330Z"
   },
   {
    "duration": 0,
    "start_time": "2022-06-02T08:12:58.331Z"
   },
   {
    "duration": 0,
    "start_time": "2022-06-02T08:12:58.332Z"
   },
   {
    "duration": 0,
    "start_time": "2022-06-02T08:12:58.344Z"
   },
   {
    "duration": 0,
    "start_time": "2022-06-02T08:12:58.345Z"
   },
   {
    "duration": 0,
    "start_time": "2022-06-02T08:12:58.346Z"
   },
   {
    "duration": 8,
    "start_time": "2022-06-02T08:28:52.249Z"
   },
   {
    "duration": 1404,
    "start_time": "2022-06-02T08:29:03.666Z"
   },
   {
    "duration": 30,
    "start_time": "2022-06-02T08:29:19.202Z"
   },
   {
    "duration": 1467,
    "start_time": "2022-06-02T08:29:26.655Z"
   },
   {
    "duration": 5,
    "start_time": "2022-06-02T08:29:31.015Z"
   },
   {
    "duration": 5,
    "start_time": "2022-06-02T08:29:34.112Z"
   },
   {
    "duration": 29,
    "start_time": "2022-06-02T08:29:34.910Z"
   },
   {
    "duration": 8,
    "start_time": "2022-06-02T08:29:42.883Z"
   },
   {
    "duration": 6,
    "start_time": "2022-06-02T08:29:47.965Z"
   },
   {
    "duration": 3,
    "start_time": "2022-06-02T08:29:49.441Z"
   },
   {
    "duration": 121,
    "start_time": "2022-06-02T08:31:45.528Z"
   },
   {
    "duration": 4,
    "start_time": "2022-06-02T08:31:58.543Z"
   },
   {
    "duration": 22,
    "start_time": "2022-06-02T08:32:09.647Z"
   },
   {
    "duration": 1194,
    "start_time": "2022-06-02T08:39:49.584Z"
   },
   {
    "duration": 313,
    "start_time": "2022-06-02T08:39:50.780Z"
   },
   {
    "duration": 96,
    "start_time": "2022-06-02T08:39:51.096Z"
   },
   {
    "duration": 456,
    "start_time": "2022-06-02T08:39:51.195Z"
   },
   {
    "duration": 10,
    "start_time": "2022-06-02T08:39:51.653Z"
   },
   {
    "duration": 7,
    "start_time": "2022-06-02T08:39:51.665Z"
   },
   {
    "duration": 56,
    "start_time": "2022-06-02T08:39:51.673Z"
   },
   {
    "duration": 16,
    "start_time": "2022-06-02T08:39:51.731Z"
   },
   {
    "duration": 300,
    "start_time": "2022-06-02T08:39:51.748Z"
   },
   {
    "duration": 356,
    "start_time": "2022-06-02T08:39:52.051Z"
   },
   {
    "duration": 324,
    "start_time": "2022-06-02T08:39:52.409Z"
   },
   {
    "duration": 343,
    "start_time": "2022-06-02T08:39:52.736Z"
   },
   {
    "duration": 10,
    "start_time": "2022-06-02T08:39:53.081Z"
   },
   {
    "duration": 332,
    "start_time": "2022-06-02T08:39:53.093Z"
   },
   {
    "duration": 4,
    "start_time": "2022-06-02T08:39:53.426Z"
   },
   {
    "duration": 25,
    "start_time": "2022-06-02T08:39:53.432Z"
   },
   {
    "duration": 4,
    "start_time": "2022-06-02T08:39:53.459Z"
   },
   {
    "duration": 8,
    "start_time": "2022-06-02T08:39:53.465Z"
   },
   {
    "duration": 5,
    "start_time": "2022-06-02T08:39:53.474Z"
   },
   {
    "duration": 35,
    "start_time": "2022-06-02T08:39:53.481Z"
   },
   {
    "duration": 3937,
    "start_time": "2022-06-02T08:39:53.518Z"
   },
   {
    "duration": 7357,
    "start_time": "2022-06-02T08:39:57.457Z"
   },
   {
    "duration": 838608,
    "start_time": "2022-06-02T08:40:04.816Z"
   },
   {
    "duration": 12706,
    "start_time": "2022-06-02T08:54:03.425Z"
   },
   {
    "duration": 1666,
    "start_time": "2022-06-02T08:54:16.133Z"
   },
   {
    "duration": 0,
    "start_time": "2022-06-02T08:54:17.801Z"
   },
   {
    "duration": 0,
    "start_time": "2022-06-02T08:54:17.803Z"
   },
   {
    "duration": 0,
    "start_time": "2022-06-02T08:54:17.805Z"
   },
   {
    "duration": 0,
    "start_time": "2022-06-02T08:54:17.806Z"
   },
   {
    "duration": 0,
    "start_time": "2022-06-02T08:54:17.807Z"
   },
   {
    "duration": 0,
    "start_time": "2022-06-02T08:54:17.809Z"
   },
   {
    "duration": 0,
    "start_time": "2022-06-02T08:54:17.811Z"
   },
   {
    "duration": 1,
    "start_time": "2022-06-02T08:54:17.812Z"
   },
   {
    "duration": 0,
    "start_time": "2022-06-02T08:54:17.815Z"
   },
   {
    "duration": 7,
    "start_time": "2022-06-02T10:47:21.974Z"
   },
   {
    "duration": 18,
    "start_time": "2022-06-02T11:01:25.670Z"
   },
   {
    "duration": 15,
    "start_time": "2022-06-02T11:01:53.274Z"
   },
   {
    "duration": 1252,
    "start_time": "2022-06-02T13:23:34.296Z"
   },
   {
    "duration": 300,
    "start_time": "2022-06-02T13:23:35.550Z"
   },
   {
    "duration": 86,
    "start_time": "2022-06-02T13:23:35.852Z"
   },
   {
    "duration": 441,
    "start_time": "2022-06-02T13:23:35.940Z"
   },
   {
    "duration": 10,
    "start_time": "2022-06-02T13:23:36.382Z"
   },
   {
    "duration": 6,
    "start_time": "2022-06-02T13:23:36.393Z"
   },
   {
    "duration": 45,
    "start_time": "2022-06-02T13:23:43.421Z"
   },
   {
    "duration": 4,
    "start_time": "2022-06-02T13:23:46.519Z"
   },
   {
    "duration": 248,
    "start_time": "2022-06-02T13:23:47.275Z"
   },
   {
    "duration": 226,
    "start_time": "2022-06-02T13:23:47.828Z"
   },
   {
    "duration": 252,
    "start_time": "2022-06-02T13:23:48.334Z"
   },
   {
    "duration": 301,
    "start_time": "2022-06-02T13:23:50.130Z"
   },
   {
    "duration": 10,
    "start_time": "2022-06-02T13:23:50.433Z"
   },
   {
    "duration": 270,
    "start_time": "2022-06-02T13:23:52.151Z"
   },
   {
    "duration": 4,
    "start_time": "2022-06-02T13:23:53.834Z"
   },
   {
    "duration": 18,
    "start_time": "2022-06-02T13:23:54.225Z"
   },
   {
    "duration": 3,
    "start_time": "2022-06-02T13:24:10.492Z"
   },
   {
    "duration": 3,
    "start_time": "2022-06-02T13:24:11.306Z"
   },
   {
    "duration": 3,
    "start_time": "2022-06-02T13:24:11.811Z"
   },
   {
    "duration": 111,
    "start_time": "2022-06-02T13:24:23.568Z"
   },
   {
    "duration": 5,
    "start_time": "2022-06-02T13:24:29.119Z"
   },
   {
    "duration": 62,
    "start_time": "2022-06-02T13:28:07.695Z"
   },
   {
    "duration": 70,
    "start_time": "2022-06-02T13:33:17.974Z"
   },
   {
    "duration": 1514,
    "start_time": "2022-06-03T10:14:54.993Z"
   },
   {
    "duration": 124,
    "start_time": "2022-06-03T10:15:42.157Z"
   },
   {
    "duration": 1197,
    "start_time": "2022-06-03T10:15:48.779Z"
   },
   {
    "duration": 1296,
    "start_time": "2022-06-03T10:15:49.978Z"
   },
   {
    "duration": 176,
    "start_time": "2022-06-03T10:15:51.276Z"
   },
   {
    "duration": 636,
    "start_time": "2022-06-03T10:15:51.454Z"
   },
   {
    "duration": 10,
    "start_time": "2022-06-03T10:15:52.093Z"
   },
   {
    "duration": 6,
    "start_time": "2022-06-03T10:15:52.104Z"
   },
   {
    "duration": 57,
    "start_time": "2022-06-03T10:15:52.111Z"
   },
   {
    "duration": 5,
    "start_time": "2022-06-03T10:15:52.169Z"
   },
   {
    "duration": 296,
    "start_time": "2022-06-03T10:15:52.175Z"
   },
   {
    "duration": 278,
    "start_time": "2022-06-03T10:15:52.473Z"
   },
   {
    "duration": 259,
    "start_time": "2022-06-03T10:15:52.753Z"
   },
   {
    "duration": 292,
    "start_time": "2022-06-03T10:15:53.014Z"
   },
   {
    "duration": 23,
    "start_time": "2022-06-03T10:15:53.308Z"
   },
   {
    "duration": 359,
    "start_time": "2022-06-03T10:15:53.336Z"
   },
   {
    "duration": 6,
    "start_time": "2022-06-03T10:15:53.697Z"
   },
   {
    "duration": 30,
    "start_time": "2022-06-03T10:15:53.705Z"
   },
   {
    "duration": 9,
    "start_time": "2022-06-03T10:15:53.742Z"
   },
   {
    "duration": 11,
    "start_time": "2022-06-03T10:15:53.752Z"
   },
   {
    "duration": 7,
    "start_time": "2022-06-03T10:15:53.764Z"
   },
   {
    "duration": 6,
    "start_time": "2022-06-03T10:15:53.773Z"
   },
   {
    "duration": 125,
    "start_time": "2022-06-03T10:15:53.781Z"
   },
   {
    "duration": 130,
    "start_time": "2022-06-03T10:15:53.907Z"
   },
   {
    "duration": 0,
    "start_time": "2022-06-03T10:15:54.038Z"
   },
   {
    "duration": 0,
    "start_time": "2022-06-03T10:15:54.041Z"
   },
   {
    "duration": 0,
    "start_time": "2022-06-03T10:15:54.042Z"
   },
   {
    "duration": 0,
    "start_time": "2022-06-03T10:15:54.042Z"
   },
   {
    "duration": 0,
    "start_time": "2022-06-03T10:15:54.045Z"
   },
   {
    "duration": 0,
    "start_time": "2022-06-03T10:15:54.048Z"
   },
   {
    "duration": 0,
    "start_time": "2022-06-03T10:15:54.049Z"
   },
   {
    "duration": 0,
    "start_time": "2022-06-03T10:15:54.051Z"
   },
   {
    "duration": 0,
    "start_time": "2022-06-03T10:15:54.052Z"
   },
   {
    "duration": 0,
    "start_time": "2022-06-03T10:15:54.053Z"
   },
   {
    "duration": 0,
    "start_time": "2022-06-03T10:15:54.054Z"
   },
   {
    "duration": 0,
    "start_time": "2022-06-03T10:15:54.055Z"
   },
   {
    "duration": 0,
    "start_time": "2022-06-03T10:15:54.056Z"
   },
   {
    "duration": 0,
    "start_time": "2022-06-03T10:15:54.057Z"
   },
   {
    "duration": 0,
    "start_time": "2022-06-03T10:15:54.058Z"
   },
   {
    "duration": 19,
    "start_time": "2022-06-03T10:18:36.683Z"
   },
   {
    "duration": 7,
    "start_time": "2022-06-03T10:21:07.399Z"
   },
   {
    "duration": 7,
    "start_time": "2022-06-03T10:21:36.851Z"
   },
   {
    "duration": 5,
    "start_time": "2022-06-03T10:22:14.724Z"
   },
   {
    "duration": 29,
    "start_time": "2022-06-03T10:22:26.226Z"
   },
   {
    "duration": 1238,
    "start_time": "2022-06-03T10:24:30.861Z"
   },
   {
    "duration": 474,
    "start_time": "2022-06-03T10:24:32.101Z"
   },
   {
    "duration": 92,
    "start_time": "2022-06-03T10:24:32.579Z"
   },
   {
    "duration": 436,
    "start_time": "2022-06-03T10:24:32.673Z"
   },
   {
    "duration": 18,
    "start_time": "2022-06-03T10:24:33.111Z"
   },
   {
    "duration": 7,
    "start_time": "2022-06-03T10:24:33.131Z"
   },
   {
    "duration": 48,
    "start_time": "2022-06-03T10:24:33.140Z"
   },
   {
    "duration": 5,
    "start_time": "2022-06-03T10:24:33.190Z"
   },
   {
    "duration": 302,
    "start_time": "2022-06-03T10:24:33.196Z"
   },
   {
    "duration": 308,
    "start_time": "2022-06-03T10:24:33.500Z"
   },
   {
    "duration": 284,
    "start_time": "2022-06-03T10:24:33.810Z"
   },
   {
    "duration": 348,
    "start_time": "2022-06-03T10:24:34.096Z"
   },
   {
    "duration": 12,
    "start_time": "2022-06-03T10:24:34.447Z"
   },
   {
    "duration": 420,
    "start_time": "2022-06-03T10:24:34.463Z"
   },
   {
    "duration": 4,
    "start_time": "2022-06-03T10:24:34.885Z"
   },
   {
    "duration": 26,
    "start_time": "2022-06-03T10:24:34.891Z"
   },
   {
    "duration": 4,
    "start_time": "2022-06-03T10:24:34.928Z"
   },
   {
    "duration": 14,
    "start_time": "2022-06-03T10:24:34.934Z"
   },
   {
    "duration": 13,
    "start_time": "2022-06-03T10:24:34.950Z"
   },
   {
    "duration": 12,
    "start_time": "2022-06-03T10:24:34.965Z"
   },
   {
    "duration": 13,
    "start_time": "2022-06-03T10:24:34.979Z"
   },
   {
    "duration": 141,
    "start_time": "2022-06-03T10:24:34.995Z"
   },
   {
    "duration": 132,
    "start_time": "2022-06-03T10:24:35.138Z"
   },
   {
    "duration": 0,
    "start_time": "2022-06-03T10:24:35.271Z"
   },
   {
    "duration": 0,
    "start_time": "2022-06-03T10:24:35.273Z"
   },
   {
    "duration": 0,
    "start_time": "2022-06-03T10:24:35.274Z"
   },
   {
    "duration": 0,
    "start_time": "2022-06-03T10:24:35.276Z"
   },
   {
    "duration": 0,
    "start_time": "2022-06-03T10:24:35.277Z"
   },
   {
    "duration": 0,
    "start_time": "2022-06-03T10:24:35.278Z"
   },
   {
    "duration": 0,
    "start_time": "2022-06-03T10:24:35.280Z"
   },
   {
    "duration": 0,
    "start_time": "2022-06-03T10:24:35.281Z"
   },
   {
    "duration": 0,
    "start_time": "2022-06-03T10:24:35.282Z"
   },
   {
    "duration": 0,
    "start_time": "2022-06-03T10:24:35.284Z"
   },
   {
    "duration": 0,
    "start_time": "2022-06-03T10:24:35.286Z"
   },
   {
    "duration": 0,
    "start_time": "2022-06-03T10:24:35.288Z"
   },
   {
    "duration": 0,
    "start_time": "2022-06-03T10:24:35.289Z"
   },
   {
    "duration": 0,
    "start_time": "2022-06-03T10:24:35.291Z"
   },
   {
    "duration": 0,
    "start_time": "2022-06-03T10:24:35.292Z"
   },
   {
    "duration": 20,
    "start_time": "2022-06-03T10:25:02.081Z"
   },
   {
    "duration": 4882,
    "start_time": "2022-06-03T10:25:16.748Z"
   },
   {
    "duration": 6560,
    "start_time": "2022-06-03T10:25:21.639Z"
   },
   {
    "duration": 10,
    "start_time": "2022-06-03T10:25:42.048Z"
   },
   {
    "duration": 11927,
    "start_time": "2022-06-03T10:25:57.783Z"
   },
   {
    "duration": 1461,
    "start_time": "2022-06-03T10:26:09.712Z"
   },
   {
    "duration": 5,
    "start_time": "2022-06-03T10:26:11.175Z"
   },
   {
    "duration": 5,
    "start_time": "2022-06-03T10:26:13.785Z"
   },
   {
    "duration": 30,
    "start_time": "2022-06-03T10:26:14.450Z"
   },
   {
    "duration": 11,
    "start_time": "2022-06-03T10:37:11.221Z"
   },
   {
    "duration": 10,
    "start_time": "2022-06-03T10:37:32.688Z"
   },
   {
    "duration": 318,
    "start_time": "2022-06-03T10:37:58.018Z"
   },
   {
    "duration": 11,
    "start_time": "2022-06-03T10:39:33.563Z"
   },
   {
    "duration": 3,
    "start_time": "2022-06-03T10:39:50.011Z"
   },
   {
    "duration": 12,
    "start_time": "2022-06-03T10:41:32.016Z"
   },
   {
    "duration": 3073,
    "start_time": "2022-06-03T10:42:09.356Z"
   },
   {
    "duration": 50,
    "start_time": "2022-06-03T10:42:31.179Z"
   },
   {
    "duration": 34,
    "start_time": "2022-06-03T10:43:20.148Z"
   },
   {
    "duration": 36,
    "start_time": "2022-06-03T10:43:43.912Z"
   },
   {
    "duration": 33,
    "start_time": "2022-06-03T10:43:49.116Z"
   },
   {
    "duration": 2633,
    "start_time": "2022-06-03T10:45:50.101Z"
   },
   {
    "duration": 15,
    "start_time": "2022-06-03T10:46:05.616Z"
   },
   {
    "duration": 11,
    "start_time": "2022-06-03T10:46:16.676Z"
   },
   {
    "duration": 2634,
    "start_time": "2022-06-03T10:46:29.498Z"
   },
   {
    "duration": 6612,
    "start_time": "2022-06-03T10:47:10.023Z"
   },
   {
    "duration": 6229,
    "start_time": "2022-06-03T10:47:39.752Z"
   },
   {
    "duration": 2667,
    "start_time": "2022-06-03T10:47:54.165Z"
   },
   {
    "duration": 2632,
    "start_time": "2022-06-03T10:48:09.201Z"
   },
   {
    "duration": 6294,
    "start_time": "2022-06-03T10:48:20.193Z"
   },
   {
    "duration": 5156,
    "start_time": "2022-06-03T10:49:07.255Z"
   },
   {
    "duration": 8,
    "start_time": "2022-06-03T10:49:25.862Z"
   },
   {
    "duration": 5,
    "start_time": "2022-06-03T10:49:36.750Z"
   },
   {
    "duration": 1226,
    "start_time": "2022-06-03T10:50:58.630Z"
   },
   {
    "duration": 348,
    "start_time": "2022-06-03T10:50:59.858Z"
   },
   {
    "duration": 95,
    "start_time": "2022-06-03T10:51:00.208Z"
   },
   {
    "duration": 460,
    "start_time": "2022-06-03T10:51:00.305Z"
   },
   {
    "duration": 9,
    "start_time": "2022-06-03T10:51:00.768Z"
   },
   {
    "duration": 49,
    "start_time": "2022-06-03T10:51:00.779Z"
   },
   {
    "duration": 68,
    "start_time": "2022-06-03T10:51:00.830Z"
   },
   {
    "duration": 11,
    "start_time": "2022-06-03T10:51:00.900Z"
   },
   {
    "duration": 340,
    "start_time": "2022-06-03T10:51:00.913Z"
   },
   {
    "duration": 283,
    "start_time": "2022-06-03T10:51:01.255Z"
   },
   {
    "duration": 272,
    "start_time": "2022-06-03T10:51:01.539Z"
   },
   {
    "duration": 331,
    "start_time": "2022-06-03T10:51:01.813Z"
   },
   {
    "duration": 9,
    "start_time": "2022-06-03T10:51:02.146Z"
   },
   {
    "duration": 394,
    "start_time": "2022-06-03T10:51:02.158Z"
   },
   {
    "duration": 5,
    "start_time": "2022-06-03T10:51:02.554Z"
   },
   {
    "duration": 22,
    "start_time": "2022-06-03T10:51:02.561Z"
   },
   {
    "duration": 5,
    "start_time": "2022-06-03T10:51:02.584Z"
   },
   {
    "duration": 55,
    "start_time": "2022-06-03T10:51:02.591Z"
   },
   {
    "duration": 7,
    "start_time": "2022-06-03T10:51:02.648Z"
   },
   {
    "duration": 8,
    "start_time": "2022-06-03T10:51:02.656Z"
   },
   {
    "duration": 10,
    "start_time": "2022-06-03T10:51:02.665Z"
   },
   {
    "duration": 120,
    "start_time": "2022-06-03T10:51:02.676Z"
   },
   {
    "duration": 3,
    "start_time": "2022-06-03T10:51:02.798Z"
   },
   {
    "duration": 2932,
    "start_time": "2022-06-03T10:51:02.802Z"
   },
   {
    "duration": 5366,
    "start_time": "2022-06-03T10:51:05.736Z"
   },
   {
    "duration": 47,
    "start_time": "2022-06-03T11:02:19.230Z"
   },
   {
    "duration": 0,
    "start_time": "2022-06-03T11:02:19.279Z"
   },
   {
    "duration": 0,
    "start_time": "2022-06-03T11:02:19.280Z"
   },
   {
    "duration": 0,
    "start_time": "2022-06-03T11:02:19.281Z"
   },
   {
    "duration": 0,
    "start_time": "2022-06-03T11:02:19.282Z"
   },
   {
    "duration": 0,
    "start_time": "2022-06-03T11:02:19.283Z"
   },
   {
    "duration": 0,
    "start_time": "2022-06-03T11:02:19.284Z"
   },
   {
    "duration": 0,
    "start_time": "2022-06-03T11:02:19.285Z"
   },
   {
    "duration": 0,
    "start_time": "2022-06-03T11:02:19.286Z"
   },
   {
    "duration": 0,
    "start_time": "2022-06-03T11:02:19.287Z"
   },
   {
    "duration": 0,
    "start_time": "2022-06-03T11:02:19.288Z"
   },
   {
    "duration": 0,
    "start_time": "2022-06-03T11:02:19.290Z"
   },
   {
    "duration": 57,
    "start_time": "2022-06-03T11:06:00.733Z"
   },
   {
    "duration": 1267,
    "start_time": "2022-06-03T11:06:49.940Z"
   },
   {
    "duration": 318,
    "start_time": "2022-06-03T11:06:51.209Z"
   },
   {
    "duration": 87,
    "start_time": "2022-06-03T11:06:51.529Z"
   },
   {
    "duration": 465,
    "start_time": "2022-06-03T11:06:51.618Z"
   },
   {
    "duration": 11,
    "start_time": "2022-06-03T11:06:52.086Z"
   },
   {
    "duration": 9,
    "start_time": "2022-06-03T11:06:52.099Z"
   },
   {
    "duration": 73,
    "start_time": "2022-06-03T11:06:52.109Z"
   },
   {
    "duration": 4,
    "start_time": "2022-06-03T11:06:52.184Z"
   },
   {
    "duration": 312,
    "start_time": "2022-06-03T11:06:52.190Z"
   },
   {
    "duration": 327,
    "start_time": "2022-06-03T11:06:52.504Z"
   },
   {
    "duration": 349,
    "start_time": "2022-06-03T11:06:52.833Z"
   },
   {
    "duration": 336,
    "start_time": "2022-06-03T11:06:53.184Z"
   },
   {
    "duration": 16,
    "start_time": "2022-06-03T11:06:53.522Z"
   },
   {
    "duration": 382,
    "start_time": "2022-06-03T11:06:53.542Z"
   },
   {
    "duration": 5,
    "start_time": "2022-06-03T11:06:53.928Z"
   },
   {
    "duration": 38,
    "start_time": "2022-06-03T11:06:53.935Z"
   },
   {
    "duration": 3,
    "start_time": "2022-06-03T11:06:53.974Z"
   },
   {
    "duration": 11,
    "start_time": "2022-06-03T11:06:53.979Z"
   },
   {
    "duration": 7,
    "start_time": "2022-06-03T11:06:53.991Z"
   },
   {
    "duration": 13,
    "start_time": "2022-06-03T11:06:54.000Z"
   },
   {
    "duration": 13,
    "start_time": "2022-06-03T11:06:54.015Z"
   },
   {
    "duration": 118,
    "start_time": "2022-06-03T11:06:54.030Z"
   },
   {
    "duration": 3,
    "start_time": "2022-06-03T11:06:54.150Z"
   },
   {
    "duration": 2679,
    "start_time": "2022-06-03T11:06:54.155Z"
   },
   {
    "duration": 5583,
    "start_time": "2022-06-03T11:06:56.836Z"
   },
   {
    "duration": 706309,
    "start_time": "2022-06-03T11:07:02.422Z"
   },
   {
    "duration": 0,
    "start_time": "2022-06-03T11:18:48.733Z"
   },
   {
    "duration": 0,
    "start_time": "2022-06-03T11:18:48.735Z"
   },
   {
    "duration": 0,
    "start_time": "2022-06-03T11:18:48.736Z"
   },
   {
    "duration": 0,
    "start_time": "2022-06-03T11:18:48.738Z"
   },
   {
    "duration": 0,
    "start_time": "2022-06-03T11:18:48.740Z"
   },
   {
    "duration": 0,
    "start_time": "2022-06-03T11:18:48.741Z"
   },
   {
    "duration": 1,
    "start_time": "2022-06-03T11:18:48.742Z"
   },
   {
    "duration": 0,
    "start_time": "2022-06-03T11:18:48.744Z"
   },
   {
    "duration": 0,
    "start_time": "2022-06-03T11:18:48.745Z"
   },
   {
    "duration": 0,
    "start_time": "2022-06-03T11:18:48.747Z"
   },
   {
    "duration": 0,
    "start_time": "2022-06-03T11:18:48.748Z"
   },
   {
    "duration": 1306,
    "start_time": "2022-06-03T11:23:41.504Z"
   },
   {
    "duration": 418,
    "start_time": "2022-06-03T11:23:42.815Z"
   },
   {
    "duration": 129,
    "start_time": "2022-06-03T11:23:43.235Z"
   },
   {
    "duration": 498,
    "start_time": "2022-06-03T11:23:43.370Z"
   },
   {
    "duration": 11,
    "start_time": "2022-06-03T11:23:43.870Z"
   },
   {
    "duration": 6,
    "start_time": "2022-06-03T11:23:43.883Z"
   },
   {
    "duration": 75,
    "start_time": "2022-06-03T11:23:43.891Z"
   },
   {
    "duration": 4,
    "start_time": "2022-06-03T11:23:43.968Z"
   },
   {
    "duration": 386,
    "start_time": "2022-06-03T11:23:43.973Z"
   },
   {
    "duration": 391,
    "start_time": "2022-06-03T11:23:44.367Z"
   },
   {
    "duration": 452,
    "start_time": "2022-06-03T11:23:44.761Z"
   },
   {
    "duration": 476,
    "start_time": "2022-06-03T11:23:45.216Z"
   },
   {
    "duration": 13,
    "start_time": "2022-06-03T11:23:45.697Z"
   },
   {
    "duration": 464,
    "start_time": "2022-06-03T11:23:45.712Z"
   },
   {
    "duration": 6,
    "start_time": "2022-06-03T11:23:46.178Z"
   },
   {
    "duration": 57,
    "start_time": "2022-06-03T11:23:46.186Z"
   },
   {
    "duration": 28,
    "start_time": "2022-06-03T11:23:46.246Z"
   },
   {
    "duration": 11,
    "start_time": "2022-06-03T11:23:46.276Z"
   },
   {
    "duration": 15,
    "start_time": "2022-06-03T11:23:46.289Z"
   },
   {
    "duration": 10,
    "start_time": "2022-06-03T11:23:46.306Z"
   },
   {
    "duration": 20,
    "start_time": "2022-06-03T11:23:46.318Z"
   },
   {
    "duration": 149,
    "start_time": "2022-06-03T11:23:46.344Z"
   },
   {
    "duration": 4,
    "start_time": "2022-06-03T11:23:46.495Z"
   },
   {
    "duration": 5837,
    "start_time": "2022-06-03T11:23:46.501Z"
   },
   {
    "duration": 6140,
    "start_time": "2022-06-03T11:23:52.347Z"
   },
   {
    "duration": 756435,
    "start_time": "2022-06-03T11:23:58.489Z"
   },
   {
    "duration": 11592,
    "start_time": "2022-06-03T11:36:34.930Z"
   },
   {
    "duration": 1655,
    "start_time": "2022-06-03T11:36:46.529Z"
   },
   {
    "duration": 6,
    "start_time": "2022-06-03T11:36:48.186Z"
   },
   {
    "duration": 9,
    "start_time": "2022-06-03T11:36:48.194Z"
   },
   {
    "duration": 56,
    "start_time": "2022-06-03T11:36:48.205Z"
   },
   {
    "duration": 9,
    "start_time": "2022-06-03T11:36:48.263Z"
   },
   {
    "duration": 17,
    "start_time": "2022-06-03T11:36:48.274Z"
   },
   {
    "duration": 10,
    "start_time": "2022-06-03T11:36:48.293Z"
   },
   {
    "duration": 429,
    "start_time": "2022-06-03T11:36:48.304Z"
   },
   {
    "duration": 8,
    "start_time": "2022-06-03T11:36:48.739Z"
   },
   {
    "duration": 56,
    "start_time": "2022-06-03T11:36:48.828Z"
   },
   {
    "duration": 713447,
    "start_time": "2022-06-03T11:39:03.839Z"
   },
   {
    "duration": 1351,
    "start_time": "2022-06-03T11:54:05.806Z"
   },
   {
    "duration": 1735,
    "start_time": "2022-06-03T11:54:13.542Z"
   },
   {
    "duration": 21,
    "start_time": "2022-06-03T11:54:38.367Z"
   },
   {
    "duration": 7,
    "start_time": "2022-06-03T11:54:45.561Z"
   },
   {
    "duration": 18,
    "start_time": "2022-06-03T11:54:50.955Z"
   },
   {
    "duration": 1493,
    "start_time": "2022-06-03T11:54:57.147Z"
   },
   {
    "duration": 5,
    "start_time": "2022-06-03T11:55:05.996Z"
   },
   {
    "duration": 5,
    "start_time": "2022-06-03T11:55:08.544Z"
   },
   {
    "duration": 38,
    "start_time": "2022-06-03T11:55:09.067Z"
   },
   {
    "duration": 191,
    "start_time": "2022-06-03T11:56:17.958Z"
   },
   {
    "duration": 1225,
    "start_time": "2022-06-03T16:46:07.556Z"
   },
   {
    "duration": 300,
    "start_time": "2022-06-03T16:46:08.784Z"
   },
   {
    "duration": 89,
    "start_time": "2022-06-03T16:46:09.085Z"
   },
   {
    "duration": 436,
    "start_time": "2022-06-03T16:46:09.177Z"
   },
   {
    "duration": 10,
    "start_time": "2022-06-03T16:46:09.615Z"
   },
   {
    "duration": 11,
    "start_time": "2022-06-03T16:46:09.626Z"
   },
   {
    "duration": 88,
    "start_time": "2022-06-03T16:46:09.639Z"
   },
   {
    "duration": 4,
    "start_time": "2022-06-03T16:46:10.003Z"
   },
   {
    "duration": 282,
    "start_time": "2022-06-03T16:46:10.052Z"
   },
   {
    "duration": 277,
    "start_time": "2022-06-03T16:46:10.336Z"
   },
   {
    "duration": 278,
    "start_time": "2022-06-03T16:46:10.615Z"
   },
   {
    "duration": 297,
    "start_time": "2022-06-03T16:46:10.895Z"
   },
   {
    "duration": 9,
    "start_time": "2022-06-03T16:46:11.194Z"
   },
   {
    "duration": 331,
    "start_time": "2022-06-03T16:46:11.205Z"
   },
   {
    "duration": 4,
    "start_time": "2022-06-03T16:46:11.538Z"
   },
   {
    "duration": 31,
    "start_time": "2022-06-03T16:46:11.559Z"
   },
   {
    "duration": 4,
    "start_time": "2022-06-03T16:46:11.593Z"
   },
   {
    "duration": 15,
    "start_time": "2022-06-03T16:46:11.598Z"
   },
   {
    "duration": 17,
    "start_time": "2022-06-03T16:46:11.615Z"
   },
   {
    "duration": 17,
    "start_time": "2022-06-03T16:46:11.634Z"
   },
   {
    "duration": 9,
    "start_time": "2022-06-03T16:46:12.002Z"
   },
   {
    "duration": 30,
    "start_time": "2022-06-03T16:46:12.505Z"
   },
   {
    "duration": 3,
    "start_time": "2022-06-03T16:46:12.649Z"
   },
   {
    "duration": 5098,
    "start_time": "2022-06-03T16:46:12.672Z"
   },
   {
    "duration": 5315,
    "start_time": "2022-06-03T16:46:17.772Z"
   }
  ],
  "kernelspec": {
   "display_name": "Python 3 (ipykernel)",
   "language": "python",
   "name": "python3"
  },
  "language_info": {
   "codemirror_mode": {
    "name": "ipython",
    "version": 3
   },
   "file_extension": ".py",
   "mimetype": "text/x-python",
   "name": "python",
   "nbconvert_exporter": "python",
   "pygments_lexer": "ipython3",
   "version": "3.9.5"
  },
  "toc": {
   "base_numbering": 1,
   "nav_menu": {},
   "number_sections": true,
   "sideBar": true,
   "skip_h1_title": true,
   "title_cell": "Содержание",
   "title_sidebar": "Contents",
   "toc_cell": true,
   "toc_position": {
    "height": "calc(100% - 180px)",
    "left": "10px",
    "top": "150px",
    "width": "165px"
   },
   "toc_section_display": true,
   "toc_window_display": false
  }
 },
 "nbformat": 4,
 "nbformat_minor": 2
}
